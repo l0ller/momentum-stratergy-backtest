{
  "nbformat": 4,
  "nbformat_minor": 0,
  "metadata": {
    "colab": {
      "provenance": []
    },
    "kernelspec": {
      "name": "python3",
      "display_name": "Python 3"
    },
    "language_info": {
      "name": "python"
    }
  },
  "cells": [
    {
      "cell_type": "code",
      "source": [
        "!pip install ta --upgrade"
      ],
      "metadata": {
        "colab": {
          "base_uri": "https://localhost:8080/"
        },
        "id": "xlCnMCrE89XQ",
        "outputId": "47657e34-e123-4aa1-ac4c-b167c4feec16"
      },
      "execution_count": 17,
      "outputs": [
        {
          "output_type": "stream",
          "name": "stdout",
          "text": [
            "Requirement already satisfied: ta in /usr/local/lib/python3.12/dist-packages (0.11.0)\n",
            "Requirement already satisfied: numpy in /usr/local/lib/python3.12/dist-packages (from ta) (2.0.2)\n",
            "Requirement already satisfied: pandas in /usr/local/lib/python3.12/dist-packages (from ta) (2.2.2)\n",
            "Requirement already satisfied: python-dateutil>=2.8.2 in /usr/local/lib/python3.12/dist-packages (from pandas->ta) (2.9.0.post0)\n",
            "Requirement already satisfied: pytz>=2020.1 in /usr/local/lib/python3.12/dist-packages (from pandas->ta) (2025.2)\n",
            "Requirement already satisfied: tzdata>=2022.7 in /usr/local/lib/python3.12/dist-packages (from pandas->ta) (2025.2)\n",
            "Requirement already satisfied: six>=1.5 in /usr/local/lib/python3.12/dist-packages (from python-dateutil>=2.8.2->pandas->ta) (1.17.0)\n"
          ]
        }
      ]
    },
    {
      "cell_type": "code",
      "source": [
        "import pandas as pd\n",
        "csv_path = \"/content/nifty_500.csv\"\n",
        "df = pd.read_csv(csv_path)\n",
        "# print(df) # Keep for debugging if needed\n",
        "\n",
        "# Extract symbols from the 'Symbol' column\n",
        "# Handle potential missing values and remove leading/trailing whitespace\n",
        "symbols_list = df['Symbol'].dropna().astype(str).str.strip().tolist()\n",
        "\n",
        "# Add \".NS\" to each symbol for compatibility with yfinance\n",
        "symbols_list = [symbol + \".NS\" for symbol in symbols_list]\n",
        "\n",
        "\n",
        "# Optional: Print the list of symbols to verify\n",
        "print(\"List of symbols extracted:\")\n",
        "print(symbols_list[:10]) # Print first 10 symbols as a sample\n",
        "print(f\"Total number of symbols: {len(symbols_list)}\")"
      ],
      "metadata": {
        "colab": {
          "base_uri": "https://localhost:8080/"
        },
        "id": "eSeIuK5NWRgJ",
        "outputId": "522dd5e3-6a16-44ac-fe2a-c54735bb24e2"
      },
      "execution_count": 18,
      "outputs": [
        {
          "output_type": "stream",
          "name": "stdout",
          "text": [
            "List of symbols extracted:\n",
            "['3MINDIA.NS', 'AARTIDRUGS.NS', 'AAVAS.NS', 'ABB.NS', 'ABBOTINDIA.NS', 'ABCAPITAL.NS', 'ABFRL.NS', 'ABSLAMC.NS', 'ACC.NS', 'ADANIENT.NS']\n",
            "Total number of symbols: 501\n"
          ]
        }
      ]
    },
    {
      "cell_type": "code",
      "source": [
        "import math\n",
        "import pandas as pd\n",
        "import numpy as np\n",
        "import yfinance as yf\n",
        "from tqdm import tqdm\n",
        "from ta.trend import ADXIndicator\n",
        "from ta.volatility import AverageTrueRange\n",
        "# from ta.volume import OnBalanceVolume # Removed problematic import\n",
        "import warnings\n",
        "import os\n",
        "\n",
        "warnings.filterwarnings(\"ignore\")\n",
        "\n",
        "# ---------------- CONFIG ----------------\n",
        "DATA_DIR = \"/content/stock_data\" # Directory to save downloaded data\n",
        "STARTING_CAPITAL = 25_00_000.0      # INR 25,00,000\n",
        "RISK_PCT = 0.004                    # 0.4% of CURRENT total capital per entry\n",
        "YEARS = 4 # Commented out as specific dates are provided\n",
        "END_DATE = pd.Timestamp.today().normalize()\n",
        "START_DATE = END_DATE - pd.DateOffset(years=YEARS)\n",
        "\n",
        "\n",
        "ADX_PERIOD = 14\n",
        "ATR_PERIOD = 14\n",
        "DMA_FAST = 20\n",
        "DMA_SLOW = 50\n",
        "DMA_HIT_TOL = 0.005   # touch tolerance = 0.5% of DMA\n",
        "OBV_MA_PERIOD = 20 # New: period for OBV moving average\n",
        "# Ensure enough rows for all indicator calculations\n",
        "MIN_ROWS = max(DMA_SLOW, ADX_PERIOD, OBV_MA_PERIOD) + 1 # Add 1 because rolling window includes current day\n",
        "\n",
        "OUT_TRADES_CSV = \"nifty_backtest_trades.csv\"\n",
        "OUT_SUMMARY_CSV = \"nifty_backtest_summary.csv\"\n",
        "MAX_OPEN_POSITIONS = 250 # New: Maximum number of open positions\n",
        "\n",
        "# New: Risk-reward constants used in screener for estimation and potentially backtest\n",
        "ATR_MULTIPLIER = 1.5\n",
        "MIN_RISK_REWARD = 1.5\n",
        "\n",
        "def fetch_and_save_price_data(ticker, start=START_DATE, end=END_DATE, data_dir=DATA_DIR):\n",
        "    filepath = os.path.join(data_dir, f\"{ticker}.csv\")\n",
        "    if os.path.exists(filepath):\n",
        "        # Load existing data if available\n",
        "        try:\n",
        "            df = pd.read_csv(filepath, parse_dates=['Date'])\n",
        "            if not df.empty and 'Date' in df.columns:\n",
        "                 # Check if data is up to date and covers the required period\n",
        "                df['Date'] = pd.to_datetime(df['Date'])\n",
        "                df = df.set_index('Date')\n",
        "                if df.index.min().date() <= start.date() and df.index.max().date() >= end.date():\n",
        "                     return df\n",
        "        except Exception as e:\n",
        "            print(f\"Error loading data for {ticker} from {filepath}: {e}\")\n",
        "            pass # redownload if loading fails or data is insufficient\n",
        "\n",
        "    try:\n",
        "        df = yf.download(ticker, start=start.strftime(\"%Y-%m-%d\"), end=(end + pd.Timedelta(days=1)).strftime(\"%Y-%m-%d\"), progress=False, auto_adjust=False)\n",
        "        if df.empty:\n",
        "            print(f\"No data downloaded for {ticker}\")\n",
        "            return None\n",
        "        # ensure required columns and reset index to ensure a DatetimeIndex\n",
        "        df = df[['Open','High','Low','Close','Volume']].dropna()\n",
        "        if not isinstance(df.index, pd.DatetimeIndex):\n",
        "            df.index = pd.to_datetime(df.index)\n",
        "\n",
        "        # Save to CSV with Date as a column\n",
        "        os.makedirs(data_dir, exist_ok=True)\n",
        "        df.reset_index(inplace=True)\n",
        "        df.to_csv(filepath, index=False)\n",
        "        df = df.set_index('Date')\n",
        "        return df\n",
        "    except Exception as e:\n",
        "        print(\"Download error\", ticker, e)\n",
        "        return None\n",
        "\n",
        "def load_price_data(ticker, data_dir=DATA_DIR):\n",
        "    filepath = os.path.join(data_dir, f\"{ticker}.csv\")\n",
        "    if not os.path.exists(filepath):\n",
        "        return None\n",
        "    try:\n",
        "        # Skip the first row which contains the extra header\n",
        "        df = pd.read_csv(filepath, parse_dates=['Date'], skiprows=[1])\n",
        "        if not df.empty and 'Date' in df.columns:\n",
        "            df = df.set_index('Date')\n",
        "            # Rename columns to remove 'Ticker' level if it exists\n",
        "            if isinstance(df.columns, pd.MultiIndex):\n",
        "                df.columns = df.columns.droplevel(level=1)\n",
        "            return df\n",
        "        else:\n",
        "            return None\n",
        "    except Exception as e:\n",
        "        print(f\"Error loading data for {ticker} from {filepath}: {e}\")\n",
        "        return None\n",
        "\n",
        "# Manual OBV Calculation\n",
        "def calculate_obv(df):\n",
        "    obv = [0] * len(df)\n",
        "    for i in range(1, len(df)):\n",
        "        if df['Close'].iloc[i] > df['Close'].iloc[i-1]:\n",
        "            obv[i] = obv[i-1] + df['Volume'].iloc[i]\n",
        "        elif df['Close'].iloc[i] < df['Close'].iloc[i-1]:\n",
        "            obv[i] = obv[i-1] - df['Volume'].iloc[i]\n",
        "        else:\n",
        "            obv[i] = obv[i-1]\n",
        "    return pd.Series(obv, index=df.index)\n",
        "\n",
        "def compute_indicators(df):\n",
        "    df = df.copy()\n",
        "    # Debugging: Print index type\n",
        "    print(f\"Index type in compute_indicators: {type(df.index)}\")\n",
        "    # Ensure DataFrame has a valid index before computing indicators\n",
        "    if not isinstance(df.index, pd.DatetimeIndex):\n",
        "        raise ValueError(\"Input DataFrame to compute_indicators must have a DatetimeIndex\")\n",
        "\n",
        "    try:\n",
        "        df['dma20'] = df['Close'].rolling(window=DMA_FAST).mean()\n",
        "        df['dma50'] = df['Close'].rolling(window=DMA_SLOW).mean()\n",
        "        atr = AverageTrueRange(high=df['High'], low=df['Low'], close=df['Close'], window=ATR_PERIOD)\n",
        "        df['atr'] = atr.average_true_range()\n",
        "        adx_indicator = ADXIndicator(high=df['High'], low=df['Low'], close=df['Close'], window=ADX_PERIOD)\n",
        "        df['adx'] = adx_indicator.adx()\n",
        "        df['+di'] = adx_indicator.adx_pos()  # Calculate +DI\n",
        "        df['-di'] = adx_indicator.adx_neg()  # Calculate -DI\n",
        "\n",
        "        # New: Compute On-Balance Volume manually and its moving average\n",
        "        df['obv'] = calculate_obv(df) # Uncommented OBV calculation\n",
        "        df['obv_ma20'] = df['obv'].rolling(window=OBV_MA_PERIOD).mean() # Uncommented OBV MA calculation\n",
        "    except Exception as e:\n",
        "        print(f\"Error computing indicators: {e}\")\n",
        "        raise e # Re-raise the exception after printing\n",
        "\n",
        "    return df\n",
        "\n",
        "def touch_dma(close, dma):\n",
        "    if pd.isna(dma) or pd.isna(close):\n",
        "        return False\n",
        "    return abs(close - dma) <= (DMA_HIT_TOL * dma)"
      ],
      "metadata": {
        "id": "chDewtKFWSHV"
      },
      "execution_count": 24,
      "outputs": []
    },
    {
      "cell_type": "code",
      "source": [
        "\n",
        "print(\"Tickers loaded:\", len(symbols_list))\n",
        "\n",
        "# First, download and save all data\n",
        "print(\"Downloading and saving price data...\")\n",
        "downloaded_symbols_list = []\n",
        "for sym in tqdm(symbols_list, desc=\"Downloading\"):\n",
        "    df = fetch_and_save_price_data(sym)\n",
        "    if df is not None and df.shape[0] >= MIN_ROWS:\n",
        "        downloaded_symbols_list.append(sym)\n",
        "\n",
        "print(f\"Successfully downloaded data for {len(downloaded_symbols_list)} symbols_list.\")\n",
        "\n"
      ],
      "metadata": {
        "colab": {
          "base_uri": "https://localhost:8080/"
        },
        "id": "F4VFrTX8WvPX",
        "outputId": "37ef737b-4784-49f5-dda0-e813b9dbc726"
      },
      "execution_count": 25,
      "outputs": [
        {
          "output_type": "stream",
          "name": "stdout",
          "text": [
            "Tickers loaded: 501\n",
            "Downloading and saving price data...\n"
          ]
        },
        {
          "output_type": "stream",
          "name": "stderr",
          "text": [
            "Downloading:   2%|▏         | 12/501 [00:01<01:10,  6.92it/s]ERROR:yfinance:\n",
            "1 Failed download:\n",
            "ERROR:yfinance:['ADANITRANS.NS']: YFTzMissingError('possibly delisted; no timezone found')\n",
            "Downloading:   3%|▎         | 14/501 [00:02<01:16,  6.40it/s]"
          ]
        },
        {
          "output_type": "stream",
          "name": "stdout",
          "text": [
            "No data downloaded for ADANITRANS.NS\n"
          ]
        },
        {
          "output_type": "stream",
          "name": "stderr",
          "text": [
            "ERROR:yfinance:\n",
            "1 Failed download:\n",
            "ERROR:yfinance:['AEGISCHEM.NS']: YFTzMissingError('possibly delisted; no timezone found')\n",
            "Downloading:   3%|▎         | 16/501 [00:02<01:22,  5.89it/s]"
          ]
        },
        {
          "output_type": "stream",
          "name": "stdout",
          "text": [
            "No data downloaded for AEGISCHEM.NS\n"
          ]
        },
        {
          "output_type": "stream",
          "name": "stderr",
          "text": [
            "Downloading:   4%|▍         | 22/501 [00:03<01:45,  4.56it/s]ERROR:yfinance:\n",
            "1 Failed download:\n",
            "ERROR:yfinance:['AMARAJABAT.NS']: YFTzMissingError('possibly delisted; no timezone found')\n",
            "Downloading:   5%|▍         | 24/501 [00:04<01:34,  5.03it/s]"
          ]
        },
        {
          "output_type": "stream",
          "name": "stdout",
          "text": [
            "No data downloaded for AMARAJABAT.NS\n"
          ]
        },
        {
          "output_type": "stream",
          "name": "stderr",
          "text": [
            "Downloading:  18%|█▊        | 88/501 [00:18<01:29,  4.62it/s]ERROR:yfinance:\n",
            "1 Failed download:\n",
            "ERROR:yfinance:['CENTURYTEX.NS']: YFTzMissingError('possibly delisted; no timezone found')\n",
            "Downloading:  18%|█▊        | 90/501 [00:19<01:32,  4.46it/s]"
          ]
        },
        {
          "output_type": "stream",
          "name": "stdout",
          "text": [
            "No data downloaded for CENTURYTEX.NS\n"
          ]
        },
        {
          "output_type": "stream",
          "name": "stderr",
          "text": [
            "Downloading:  32%|███▏      | 160/501 [00:32<00:56,  6.01it/s]ERROR:yfinance:\n",
            "1 Failed download:\n",
            "ERROR:yfinance:['GLS.NS']: YFTzMissingError('possibly delisted; no timezone found')\n",
            "Downloading:  32%|███▏      | 162/501 [00:32<00:52,  6.42it/s]"
          ]
        },
        {
          "output_type": "stream",
          "name": "stdout",
          "text": [
            "No data downloaded for GLS.NS\n"
          ]
        },
        {
          "output_type": "stream",
          "name": "stderr",
          "text": [
            "ERROR:yfinance:\n",
            "1 Failed download:\n",
            "ERROR:yfinance:['GMRINFRA.NS']: YFTzMissingError('possibly delisted; no timezone found')\n",
            "Downloading:  33%|███▎      | 164/501 [00:33<00:56,  5.92it/s]"
          ]
        },
        {
          "output_type": "stream",
          "name": "stdout",
          "text": [
            "No data downloaded for GMRINFRA.NS\n"
          ]
        },
        {
          "output_type": "stream",
          "name": "stderr",
          "text": [
            "Downloading:  37%|███▋      | 186/501 [00:36<00:48,  6.53it/s]ERROR:yfinance:\n",
            "1 Failed download:\n",
            "ERROR:yfinance:['HDFC.NS']: YFTzMissingError('possibly delisted; no timezone found')\n",
            "Downloading:  38%|███▊      | 188/501 [00:36<00:47,  6.57it/s]"
          ]
        },
        {
          "output_type": "stream",
          "name": "stdout",
          "text": [
            "No data downloaded for HDFC.NS\n"
          ]
        },
        {
          "output_type": "stream",
          "name": "stderr",
          "text": [
            "Downloading:  41%|████      | 206/501 [00:39<00:49,  5.90it/s]ERROR:yfinance:\n",
            "1 Failed download:\n",
            "ERROR:yfinance:['IBULHSGFIN.NS']: YFTzMissingError('possibly delisted; no timezone found')\n",
            "Downloading:  41%|████▏     | 207/501 [00:39<00:51,  5.75it/s]"
          ]
        },
        {
          "output_type": "stream",
          "name": "stdout",
          "text": [
            "No data downloaded for IBULHSGFIN.NS\n"
          ]
        },
        {
          "output_type": "stream",
          "name": "stderr",
          "text": [
            "Downloading:  43%|████▎     | 213/501 [00:41<00:49,  5.80it/s]ERROR:yfinance:\n",
            "1 Failed download:\n",
            "ERROR:yfinance:['IDFC.NS']: YFTzMissingError('possibly delisted; no timezone found')\n",
            "Downloading:  43%|████▎     | 215/501 [00:41<00:47,  5.98it/s]"
          ]
        },
        {
          "output_type": "stream",
          "name": "stdout",
          "text": [
            "No data downloaded for IDFC.NS\n"
          ]
        },
        {
          "output_type": "stream",
          "name": "stderr",
          "text": [
            "Downloading:  44%|████▎     | 219/501 [00:41<00:46,  6.02it/s]ERROR:yfinance:\n",
            "1 Failed download:\n",
            "ERROR:yfinance:['IIFLWAM.NS']: YFTzMissingError('possibly delisted; no timezone found')\n",
            "Downloading:  44%|████▍     | 220/501 [00:42<00:46,  6.05it/s]"
          ]
        },
        {
          "output_type": "stream",
          "name": "stdout",
          "text": [
            "No data downloaded for IIFLWAM.NS\n"
          ]
        },
        {
          "output_type": "stream",
          "name": "stderr",
          "text": [
            "Downloading:  52%|█████▏    | 259/501 [00:48<00:39,  6.17it/s]ERROR:yfinance:\n",
            "1 Failed download:\n",
            "ERROR:yfinance:['KALPATPOWR.NS']: YFTzMissingError('possibly delisted; no timezone found')\n",
            "Downloading:  52%|█████▏    | 261/501 [00:48<00:35,  6.67it/s]"
          ]
        },
        {
          "output_type": "stream",
          "name": "stdout",
          "text": [
            "No data downloaded for KALPATPOWR.NS\n"
          ]
        },
        {
          "output_type": "stream",
          "name": "stderr",
          "text": [
            "Downloading:  54%|█████▍    | 271/501 [00:50<00:38,  6.03it/s]ERROR:yfinance:\n",
            "1 Failed download:\n",
            "ERROR:yfinance:['L&TFH.NS']: YFTzMissingError('possibly delisted; no timezone found')\n",
            "Downloading:  54%|█████▍    | 273/501 [00:50<00:38,  5.95it/s]"
          ]
        },
        {
          "output_type": "stream",
          "name": "stdout",
          "text": [
            "No data downloaded for L&TFH.NS\n"
          ]
        },
        {
          "output_type": "stream",
          "name": "stderr",
          "text": [
            "Downloading:  55%|█████▍    | 275/501 [00:50<00:34,  6.57it/s]ERROR:yfinance:\n",
            "1 Failed download:\n",
            "ERROR:yfinance:['LAXMIMACH.NS']: YFTzMissingError('possibly delisted; no timezone found')\n",
            "Downloading:  55%|█████▌    | 277/501 [00:51<00:35,  6.36it/s]"
          ]
        },
        {
          "output_type": "stream",
          "name": "stdout",
          "text": [
            "No data downloaded for LAXMIMACH.NS\n"
          ]
        },
        {
          "output_type": "stream",
          "name": "stderr",
          "text": [
            "Downloading:  56%|█████▌    | 280/501 [00:51<00:35,  6.25it/s]ERROR:yfinance:\n",
            "1 Failed download:\n",
            "ERROR:yfinance:['LTI.NS']: YFTzMissingError('possibly delisted; no timezone found')\n",
            "Downloading:  56%|█████▋    | 282/501 [00:51<00:35,  6.18it/s]"
          ]
        },
        {
          "output_type": "stream",
          "name": "stdout",
          "text": [
            "No data downloaded for LTI.NS\n"
          ]
        },
        {
          "output_type": "stream",
          "name": "stderr",
          "text": [
            "Downloading:  57%|█████▋    | 288/501 [00:53<00:38,  5.58it/s]ERROR:yfinance:\n",
            "1 Failed download:\n",
            "ERROR:yfinance:['MAHINDCIE.NS']: YFTzMissingError('possibly delisted; no timezone found')\n",
            "Downloading:  58%|█████▊    | 290/501 [00:53<00:36,  5.85it/s]"
          ]
        },
        {
          "output_type": "stream",
          "name": "stdout",
          "text": [
            "No data downloaded for MAHINDCIE.NS\n"
          ]
        },
        {
          "output_type": "stream",
          "name": "stderr",
          "text": [
            "Downloading:  59%|█████▉    | 297/501 [00:54<00:31,  6.43it/s]ERROR:yfinance:\n",
            "1 Failed download:\n",
            "ERROR:yfinance:['MCDOWELL-N.NS']: YFTzMissingError('possibly delisted; no timezone found')\n",
            "Downloading:  60%|█████▉    | 299/501 [00:54<00:32,  6.13it/s]"
          ]
        },
        {
          "output_type": "stream",
          "name": "stdout",
          "text": [
            "No data downloaded for MCDOWELL-N.NS\n"
          ]
        },
        {
          "output_type": "stream",
          "name": "stderr",
          "text": [
            "Downloading:  61%|██████    | 305/501 [00:55<00:27,  7.20it/s]ERROR:yfinance:\n",
            "1 Failed download:\n",
            "ERROR:yfinance:['MINDAIND.NS']: YFTzMissingError('possibly delisted; no timezone found')\n",
            "Downloading:  61%|██████    | 306/501 [00:55<00:27,  7.00it/s]ERROR:yfinance:\n",
            "1 Failed download:\n",
            "ERROR:yfinance:['MINDTREE.NS']: YFTzMissingError('possibly delisted; no timezone found')\n",
            "Downloading:  61%|██████▏   | 307/501 [00:55<00:28,  6.71it/s]"
          ]
        },
        {
          "output_type": "stream",
          "name": "stdout",
          "text": [
            "No data downloaded for MINDAIND.NS\n",
            "No data downloaded for MINDTREE.NS\n"
          ]
        },
        {
          "output_type": "stream",
          "name": "stderr",
          "text": [
            "Downloading:  73%|███████▎  | 368/501 [01:06<00:27,  4.80it/s]ERROR:yfinance:\n",
            "1 Failed download:\n",
            "ERROR:yfinance:['PVR.NS']: YFTzMissingError('possibly delisted; no timezone found')\n",
            "Downloading:  74%|███████▎  | 369/501 [01:08<01:21,  1.62it/s]"
          ]
        },
        {
          "output_type": "stream",
          "name": "stdout",
          "text": [
            "No data downloaded for PVR.NS\n"
          ]
        },
        {
          "output_type": "stream",
          "name": "stderr",
          "text": [
            "Downloading:  81%|████████  | 404/501 [01:16<00:15,  6.28it/s]ERROR:yfinance:\n",
            "1 Failed download:\n",
            "ERROR:yfinance:['SHRIRAMCIT.NS']: YFTzMissingError('possibly delisted; no timezone found')\n",
            "Downloading:  81%|████████  | 406/501 [01:17<00:16,  5.88it/s]"
          ]
        },
        {
          "output_type": "stream",
          "name": "stdout",
          "text": [
            "No data downloaded for SHRIRAMCIT.NS\n"
          ]
        },
        {
          "output_type": "stream",
          "name": "stderr",
          "text": [
            "Downloading:  83%|████████▎ | 418/501 [01:19<00:14,  5.56it/s]ERROR:yfinance:\n",
            "1 Failed download:\n",
            "ERROR:yfinance:['SRTRANSFIN.NS']: YFTzMissingError('possibly delisted; no timezone found')\n",
            "Downloading:  84%|████████▍ | 420/501 [01:19<00:13,  5.89it/s]"
          ]
        },
        {
          "output_type": "stream",
          "name": "stdout",
          "text": [
            "No data downloaded for SRTRANSFIN.NS\n"
          ]
        },
        {
          "output_type": "stream",
          "name": "stderr",
          "text": [
            "Downloading:  86%|████████▌ | 431/501 [01:21<00:14,  4.86it/s]ERROR:yfinance:\n",
            "1 Failed download:\n",
            "ERROR:yfinance:['SUVENPHAR.NS']: YFTzMissingError('possibly delisted; no timezone found')\n",
            "Downloading:  86%|████████▋ | 433/501 [01:22<00:12,  5.66it/s]"
          ]
        },
        {
          "output_type": "stream",
          "name": "stdout",
          "text": [
            "No data downloaded for SUVENPHAR.NS\n"
          ]
        },
        {
          "output_type": "stream",
          "name": "stderr",
          "text": [
            "Downloading:  89%|████████▊ | 444/501 [01:23<00:09,  5.76it/s]ERROR:yfinance:\n",
            "1 Failed download:\n",
            "ERROR:yfinance:['TATAMTRDVR.NS']: YFTzMissingError('possibly delisted; no timezone found')\n",
            "Downloading:  89%|████████▉ | 446/501 [01:24<00:09,  5.80it/s]"
          ]
        },
        {
          "output_type": "stream",
          "name": "stdout",
          "text": [
            "No data downloaded for TATAMTRDVR.NS\n"
          ]
        },
        {
          "output_type": "stream",
          "name": "stderr",
          "text": [
            "\rDownloading:  89%|████████▉ | 447/501 [01:24<00:10,  4.99it/s]ERROR:yfinance:\n",
            "1 Failed download:\n",
            "ERROR:yfinance:['TATASTLLP.NS']: YFTzMissingError('possibly delisted; no timezone found')\n",
            "Downloading:  90%|████████▉ | 449/501 [01:24<00:09,  5.44it/s]"
          ]
        },
        {
          "output_type": "stream",
          "name": "stdout",
          "text": [
            "No data downloaded for TATASTLLP.NS\n"
          ]
        },
        {
          "output_type": "stream",
          "name": "stderr",
          "text": [
            "ERROR:yfinance:\n",
            "1 Failed download:\n",
            "ERROR:yfinance:['TCNSBRANDS.NS']: YFTzMissingError('possibly delisted; no timezone found')\n",
            "Downloading:  90%|█████████ | 451/501 [01:25<00:08,  5.68it/s]"
          ]
        },
        {
          "output_type": "stream",
          "name": "stdout",
          "text": [
            "No data downloaded for TCNSBRANDS.NS\n"
          ]
        },
        {
          "output_type": "stream",
          "name": "stderr",
          "text": [
            "Downloading:  93%|█████████▎| 466/501 [01:27<00:05,  6.42it/s]ERROR:yfinance:\n",
            "1 Failed download:\n",
            "ERROR:yfinance:['TV18BRDCST.NS']: YFTzMissingError('possibly delisted; no timezone found')\n",
            "Downloading:  93%|█████████▎| 468/501 [01:27<00:04,  8.02it/s]"
          ]
        },
        {
          "output_type": "stream",
          "name": "stdout",
          "text": [
            "No data downloaded for TV18BRDCST.NS\n"
          ]
        },
        {
          "output_type": "stream",
          "name": "stderr",
          "text": [
            "Downloading:  98%|█████████▊| 489/501 [01:31<00:02,  5.21it/s]ERROR:yfinance:\n",
            "1 Failed download:\n",
            "ERROR:yfinance:['WELSPUNIND.NS']: YFTzMissingError('possibly delisted; no timezone found')\n",
            "Downloading:  98%|█████████▊| 491/501 [01:31<00:01,  6.76it/s]"
          ]
        },
        {
          "output_type": "stream",
          "name": "stdout",
          "text": [
            "No data downloaded for WELSPUNIND.NS\n"
          ]
        },
        {
          "output_type": "stream",
          "name": "stderr",
          "text": [
            "Downloading:  99%|█████████▉| 498/501 [01:32<00:00,  5.99it/s]ERROR:yfinance:\n",
            "1 Failed download:\n",
            "ERROR:yfinance:['ZOMATO.NS']: YFTzMissingError('possibly delisted; no timezone found')\n",
            "Downloading: 100%|█████████▉| 500/501 [01:32<00:00,  7.23it/s]"
          ]
        },
        {
          "output_type": "stream",
          "name": "stdout",
          "text": [
            "No data downloaded for ZOMATO.NS\n"
          ]
        },
        {
          "output_type": "stream",
          "name": "stderr",
          "text": [
            "Downloading: 100%|██████████| 501/501 [01:33<00:00,  5.38it/s]"
          ]
        },
        {
          "output_type": "stream",
          "name": "stdout",
          "text": [
            "Successfully downloaded data for 471 symbols_list.\n"
          ]
        },
        {
          "output_type": "stream",
          "name": "stderr",
          "text": [
            "\n"
          ]
        }
      ]
    },
    {
      "cell_type": "code",
      "source": [
        "# backtest_symbol function modified to only generate trade signals\n",
        "def backtest_symbol(df, symbol):\n",
        "    trades = []   # record per-exit trade logs\n",
        "    entries = []  # open entries: list of dicts {entry_price, entry_date, entry_type}\n",
        "    # We allow up to 2 entries per symbol per life-cycle (20dma entry + possible 50dma add)\n",
        "    for idx in range(len(df)):\n",
        "        date = df.index[idx]\n",
        "        row = df.iloc[idx]\n",
        "        # skip until enough data for all indicators\n",
        "        if idx < MIN_ROWS:\n",
        "            continue\n",
        "        price = row['Close']\n",
        "        adx = row['adx']\n",
        "        plus_di = row['+di']  # Get +DI\n",
        "        minus_di = row['-di'] # Get -DI\n",
        "        dma20 = row['dma20']\n",
        "        dma50 = row['dma50']\n",
        "        atr = row['atr']\n",
        "        obv = row['obv'] # Get OBV\n",
        "        obv_ma20 = row['obv_ma20'] # Get OBV MA20\n",
        "\n",
        "\n",
        "        if any(pd.isna(x) for x in [price, adx, plus_di, minus_di, dma20, dma50, atr, obv, obv_ma20]): # Add +DI, -DI, OBV and OBV MA to check\n",
        "            continue\n",
        "\n",
        "        # compute the SL level for the current day (50dma - ATR)\n",
        "        sl_level = dma50 - atr\n",
        "\n",
        "        # ---------- check stop loss first ----------\n",
        "        if entries:\n",
        "            # If today's close breaches SL -> exit all entries at today's close\n",
        "            if price <= sl_level:\n",
        "                # Record each entry's exit\n",
        "                for e in entries:\n",
        "                    trades.append({\n",
        "                        'symbol': symbol,\n",
        "                        'entry_date': e['entry_date'],\n",
        "                        'entry_price': e['entry_price'],\n",
        "                        'exit_date': date,\n",
        "                        'exit_price': price,\n",
        "                        'reason': 'SL',\n",
        "                        'entry_type': e['entry_type'],\n",
        "                        'atr': atr, # Include ATR in trade signal\n",
        "                        'entry_adx': e['entry_adx'], # Include ADX at entry\n",
        "                        'entry_dma50': e['entry_dma50'], # Include DMA50 at entry\n",
        "                        'risk_percentage': e.get('risk_percentage') # Include risk percentage at entry\n",
        "                    })\n",
        "                entries = []\n",
        "                # continue to next day\n",
        "                continue\n",
        "\n",
        "            # check DMA cross: if previously dma20 > dma50 and now dma20 < dma50 => trend flipped => exit\n",
        "            if idx >= 1:\n",
        "                prev = df.iloc[idx-1]\n",
        "                prev_dma20 = prev['dma20']; prev_dma50 = prev['dma50']\n",
        "                if prev_dma20 > prev_dma50 and dma20 < dma50:\n",
        "                    # exit all at today's close\n",
        "                    for e in entries:\n",
        "                        trades.append({\n",
        "                            'symbol': symbol,\n",
        "                            'entry_date': e['entry_date'],\n",
        "                            'entry_price': e['entry_price'],\n",
        "                            'exit_date': date,\n",
        "                            'exit_price': price,\n",
        "                            'reason': 'DMA_CROSS',\n",
        "                            'entry_type': e['entry_type'],\n",
        "                            'atr': atr, # Include ATR in trade signal\n",
        "                            'entry_adx': e['entry_adx'], # Include ADX at entry\n",
        "                            'entry_dma50': e['entry_dma50'], # Include DMA50 at entry\n",
        "                            'risk_percentage': e.get('risk_percentage') # Include risk percentage at entry\n",
        "                        })\n",
        "                    entries = []\n",
        "                    continue\n",
        "\n",
        "\n",
        "        # ---------- no open entries: consider entry at 20DMA ----------\n",
        "        if not entries:\n",
        "            # require ADX > 25 and upward trend (dma20 > dma50) AND price touches 20dma AND OBV > OBV_MA20 AND +DI > -DI\n",
        "            if adx > 25 and dma20 > dma50 and touch_dma(price, dma20) and obv > obv_ma20 and plus_di > minus_di:\n",
        "                # Calculate risk percentage\n",
        "                # Ensure atr and dma50 are not None or zero before calculating risk percentage\n",
        "                if atr is not None and atr > 0 and dma50 is not None and dma50 > 0 and price is not None and price > 0:\n",
        "                    # Calculate estimated stop loss and risk per share at entry using the new formula\n",
        "                    estimated_stop_loss = dma50 - (atr * ATR_MULTIPLIER)  # Use ATR_MULTIPLIER from config\n",
        "                    estimated_risk_per_share = price - estimated_stop_loss\n",
        "\n",
        "                    # Ensure estimated_risk_per_share is positive for meaningful Risk %\n",
        "                    if estimated_risk_per_share > 0:\n",
        "                        risk_percentage = (estimated_risk_per_share / price) * 100\n",
        "                        # Check risk percentage condition\n",
        "                        if risk_percentage < 10: # Use 10% as the threshold\n",
        "                             # open first entry\n",
        "                            entries.append({\n",
        "                                'entry_price': price,\n",
        "                                'entry_date': date,\n",
        "                                'entry_type': '20dma',\n",
        "                                'entry_adx': adx, # Record ADX at entry\n",
        "                                'entry_dma50': dma50, # Record DMA50 at entry\n",
        "                                'risk_percentage': risk_percentage # Record calculated risk percentage\n",
        "                            })\n",
        "                            continue\n",
        "\n",
        "\n",
        "        # ---------- if have one entry already, allow pyramid at 50DMA ----------\n",
        "        if entries and len(entries) == 1:\n",
        "            # require ADX > 25 and same upward trend AND price touches 50dma AND OBV > OBV_MA20 AND +DI > -DI\n",
        "            if adx > 25 and dma20 > dma50 and price < dma50 and obv > obv_ma20 and plus_di > minus_di:\n",
        "                # Calculate risk percentage for the potential pyramid entry\n",
        "                # Ensure atr and dma50 are not None or zero before calculating risk percentage\n",
        "                if atr is not None and atr > 0 and dma50 is not None and dma50 > 0 and price is not None and price > 0:\n",
        "                    # Calculate estimated stop loss and risk per share at entry using the new formula\n",
        "                    estimated_stop_loss = dma50 - (atr * ATR_MULTIPLIER) # Use ATR_MULTIPLIER from config\n",
        "                    estimated_risk_per_share = price - estimated_stop_loss\n",
        "\n",
        "                     # Ensure estimated_risk_per_share is positive for meaningful Risk %\n",
        "                    if estimated_risk_per_share > 0:\n",
        "                        risk_percentage = (estimated_risk_per_share / price) * 100\n",
        "                        # Check risk percentage condition\n",
        "                        if risk_percentage < 10: # Use 10% as the threshold\n",
        "                            entries.append({\n",
        "                                'entry_price': price,\n",
        "                                'entry_date': date,\n",
        "                                'entry_type': '50dma',\n",
        "                                'entry_adx': adx, # Record ADX at entry\n",
        "                                'entry_dma50': dma50, # Record DMA50 at entry\n",
        "                                'risk_percentage': risk_percentage # Record calculated risk percentage\n",
        "                            })\n",
        "                            continue\n",
        "\n",
        "    # ------------- end loop days: if any entries remain, close at last close -------------\n",
        "    if entries:\n",
        "        last_row = df.iloc[-1]\n",
        "        last_price = last_row['Close']\n",
        "        last_adx = last_row['adx'] # Get last ADX\n",
        "        last_dma50 = last_row['dma50'] # Get last DMA50\n",
        "        for e in entries:\n",
        "            trades.append({\n",
        "                'symbol': symbol,\n",
        "                'entry_date': e['entry_date'],\n",
        "                'entry_price': e['entry_price'],\n",
        "                'exit_date': df.index[-1],\n",
        "                'exit_price': last_price,\n",
        "                'reason': 'END',\n",
        "                'entry_type': e['entry_type'],\n",
        "                'atr': atr, # Include ATR in trade signal (this will be the ATR of the last day)\n",
        "                'entry_adx': e['entry_adx'], # Include ADX at entry\n",
        "                'entry_dma50': e['entry_dma50'], # Include DMA50 at entry\n",
        "                'risk_percentage': e.get('risk_percentage') # Include risk percentage at entry\n",
        "            })\n",
        "        entries = []\n",
        "\n",
        "    # Check for duplicate entries in the 'trades' list\n",
        "    seen = set()\n",
        "    duplicates = []\n",
        "    for trade in trades:\n",
        "        # Create a tuple of the trade's key attributes to check for duplicates\n",
        "        trade_key = (trade['symbol'], trade['entry_date'], trade['entry_price'], trade['exit_date'], trade['exit_price'], trade['reason'], trade['entry_type']) # Removed dma50 from key as it's not always present for all exit reasons\n",
        "        if trade_key in seen:\n",
        "            duplicates.append(trade)\n",
        "        else:\n",
        "            seen.add(trade_key)\n",
        "\n",
        "    if duplicates:\n",
        "        print(f\"Duplicate trade entries found for {symbol}:\")\n",
        "        for dup in duplicates:\n",
        "            print(dup)\n",
        "\n",
        "    # Return the list of trade signals\n",
        "    return trades"
      ],
      "metadata": {
        "id": "gAxopVR8WdS_"
      },
      "execution_count": 26,
      "outputs": []
    },
    {
      "cell_type": "code",
      "source": [
        "# Collect all potential trade signals from backtest_symbol\n",
        "all_trade_signals = []\n",
        "\n",
        "print(\"Collecting trade signals using saved data...\")\n",
        "for sym in tqdm(downloaded_symbols_list, desc=\"Collecting Signals\"):\n",
        "    df = load_price_data(sym)\n",
        "    if df is None or df.shape[0] < MIN_ROWS:\n",
        "        print(f\"Skipping {sym} due to insufficient data after loading.\")\n",
        "        continue\n",
        "\n",
        "    try:\n",
        "        df = compute_indicators(df)\n",
        "        df.attrs['symbol'] = sym\n",
        "        # Call backtest_symbol to get potential trade signals\n",
        "        trade_signals = backtest_symbol(df, sym)\n",
        "\n",
        "        # Append signals from this symbol\n",
        "        for t in trade_signals:\n",
        "            all_trade_signals.append(t)\n",
        "\n",
        "    except ValueError as e:\n",
        "        print(f\"Skipping symbol {sym} due to error during indicator computation: {e}\")\n",
        "        continue\n",
        "    except Exception as e:\n",
        "        print(f\"An unexpected error occurred for symbol {sym}: {e}\")\n",
        "        continue\n",
        "\n",
        "all_trade_signals_df = pd.DataFrame(all_trade_signals)\n",
        "\n",
        "# Display the DataFrame\n",
        "display(all_trade_signals_df)\n",
        "\n",
        "# Remove duplicate trade signals before simulating\n",
        "print(\"Removing duplicate trade signals...\")\n",
        "seen_signals = set()\n",
        "unique_trade_signals = []\n",
        "for signal in all_trade_signals:\n",
        "    # Create a unique key for each signal based on relevant attributes\n",
        "    signal_key = (signal['symbol'], signal['entry_date'], signal['entry_price'], signal['exit_date'], signal['exit_price'], signal['reason'], signal['entry_type'])\n",
        "    if signal_key not in seen_signals:\n",
        "        unique_trade_signals.append(signal)\n",
        "        seen_signals.add(signal_key)\n",
        "    # Optional: Print detected duplicates\n",
        "    # else:\n",
        "    #     print(f\"Detected duplicate signal: {signal}\")\n",
        "\n",
        "print(f\"Original number of signals: {len(all_trade_signals)}\")\n",
        "print(f\"Number of unique signals: {len(unique_trade_signals)}\")"
      ],
      "metadata": {
        "colab": {
          "base_uri": "https://localhost:8080/",
          "height": 1000
        },
        "id": "YuIjSgeBVpjX",
        "outputId": "d891b08d-e4f4-4540-a435-6a5b4e65e7d1"
      },
      "execution_count": 27,
      "outputs": [
        {
          "output_type": "stream",
          "name": "stdout",
          "text": [
            "Collecting trade signals using saved data...\n"
          ]
        },
        {
          "output_type": "stream",
          "name": "stderr",
          "text": [
            "Collecting Signals:   0%|          | 1/471 [00:00<01:28,  5.32it/s]"
          ]
        },
        {
          "output_type": "stream",
          "name": "stdout",
          "text": [
            "Index type in compute_indicators: <class 'pandas.core.indexes.datetimes.DatetimeIndex'>\n",
            "Index type in compute_indicators: <class 'pandas.core.indexes.datetimes.DatetimeIndex'>\n"
          ]
        },
        {
          "output_type": "stream",
          "name": "stderr",
          "text": [
            "Collecting Signals:   1%|          | 3/471 [00:00<01:21,  5.77it/s]"
          ]
        },
        {
          "output_type": "stream",
          "name": "stdout",
          "text": [
            "Index type in compute_indicators: <class 'pandas.core.indexes.datetimes.DatetimeIndex'>\n",
            "Index type in compute_indicators: <class 'pandas.core.indexes.datetimes.DatetimeIndex'>\n"
          ]
        },
        {
          "output_type": "stream",
          "name": "stderr",
          "text": [
            "Collecting Signals:   1%|          | 5/471 [00:00<01:16,  6.12it/s]"
          ]
        },
        {
          "output_type": "stream",
          "name": "stdout",
          "text": [
            "Index type in compute_indicators: <class 'pandas.core.indexes.datetimes.DatetimeIndex'>\n",
            "Index type in compute_indicators: <class 'pandas.core.indexes.datetimes.DatetimeIndex'>\n"
          ]
        },
        {
          "output_type": "stream",
          "name": "stderr",
          "text": [
            "Collecting Signals:   1%|▏         | 7/471 [00:01<01:18,  5.92it/s]"
          ]
        },
        {
          "output_type": "stream",
          "name": "stdout",
          "text": [
            "Index type in compute_indicators: <class 'pandas.core.indexes.datetimes.DatetimeIndex'>\n",
            "Index type in compute_indicators: <class 'pandas.core.indexes.datetimes.DatetimeIndex'>\n"
          ]
        },
        {
          "output_type": "stream",
          "name": "stderr",
          "text": [
            "Collecting Signals:   2%|▏         | 9/471 [00:01<01:17,  5.98it/s]"
          ]
        },
        {
          "output_type": "stream",
          "name": "stdout",
          "text": [
            "Index type in compute_indicators: <class 'pandas.core.indexes.datetimes.DatetimeIndex'>\n",
            "Index type in compute_indicators: <class 'pandas.core.indexes.datetimes.DatetimeIndex'>\n"
          ]
        },
        {
          "output_type": "stream",
          "name": "stderr",
          "text": [
            "Collecting Signals:   2%|▏         | 11/471 [00:01<01:13,  6.24it/s]"
          ]
        },
        {
          "output_type": "stream",
          "name": "stdout",
          "text": [
            "Index type in compute_indicators: <class 'pandas.core.indexes.datetimes.DatetimeIndex'>\n",
            "Index type in compute_indicators: <class 'pandas.core.indexes.datetimes.DatetimeIndex'>\n"
          ]
        },
        {
          "output_type": "stream",
          "name": "stderr",
          "text": [
            "Collecting Signals:   3%|▎         | 13/471 [00:02<01:15,  6.03it/s]"
          ]
        },
        {
          "output_type": "stream",
          "name": "stdout",
          "text": [
            "Index type in compute_indicators: <class 'pandas.core.indexes.datetimes.DatetimeIndex'>\n",
            "Index type in compute_indicators: <class 'pandas.core.indexes.datetimes.DatetimeIndex'>\n"
          ]
        },
        {
          "output_type": "stream",
          "name": "stderr",
          "text": [
            "Collecting Signals:   3%|▎         | 15/471 [00:02<01:16,  5.99it/s]"
          ]
        },
        {
          "output_type": "stream",
          "name": "stdout",
          "text": [
            "Index type in compute_indicators: <class 'pandas.core.indexes.datetimes.DatetimeIndex'>\n",
            "Index type in compute_indicators: <class 'pandas.core.indexes.datetimes.DatetimeIndex'>\n"
          ]
        },
        {
          "output_type": "stream",
          "name": "stderr",
          "text": [
            "Collecting Signals:   4%|▎         | 17/471 [00:02<01:14,  6.11it/s]"
          ]
        },
        {
          "output_type": "stream",
          "name": "stdout",
          "text": [
            "Index type in compute_indicators: <class 'pandas.core.indexes.datetimes.DatetimeIndex'>\n",
            "Index type in compute_indicators: <class 'pandas.core.indexes.datetimes.DatetimeIndex'>\n"
          ]
        },
        {
          "output_type": "stream",
          "name": "stderr",
          "text": [
            "Collecting Signals:   4%|▍         | 19/471 [00:03<01:12,  6.24it/s]"
          ]
        },
        {
          "output_type": "stream",
          "name": "stdout",
          "text": [
            "Index type in compute_indicators: <class 'pandas.core.indexes.datetimes.DatetimeIndex'>\n",
            "Index type in compute_indicators: <class 'pandas.core.indexes.datetimes.DatetimeIndex'>\n"
          ]
        },
        {
          "output_type": "stream",
          "name": "stderr",
          "text": [
            "Collecting Signals:   4%|▍         | 21/471 [00:03<01:16,  5.87it/s]"
          ]
        },
        {
          "output_type": "stream",
          "name": "stdout",
          "text": [
            "Index type in compute_indicators: <class 'pandas.core.indexes.datetimes.DatetimeIndex'>\n",
            "Index type in compute_indicators: <class 'pandas.core.indexes.datetimes.DatetimeIndex'>\n"
          ]
        },
        {
          "output_type": "stream",
          "name": "stderr",
          "text": [
            "Collecting Signals:   5%|▍         | 23/471 [00:03<01:12,  6.20it/s]"
          ]
        },
        {
          "output_type": "stream",
          "name": "stdout",
          "text": [
            "Index type in compute_indicators: <class 'pandas.core.indexes.datetimes.DatetimeIndex'>\n",
            "Index type in compute_indicators: <class 'pandas.core.indexes.datetimes.DatetimeIndex'>\n"
          ]
        },
        {
          "output_type": "stream",
          "name": "stderr",
          "text": [
            "Collecting Signals:   5%|▌         | 25/471 [00:04<01:10,  6.30it/s]"
          ]
        },
        {
          "output_type": "stream",
          "name": "stdout",
          "text": [
            "Index type in compute_indicators: <class 'pandas.core.indexes.datetimes.DatetimeIndex'>\n",
            "Index type in compute_indicators: <class 'pandas.core.indexes.datetimes.DatetimeIndex'>\n"
          ]
        },
        {
          "output_type": "stream",
          "name": "stderr",
          "text": [
            "Collecting Signals:   6%|▌         | 27/471 [00:04<01:15,  5.91it/s]"
          ]
        },
        {
          "output_type": "stream",
          "name": "stdout",
          "text": [
            "Index type in compute_indicators: <class 'pandas.core.indexes.datetimes.DatetimeIndex'>\n",
            "Index type in compute_indicators: <class 'pandas.core.indexes.datetimes.DatetimeIndex'>\n"
          ]
        },
        {
          "output_type": "stream",
          "name": "stderr",
          "text": [
            "Collecting Signals:   6%|▌         | 29/471 [00:04<01:13,  6.01it/s]"
          ]
        },
        {
          "output_type": "stream",
          "name": "stdout",
          "text": [
            "Index type in compute_indicators: <class 'pandas.core.indexes.datetimes.DatetimeIndex'>\n",
            "Index type in compute_indicators: <class 'pandas.core.indexes.datetimes.DatetimeIndex'>\n"
          ]
        },
        {
          "output_type": "stream",
          "name": "stderr",
          "text": [
            "\rCollecting Signals:   6%|▋         | 30/471 [00:04<01:13,  6.04it/s]"
          ]
        },
        {
          "output_type": "stream",
          "name": "stdout",
          "text": [
            "Index type in compute_indicators: <class 'pandas.core.indexes.datetimes.DatetimeIndex'>\n"
          ]
        },
        {
          "output_type": "stream",
          "name": "stderr",
          "text": [
            "\rCollecting Signals:   7%|▋         | 31/471 [00:05<01:26,  5.06it/s]"
          ]
        },
        {
          "output_type": "stream",
          "name": "stdout",
          "text": [
            "Index type in compute_indicators: <class 'pandas.core.indexes.datetimes.DatetimeIndex'>\n"
          ]
        },
        {
          "output_type": "stream",
          "name": "stderr",
          "text": [
            "\rCollecting Signals:   7%|▋         | 32/471 [00:05<01:37,  4.51it/s]"
          ]
        },
        {
          "output_type": "stream",
          "name": "stdout",
          "text": [
            "Index type in compute_indicators: <class 'pandas.core.indexes.datetimes.DatetimeIndex'>\n"
          ]
        },
        {
          "output_type": "stream",
          "name": "stderr",
          "text": [
            "\rCollecting Signals:   7%|▋         | 33/471 [00:05<01:43,  4.23it/s]"
          ]
        },
        {
          "output_type": "stream",
          "name": "stdout",
          "text": [
            "Index type in compute_indicators: <class 'pandas.core.indexes.datetimes.DatetimeIndex'>\n"
          ]
        },
        {
          "output_type": "stream",
          "name": "stderr",
          "text": [
            "\rCollecting Signals:   7%|▋         | 34/471 [00:06<01:46,  4.11it/s]"
          ]
        },
        {
          "output_type": "stream",
          "name": "stdout",
          "text": [
            "Index type in compute_indicators: <class 'pandas.core.indexes.datetimes.DatetimeIndex'>\n"
          ]
        },
        {
          "output_type": "stream",
          "name": "stderr",
          "text": [
            "\rCollecting Signals:   7%|▋         | 35/471 [00:06<01:54,  3.79it/s]"
          ]
        },
        {
          "output_type": "stream",
          "name": "stdout",
          "text": [
            "Index type in compute_indicators: <class 'pandas.core.indexes.datetimes.DatetimeIndex'>\n"
          ]
        },
        {
          "output_type": "stream",
          "name": "stderr",
          "text": [
            "\rCollecting Signals:   8%|▊         | 36/471 [00:06<01:55,  3.76it/s]"
          ]
        },
        {
          "output_type": "stream",
          "name": "stdout",
          "text": [
            "Index type in compute_indicators: <class 'pandas.core.indexes.datetimes.DatetimeIndex'>\n"
          ]
        },
        {
          "output_type": "stream",
          "name": "stderr",
          "text": [
            "\rCollecting Signals:   8%|▊         | 37/471 [00:06<01:56,  3.74it/s]"
          ]
        },
        {
          "output_type": "stream",
          "name": "stdout",
          "text": [
            "Index type in compute_indicators: <class 'pandas.core.indexes.datetimes.DatetimeIndex'>\n"
          ]
        },
        {
          "output_type": "stream",
          "name": "stderr",
          "text": [
            "\rCollecting Signals:   8%|▊         | 38/471 [00:07<01:55,  3.75it/s]"
          ]
        },
        {
          "output_type": "stream",
          "name": "stdout",
          "text": [
            "Index type in compute_indicators: <class 'pandas.core.indexes.datetimes.DatetimeIndex'>\n"
          ]
        },
        {
          "output_type": "stream",
          "name": "stderr",
          "text": [
            "\rCollecting Signals:   8%|▊         | 39/471 [00:07<01:59,  3.62it/s]"
          ]
        },
        {
          "output_type": "stream",
          "name": "stdout",
          "text": [
            "Index type in compute_indicators: <class 'pandas.core.indexes.datetimes.DatetimeIndex'>\n"
          ]
        },
        {
          "output_type": "stream",
          "name": "stderr",
          "text": [
            "\rCollecting Signals:   8%|▊         | 40/471 [00:07<02:01,  3.55it/s]"
          ]
        },
        {
          "output_type": "stream",
          "name": "stdout",
          "text": [
            "Index type in compute_indicators: <class 'pandas.core.indexes.datetimes.DatetimeIndex'>\n"
          ]
        },
        {
          "output_type": "stream",
          "name": "stderr",
          "text": [
            "\rCollecting Signals:   9%|▊         | 41/471 [00:08<02:02,  3.52it/s]"
          ]
        },
        {
          "output_type": "stream",
          "name": "stdout",
          "text": [
            "Index type in compute_indicators: <class 'pandas.core.indexes.datetimes.DatetimeIndex'>\n"
          ]
        },
        {
          "output_type": "stream",
          "name": "stderr",
          "text": [
            "Collecting Signals:   9%|▉         | 43/471 [00:08<01:41,  4.23it/s]"
          ]
        },
        {
          "output_type": "stream",
          "name": "stdout",
          "text": [
            "Index type in compute_indicators: <class 'pandas.core.indexes.datetimes.DatetimeIndex'>\n",
            "Index type in compute_indicators: <class 'pandas.core.indexes.datetimes.DatetimeIndex'>\n"
          ]
        },
        {
          "output_type": "stream",
          "name": "stderr",
          "text": [
            "Collecting Signals:  10%|▉         | 45/471 [00:08<01:25,  4.96it/s]"
          ]
        },
        {
          "output_type": "stream",
          "name": "stdout",
          "text": [
            "Index type in compute_indicators: <class 'pandas.core.indexes.datetimes.DatetimeIndex'>\n",
            "Index type in compute_indicators: <class 'pandas.core.indexes.datetimes.DatetimeIndex'>\n"
          ]
        },
        {
          "output_type": "stream",
          "name": "stderr",
          "text": [
            "Collecting Signals:  10%|▉         | 47/471 [00:09<01:17,  5.46it/s]"
          ]
        },
        {
          "output_type": "stream",
          "name": "stdout",
          "text": [
            "Index type in compute_indicators: <class 'pandas.core.indexes.datetimes.DatetimeIndex'>\n",
            "Index type in compute_indicators: <class 'pandas.core.indexes.datetimes.DatetimeIndex'>\n"
          ]
        },
        {
          "output_type": "stream",
          "name": "stderr",
          "text": [
            "Collecting Signals:  10%|█         | 49/471 [00:09<01:12,  5.81it/s]"
          ]
        },
        {
          "output_type": "stream",
          "name": "stdout",
          "text": [
            "Index type in compute_indicators: <class 'pandas.core.indexes.datetimes.DatetimeIndex'>\n",
            "Index type in compute_indicators: <class 'pandas.core.indexes.datetimes.DatetimeIndex'>\n"
          ]
        },
        {
          "output_type": "stream",
          "name": "stderr",
          "text": [
            "Collecting Signals:  11%|█         | 51/471 [00:09<01:11,  5.91it/s]"
          ]
        },
        {
          "output_type": "stream",
          "name": "stdout",
          "text": [
            "Index type in compute_indicators: <class 'pandas.core.indexes.datetimes.DatetimeIndex'>\n",
            "Index type in compute_indicators: <class 'pandas.core.indexes.datetimes.DatetimeIndex'>\n"
          ]
        },
        {
          "output_type": "stream",
          "name": "stderr",
          "text": [
            "Collecting Signals:  11%|█▏        | 53/471 [00:10<01:09,  6.02it/s]"
          ]
        },
        {
          "output_type": "stream",
          "name": "stdout",
          "text": [
            "Index type in compute_indicators: <class 'pandas.core.indexes.datetimes.DatetimeIndex'>\n",
            "Index type in compute_indicators: <class 'pandas.core.indexes.datetimes.DatetimeIndex'>\n"
          ]
        },
        {
          "output_type": "stream",
          "name": "stderr",
          "text": [
            "Collecting Signals:  12%|█▏        | 55/471 [00:10<01:10,  5.90it/s]"
          ]
        },
        {
          "output_type": "stream",
          "name": "stdout",
          "text": [
            "Index type in compute_indicators: <class 'pandas.core.indexes.datetimes.DatetimeIndex'>\n",
            "Index type in compute_indicators: <class 'pandas.core.indexes.datetimes.DatetimeIndex'>\n"
          ]
        },
        {
          "output_type": "stream",
          "name": "stderr",
          "text": [
            "Collecting Signals:  12%|█▏        | 57/471 [00:10<01:10,  5.87it/s]"
          ]
        },
        {
          "output_type": "stream",
          "name": "stdout",
          "text": [
            "Index type in compute_indicators: <class 'pandas.core.indexes.datetimes.DatetimeIndex'>\n",
            "Index type in compute_indicators: <class 'pandas.core.indexes.datetimes.DatetimeIndex'>\n"
          ]
        },
        {
          "output_type": "stream",
          "name": "stderr",
          "text": [
            "Collecting Signals:  13%|█▎        | 59/471 [00:11<01:07,  6.10it/s]"
          ]
        },
        {
          "output_type": "stream",
          "name": "stdout",
          "text": [
            "Index type in compute_indicators: <class 'pandas.core.indexes.datetimes.DatetimeIndex'>\n",
            "Index type in compute_indicators: <class 'pandas.core.indexes.datetimes.DatetimeIndex'>\n"
          ]
        },
        {
          "output_type": "stream",
          "name": "stderr",
          "text": [
            "Collecting Signals:  13%|█▎        | 61/471 [00:11<01:07,  6.05it/s]"
          ]
        },
        {
          "output_type": "stream",
          "name": "stdout",
          "text": [
            "Index type in compute_indicators: <class 'pandas.core.indexes.datetimes.DatetimeIndex'>\n",
            "Index type in compute_indicators: <class 'pandas.core.indexes.datetimes.DatetimeIndex'>\n"
          ]
        },
        {
          "output_type": "stream",
          "name": "stderr",
          "text": [
            "Collecting Signals:  13%|█▎        | 63/471 [00:11<01:10,  5.80it/s]"
          ]
        },
        {
          "output_type": "stream",
          "name": "stdout",
          "text": [
            "Index type in compute_indicators: <class 'pandas.core.indexes.datetimes.DatetimeIndex'>\n",
            "Index type in compute_indicators: <class 'pandas.core.indexes.datetimes.DatetimeIndex'>\n"
          ]
        },
        {
          "output_type": "stream",
          "name": "stderr",
          "text": [
            "Collecting Signals:  14%|█▍        | 65/471 [00:12<01:08,  5.97it/s]"
          ]
        },
        {
          "output_type": "stream",
          "name": "stdout",
          "text": [
            "Index type in compute_indicators: <class 'pandas.core.indexes.datetimes.DatetimeIndex'>\n",
            "Index type in compute_indicators: <class 'pandas.core.indexes.datetimes.DatetimeIndex'>\n"
          ]
        },
        {
          "output_type": "stream",
          "name": "stderr",
          "text": [
            "Collecting Signals:  14%|█▍        | 67/471 [00:12<01:07,  6.02it/s]"
          ]
        },
        {
          "output_type": "stream",
          "name": "stdout",
          "text": [
            "Index type in compute_indicators: <class 'pandas.core.indexes.datetimes.DatetimeIndex'>\n",
            "Index type in compute_indicators: <class 'pandas.core.indexes.datetimes.DatetimeIndex'>\n"
          ]
        },
        {
          "output_type": "stream",
          "name": "stderr",
          "text": [
            "Collecting Signals:  15%|█▍        | 69/471 [00:12<01:09,  5.82it/s]"
          ]
        },
        {
          "output_type": "stream",
          "name": "stdout",
          "text": [
            "Index type in compute_indicators: <class 'pandas.core.indexes.datetimes.DatetimeIndex'>\n",
            "Index type in compute_indicators: <class 'pandas.core.indexes.datetimes.DatetimeIndex'>\n"
          ]
        },
        {
          "output_type": "stream",
          "name": "stderr",
          "text": [
            "Collecting Signals:  15%|█▌        | 71/471 [00:13<01:06,  6.01it/s]"
          ]
        },
        {
          "output_type": "stream",
          "name": "stdout",
          "text": [
            "Index type in compute_indicators: <class 'pandas.core.indexes.datetimes.DatetimeIndex'>\n",
            "Index type in compute_indicators: <class 'pandas.core.indexes.datetimes.DatetimeIndex'>\n"
          ]
        },
        {
          "output_type": "stream",
          "name": "stderr",
          "text": [
            "Collecting Signals:  15%|█▌        | 73/471 [00:13<01:05,  6.06it/s]"
          ]
        },
        {
          "output_type": "stream",
          "name": "stdout",
          "text": [
            "Index type in compute_indicators: <class 'pandas.core.indexes.datetimes.DatetimeIndex'>\n",
            "Index type in compute_indicators: <class 'pandas.core.indexes.datetimes.DatetimeIndex'>\n"
          ]
        },
        {
          "output_type": "stream",
          "name": "stderr",
          "text": [
            "Collecting Signals:  16%|█▌        | 75/471 [00:13<01:09,  5.70it/s]"
          ]
        },
        {
          "output_type": "stream",
          "name": "stdout",
          "text": [
            "Index type in compute_indicators: <class 'pandas.core.indexes.datetimes.DatetimeIndex'>\n",
            "Index type in compute_indicators: <class 'pandas.core.indexes.datetimes.DatetimeIndex'>\n"
          ]
        },
        {
          "output_type": "stream",
          "name": "stderr",
          "text": [
            "Collecting Signals:  16%|█▋        | 77/471 [00:14<01:06,  5.96it/s]"
          ]
        },
        {
          "output_type": "stream",
          "name": "stdout",
          "text": [
            "Index type in compute_indicators: <class 'pandas.core.indexes.datetimes.DatetimeIndex'>\n",
            "Index type in compute_indicators: <class 'pandas.core.indexes.datetimes.DatetimeIndex'>\n"
          ]
        },
        {
          "output_type": "stream",
          "name": "stderr",
          "text": [
            "Collecting Signals:  17%|█▋        | 79/471 [00:14<01:05,  6.01it/s]"
          ]
        },
        {
          "output_type": "stream",
          "name": "stdout",
          "text": [
            "Index type in compute_indicators: <class 'pandas.core.indexes.datetimes.DatetimeIndex'>\n",
            "Index type in compute_indicators: <class 'pandas.core.indexes.datetimes.DatetimeIndex'>\n"
          ]
        },
        {
          "output_type": "stream",
          "name": "stderr",
          "text": [
            "Collecting Signals:  17%|█▋        | 81/471 [00:14<01:05,  5.94it/s]"
          ]
        },
        {
          "output_type": "stream",
          "name": "stdout",
          "text": [
            "Index type in compute_indicators: <class 'pandas.core.indexes.datetimes.DatetimeIndex'>\n",
            "Index type in compute_indicators: <class 'pandas.core.indexes.datetimes.DatetimeIndex'>\n"
          ]
        },
        {
          "output_type": "stream",
          "name": "stderr",
          "text": [
            "Collecting Signals:  18%|█▊        | 83/471 [00:15<01:04,  6.06it/s]"
          ]
        },
        {
          "output_type": "stream",
          "name": "stdout",
          "text": [
            "Index type in compute_indicators: <class 'pandas.core.indexes.datetimes.DatetimeIndex'>\n",
            "Index type in compute_indicators: <class 'pandas.core.indexes.datetimes.DatetimeIndex'>\n"
          ]
        },
        {
          "output_type": "stream",
          "name": "stderr",
          "text": [
            "Collecting Signals:  18%|█▊        | 85/471 [00:15<01:02,  6.19it/s]"
          ]
        },
        {
          "output_type": "stream",
          "name": "stdout",
          "text": [
            "Index type in compute_indicators: <class 'pandas.core.indexes.datetimes.DatetimeIndex'>\n",
            "Index type in compute_indicators: <class 'pandas.core.indexes.datetimes.DatetimeIndex'>\n"
          ]
        },
        {
          "output_type": "stream",
          "name": "stderr",
          "text": [
            "Collecting Signals:  18%|█▊        | 87/471 [00:15<01:01,  6.23it/s]"
          ]
        },
        {
          "output_type": "stream",
          "name": "stdout",
          "text": [
            "Index type in compute_indicators: <class 'pandas.core.indexes.datetimes.DatetimeIndex'>\n",
            "Index type in compute_indicators: <class 'pandas.core.indexes.datetimes.DatetimeIndex'>\n"
          ]
        },
        {
          "output_type": "stream",
          "name": "stderr",
          "text": [
            "Collecting Signals:  19%|█▉        | 89/471 [00:16<01:03,  6.02it/s]"
          ]
        },
        {
          "output_type": "stream",
          "name": "stdout",
          "text": [
            "Index type in compute_indicators: <class 'pandas.core.indexes.datetimes.DatetimeIndex'>\n",
            "Index type in compute_indicators: <class 'pandas.core.indexes.datetimes.DatetimeIndex'>\n"
          ]
        },
        {
          "output_type": "stream",
          "name": "stderr",
          "text": [
            "Collecting Signals:  19%|█▉        | 91/471 [00:16<01:03,  6.03it/s]"
          ]
        },
        {
          "output_type": "stream",
          "name": "stdout",
          "text": [
            "Index type in compute_indicators: <class 'pandas.core.indexes.datetimes.DatetimeIndex'>\n",
            "Index type in compute_indicators: <class 'pandas.core.indexes.datetimes.DatetimeIndex'>\n"
          ]
        },
        {
          "output_type": "stream",
          "name": "stderr",
          "text": [
            "Collecting Signals:  20%|█▉        | 93/471 [00:16<01:01,  6.16it/s]"
          ]
        },
        {
          "output_type": "stream",
          "name": "stdout",
          "text": [
            "Index type in compute_indicators: <class 'pandas.core.indexes.datetimes.DatetimeIndex'>\n",
            "Index type in compute_indicators: <class 'pandas.core.indexes.datetimes.DatetimeIndex'>\n"
          ]
        },
        {
          "output_type": "stream",
          "name": "stderr",
          "text": [
            "Collecting Signals:  20%|██        | 95/471 [00:17<01:03,  5.95it/s]"
          ]
        },
        {
          "output_type": "stream",
          "name": "stdout",
          "text": [
            "Index type in compute_indicators: <class 'pandas.core.indexes.datetimes.DatetimeIndex'>\n",
            "Index type in compute_indicators: <class 'pandas.core.indexes.datetimes.DatetimeIndex'>\n"
          ]
        },
        {
          "output_type": "stream",
          "name": "stderr",
          "text": [
            "Collecting Signals:  21%|██        | 97/471 [00:17<01:02,  6.01it/s]"
          ]
        },
        {
          "output_type": "stream",
          "name": "stdout",
          "text": [
            "Index type in compute_indicators: <class 'pandas.core.indexes.datetimes.DatetimeIndex'>\n",
            "Index type in compute_indicators: <class 'pandas.core.indexes.datetimes.DatetimeIndex'>\n"
          ]
        },
        {
          "output_type": "stream",
          "name": "stderr",
          "text": [
            "Collecting Signals:  21%|██        | 99/471 [00:17<01:01,  6.09it/s]"
          ]
        },
        {
          "output_type": "stream",
          "name": "stdout",
          "text": [
            "Index type in compute_indicators: <class 'pandas.core.indexes.datetimes.DatetimeIndex'>\n",
            "Index type in compute_indicators: <class 'pandas.core.indexes.datetimes.DatetimeIndex'>\n"
          ]
        },
        {
          "output_type": "stream",
          "name": "stderr",
          "text": [
            "Collecting Signals:  21%|██▏       | 101/471 [00:18<01:03,  5.79it/s]"
          ]
        },
        {
          "output_type": "stream",
          "name": "stdout",
          "text": [
            "Index type in compute_indicators: <class 'pandas.core.indexes.datetimes.DatetimeIndex'>\n",
            "Index type in compute_indicators: <class 'pandas.core.indexes.datetimes.DatetimeIndex'>\n"
          ]
        },
        {
          "output_type": "stream",
          "name": "stderr",
          "text": [
            "\rCollecting Signals:  22%|██▏       | 102/471 [00:18<01:15,  4.91it/s]"
          ]
        },
        {
          "output_type": "stream",
          "name": "stdout",
          "text": [
            "Index type in compute_indicators: <class 'pandas.core.indexes.datetimes.DatetimeIndex'>\n"
          ]
        },
        {
          "output_type": "stream",
          "name": "stderr",
          "text": [
            "\rCollecting Signals:  22%|██▏       | 103/471 [00:18<01:21,  4.52it/s]"
          ]
        },
        {
          "output_type": "stream",
          "name": "stdout",
          "text": [
            "Index type in compute_indicators: <class 'pandas.core.indexes.datetimes.DatetimeIndex'>\n"
          ]
        },
        {
          "output_type": "stream",
          "name": "stderr",
          "text": [
            "\rCollecting Signals:  22%|██▏       | 104/471 [00:18<01:28,  4.17it/s]"
          ]
        },
        {
          "output_type": "stream",
          "name": "stdout",
          "text": [
            "Index type in compute_indicators: <class 'pandas.core.indexes.datetimes.DatetimeIndex'>\n"
          ]
        },
        {
          "output_type": "stream",
          "name": "stderr",
          "text": [
            "\rCollecting Signals:  22%|██▏       | 105/471 [00:19<01:29,  4.08it/s]"
          ]
        },
        {
          "output_type": "stream",
          "name": "stdout",
          "text": [
            "Index type in compute_indicators: <class 'pandas.core.indexes.datetimes.DatetimeIndex'>\n"
          ]
        },
        {
          "output_type": "stream",
          "name": "stderr",
          "text": [
            "\rCollecting Signals:  23%|██▎       | 106/471 [00:19<01:31,  4.00it/s]"
          ]
        },
        {
          "output_type": "stream",
          "name": "stdout",
          "text": [
            "Index type in compute_indicators: <class 'pandas.core.indexes.datetimes.DatetimeIndex'>\n"
          ]
        },
        {
          "output_type": "stream",
          "name": "stderr",
          "text": [
            "\rCollecting Signals:  23%|██▎       | 107/471 [00:19<01:31,  3.99it/s]"
          ]
        },
        {
          "output_type": "stream",
          "name": "stdout",
          "text": [
            "Index type in compute_indicators: <class 'pandas.core.indexes.datetimes.DatetimeIndex'>\n"
          ]
        },
        {
          "output_type": "stream",
          "name": "stderr",
          "text": [
            "\rCollecting Signals:  23%|██▎       | 108/471 [00:20<01:34,  3.85it/s]"
          ]
        },
        {
          "output_type": "stream",
          "name": "stdout",
          "text": [
            "Index type in compute_indicators: <class 'pandas.core.indexes.datetimes.DatetimeIndex'>\n"
          ]
        },
        {
          "output_type": "stream",
          "name": "stderr",
          "text": [
            "\rCollecting Signals:  23%|██▎       | 109/471 [00:20<01:38,  3.68it/s]"
          ]
        },
        {
          "output_type": "stream",
          "name": "stdout",
          "text": [
            "Index type in compute_indicators: <class 'pandas.core.indexes.datetimes.DatetimeIndex'>\n"
          ]
        },
        {
          "output_type": "stream",
          "name": "stderr",
          "text": [
            "\rCollecting Signals:  23%|██▎       | 110/471 [00:20<01:41,  3.56it/s]"
          ]
        },
        {
          "output_type": "stream",
          "name": "stdout",
          "text": [
            "Index type in compute_indicators: <class 'pandas.core.indexes.datetimes.DatetimeIndex'>\n"
          ]
        },
        {
          "output_type": "stream",
          "name": "stderr",
          "text": [
            "\rCollecting Signals:  24%|██▎       | 111/471 [00:20<01:44,  3.45it/s]"
          ]
        },
        {
          "output_type": "stream",
          "name": "stdout",
          "text": [
            "Index type in compute_indicators: <class 'pandas.core.indexes.datetimes.DatetimeIndex'>\n"
          ]
        },
        {
          "output_type": "stream",
          "name": "stderr",
          "text": [
            "Collecting Signals:  24%|██▍       | 113/471 [00:21<01:37,  3.68it/s]"
          ]
        },
        {
          "output_type": "stream",
          "name": "stdout",
          "text": [
            "Index type in compute_indicators: <class 'pandas.core.indexes.datetimes.DatetimeIndex'>\n"
          ]
        },
        {
          "output_type": "stream",
          "name": "stderr",
          "text": [
            "\rCollecting Signals:  24%|██▍       | 114/471 [00:21<01:25,  4.20it/s]"
          ]
        },
        {
          "output_type": "stream",
          "name": "stdout",
          "text": [
            "Index type in compute_indicators: <class 'pandas.core.indexes.datetimes.DatetimeIndex'>\n",
            "Index type in compute_indicators: <class 'pandas.core.indexes.datetimes.DatetimeIndex'>\n"
          ]
        },
        {
          "output_type": "stream",
          "name": "stderr",
          "text": [
            "Collecting Signals:  25%|██▍       | 116/471 [00:21<01:10,  5.03it/s]"
          ]
        },
        {
          "output_type": "stream",
          "name": "stdout",
          "text": [
            "Index type in compute_indicators: <class 'pandas.core.indexes.datetimes.DatetimeIndex'>\n",
            "Index type in compute_indicators: <class 'pandas.core.indexes.datetimes.DatetimeIndex'>\n"
          ]
        },
        {
          "output_type": "stream",
          "name": "stderr",
          "text": [
            "Collecting Signals:  25%|██▌       | 118/471 [00:22<01:05,  5.36it/s]"
          ]
        },
        {
          "output_type": "stream",
          "name": "stdout",
          "text": [
            "Index type in compute_indicators: <class 'pandas.core.indexes.datetimes.DatetimeIndex'>\n",
            "Index type in compute_indicators: <class 'pandas.core.indexes.datetimes.DatetimeIndex'>\n"
          ]
        },
        {
          "output_type": "stream",
          "name": "stderr",
          "text": [
            "Collecting Signals:  25%|██▌       | 120/471 [00:22<01:00,  5.81it/s]"
          ]
        },
        {
          "output_type": "stream",
          "name": "stdout",
          "text": [
            "Index type in compute_indicators: <class 'pandas.core.indexes.datetimes.DatetimeIndex'>\n",
            "Index type in compute_indicators: <class 'pandas.core.indexes.datetimes.DatetimeIndex'>\n"
          ]
        },
        {
          "output_type": "stream",
          "name": "stderr",
          "text": [
            "Collecting Signals:  26%|██▌       | 122/471 [00:22<00:57,  6.03it/s]"
          ]
        },
        {
          "output_type": "stream",
          "name": "stdout",
          "text": [
            "Index type in compute_indicators: <class 'pandas.core.indexes.datetimes.DatetimeIndex'>\n",
            "Index type in compute_indicators: <class 'pandas.core.indexes.datetimes.DatetimeIndex'>\n"
          ]
        },
        {
          "output_type": "stream",
          "name": "stderr",
          "text": [
            "Collecting Signals:  26%|██▋       | 124/471 [00:23<00:59,  5.88it/s]"
          ]
        },
        {
          "output_type": "stream",
          "name": "stdout",
          "text": [
            "Index type in compute_indicators: <class 'pandas.core.indexes.datetimes.DatetimeIndex'>\n",
            "Index type in compute_indicators: <class 'pandas.core.indexes.datetimes.DatetimeIndex'>\n"
          ]
        },
        {
          "output_type": "stream",
          "name": "stderr",
          "text": [
            "Collecting Signals:  27%|██▋       | 126/471 [00:23<00:57,  5.99it/s]"
          ]
        },
        {
          "output_type": "stream",
          "name": "stdout",
          "text": [
            "Index type in compute_indicators: <class 'pandas.core.indexes.datetimes.DatetimeIndex'>\n",
            "Index type in compute_indicators: <class 'pandas.core.indexes.datetimes.DatetimeIndex'>\n"
          ]
        },
        {
          "output_type": "stream",
          "name": "stderr",
          "text": [
            "Collecting Signals:  27%|██▋       | 128/471 [00:23<00:57,  5.96it/s]"
          ]
        },
        {
          "output_type": "stream",
          "name": "stdout",
          "text": [
            "Index type in compute_indicators: <class 'pandas.core.indexes.datetimes.DatetimeIndex'>\n",
            "Index type in compute_indicators: <class 'pandas.core.indexes.datetimes.DatetimeIndex'>\n"
          ]
        },
        {
          "output_type": "stream",
          "name": "stderr",
          "text": [
            "Collecting Signals:  28%|██▊       | 130/471 [00:24<00:58,  5.81it/s]"
          ]
        },
        {
          "output_type": "stream",
          "name": "stdout",
          "text": [
            "Index type in compute_indicators: <class 'pandas.core.indexes.datetimes.DatetimeIndex'>\n",
            "Index type in compute_indicators: <class 'pandas.core.indexes.datetimes.DatetimeIndex'>\n"
          ]
        },
        {
          "output_type": "stream",
          "name": "stderr",
          "text": [
            "Collecting Signals:  28%|██▊       | 132/471 [00:24<00:57,  5.91it/s]"
          ]
        },
        {
          "output_type": "stream",
          "name": "stdout",
          "text": [
            "Index type in compute_indicators: <class 'pandas.core.indexes.datetimes.DatetimeIndex'>\n",
            "Index type in compute_indicators: <class 'pandas.core.indexes.datetimes.DatetimeIndex'>\n"
          ]
        },
        {
          "output_type": "stream",
          "name": "stderr",
          "text": [
            "\rCollecting Signals:  28%|██▊       | 133/471 [00:24<00:56,  6.00it/s]"
          ]
        },
        {
          "output_type": "stream",
          "name": "stdout",
          "text": [
            "Index type in compute_indicators: <class 'pandas.core.indexes.datetimes.DatetimeIndex'>\n",
            "Index type in compute_indicators: <class 'pandas.core.indexes.datetimes.DatetimeIndex'>\n"
          ]
        },
        {
          "output_type": "stream",
          "name": "stderr",
          "text": [
            "Collecting Signals:  29%|██▉       | 136/471 [00:25<00:49,  6.79it/s]"
          ]
        },
        {
          "output_type": "stream",
          "name": "stdout",
          "text": [
            "Index type in compute_indicators: <class 'pandas.core.indexes.datetimes.DatetimeIndex'>\n",
            "Index type in compute_indicators: <class 'pandas.core.indexes.datetimes.DatetimeIndex'>\n"
          ]
        },
        {
          "output_type": "stream",
          "name": "stderr",
          "text": [
            "Collecting Signals:  29%|██▉       | 138/471 [00:25<00:53,  6.21it/s]"
          ]
        },
        {
          "output_type": "stream",
          "name": "stdout",
          "text": [
            "Index type in compute_indicators: <class 'pandas.core.indexes.datetimes.DatetimeIndex'>\n",
            "Index type in compute_indicators: <class 'pandas.core.indexes.datetimes.DatetimeIndex'>\n"
          ]
        },
        {
          "output_type": "stream",
          "name": "stderr",
          "text": [
            "Collecting Signals:  30%|██▉       | 140/471 [00:25<00:54,  6.10it/s]"
          ]
        },
        {
          "output_type": "stream",
          "name": "stdout",
          "text": [
            "Index type in compute_indicators: <class 'pandas.core.indexes.datetimes.DatetimeIndex'>\n",
            "Index type in compute_indicators: <class 'pandas.core.indexes.datetimes.DatetimeIndex'>\n"
          ]
        },
        {
          "output_type": "stream",
          "name": "stderr",
          "text": [
            "Collecting Signals:  30%|███       | 142/471 [00:26<00:53,  6.14it/s]"
          ]
        },
        {
          "output_type": "stream",
          "name": "stdout",
          "text": [
            "Index type in compute_indicators: <class 'pandas.core.indexes.datetimes.DatetimeIndex'>\n",
            "Index type in compute_indicators: <class 'pandas.core.indexes.datetimes.DatetimeIndex'>\n"
          ]
        },
        {
          "output_type": "stream",
          "name": "stderr",
          "text": [
            "Collecting Signals:  31%|███       | 144/471 [00:26<00:55,  5.89it/s]"
          ]
        },
        {
          "output_type": "stream",
          "name": "stdout",
          "text": [
            "Index type in compute_indicators: <class 'pandas.core.indexes.datetimes.DatetimeIndex'>\n",
            "Index type in compute_indicators: <class 'pandas.core.indexes.datetimes.DatetimeIndex'>\n"
          ]
        },
        {
          "output_type": "stream",
          "name": "stderr",
          "text": [
            "Collecting Signals:  31%|███       | 146/471 [00:26<00:55,  5.87it/s]"
          ]
        },
        {
          "output_type": "stream",
          "name": "stdout",
          "text": [
            "Index type in compute_indicators: <class 'pandas.core.indexes.datetimes.DatetimeIndex'>\n",
            "Index type in compute_indicators: <class 'pandas.core.indexes.datetimes.DatetimeIndex'>\n"
          ]
        },
        {
          "output_type": "stream",
          "name": "stderr",
          "text": [
            "Collecting Signals:  31%|███▏      | 148/471 [00:27<00:52,  6.11it/s]"
          ]
        },
        {
          "output_type": "stream",
          "name": "stdout",
          "text": [
            "Index type in compute_indicators: <class 'pandas.core.indexes.datetimes.DatetimeIndex'>\n",
            "Index type in compute_indicators: <class 'pandas.core.indexes.datetimes.DatetimeIndex'>\n"
          ]
        },
        {
          "output_type": "stream",
          "name": "stderr",
          "text": [
            "Collecting Signals:  32%|███▏      | 150/471 [00:27<00:55,  5.84it/s]"
          ]
        },
        {
          "output_type": "stream",
          "name": "stdout",
          "text": [
            "Index type in compute_indicators: <class 'pandas.core.indexes.datetimes.DatetimeIndex'>\n",
            "Index type in compute_indicators: <class 'pandas.core.indexes.datetimes.DatetimeIndex'>\n"
          ]
        },
        {
          "output_type": "stream",
          "name": "stderr",
          "text": [
            "Collecting Signals:  32%|███▏      | 152/471 [00:27<00:52,  6.05it/s]"
          ]
        },
        {
          "output_type": "stream",
          "name": "stdout",
          "text": [
            "Index type in compute_indicators: <class 'pandas.core.indexes.datetimes.DatetimeIndex'>\n",
            "Index type in compute_indicators: <class 'pandas.core.indexes.datetimes.DatetimeIndex'>\n"
          ]
        },
        {
          "output_type": "stream",
          "name": "stderr",
          "text": [
            "Collecting Signals:  33%|███▎      | 154/471 [00:28<00:51,  6.11it/s]"
          ]
        },
        {
          "output_type": "stream",
          "name": "stdout",
          "text": [
            "Index type in compute_indicators: <class 'pandas.core.indexes.datetimes.DatetimeIndex'>\n",
            "Index type in compute_indicators: <class 'pandas.core.indexes.datetimes.DatetimeIndex'>\n"
          ]
        },
        {
          "output_type": "stream",
          "name": "stderr",
          "text": [
            "Collecting Signals:  33%|███▎      | 156/471 [00:28<00:52,  5.98it/s]"
          ]
        },
        {
          "output_type": "stream",
          "name": "stdout",
          "text": [
            "Index type in compute_indicators: <class 'pandas.core.indexes.datetimes.DatetimeIndex'>\n",
            "Index type in compute_indicators: <class 'pandas.core.indexes.datetimes.DatetimeIndex'>\n"
          ]
        },
        {
          "output_type": "stream",
          "name": "stderr",
          "text": [
            "Collecting Signals:  34%|███▎      | 158/471 [00:28<00:51,  6.08it/s]"
          ]
        },
        {
          "output_type": "stream",
          "name": "stdout",
          "text": [
            "Index type in compute_indicators: <class 'pandas.core.indexes.datetimes.DatetimeIndex'>\n",
            "Index type in compute_indicators: <class 'pandas.core.indexes.datetimes.DatetimeIndex'>\n"
          ]
        },
        {
          "output_type": "stream",
          "name": "stderr",
          "text": [
            "Collecting Signals:  34%|███▍      | 160/471 [00:29<00:50,  6.15it/s]"
          ]
        },
        {
          "output_type": "stream",
          "name": "stdout",
          "text": [
            "Index type in compute_indicators: <class 'pandas.core.indexes.datetimes.DatetimeIndex'>\n",
            "Index type in compute_indicators: <class 'pandas.core.indexes.datetimes.DatetimeIndex'>\n"
          ]
        },
        {
          "output_type": "stream",
          "name": "stderr",
          "text": [
            "Collecting Signals:  34%|███▍      | 162/471 [00:29<00:53,  5.80it/s]"
          ]
        },
        {
          "output_type": "stream",
          "name": "stdout",
          "text": [
            "Index type in compute_indicators: <class 'pandas.core.indexes.datetimes.DatetimeIndex'>\n",
            "Index type in compute_indicators: <class 'pandas.core.indexes.datetimes.DatetimeIndex'>\n"
          ]
        },
        {
          "output_type": "stream",
          "name": "stderr",
          "text": [
            "Collecting Signals:  35%|███▍      | 164/471 [00:29<00:51,  5.98it/s]"
          ]
        },
        {
          "output_type": "stream",
          "name": "stdout",
          "text": [
            "Index type in compute_indicators: <class 'pandas.core.indexes.datetimes.DatetimeIndex'>\n",
            "Index type in compute_indicators: <class 'pandas.core.indexes.datetimes.DatetimeIndex'>\n"
          ]
        },
        {
          "output_type": "stream",
          "name": "stderr",
          "text": [
            "Collecting Signals:  35%|███▌      | 166/471 [00:30<00:50,  6.07it/s]"
          ]
        },
        {
          "output_type": "stream",
          "name": "stdout",
          "text": [
            "Index type in compute_indicators: <class 'pandas.core.indexes.datetimes.DatetimeIndex'>\n",
            "Index type in compute_indicators: <class 'pandas.core.indexes.datetimes.DatetimeIndex'>\n"
          ]
        },
        {
          "output_type": "stream",
          "name": "stderr",
          "text": [
            "Collecting Signals:  36%|███▌      | 168/471 [00:30<00:52,  5.76it/s]"
          ]
        },
        {
          "output_type": "stream",
          "name": "stdout",
          "text": [
            "Index type in compute_indicators: <class 'pandas.core.indexes.datetimes.DatetimeIndex'>\n",
            "Index type in compute_indicators: <class 'pandas.core.indexes.datetimes.DatetimeIndex'>\n"
          ]
        },
        {
          "output_type": "stream",
          "name": "stderr",
          "text": [
            "Collecting Signals:  36%|███▌      | 170/471 [00:30<00:50,  5.96it/s]"
          ]
        },
        {
          "output_type": "stream",
          "name": "stdout",
          "text": [
            "Index type in compute_indicators: <class 'pandas.core.indexes.datetimes.DatetimeIndex'>\n",
            "Index type in compute_indicators: <class 'pandas.core.indexes.datetimes.DatetimeIndex'>\n"
          ]
        },
        {
          "output_type": "stream",
          "name": "stderr",
          "text": [
            "Collecting Signals:  37%|███▋      | 172/471 [00:31<00:49,  6.05it/s]"
          ]
        },
        {
          "output_type": "stream",
          "name": "stdout",
          "text": [
            "Index type in compute_indicators: <class 'pandas.core.indexes.datetimes.DatetimeIndex'>\n",
            "Index type in compute_indicators: <class 'pandas.core.indexes.datetimes.DatetimeIndex'>\n"
          ]
        },
        {
          "output_type": "stream",
          "name": "stderr",
          "text": [
            "\rCollecting Signals:  37%|███▋      | 173/471 [00:31<00:52,  5.71it/s]"
          ]
        },
        {
          "output_type": "stream",
          "name": "stdout",
          "text": [
            "Index type in compute_indicators: <class 'pandas.core.indexes.datetimes.DatetimeIndex'>\n"
          ]
        },
        {
          "output_type": "stream",
          "name": "stderr",
          "text": [
            "\rCollecting Signals:  37%|███▋      | 174/471 [00:31<01:03,  4.67it/s]"
          ]
        },
        {
          "output_type": "stream",
          "name": "stdout",
          "text": [
            "Index type in compute_indicators: <class 'pandas.core.indexes.datetimes.DatetimeIndex'>\n"
          ]
        },
        {
          "output_type": "stream",
          "name": "stderr",
          "text": [
            "\rCollecting Signals:  37%|███▋      | 175/471 [00:32<01:08,  4.34it/s]"
          ]
        },
        {
          "output_type": "stream",
          "name": "stdout",
          "text": [
            "Index type in compute_indicators: <class 'pandas.core.indexes.datetimes.DatetimeIndex'>\n"
          ]
        },
        {
          "output_type": "stream",
          "name": "stderr",
          "text": [
            "\rCollecting Signals:  37%|███▋      | 176/471 [00:32<01:11,  4.11it/s]"
          ]
        },
        {
          "output_type": "stream",
          "name": "stdout",
          "text": [
            "Index type in compute_indicators: <class 'pandas.core.indexes.datetimes.DatetimeIndex'>\n"
          ]
        },
        {
          "output_type": "stream",
          "name": "stderr",
          "text": [
            "\rCollecting Signals:  38%|███▊      | 177/471 [00:32<01:14,  3.94it/s]"
          ]
        },
        {
          "output_type": "stream",
          "name": "stdout",
          "text": [
            "Index type in compute_indicators: <class 'pandas.core.indexes.datetimes.DatetimeIndex'>\n"
          ]
        },
        {
          "output_type": "stream",
          "name": "stderr",
          "text": [
            "\rCollecting Signals:  38%|███▊      | 178/471 [00:32<01:16,  3.82it/s]"
          ]
        },
        {
          "output_type": "stream",
          "name": "stdout",
          "text": [
            "Index type in compute_indicators: <class 'pandas.core.indexes.datetimes.DatetimeIndex'>\n"
          ]
        },
        {
          "output_type": "stream",
          "name": "stderr",
          "text": [
            "\rCollecting Signals:  38%|███▊      | 179/471 [00:33<01:15,  3.86it/s]"
          ]
        },
        {
          "output_type": "stream",
          "name": "stdout",
          "text": [
            "Index type in compute_indicators: <class 'pandas.core.indexes.datetimes.DatetimeIndex'>\n"
          ]
        },
        {
          "output_type": "stream",
          "name": "stderr",
          "text": [
            "\rCollecting Signals:  38%|███▊      | 180/471 [00:33<01:20,  3.63it/s]"
          ]
        },
        {
          "output_type": "stream",
          "name": "stdout",
          "text": [
            "Index type in compute_indicators: <class 'pandas.core.indexes.datetimes.DatetimeIndex'>\n"
          ]
        },
        {
          "output_type": "stream",
          "name": "stderr",
          "text": [
            "\rCollecting Signals:  38%|███▊      | 181/471 [00:33<01:23,  3.49it/s]"
          ]
        },
        {
          "output_type": "stream",
          "name": "stdout",
          "text": [
            "Index type in compute_indicators: <class 'pandas.core.indexes.datetimes.DatetimeIndex'>\n"
          ]
        },
        {
          "output_type": "stream",
          "name": "stderr",
          "text": [
            "\rCollecting Signals:  39%|███▊      | 182/471 [00:34<01:26,  3.36it/s]"
          ]
        },
        {
          "output_type": "stream",
          "name": "stdout",
          "text": [
            "Index type in compute_indicators: <class 'pandas.core.indexes.datetimes.DatetimeIndex'>\n"
          ]
        },
        {
          "output_type": "stream",
          "name": "stderr",
          "text": [
            "\rCollecting Signals:  39%|███▉      | 183/471 [00:34<01:25,  3.36it/s]"
          ]
        },
        {
          "output_type": "stream",
          "name": "stdout",
          "text": [
            "Index type in compute_indicators: <class 'pandas.core.indexes.datetimes.DatetimeIndex'>\n"
          ]
        },
        {
          "output_type": "stream",
          "name": "stderr",
          "text": [
            "Collecting Signals:  39%|███▉      | 185/471 [00:34<01:13,  3.91it/s]"
          ]
        },
        {
          "output_type": "stream",
          "name": "stdout",
          "text": [
            "Index type in compute_indicators: <class 'pandas.core.indexes.datetimes.DatetimeIndex'>\n",
            "Index type in compute_indicators: <class 'pandas.core.indexes.datetimes.DatetimeIndex'>\n"
          ]
        },
        {
          "output_type": "stream",
          "name": "stderr",
          "text": [
            "Collecting Signals:  40%|███▉      | 187/471 [00:35<00:59,  4.75it/s]"
          ]
        },
        {
          "output_type": "stream",
          "name": "stdout",
          "text": [
            "Index type in compute_indicators: <class 'pandas.core.indexes.datetimes.DatetimeIndex'>\n",
            "Index type in compute_indicators: <class 'pandas.core.indexes.datetimes.DatetimeIndex'>\n"
          ]
        },
        {
          "output_type": "stream",
          "name": "stderr",
          "text": [
            "Collecting Signals:  40%|████      | 189/471 [00:35<00:52,  5.36it/s]"
          ]
        },
        {
          "output_type": "stream",
          "name": "stdout",
          "text": [
            "Index type in compute_indicators: <class 'pandas.core.indexes.datetimes.DatetimeIndex'>\n",
            "Index type in compute_indicators: <class 'pandas.core.indexes.datetimes.DatetimeIndex'>\n"
          ]
        },
        {
          "output_type": "stream",
          "name": "stderr",
          "text": [
            "Collecting Signals:  41%|████      | 191/471 [00:35<00:48,  5.79it/s]"
          ]
        },
        {
          "output_type": "stream",
          "name": "stdout",
          "text": [
            "Index type in compute_indicators: <class 'pandas.core.indexes.datetimes.DatetimeIndex'>\n",
            "Index type in compute_indicators: <class 'pandas.core.indexes.datetimes.DatetimeIndex'>\n"
          ]
        },
        {
          "output_type": "stream",
          "name": "stderr",
          "text": [
            "Collecting Signals:  41%|████      | 193/471 [00:36<00:48,  5.78it/s]"
          ]
        },
        {
          "output_type": "stream",
          "name": "stdout",
          "text": [
            "Index type in compute_indicators: <class 'pandas.core.indexes.datetimes.DatetimeIndex'>\n",
            "Index type in compute_indicators: <class 'pandas.core.indexes.datetimes.DatetimeIndex'>\n"
          ]
        },
        {
          "output_type": "stream",
          "name": "stderr",
          "text": [
            "Collecting Signals:  41%|████▏     | 195/471 [00:36<00:46,  5.95it/s]"
          ]
        },
        {
          "output_type": "stream",
          "name": "stdout",
          "text": [
            "Index type in compute_indicators: <class 'pandas.core.indexes.datetimes.DatetimeIndex'>\n",
            "Index type in compute_indicators: <class 'pandas.core.indexes.datetimes.DatetimeIndex'>\n"
          ]
        },
        {
          "output_type": "stream",
          "name": "stderr",
          "text": [
            "Collecting Signals:  42%|████▏     | 197/471 [00:36<00:45,  5.99it/s]"
          ]
        },
        {
          "output_type": "stream",
          "name": "stdout",
          "text": [
            "Index type in compute_indicators: <class 'pandas.core.indexes.datetimes.DatetimeIndex'>\n",
            "Index type in compute_indicators: <class 'pandas.core.indexes.datetimes.DatetimeIndex'>\n"
          ]
        },
        {
          "output_type": "stream",
          "name": "stderr",
          "text": [
            "Collecting Signals:  42%|████▏     | 199/471 [00:37<00:45,  5.98it/s]"
          ]
        },
        {
          "output_type": "stream",
          "name": "stdout",
          "text": [
            "Index type in compute_indicators: <class 'pandas.core.indexes.datetimes.DatetimeIndex'>\n",
            "Index type in compute_indicators: <class 'pandas.core.indexes.datetimes.DatetimeIndex'>\n"
          ]
        },
        {
          "output_type": "stream",
          "name": "stderr",
          "text": [
            "Collecting Signals:  43%|████▎     | 201/471 [00:37<00:45,  5.90it/s]"
          ]
        },
        {
          "output_type": "stream",
          "name": "stdout",
          "text": [
            "Index type in compute_indicators: <class 'pandas.core.indexes.datetimes.DatetimeIndex'>\n",
            "Index type in compute_indicators: <class 'pandas.core.indexes.datetimes.DatetimeIndex'>\n"
          ]
        },
        {
          "output_type": "stream",
          "name": "stderr",
          "text": [
            "Collecting Signals:  43%|████▎     | 203/471 [00:37<00:44,  6.01it/s]"
          ]
        },
        {
          "output_type": "stream",
          "name": "stdout",
          "text": [
            "Index type in compute_indicators: <class 'pandas.core.indexes.datetimes.DatetimeIndex'>\n",
            "Index type in compute_indicators: <class 'pandas.core.indexes.datetimes.DatetimeIndex'>\n"
          ]
        },
        {
          "output_type": "stream",
          "name": "stderr",
          "text": [
            "Collecting Signals:  44%|████▎     | 205/471 [00:38<00:45,  5.89it/s]"
          ]
        },
        {
          "output_type": "stream",
          "name": "stdout",
          "text": [
            "Index type in compute_indicators: <class 'pandas.core.indexes.datetimes.DatetimeIndex'>\n",
            "Index type in compute_indicators: <class 'pandas.core.indexes.datetimes.DatetimeIndex'>\n"
          ]
        },
        {
          "output_type": "stream",
          "name": "stderr",
          "text": [
            "Collecting Signals:  44%|████▍     | 207/471 [00:38<00:43,  6.06it/s]"
          ]
        },
        {
          "output_type": "stream",
          "name": "stdout",
          "text": [
            "Index type in compute_indicators: <class 'pandas.core.indexes.datetimes.DatetimeIndex'>\n",
            "Index type in compute_indicators: <class 'pandas.core.indexes.datetimes.DatetimeIndex'>\n"
          ]
        },
        {
          "output_type": "stream",
          "name": "stderr",
          "text": [
            "Collecting Signals:  44%|████▍     | 209/471 [00:38<00:42,  6.13it/s]"
          ]
        },
        {
          "output_type": "stream",
          "name": "stdout",
          "text": [
            "Index type in compute_indicators: <class 'pandas.core.indexes.datetimes.DatetimeIndex'>\n",
            "Index type in compute_indicators: <class 'pandas.core.indexes.datetimes.DatetimeIndex'>\n"
          ]
        },
        {
          "output_type": "stream",
          "name": "stderr",
          "text": [
            "Collecting Signals:  45%|████▍     | 211/471 [00:39<00:44,  5.81it/s]"
          ]
        },
        {
          "output_type": "stream",
          "name": "stdout",
          "text": [
            "Index type in compute_indicators: <class 'pandas.core.indexes.datetimes.DatetimeIndex'>\n",
            "Index type in compute_indicators: <class 'pandas.core.indexes.datetimes.DatetimeIndex'>\n"
          ]
        },
        {
          "output_type": "stream",
          "name": "stderr",
          "text": [
            "Collecting Signals:  45%|████▌     | 213/471 [00:39<00:43,  5.90it/s]"
          ]
        },
        {
          "output_type": "stream",
          "name": "stdout",
          "text": [
            "Index type in compute_indicators: <class 'pandas.core.indexes.datetimes.DatetimeIndex'>\n",
            "Index type in compute_indicators: <class 'pandas.core.indexes.datetimes.DatetimeIndex'>\n"
          ]
        },
        {
          "output_type": "stream",
          "name": "stderr",
          "text": [
            "Collecting Signals:  46%|████▌     | 215/471 [00:39<00:41,  6.10it/s]"
          ]
        },
        {
          "output_type": "stream",
          "name": "stdout",
          "text": [
            "Index type in compute_indicators: <class 'pandas.core.indexes.datetimes.DatetimeIndex'>\n",
            "Index type in compute_indicators: <class 'pandas.core.indexes.datetimes.DatetimeIndex'>\n"
          ]
        },
        {
          "output_type": "stream",
          "name": "stderr",
          "text": [
            "Collecting Signals:  46%|████▌     | 217/471 [00:40<00:41,  6.07it/s]"
          ]
        },
        {
          "output_type": "stream",
          "name": "stdout",
          "text": [
            "Index type in compute_indicators: <class 'pandas.core.indexes.datetimes.DatetimeIndex'>\n",
            "Index type in compute_indicators: <class 'pandas.core.indexes.datetimes.DatetimeIndex'>\n"
          ]
        },
        {
          "output_type": "stream",
          "name": "stderr",
          "text": [
            "Collecting Signals:  46%|████▋     | 219/471 [00:40<00:41,  6.05it/s]"
          ]
        },
        {
          "output_type": "stream",
          "name": "stdout",
          "text": [
            "Index type in compute_indicators: <class 'pandas.core.indexes.datetimes.DatetimeIndex'>\n",
            "Index type in compute_indicators: <class 'pandas.core.indexes.datetimes.DatetimeIndex'>\n"
          ]
        },
        {
          "output_type": "stream",
          "name": "stderr",
          "text": [
            "Collecting Signals:  47%|████▋     | 221/471 [00:40<00:40,  6.17it/s]"
          ]
        },
        {
          "output_type": "stream",
          "name": "stdout",
          "text": [
            "Index type in compute_indicators: <class 'pandas.core.indexes.datetimes.DatetimeIndex'>\n",
            "Index type in compute_indicators: <class 'pandas.core.indexes.datetimes.DatetimeIndex'>\n"
          ]
        },
        {
          "output_type": "stream",
          "name": "stderr",
          "text": [
            "\rCollecting Signals:  47%|████▋     | 223/471 [00:41<00:34,  7.15it/s]"
          ]
        },
        {
          "output_type": "stream",
          "name": "stdout",
          "text": [
            "Index type in compute_indicators: <class 'pandas.core.indexes.datetimes.DatetimeIndex'>\n",
            "Index type in compute_indicators: <class 'pandas.core.indexes.datetimes.DatetimeIndex'>\n"
          ]
        },
        {
          "output_type": "stream",
          "name": "stderr",
          "text": [
            "Collecting Signals:  48%|████▊     | 225/471 [00:41<00:38,  6.43it/s]"
          ]
        },
        {
          "output_type": "stream",
          "name": "stdout",
          "text": [
            "Index type in compute_indicators: <class 'pandas.core.indexes.datetimes.DatetimeIndex'>\n",
            "Index type in compute_indicators: <class 'pandas.core.indexes.datetimes.DatetimeIndex'>\n"
          ]
        },
        {
          "output_type": "stream",
          "name": "stderr",
          "text": [
            "Collecting Signals:  48%|████▊     | 227/471 [00:41<00:38,  6.32it/s]"
          ]
        },
        {
          "output_type": "stream",
          "name": "stdout",
          "text": [
            "Index type in compute_indicators: <class 'pandas.core.indexes.datetimes.DatetimeIndex'>\n",
            "Index type in compute_indicators: <class 'pandas.core.indexes.datetimes.DatetimeIndex'>\n"
          ]
        },
        {
          "output_type": "stream",
          "name": "stderr",
          "text": [
            "Collecting Signals:  49%|████▊     | 229/471 [00:42<00:39,  6.18it/s]"
          ]
        },
        {
          "output_type": "stream",
          "name": "stdout",
          "text": [
            "Index type in compute_indicators: <class 'pandas.core.indexes.datetimes.DatetimeIndex'>\n",
            "Index type in compute_indicators: <class 'pandas.core.indexes.datetimes.DatetimeIndex'>\n"
          ]
        },
        {
          "output_type": "stream",
          "name": "stderr",
          "text": [
            "Collecting Signals:  49%|████▉     | 231/471 [00:42<00:40,  5.95it/s]"
          ]
        },
        {
          "output_type": "stream",
          "name": "stdout",
          "text": [
            "Index type in compute_indicators: <class 'pandas.core.indexes.datetimes.DatetimeIndex'>\n",
            "Index type in compute_indicators: <class 'pandas.core.indexes.datetimes.DatetimeIndex'>\n"
          ]
        },
        {
          "output_type": "stream",
          "name": "stderr",
          "text": [
            "Collecting Signals:  49%|████▉     | 233/471 [00:42<00:39,  5.99it/s]"
          ]
        },
        {
          "output_type": "stream",
          "name": "stdout",
          "text": [
            "Index type in compute_indicators: <class 'pandas.core.indexes.datetimes.DatetimeIndex'>\n",
            "Index type in compute_indicators: <class 'pandas.core.indexes.datetimes.DatetimeIndex'>\n"
          ]
        },
        {
          "output_type": "stream",
          "name": "stderr",
          "text": [
            "Collecting Signals:  50%|████▉     | 235/471 [00:43<00:39,  5.96it/s]"
          ]
        },
        {
          "output_type": "stream",
          "name": "stdout",
          "text": [
            "Index type in compute_indicators: <class 'pandas.core.indexes.datetimes.DatetimeIndex'>\n",
            "Index type in compute_indicators: <class 'pandas.core.indexes.datetimes.DatetimeIndex'>\n"
          ]
        },
        {
          "output_type": "stream",
          "name": "stderr",
          "text": [
            "Collecting Signals:  50%|█████     | 237/471 [00:43<00:39,  5.92it/s]"
          ]
        },
        {
          "output_type": "stream",
          "name": "stdout",
          "text": [
            "Index type in compute_indicators: <class 'pandas.core.indexes.datetimes.DatetimeIndex'>\n",
            "Index type in compute_indicators: <class 'pandas.core.indexes.datetimes.DatetimeIndex'>\n"
          ]
        },
        {
          "output_type": "stream",
          "name": "stderr",
          "text": [
            "Collecting Signals:  51%|█████     | 239/471 [00:43<00:39,  5.94it/s]"
          ]
        },
        {
          "output_type": "stream",
          "name": "stdout",
          "text": [
            "Index type in compute_indicators: <class 'pandas.core.indexes.datetimes.DatetimeIndex'>\n",
            "Index type in compute_indicators: <class 'pandas.core.indexes.datetimes.DatetimeIndex'>\n"
          ]
        },
        {
          "output_type": "stream",
          "name": "stderr",
          "text": [
            "Collecting Signals:  51%|█████     | 241/471 [00:44<00:37,  6.16it/s]"
          ]
        },
        {
          "output_type": "stream",
          "name": "stdout",
          "text": [
            "Index type in compute_indicators: <class 'pandas.core.indexes.datetimes.DatetimeIndex'>\n",
            "Index type in compute_indicators: <class 'pandas.core.indexes.datetimes.DatetimeIndex'>\n"
          ]
        },
        {
          "output_type": "stream",
          "name": "stderr",
          "text": [
            "Collecting Signals:  52%|█████▏    | 243/471 [00:44<00:37,  6.07it/s]"
          ]
        },
        {
          "output_type": "stream",
          "name": "stdout",
          "text": [
            "Index type in compute_indicators: <class 'pandas.core.indexes.datetimes.DatetimeIndex'>\n",
            "Index type in compute_indicators: <class 'pandas.core.indexes.datetimes.DatetimeIndex'>\n"
          ]
        },
        {
          "output_type": "stream",
          "name": "stderr",
          "text": [
            "\rCollecting Signals:  52%|█████▏    | 244/471 [00:44<00:37,  6.07it/s]"
          ]
        },
        {
          "output_type": "stream",
          "name": "stdout",
          "text": [
            "Index type in compute_indicators: <class 'pandas.core.indexes.datetimes.DatetimeIndex'>\n"
          ]
        },
        {
          "output_type": "stream",
          "name": "stderr",
          "text": [
            "\rCollecting Signals:  52%|█████▏    | 245/471 [00:44<00:43,  5.20it/s]"
          ]
        },
        {
          "output_type": "stream",
          "name": "stdout",
          "text": [
            "Index type in compute_indicators: <class 'pandas.core.indexes.datetimes.DatetimeIndex'>\n"
          ]
        },
        {
          "output_type": "stream",
          "name": "stderr",
          "text": [
            "\rCollecting Signals:  52%|█████▏    | 246/471 [00:45<00:48,  4.62it/s]"
          ]
        },
        {
          "output_type": "stream",
          "name": "stdout",
          "text": [
            "Index type in compute_indicators: <class 'pandas.core.indexes.datetimes.DatetimeIndex'>\n"
          ]
        },
        {
          "output_type": "stream",
          "name": "stderr",
          "text": [
            "\rCollecting Signals:  52%|█████▏    | 247/471 [00:45<00:54,  4.11it/s]"
          ]
        },
        {
          "output_type": "stream",
          "name": "stdout",
          "text": [
            "Index type in compute_indicators: <class 'pandas.core.indexes.datetimes.DatetimeIndex'>\n"
          ]
        },
        {
          "output_type": "stream",
          "name": "stderr",
          "text": [
            "\rCollecting Signals:  53%|█████▎    | 248/471 [00:45<00:56,  3.95it/s]"
          ]
        },
        {
          "output_type": "stream",
          "name": "stdout",
          "text": [
            "Index type in compute_indicators: <class 'pandas.core.indexes.datetimes.DatetimeIndex'>\n"
          ]
        },
        {
          "output_type": "stream",
          "name": "stderr",
          "text": [
            "\rCollecting Signals:  53%|█████▎    | 249/471 [00:45<00:56,  3.93it/s]"
          ]
        },
        {
          "output_type": "stream",
          "name": "stdout",
          "text": [
            "Index type in compute_indicators: <class 'pandas.core.indexes.datetimes.DatetimeIndex'>\n"
          ]
        },
        {
          "output_type": "stream",
          "name": "stderr",
          "text": [
            "\rCollecting Signals:  53%|█████▎    | 250/471 [00:46<00:56,  3.92it/s]"
          ]
        },
        {
          "output_type": "stream",
          "name": "stdout",
          "text": [
            "Index type in compute_indicators: <class 'pandas.core.indexes.datetimes.DatetimeIndex'>\n"
          ]
        },
        {
          "output_type": "stream",
          "name": "stderr",
          "text": [
            "\rCollecting Signals:  53%|█████▎    | 251/471 [00:46<00:59,  3.73it/s]"
          ]
        },
        {
          "output_type": "stream",
          "name": "stdout",
          "text": [
            "Index type in compute_indicators: <class 'pandas.core.indexes.datetimes.DatetimeIndex'>\n"
          ]
        },
        {
          "output_type": "stream",
          "name": "stderr",
          "text": [
            "\rCollecting Signals:  54%|█████▎    | 252/471 [00:46<00:59,  3.66it/s]"
          ]
        },
        {
          "output_type": "stream",
          "name": "stdout",
          "text": [
            "Index type in compute_indicators: <class 'pandas.core.indexes.datetimes.DatetimeIndex'>\n"
          ]
        },
        {
          "output_type": "stream",
          "name": "stderr",
          "text": [
            "\rCollecting Signals:  54%|█████▎    | 253/471 [00:47<01:02,  3.51it/s]"
          ]
        },
        {
          "output_type": "stream",
          "name": "stdout",
          "text": [
            "Index type in compute_indicators: <class 'pandas.core.indexes.datetimes.DatetimeIndex'>\n"
          ]
        },
        {
          "output_type": "stream",
          "name": "stderr",
          "text": [
            "\rCollecting Signals:  54%|█████▍    | 254/471 [00:47<01:02,  3.45it/s]"
          ]
        },
        {
          "output_type": "stream",
          "name": "stdout",
          "text": [
            "Index type in compute_indicators: <class 'pandas.core.indexes.datetimes.DatetimeIndex'>\n"
          ]
        },
        {
          "output_type": "stream",
          "name": "stderr",
          "text": [
            "\rCollecting Signals:  54%|█████▍    | 255/471 [00:47<01:03,  3.39it/s]"
          ]
        },
        {
          "output_type": "stream",
          "name": "stdout",
          "text": [
            "Index type in compute_indicators: <class 'pandas.core.indexes.datetimes.DatetimeIndex'>\n"
          ]
        },
        {
          "output_type": "stream",
          "name": "stderr",
          "text": [
            "Collecting Signals:  55%|█████▍    | 257/471 [00:48<00:50,  4.20it/s]"
          ]
        },
        {
          "output_type": "stream",
          "name": "stdout",
          "text": [
            "Index type in compute_indicators: <class 'pandas.core.indexes.datetimes.DatetimeIndex'>\n",
            "Index type in compute_indicators: <class 'pandas.core.indexes.datetimes.DatetimeIndex'>\n"
          ]
        },
        {
          "output_type": "stream",
          "name": "stderr",
          "text": [
            "Collecting Signals:  55%|█████▍    | 259/471 [00:48<00:42,  4.98it/s]"
          ]
        },
        {
          "output_type": "stream",
          "name": "stdout",
          "text": [
            "Index type in compute_indicators: <class 'pandas.core.indexes.datetimes.DatetimeIndex'>\n",
            "Index type in compute_indicators: <class 'pandas.core.indexes.datetimes.DatetimeIndex'>\n"
          ]
        },
        {
          "output_type": "stream",
          "name": "stderr",
          "text": [
            "Collecting Signals:  55%|█████▌    | 261/471 [00:48<00:39,  5.34it/s]"
          ]
        },
        {
          "output_type": "stream",
          "name": "stdout",
          "text": [
            "Index type in compute_indicators: <class 'pandas.core.indexes.datetimes.DatetimeIndex'>\n",
            "Index type in compute_indicators: <class 'pandas.core.indexes.datetimes.DatetimeIndex'>\n"
          ]
        },
        {
          "output_type": "stream",
          "name": "stderr",
          "text": [
            "Collecting Signals:  56%|█████▌    | 263/471 [00:49<00:35,  5.78it/s]"
          ]
        },
        {
          "output_type": "stream",
          "name": "stdout",
          "text": [
            "Index type in compute_indicators: <class 'pandas.core.indexes.datetimes.DatetimeIndex'>\n",
            "Index type in compute_indicators: <class 'pandas.core.indexes.datetimes.DatetimeIndex'>\n"
          ]
        },
        {
          "output_type": "stream",
          "name": "stderr",
          "text": [
            "Collecting Signals:  56%|█████▋    | 265/471 [00:49<00:34,  5.94it/s]"
          ]
        },
        {
          "output_type": "stream",
          "name": "stdout",
          "text": [
            "Index type in compute_indicators: <class 'pandas.core.indexes.datetimes.DatetimeIndex'>\n",
            "Index type in compute_indicators: <class 'pandas.core.indexes.datetimes.DatetimeIndex'>\n"
          ]
        },
        {
          "output_type": "stream",
          "name": "stderr",
          "text": [
            "Collecting Signals:  57%|█████▋    | 267/471 [00:49<00:35,  5.82it/s]"
          ]
        },
        {
          "output_type": "stream",
          "name": "stdout",
          "text": [
            "Index type in compute_indicators: <class 'pandas.core.indexes.datetimes.DatetimeIndex'>\n",
            "Index type in compute_indicators: <class 'pandas.core.indexes.datetimes.DatetimeIndex'>\n"
          ]
        },
        {
          "output_type": "stream",
          "name": "stderr",
          "text": [
            "Collecting Signals:  57%|█████▋    | 269/471 [00:50<00:33,  6.03it/s]"
          ]
        },
        {
          "output_type": "stream",
          "name": "stdout",
          "text": [
            "Index type in compute_indicators: <class 'pandas.core.indexes.datetimes.DatetimeIndex'>\n",
            "Index type in compute_indicators: <class 'pandas.core.indexes.datetimes.DatetimeIndex'>\n"
          ]
        },
        {
          "output_type": "stream",
          "name": "stderr",
          "text": [
            "Collecting Signals:  58%|█████▊    | 271/471 [00:50<00:32,  6.21it/s]"
          ]
        },
        {
          "output_type": "stream",
          "name": "stdout",
          "text": [
            "Index type in compute_indicators: <class 'pandas.core.indexes.datetimes.DatetimeIndex'>\n",
            "Index type in compute_indicators: <class 'pandas.core.indexes.datetimes.DatetimeIndex'>\n"
          ]
        },
        {
          "output_type": "stream",
          "name": "stderr",
          "text": [
            "Collecting Signals:  58%|█████▊    | 273/471 [00:50<00:33,  5.96it/s]"
          ]
        },
        {
          "output_type": "stream",
          "name": "stdout",
          "text": [
            "Index type in compute_indicators: <class 'pandas.core.indexes.datetimes.DatetimeIndex'>\n",
            "Index type in compute_indicators: <class 'pandas.core.indexes.datetimes.DatetimeIndex'>\n"
          ]
        },
        {
          "output_type": "stream",
          "name": "stderr",
          "text": [
            "Collecting Signals:  58%|█████▊    | 275/471 [00:51<00:31,  6.14it/s]"
          ]
        },
        {
          "output_type": "stream",
          "name": "stdout",
          "text": [
            "Index type in compute_indicators: <class 'pandas.core.indexes.datetimes.DatetimeIndex'>\n",
            "Index type in compute_indicators: <class 'pandas.core.indexes.datetimes.DatetimeIndex'>\n"
          ]
        },
        {
          "output_type": "stream",
          "name": "stderr",
          "text": [
            "Collecting Signals:  59%|█████▉    | 277/471 [00:51<00:31,  6.11it/s]"
          ]
        },
        {
          "output_type": "stream",
          "name": "stdout",
          "text": [
            "Index type in compute_indicators: <class 'pandas.core.indexes.datetimes.DatetimeIndex'>\n",
            "Index type in compute_indicators: <class 'pandas.core.indexes.datetimes.DatetimeIndex'>\n"
          ]
        },
        {
          "output_type": "stream",
          "name": "stderr",
          "text": [
            "Collecting Signals:  59%|█████▉    | 279/471 [00:51<00:33,  5.80it/s]"
          ]
        },
        {
          "output_type": "stream",
          "name": "stdout",
          "text": [
            "Index type in compute_indicators: <class 'pandas.core.indexes.datetimes.DatetimeIndex'>\n",
            "Index type in compute_indicators: <class 'pandas.core.indexes.datetimes.DatetimeIndex'>\n"
          ]
        },
        {
          "output_type": "stream",
          "name": "stderr",
          "text": [
            "Collecting Signals:  60%|█████▉    | 281/471 [00:52<00:32,  5.90it/s]"
          ]
        },
        {
          "output_type": "stream",
          "name": "stdout",
          "text": [
            "Index type in compute_indicators: <class 'pandas.core.indexes.datetimes.DatetimeIndex'>\n",
            "Index type in compute_indicators: <class 'pandas.core.indexes.datetimes.DatetimeIndex'>\n"
          ]
        },
        {
          "output_type": "stream",
          "name": "stderr",
          "text": [
            "Collecting Signals:  60%|██████    | 283/471 [00:52<00:30,  6.15it/s]"
          ]
        },
        {
          "output_type": "stream",
          "name": "stdout",
          "text": [
            "Index type in compute_indicators: <class 'pandas.core.indexes.datetimes.DatetimeIndex'>\n",
            "Index type in compute_indicators: <class 'pandas.core.indexes.datetimes.DatetimeIndex'>\n"
          ]
        },
        {
          "output_type": "stream",
          "name": "stderr",
          "text": [
            "Collecting Signals:  61%|██████    | 285/471 [00:52<00:31,  5.96it/s]"
          ]
        },
        {
          "output_type": "stream",
          "name": "stdout",
          "text": [
            "Index type in compute_indicators: <class 'pandas.core.indexes.datetimes.DatetimeIndex'>\n",
            "Index type in compute_indicators: <class 'pandas.core.indexes.datetimes.DatetimeIndex'>\n"
          ]
        },
        {
          "output_type": "stream",
          "name": "stderr",
          "text": [
            "Collecting Signals:  61%|██████    | 287/471 [00:53<00:30,  6.00it/s]"
          ]
        },
        {
          "output_type": "stream",
          "name": "stdout",
          "text": [
            "Index type in compute_indicators: <class 'pandas.core.indexes.datetimes.DatetimeIndex'>\n",
            "Index type in compute_indicators: <class 'pandas.core.indexes.datetimes.DatetimeIndex'>\n"
          ]
        },
        {
          "output_type": "stream",
          "name": "stderr",
          "text": [
            "Collecting Signals:  61%|██████▏   | 289/471 [00:53<00:30,  6.07it/s]"
          ]
        },
        {
          "output_type": "stream",
          "name": "stdout",
          "text": [
            "Index type in compute_indicators: <class 'pandas.core.indexes.datetimes.DatetimeIndex'>\n",
            "Index type in compute_indicators: <class 'pandas.core.indexes.datetimes.DatetimeIndex'>\n"
          ]
        },
        {
          "output_type": "stream",
          "name": "stderr",
          "text": [
            "Collecting Signals:  62%|██████▏   | 291/471 [00:53<00:31,  5.78it/s]"
          ]
        },
        {
          "output_type": "stream",
          "name": "stdout",
          "text": [
            "Index type in compute_indicators: <class 'pandas.core.indexes.datetimes.DatetimeIndex'>\n",
            "Index type in compute_indicators: <class 'pandas.core.indexes.datetimes.DatetimeIndex'>\n"
          ]
        },
        {
          "output_type": "stream",
          "name": "stderr",
          "text": [
            "Collecting Signals:  62%|██████▏   | 293/471 [00:54<00:29,  5.97it/s]"
          ]
        },
        {
          "output_type": "stream",
          "name": "stdout",
          "text": [
            "Index type in compute_indicators: <class 'pandas.core.indexes.datetimes.DatetimeIndex'>\n",
            "Index type in compute_indicators: <class 'pandas.core.indexes.datetimes.DatetimeIndex'>\n"
          ]
        },
        {
          "output_type": "stream",
          "name": "stderr",
          "text": [
            "Collecting Signals:  63%|██████▎   | 295/471 [00:54<00:28,  6.11it/s]"
          ]
        },
        {
          "output_type": "stream",
          "name": "stdout",
          "text": [
            "Index type in compute_indicators: <class 'pandas.core.indexes.datetimes.DatetimeIndex'>\n",
            "Index type in compute_indicators: <class 'pandas.core.indexes.datetimes.DatetimeIndex'>\n"
          ]
        },
        {
          "output_type": "stream",
          "name": "stderr",
          "text": [
            "Collecting Signals:  63%|██████▎   | 297/471 [00:54<00:30,  5.76it/s]"
          ]
        },
        {
          "output_type": "stream",
          "name": "stdout",
          "text": [
            "Index type in compute_indicators: <class 'pandas.core.indexes.datetimes.DatetimeIndex'>\n",
            "Index type in compute_indicators: <class 'pandas.core.indexes.datetimes.DatetimeIndex'>\n"
          ]
        },
        {
          "output_type": "stream",
          "name": "stderr",
          "text": [
            "Collecting Signals:  63%|██████▎   | 299/471 [00:55<00:29,  5.90it/s]"
          ]
        },
        {
          "output_type": "stream",
          "name": "stdout",
          "text": [
            "Index type in compute_indicators: <class 'pandas.core.indexes.datetimes.DatetimeIndex'>\n",
            "Index type in compute_indicators: <class 'pandas.core.indexes.datetimes.DatetimeIndex'>\n"
          ]
        },
        {
          "output_type": "stream",
          "name": "stderr",
          "text": [
            "Collecting Signals:  64%|██████▍   | 301/471 [00:55<00:28,  5.91it/s]"
          ]
        },
        {
          "output_type": "stream",
          "name": "stdout",
          "text": [
            "Index type in compute_indicators: <class 'pandas.core.indexes.datetimes.DatetimeIndex'>\n",
            "Index type in compute_indicators: <class 'pandas.core.indexes.datetimes.DatetimeIndex'>\n"
          ]
        },
        {
          "output_type": "stream",
          "name": "stderr",
          "text": [
            "Collecting Signals:  64%|██████▍   | 303/471 [00:55<00:27,  6.03it/s]"
          ]
        },
        {
          "output_type": "stream",
          "name": "stdout",
          "text": [
            "Index type in compute_indicators: <class 'pandas.core.indexes.datetimes.DatetimeIndex'>\n",
            "Index type in compute_indicators: <class 'pandas.core.indexes.datetimes.DatetimeIndex'>\n"
          ]
        },
        {
          "output_type": "stream",
          "name": "stderr",
          "text": [
            "Collecting Signals:  65%|██████▍   | 305/471 [00:56<00:27,  6.03it/s]"
          ]
        },
        {
          "output_type": "stream",
          "name": "stdout",
          "text": [
            "Index type in compute_indicators: <class 'pandas.core.indexes.datetimes.DatetimeIndex'>\n",
            "Index type in compute_indicators: <class 'pandas.core.indexes.datetimes.DatetimeIndex'>\n"
          ]
        },
        {
          "output_type": "stream",
          "name": "stderr",
          "text": [
            "Collecting Signals:  65%|██████▌   | 307/471 [00:56<00:27,  6.04it/s]"
          ]
        },
        {
          "output_type": "stream",
          "name": "stdout",
          "text": [
            "Index type in compute_indicators: <class 'pandas.core.indexes.datetimes.DatetimeIndex'>\n",
            "Index type in compute_indicators: <class 'pandas.core.indexes.datetimes.DatetimeIndex'>\n"
          ]
        },
        {
          "output_type": "stream",
          "name": "stderr",
          "text": [
            "Collecting Signals:  66%|██████▌   | 309/471 [00:56<00:26,  6.08it/s]"
          ]
        },
        {
          "output_type": "stream",
          "name": "stdout",
          "text": [
            "Index type in compute_indicators: <class 'pandas.core.indexes.datetimes.DatetimeIndex'>\n",
            "Index type in compute_indicators: <class 'pandas.core.indexes.datetimes.DatetimeIndex'>\n"
          ]
        },
        {
          "output_type": "stream",
          "name": "stderr",
          "text": [
            "Collecting Signals:  66%|██████▌   | 311/471 [00:57<00:27,  5.86it/s]"
          ]
        },
        {
          "output_type": "stream",
          "name": "stdout",
          "text": [
            "Index type in compute_indicators: <class 'pandas.core.indexes.datetimes.DatetimeIndex'>\n",
            "Index type in compute_indicators: <class 'pandas.core.indexes.datetimes.DatetimeIndex'>\n"
          ]
        },
        {
          "output_type": "stream",
          "name": "stderr",
          "text": [
            "Collecting Signals:  66%|██████▋   | 313/471 [00:57<00:26,  6.00it/s]"
          ]
        },
        {
          "output_type": "stream",
          "name": "stdout",
          "text": [
            "Index type in compute_indicators: <class 'pandas.core.indexes.datetimes.DatetimeIndex'>\n",
            "Index type in compute_indicators: <class 'pandas.core.indexes.datetimes.DatetimeIndex'>\n"
          ]
        },
        {
          "output_type": "stream",
          "name": "stderr",
          "text": [
            "Collecting Signals:  67%|██████▋   | 315/471 [00:57<00:25,  6.05it/s]"
          ]
        },
        {
          "output_type": "stream",
          "name": "stdout",
          "text": [
            "Index type in compute_indicators: <class 'pandas.core.indexes.datetimes.DatetimeIndex'>\n",
            "Index type in compute_indicators: <class 'pandas.core.indexes.datetimes.DatetimeIndex'>\n"
          ]
        },
        {
          "output_type": "stream",
          "name": "stderr",
          "text": [
            "\rCollecting Signals:  67%|██████▋   | 316/471 [00:58<00:30,  5.05it/s]"
          ]
        },
        {
          "output_type": "stream",
          "name": "stdout",
          "text": [
            "Index type in compute_indicators: <class 'pandas.core.indexes.datetimes.DatetimeIndex'>\n"
          ]
        },
        {
          "output_type": "stream",
          "name": "stderr",
          "text": [
            "\rCollecting Signals:  67%|██████▋   | 317/471 [00:58<00:33,  4.58it/s]"
          ]
        },
        {
          "output_type": "stream",
          "name": "stdout",
          "text": [
            "Index type in compute_indicators: <class 'pandas.core.indexes.datetimes.DatetimeIndex'>\n"
          ]
        },
        {
          "output_type": "stream",
          "name": "stderr",
          "text": [
            "\rCollecting Signals:  68%|██████▊   | 318/471 [00:58<00:35,  4.29it/s]"
          ]
        },
        {
          "output_type": "stream",
          "name": "stdout",
          "text": [
            "Index type in compute_indicators: <class 'pandas.core.indexes.datetimes.DatetimeIndex'>\n"
          ]
        },
        {
          "output_type": "stream",
          "name": "stderr",
          "text": [
            "\rCollecting Signals:  68%|██████▊   | 319/471 [00:58<00:36,  4.17it/s]"
          ]
        },
        {
          "output_type": "stream",
          "name": "stdout",
          "text": [
            "Index type in compute_indicators: <class 'pandas.core.indexes.datetimes.DatetimeIndex'>\n"
          ]
        },
        {
          "output_type": "stream",
          "name": "stderr",
          "text": [
            "\rCollecting Signals:  68%|██████▊   | 320/471 [00:59<00:39,  3.82it/s]"
          ]
        },
        {
          "output_type": "stream",
          "name": "stdout",
          "text": [
            "Index type in compute_indicators: <class 'pandas.core.indexes.datetimes.DatetimeIndex'>\n"
          ]
        },
        {
          "output_type": "stream",
          "name": "stderr",
          "text": [
            "\rCollecting Signals:  68%|██████▊   | 321/471 [00:59<00:38,  3.86it/s]"
          ]
        },
        {
          "output_type": "stream",
          "name": "stdout",
          "text": [
            "Index type in compute_indicators: <class 'pandas.core.indexes.datetimes.DatetimeIndex'>\n"
          ]
        },
        {
          "output_type": "stream",
          "name": "stderr",
          "text": [
            "\rCollecting Signals:  68%|██████▊   | 322/471 [00:59<00:39,  3.81it/s]"
          ]
        },
        {
          "output_type": "stream",
          "name": "stdout",
          "text": [
            "Index type in compute_indicators: <class 'pandas.core.indexes.datetimes.DatetimeIndex'>\n"
          ]
        },
        {
          "output_type": "stream",
          "name": "stderr",
          "text": [
            "\rCollecting Signals:  69%|██████▊   | 323/471 [00:59<00:39,  3.78it/s]"
          ]
        },
        {
          "output_type": "stream",
          "name": "stdout",
          "text": [
            "Index type in compute_indicators: <class 'pandas.core.indexes.datetimes.DatetimeIndex'>\n"
          ]
        },
        {
          "output_type": "stream",
          "name": "stderr",
          "text": [
            "\rCollecting Signals:  69%|██████▉   | 324/471 [01:00<00:40,  3.61it/s]"
          ]
        },
        {
          "output_type": "stream",
          "name": "stdout",
          "text": [
            "Index type in compute_indicators: <class 'pandas.core.indexes.datetimes.DatetimeIndex'>\n"
          ]
        },
        {
          "output_type": "stream",
          "name": "stderr",
          "text": [
            "\rCollecting Signals:  69%|██████▉   | 325/471 [01:00<00:41,  3.53it/s]"
          ]
        },
        {
          "output_type": "stream",
          "name": "stdout",
          "text": [
            "Index type in compute_indicators: <class 'pandas.core.indexes.datetimes.DatetimeIndex'>\n"
          ]
        },
        {
          "output_type": "stream",
          "name": "stderr",
          "text": [
            "\rCollecting Signals:  69%|██████▉   | 326/471 [01:00<00:41,  3.52it/s]"
          ]
        },
        {
          "output_type": "stream",
          "name": "stdout",
          "text": [
            "Index type in compute_indicators: <class 'pandas.core.indexes.datetimes.DatetimeIndex'>\n"
          ]
        },
        {
          "output_type": "stream",
          "name": "stderr",
          "text": [
            "Collecting Signals:  70%|██████▉   | 328/471 [01:01<00:35,  3.98it/s]"
          ]
        },
        {
          "output_type": "stream",
          "name": "stdout",
          "text": [
            "Index type in compute_indicators: <class 'pandas.core.indexes.datetimes.DatetimeIndex'>\n",
            "Index type in compute_indicators: <class 'pandas.core.indexes.datetimes.DatetimeIndex'>\n"
          ]
        },
        {
          "output_type": "stream",
          "name": "stderr",
          "text": [
            "Collecting Signals:  70%|███████   | 330/471 [01:01<00:29,  4.75it/s]"
          ]
        },
        {
          "output_type": "stream",
          "name": "stdout",
          "text": [
            "Index type in compute_indicators: <class 'pandas.core.indexes.datetimes.DatetimeIndex'>\n",
            "Index type in compute_indicators: <class 'pandas.core.indexes.datetimes.DatetimeIndex'>\n"
          ]
        },
        {
          "output_type": "stream",
          "name": "stderr",
          "text": [
            "Collecting Signals:  70%|███████   | 332/471 [01:01<00:26,  5.32it/s]"
          ]
        },
        {
          "output_type": "stream",
          "name": "stdout",
          "text": [
            "Index type in compute_indicators: <class 'pandas.core.indexes.datetimes.DatetimeIndex'>\n",
            "Index type in compute_indicators: <class 'pandas.core.indexes.datetimes.DatetimeIndex'>\n"
          ]
        },
        {
          "output_type": "stream",
          "name": "stderr",
          "text": [
            "Collecting Signals:  71%|███████   | 334/471 [01:02<00:24,  5.51it/s]"
          ]
        },
        {
          "output_type": "stream",
          "name": "stdout",
          "text": [
            "Index type in compute_indicators: <class 'pandas.core.indexes.datetimes.DatetimeIndex'>\n",
            "Index type in compute_indicators: <class 'pandas.core.indexes.datetimes.DatetimeIndex'>\n"
          ]
        },
        {
          "output_type": "stream",
          "name": "stderr",
          "text": [
            "Collecting Signals:  71%|███████▏  | 336/471 [01:02<00:23,  5.71it/s]"
          ]
        },
        {
          "output_type": "stream",
          "name": "stdout",
          "text": [
            "Index type in compute_indicators: <class 'pandas.core.indexes.datetimes.DatetimeIndex'>\n",
            "Index type in compute_indicators: <class 'pandas.core.indexes.datetimes.DatetimeIndex'>\n"
          ]
        },
        {
          "output_type": "stream",
          "name": "stderr",
          "text": [
            "Collecting Signals:  72%|███████▏  | 338/471 [01:02<00:22,  5.89it/s]"
          ]
        },
        {
          "output_type": "stream",
          "name": "stdout",
          "text": [
            "Index type in compute_indicators: <class 'pandas.core.indexes.datetimes.DatetimeIndex'>\n",
            "Index type in compute_indicators: <class 'pandas.core.indexes.datetimes.DatetimeIndex'>\n"
          ]
        },
        {
          "output_type": "stream",
          "name": "stderr",
          "text": [
            "Collecting Signals:  72%|███████▏  | 340/471 [01:03<00:22,  5.85it/s]"
          ]
        },
        {
          "output_type": "stream",
          "name": "stdout",
          "text": [
            "Index type in compute_indicators: <class 'pandas.core.indexes.datetimes.DatetimeIndex'>\n",
            "Index type in compute_indicators: <class 'pandas.core.indexes.datetimes.DatetimeIndex'>\n"
          ]
        },
        {
          "output_type": "stream",
          "name": "stderr",
          "text": [
            "Collecting Signals:  73%|███████▎  | 342/471 [01:03<00:21,  6.03it/s]"
          ]
        },
        {
          "output_type": "stream",
          "name": "stdout",
          "text": [
            "Index type in compute_indicators: <class 'pandas.core.indexes.datetimes.DatetimeIndex'>\n",
            "Index type in compute_indicators: <class 'pandas.core.indexes.datetimes.DatetimeIndex'>\n"
          ]
        },
        {
          "output_type": "stream",
          "name": "stderr",
          "text": [
            "Collecting Signals:  73%|███████▎  | 344/471 [01:03<00:21,  6.01it/s]"
          ]
        },
        {
          "output_type": "stream",
          "name": "stdout",
          "text": [
            "Index type in compute_indicators: <class 'pandas.core.indexes.datetimes.DatetimeIndex'>\n",
            "Index type in compute_indicators: <class 'pandas.core.indexes.datetimes.DatetimeIndex'>\n"
          ]
        },
        {
          "output_type": "stream",
          "name": "stderr",
          "text": [
            "Collecting Signals:  73%|███████▎  | 346/471 [01:04<00:21,  5.87it/s]"
          ]
        },
        {
          "output_type": "stream",
          "name": "stdout",
          "text": [
            "Index type in compute_indicators: <class 'pandas.core.indexes.datetimes.DatetimeIndex'>\n",
            "Index type in compute_indicators: <class 'pandas.core.indexes.datetimes.DatetimeIndex'>\n"
          ]
        },
        {
          "output_type": "stream",
          "name": "stderr",
          "text": [
            "Collecting Signals:  74%|███████▍  | 348/471 [01:04<00:20,  6.02it/s]"
          ]
        },
        {
          "output_type": "stream",
          "name": "stdout",
          "text": [
            "Index type in compute_indicators: <class 'pandas.core.indexes.datetimes.DatetimeIndex'>\n",
            "Index type in compute_indicators: <class 'pandas.core.indexes.datetimes.DatetimeIndex'>\n"
          ]
        },
        {
          "output_type": "stream",
          "name": "stderr",
          "text": [
            "Collecting Signals:  74%|███████▍  | 350/471 [01:04<00:19,  6.15it/s]"
          ]
        },
        {
          "output_type": "stream",
          "name": "stdout",
          "text": [
            "Index type in compute_indicators: <class 'pandas.core.indexes.datetimes.DatetimeIndex'>\n",
            "Index type in compute_indicators: <class 'pandas.core.indexes.datetimes.DatetimeIndex'>\n"
          ]
        },
        {
          "output_type": "stream",
          "name": "stderr",
          "text": [
            "Collecting Signals:  75%|███████▍  | 352/471 [01:05<00:19,  5.99it/s]"
          ]
        },
        {
          "output_type": "stream",
          "name": "stdout",
          "text": [
            "Index type in compute_indicators: <class 'pandas.core.indexes.datetimes.DatetimeIndex'>\n",
            "Index type in compute_indicators: <class 'pandas.core.indexes.datetimes.DatetimeIndex'>\n"
          ]
        },
        {
          "output_type": "stream",
          "name": "stderr",
          "text": [
            "Collecting Signals:  75%|███████▌  | 354/471 [01:05<00:19,  6.07it/s]"
          ]
        },
        {
          "output_type": "stream",
          "name": "stdout",
          "text": [
            "Index type in compute_indicators: <class 'pandas.core.indexes.datetimes.DatetimeIndex'>\n",
            "Index type in compute_indicators: <class 'pandas.core.indexes.datetimes.DatetimeIndex'>\n"
          ]
        },
        {
          "output_type": "stream",
          "name": "stderr",
          "text": [
            "Collecting Signals:  76%|███████▌  | 356/471 [01:05<00:19,  6.02it/s]"
          ]
        },
        {
          "output_type": "stream",
          "name": "stdout",
          "text": [
            "Index type in compute_indicators: <class 'pandas.core.indexes.datetimes.DatetimeIndex'>\n",
            "Index type in compute_indicators: <class 'pandas.core.indexes.datetimes.DatetimeIndex'>\n"
          ]
        },
        {
          "output_type": "stream",
          "name": "stderr",
          "text": [
            "Collecting Signals:  76%|███████▌  | 358/471 [01:06<00:19,  5.90it/s]"
          ]
        },
        {
          "output_type": "stream",
          "name": "stdout",
          "text": [
            "Index type in compute_indicators: <class 'pandas.core.indexes.datetimes.DatetimeIndex'>\n",
            "Index type in compute_indicators: <class 'pandas.core.indexes.datetimes.DatetimeIndex'>\n"
          ]
        },
        {
          "output_type": "stream",
          "name": "stderr",
          "text": [
            "Collecting Signals:  76%|███████▋  | 360/471 [01:06<00:18,  5.99it/s]"
          ]
        },
        {
          "output_type": "stream",
          "name": "stdout",
          "text": [
            "Index type in compute_indicators: <class 'pandas.core.indexes.datetimes.DatetimeIndex'>\n",
            "Index type in compute_indicators: <class 'pandas.core.indexes.datetimes.DatetimeIndex'>\n"
          ]
        },
        {
          "output_type": "stream",
          "name": "stderr",
          "text": [
            "Collecting Signals:  77%|███████▋  | 362/471 [01:06<00:18,  6.05it/s]"
          ]
        },
        {
          "output_type": "stream",
          "name": "stdout",
          "text": [
            "Index type in compute_indicators: <class 'pandas.core.indexes.datetimes.DatetimeIndex'>\n",
            "Index type in compute_indicators: <class 'pandas.core.indexes.datetimes.DatetimeIndex'>\n"
          ]
        },
        {
          "output_type": "stream",
          "name": "stderr",
          "text": [
            "Collecting Signals:  77%|███████▋  | 364/471 [01:07<00:17,  5.95it/s]"
          ]
        },
        {
          "output_type": "stream",
          "name": "stdout",
          "text": [
            "Index type in compute_indicators: <class 'pandas.core.indexes.datetimes.DatetimeIndex'>\n",
            "Index type in compute_indicators: <class 'pandas.core.indexes.datetimes.DatetimeIndex'>\n"
          ]
        },
        {
          "output_type": "stream",
          "name": "stderr",
          "text": [
            "Collecting Signals:  78%|███████▊  | 366/471 [01:07<00:17,  5.98it/s]"
          ]
        },
        {
          "output_type": "stream",
          "name": "stdout",
          "text": [
            "Index type in compute_indicators: <class 'pandas.core.indexes.datetimes.DatetimeIndex'>\n",
            "Index type in compute_indicators: <class 'pandas.core.indexes.datetimes.DatetimeIndex'>\n"
          ]
        },
        {
          "output_type": "stream",
          "name": "stderr",
          "text": [
            "Collecting Signals:  78%|███████▊  | 368/471 [01:07<00:16,  6.08it/s]"
          ]
        },
        {
          "output_type": "stream",
          "name": "stdout",
          "text": [
            "Index type in compute_indicators: <class 'pandas.core.indexes.datetimes.DatetimeIndex'>\n",
            "Index type in compute_indicators: <class 'pandas.core.indexes.datetimes.DatetimeIndex'>\n"
          ]
        },
        {
          "output_type": "stream",
          "name": "stderr",
          "text": [
            "Collecting Signals:  79%|███████▊  | 370/471 [01:08<00:16,  6.13it/s]"
          ]
        },
        {
          "output_type": "stream",
          "name": "stdout",
          "text": [
            "Index type in compute_indicators: <class 'pandas.core.indexes.datetimes.DatetimeIndex'>\n",
            "Index type in compute_indicators: <class 'pandas.core.indexes.datetimes.DatetimeIndex'>\n"
          ]
        },
        {
          "output_type": "stream",
          "name": "stderr",
          "text": [
            "Collecting Signals:  79%|███████▉  | 372/471 [01:08<00:16,  5.99it/s]"
          ]
        },
        {
          "output_type": "stream",
          "name": "stdout",
          "text": [
            "Index type in compute_indicators: <class 'pandas.core.indexes.datetimes.DatetimeIndex'>\n",
            "Index type in compute_indicators: <class 'pandas.core.indexes.datetimes.DatetimeIndex'>\n"
          ]
        },
        {
          "output_type": "stream",
          "name": "stderr",
          "text": [
            "Collecting Signals:  79%|███████▉  | 374/471 [01:08<00:16,  6.02it/s]"
          ]
        },
        {
          "output_type": "stream",
          "name": "stdout",
          "text": [
            "Index type in compute_indicators: <class 'pandas.core.indexes.datetimes.DatetimeIndex'>\n",
            "Index type in compute_indicators: <class 'pandas.core.indexes.datetimes.DatetimeIndex'>\n"
          ]
        },
        {
          "output_type": "stream",
          "name": "stderr",
          "text": [
            "Collecting Signals:  80%|███████▉  | 376/471 [01:09<00:15,  6.02it/s]"
          ]
        },
        {
          "output_type": "stream",
          "name": "stdout",
          "text": [
            "Index type in compute_indicators: <class 'pandas.core.indexes.datetimes.DatetimeIndex'>\n",
            "Index type in compute_indicators: <class 'pandas.core.indexes.datetimes.DatetimeIndex'>\n"
          ]
        },
        {
          "output_type": "stream",
          "name": "stderr",
          "text": [
            "Collecting Signals:  80%|████████  | 378/471 [01:09<00:15,  5.84it/s]"
          ]
        },
        {
          "output_type": "stream",
          "name": "stdout",
          "text": [
            "Index type in compute_indicators: <class 'pandas.core.indexes.datetimes.DatetimeIndex'>\n",
            "Index type in compute_indicators: <class 'pandas.core.indexes.datetimes.DatetimeIndex'>\n"
          ]
        },
        {
          "output_type": "stream",
          "name": "stderr",
          "text": [
            "Collecting Signals:  81%|████████  | 380/471 [01:10<00:15,  6.00it/s]"
          ]
        },
        {
          "output_type": "stream",
          "name": "stdout",
          "text": [
            "Index type in compute_indicators: <class 'pandas.core.indexes.datetimes.DatetimeIndex'>\n",
            "Index type in compute_indicators: <class 'pandas.core.indexes.datetimes.DatetimeIndex'>\n"
          ]
        },
        {
          "output_type": "stream",
          "name": "stderr",
          "text": [
            "Collecting Signals:  81%|████████  | 382/471 [01:10<00:14,  6.12it/s]"
          ]
        },
        {
          "output_type": "stream",
          "name": "stdout",
          "text": [
            "Index type in compute_indicators: <class 'pandas.core.indexes.datetimes.DatetimeIndex'>\n",
            "Index type in compute_indicators: <class 'pandas.core.indexes.datetimes.DatetimeIndex'>\n"
          ]
        },
        {
          "output_type": "stream",
          "name": "stderr",
          "text": [
            "Collecting Signals:  82%|████████▏ | 384/471 [01:10<00:14,  6.00it/s]"
          ]
        },
        {
          "output_type": "stream",
          "name": "stdout",
          "text": [
            "Index type in compute_indicators: <class 'pandas.core.indexes.datetimes.DatetimeIndex'>\n",
            "Index type in compute_indicators: <class 'pandas.core.indexes.datetimes.DatetimeIndex'>\n"
          ]
        },
        {
          "output_type": "stream",
          "name": "stderr",
          "text": [
            "Collecting Signals:  82%|████████▏ | 386/471 [01:10<00:13,  6.14it/s]"
          ]
        },
        {
          "output_type": "stream",
          "name": "stdout",
          "text": [
            "Index type in compute_indicators: <class 'pandas.core.indexes.datetimes.DatetimeIndex'>\n",
            "Index type in compute_indicators: <class 'pandas.core.indexes.datetimes.DatetimeIndex'>\n"
          ]
        },
        {
          "output_type": "stream",
          "name": "stderr",
          "text": [
            "\rCollecting Signals:  82%|████████▏ | 387/471 [01:11<00:14,  5.80it/s]"
          ]
        },
        {
          "output_type": "stream",
          "name": "stdout",
          "text": [
            "Index type in compute_indicators: <class 'pandas.core.indexes.datetimes.DatetimeIndex'>\n"
          ]
        },
        {
          "output_type": "stream",
          "name": "stderr",
          "text": [
            "\rCollecting Signals:  82%|████████▏ | 388/471 [01:11<00:16,  4.89it/s]"
          ]
        },
        {
          "output_type": "stream",
          "name": "stdout",
          "text": [
            "Index type in compute_indicators: <class 'pandas.core.indexes.datetimes.DatetimeIndex'>\n"
          ]
        },
        {
          "output_type": "stream",
          "name": "stderr",
          "text": [
            "\rCollecting Signals:  83%|████████▎ | 389/471 [01:11<00:18,  4.39it/s]"
          ]
        },
        {
          "output_type": "stream",
          "name": "stdout",
          "text": [
            "Index type in compute_indicators: <class 'pandas.core.indexes.datetimes.DatetimeIndex'>\n"
          ]
        },
        {
          "output_type": "stream",
          "name": "stderr",
          "text": [
            "\rCollecting Signals:  83%|████████▎ | 390/471 [01:12<00:19,  4.18it/s]"
          ]
        },
        {
          "output_type": "stream",
          "name": "stdout",
          "text": [
            "Index type in compute_indicators: <class 'pandas.core.indexes.datetimes.DatetimeIndex'>\n"
          ]
        },
        {
          "output_type": "stream",
          "name": "stderr",
          "text": [
            "\rCollecting Signals:  83%|████████▎ | 391/471 [01:12<00:19,  4.06it/s]"
          ]
        },
        {
          "output_type": "stream",
          "name": "stdout",
          "text": [
            "Index type in compute_indicators: <class 'pandas.core.indexes.datetimes.DatetimeIndex'>\n"
          ]
        },
        {
          "output_type": "stream",
          "name": "stderr",
          "text": [
            "\rCollecting Signals:  83%|████████▎ | 392/471 [01:12<00:19,  4.01it/s]"
          ]
        },
        {
          "output_type": "stream",
          "name": "stdout",
          "text": [
            "Index type in compute_indicators: <class 'pandas.core.indexes.datetimes.DatetimeIndex'>\n"
          ]
        },
        {
          "output_type": "stream",
          "name": "stderr",
          "text": [
            "\rCollecting Signals:  83%|████████▎ | 393/471 [01:12<00:20,  3.89it/s]"
          ]
        },
        {
          "output_type": "stream",
          "name": "stdout",
          "text": [
            "Index type in compute_indicators: <class 'pandas.core.indexes.datetimes.DatetimeIndex'>\n"
          ]
        },
        {
          "output_type": "stream",
          "name": "stderr",
          "text": [
            "\rCollecting Signals:  84%|████████▎ | 394/471 [01:13<00:20,  3.77it/s]"
          ]
        },
        {
          "output_type": "stream",
          "name": "stdout",
          "text": [
            "Index type in compute_indicators: <class 'pandas.core.indexes.datetimes.DatetimeIndex'>\n"
          ]
        },
        {
          "output_type": "stream",
          "name": "stderr",
          "text": [
            "\rCollecting Signals:  84%|████████▍ | 395/471 [01:13<00:20,  3.73it/s]"
          ]
        },
        {
          "output_type": "stream",
          "name": "stdout",
          "text": [
            "Index type in compute_indicators: <class 'pandas.core.indexes.datetimes.DatetimeIndex'>\n",
            "Index type in compute_indicators: <class 'pandas.core.indexes.datetimes.DatetimeIndex'>\n"
          ]
        },
        {
          "output_type": "stream",
          "name": "stderr",
          "text": [
            "\rCollecting Signals:  84%|████████▍ | 397/471 [01:13<00:16,  4.52it/s]"
          ]
        },
        {
          "output_type": "stream",
          "name": "stdout",
          "text": [
            "Index type in compute_indicators: <class 'pandas.core.indexes.datetimes.DatetimeIndex'>\n"
          ]
        },
        {
          "output_type": "stream",
          "name": "stderr",
          "text": [
            "\rCollecting Signals:  85%|████████▍ | 398/471 [01:14<00:17,  4.12it/s]"
          ]
        },
        {
          "output_type": "stream",
          "name": "stdout",
          "text": [
            "Index type in compute_indicators: <class 'pandas.core.indexes.datetimes.DatetimeIndex'>\n"
          ]
        },
        {
          "output_type": "stream",
          "name": "stderr",
          "text": [
            "Collecting Signals:  85%|████████▍ | 400/471 [01:14<00:17,  4.17it/s]"
          ]
        },
        {
          "output_type": "stream",
          "name": "stdout",
          "text": [
            "Index type in compute_indicators: <class 'pandas.core.indexes.datetimes.DatetimeIndex'>\n",
            "Index type in compute_indicators: <class 'pandas.core.indexes.datetimes.DatetimeIndex'>\n"
          ]
        },
        {
          "output_type": "stream",
          "name": "stderr",
          "text": [
            "Collecting Signals:  85%|████████▌ | 402/471 [01:14<00:14,  4.75it/s]"
          ]
        },
        {
          "output_type": "stream",
          "name": "stdout",
          "text": [
            "Index type in compute_indicators: <class 'pandas.core.indexes.datetimes.DatetimeIndex'>\n",
            "Index type in compute_indicators: <class 'pandas.core.indexes.datetimes.DatetimeIndex'>\n"
          ]
        },
        {
          "output_type": "stream",
          "name": "stderr",
          "text": [
            "Collecting Signals:  86%|████████▌ | 404/471 [01:15<00:12,  5.21it/s]"
          ]
        },
        {
          "output_type": "stream",
          "name": "stdout",
          "text": [
            "Index type in compute_indicators: <class 'pandas.core.indexes.datetimes.DatetimeIndex'>\n",
            "Index type in compute_indicators: <class 'pandas.core.indexes.datetimes.DatetimeIndex'>\n"
          ]
        },
        {
          "output_type": "stream",
          "name": "stderr",
          "text": [
            "Collecting Signals:  86%|████████▌ | 406/471 [01:15<00:11,  5.53it/s]"
          ]
        },
        {
          "output_type": "stream",
          "name": "stdout",
          "text": [
            "Index type in compute_indicators: <class 'pandas.core.indexes.datetimes.DatetimeIndex'>\n",
            "Index type in compute_indicators: <class 'pandas.core.indexes.datetimes.DatetimeIndex'>\n"
          ]
        },
        {
          "output_type": "stream",
          "name": "stderr",
          "text": [
            "Collecting Signals:  87%|████████▋ | 408/471 [01:15<00:10,  5.87it/s]"
          ]
        },
        {
          "output_type": "stream",
          "name": "stdout",
          "text": [
            "Index type in compute_indicators: <class 'pandas.core.indexes.datetimes.DatetimeIndex'>\n",
            "Index type in compute_indicators: <class 'pandas.core.indexes.datetimes.DatetimeIndex'>\n"
          ]
        },
        {
          "output_type": "stream",
          "name": "stderr",
          "text": [
            "Collecting Signals:  87%|████████▋ | 410/471 [01:16<00:10,  5.97it/s]"
          ]
        },
        {
          "output_type": "stream",
          "name": "stdout",
          "text": [
            "Index type in compute_indicators: <class 'pandas.core.indexes.datetimes.DatetimeIndex'>\n",
            "Index type in compute_indicators: <class 'pandas.core.indexes.datetimes.DatetimeIndex'>\n"
          ]
        },
        {
          "output_type": "stream",
          "name": "stderr",
          "text": [
            "Collecting Signals:  87%|████████▋ | 412/471 [01:16<00:10,  5.84it/s]"
          ]
        },
        {
          "output_type": "stream",
          "name": "stdout",
          "text": [
            "Index type in compute_indicators: <class 'pandas.core.indexes.datetimes.DatetimeIndex'>\n",
            "Index type in compute_indicators: <class 'pandas.core.indexes.datetimes.DatetimeIndex'>\n"
          ]
        },
        {
          "output_type": "stream",
          "name": "stderr",
          "text": [
            "Collecting Signals:  88%|████████▊ | 414/471 [01:16<00:09,  6.08it/s]"
          ]
        },
        {
          "output_type": "stream",
          "name": "stdout",
          "text": [
            "Index type in compute_indicators: <class 'pandas.core.indexes.datetimes.DatetimeIndex'>\n",
            "Index type in compute_indicators: <class 'pandas.core.indexes.datetimes.DatetimeIndex'>\n"
          ]
        },
        {
          "output_type": "stream",
          "name": "stderr",
          "text": [
            "Collecting Signals:  88%|████████▊ | 416/471 [01:17<00:09,  6.03it/s]"
          ]
        },
        {
          "output_type": "stream",
          "name": "stdout",
          "text": [
            "Index type in compute_indicators: <class 'pandas.core.indexes.datetimes.DatetimeIndex'>\n",
            "Index type in compute_indicators: <class 'pandas.core.indexes.datetimes.DatetimeIndex'>\n"
          ]
        },
        {
          "output_type": "stream",
          "name": "stderr",
          "text": [
            "Collecting Signals:  89%|████████▊ | 418/471 [01:17<00:08,  6.04it/s]"
          ]
        },
        {
          "output_type": "stream",
          "name": "stdout",
          "text": [
            "Index type in compute_indicators: <class 'pandas.core.indexes.datetimes.DatetimeIndex'>\n",
            "Index type in compute_indicators: <class 'pandas.core.indexes.datetimes.DatetimeIndex'>\n"
          ]
        },
        {
          "output_type": "stream",
          "name": "stderr",
          "text": [
            "Collecting Signals:  89%|████████▉ | 420/471 [01:17<00:08,  5.96it/s]"
          ]
        },
        {
          "output_type": "stream",
          "name": "stdout",
          "text": [
            "Index type in compute_indicators: <class 'pandas.core.indexes.datetimes.DatetimeIndex'>\n",
            "Index type in compute_indicators: <class 'pandas.core.indexes.datetimes.DatetimeIndex'>\n"
          ]
        },
        {
          "output_type": "stream",
          "name": "stderr",
          "text": [
            "Collecting Signals:  90%|████████▉ | 422/471 [01:18<00:08,  5.84it/s]"
          ]
        },
        {
          "output_type": "stream",
          "name": "stdout",
          "text": [
            "Index type in compute_indicators: <class 'pandas.core.indexes.datetimes.DatetimeIndex'>\n",
            "Index type in compute_indicators: <class 'pandas.core.indexes.datetimes.DatetimeIndex'>\n"
          ]
        },
        {
          "output_type": "stream",
          "name": "stderr",
          "text": [
            "Collecting Signals:  90%|█████████ | 424/471 [01:18<00:07,  5.95it/s]"
          ]
        },
        {
          "output_type": "stream",
          "name": "stdout",
          "text": [
            "Index type in compute_indicators: <class 'pandas.core.indexes.datetimes.DatetimeIndex'>\n",
            "Index type in compute_indicators: <class 'pandas.core.indexes.datetimes.DatetimeIndex'>\n"
          ]
        },
        {
          "output_type": "stream",
          "name": "stderr",
          "text": [
            "Collecting Signals:  90%|█████████ | 426/471 [01:18<00:07,  6.14it/s]"
          ]
        },
        {
          "output_type": "stream",
          "name": "stdout",
          "text": [
            "Index type in compute_indicators: <class 'pandas.core.indexes.datetimes.DatetimeIndex'>\n",
            "Index type in compute_indicators: <class 'pandas.core.indexes.datetimes.DatetimeIndex'>\n"
          ]
        },
        {
          "output_type": "stream",
          "name": "stderr",
          "text": [
            "Collecting Signals:  91%|█████████ | 428/471 [01:19<00:07,  5.94it/s]"
          ]
        },
        {
          "output_type": "stream",
          "name": "stdout",
          "text": [
            "Index type in compute_indicators: <class 'pandas.core.indexes.datetimes.DatetimeIndex'>\n",
            "Index type in compute_indicators: <class 'pandas.core.indexes.datetimes.DatetimeIndex'>\n"
          ]
        },
        {
          "output_type": "stream",
          "name": "stderr",
          "text": [
            "Collecting Signals:  91%|█████████▏| 430/471 [01:19<00:06,  5.92it/s]"
          ]
        },
        {
          "output_type": "stream",
          "name": "stdout",
          "text": [
            "Index type in compute_indicators: <class 'pandas.core.indexes.datetimes.DatetimeIndex'>\n",
            "Index type in compute_indicators: <class 'pandas.core.indexes.datetimes.DatetimeIndex'>\n"
          ]
        },
        {
          "output_type": "stream",
          "name": "stderr",
          "text": [
            "Collecting Signals:  92%|█████████▏| 432/471 [01:19<00:06,  5.96it/s]"
          ]
        },
        {
          "output_type": "stream",
          "name": "stdout",
          "text": [
            "Index type in compute_indicators: <class 'pandas.core.indexes.datetimes.DatetimeIndex'>\n",
            "Index type in compute_indicators: <class 'pandas.core.indexes.datetimes.DatetimeIndex'>\n"
          ]
        },
        {
          "output_type": "stream",
          "name": "stderr",
          "text": [
            "Collecting Signals:  92%|█████████▏| 434/471 [01:20<00:06,  5.49it/s]"
          ]
        },
        {
          "output_type": "stream",
          "name": "stdout",
          "text": [
            "Index type in compute_indicators: <class 'pandas.core.indexes.datetimes.DatetimeIndex'>\n",
            "Index type in compute_indicators: <class 'pandas.core.indexes.datetimes.DatetimeIndex'>\n"
          ]
        },
        {
          "output_type": "stream",
          "name": "stderr",
          "text": [
            "Collecting Signals:  93%|█████████▎| 436/471 [01:20<00:06,  5.83it/s]"
          ]
        },
        {
          "output_type": "stream",
          "name": "stdout",
          "text": [
            "Index type in compute_indicators: <class 'pandas.core.indexes.datetimes.DatetimeIndex'>\n",
            "Index type in compute_indicators: <class 'pandas.core.indexes.datetimes.DatetimeIndex'>\n"
          ]
        },
        {
          "output_type": "stream",
          "name": "stderr",
          "text": [
            "Collecting Signals:  93%|█████████▎| 438/471 [01:20<00:05,  6.03it/s]"
          ]
        },
        {
          "output_type": "stream",
          "name": "stdout",
          "text": [
            "Index type in compute_indicators: <class 'pandas.core.indexes.datetimes.DatetimeIndex'>\n",
            "Index type in compute_indicators: <class 'pandas.core.indexes.datetimes.DatetimeIndex'>\n"
          ]
        },
        {
          "output_type": "stream",
          "name": "stderr",
          "text": [
            "Collecting Signals:  93%|█████████▎| 440/471 [01:21<00:05,  5.76it/s]"
          ]
        },
        {
          "output_type": "stream",
          "name": "stdout",
          "text": [
            "Index type in compute_indicators: <class 'pandas.core.indexes.datetimes.DatetimeIndex'>\n",
            "Index type in compute_indicators: <class 'pandas.core.indexes.datetimes.DatetimeIndex'>\n"
          ]
        },
        {
          "output_type": "stream",
          "name": "stderr",
          "text": [
            "Collecting Signals:  94%|█████████▍| 442/471 [01:21<00:04,  5.93it/s]"
          ]
        },
        {
          "output_type": "stream",
          "name": "stdout",
          "text": [
            "Index type in compute_indicators: <class 'pandas.core.indexes.datetimes.DatetimeIndex'>\n",
            "Index type in compute_indicators: <class 'pandas.core.indexes.datetimes.DatetimeIndex'>\n"
          ]
        },
        {
          "output_type": "stream",
          "name": "stderr",
          "text": [
            "Collecting Signals:  94%|█████████▍| 444/471 [01:21<00:04,  5.96it/s]"
          ]
        },
        {
          "output_type": "stream",
          "name": "stdout",
          "text": [
            "Index type in compute_indicators: <class 'pandas.core.indexes.datetimes.DatetimeIndex'>\n",
            "Index type in compute_indicators: <class 'pandas.core.indexes.datetimes.DatetimeIndex'>\n"
          ]
        },
        {
          "output_type": "stream",
          "name": "stderr",
          "text": [
            "Collecting Signals:  95%|█████████▍| 446/471 [01:22<00:04,  5.97it/s]"
          ]
        },
        {
          "output_type": "stream",
          "name": "stdout",
          "text": [
            "Index type in compute_indicators: <class 'pandas.core.indexes.datetimes.DatetimeIndex'>\n",
            "Index type in compute_indicators: <class 'pandas.core.indexes.datetimes.DatetimeIndex'>\n"
          ]
        },
        {
          "output_type": "stream",
          "name": "stderr",
          "text": [
            "Collecting Signals:  95%|█████████▌| 448/471 [01:22<00:03,  6.03it/s]"
          ]
        },
        {
          "output_type": "stream",
          "name": "stdout",
          "text": [
            "Index type in compute_indicators: <class 'pandas.core.indexes.datetimes.DatetimeIndex'>\n",
            "Index type in compute_indicators: <class 'pandas.core.indexes.datetimes.DatetimeIndex'>\n"
          ]
        },
        {
          "output_type": "stream",
          "name": "stderr",
          "text": [
            "Collecting Signals:  96%|█████████▌| 450/471 [01:22<00:03,  6.12it/s]"
          ]
        },
        {
          "output_type": "stream",
          "name": "stdout",
          "text": [
            "Index type in compute_indicators: <class 'pandas.core.indexes.datetimes.DatetimeIndex'>\n",
            "Index type in compute_indicators: <class 'pandas.core.indexes.datetimes.DatetimeIndex'>\n"
          ]
        },
        {
          "output_type": "stream",
          "name": "stderr",
          "text": [
            "Collecting Signals:  96%|█████████▌| 452/471 [01:23<00:03,  5.98it/s]"
          ]
        },
        {
          "output_type": "stream",
          "name": "stdout",
          "text": [
            "Index type in compute_indicators: <class 'pandas.core.indexes.datetimes.DatetimeIndex'>\n",
            "Index type in compute_indicators: <class 'pandas.core.indexes.datetimes.DatetimeIndex'>\n"
          ]
        },
        {
          "output_type": "stream",
          "name": "stderr",
          "text": [
            "Collecting Signals:  96%|█████████▋| 454/471 [01:23<00:02,  5.85it/s]"
          ]
        },
        {
          "output_type": "stream",
          "name": "stdout",
          "text": [
            "Index type in compute_indicators: <class 'pandas.core.indexes.datetimes.DatetimeIndex'>\n",
            "Index type in compute_indicators: <class 'pandas.core.indexes.datetimes.DatetimeIndex'>\n"
          ]
        },
        {
          "output_type": "stream",
          "name": "stderr",
          "text": [
            "Collecting Signals:  97%|█████████▋| 456/471 [01:23<00:02,  5.94it/s]"
          ]
        },
        {
          "output_type": "stream",
          "name": "stdout",
          "text": [
            "Index type in compute_indicators: <class 'pandas.core.indexes.datetimes.DatetimeIndex'>\n",
            "Index type in compute_indicators: <class 'pandas.core.indexes.datetimes.DatetimeIndex'>\n"
          ]
        },
        {
          "output_type": "stream",
          "name": "stderr",
          "text": [
            "Collecting Signals:  97%|█████████▋| 458/471 [01:24<00:02,  5.84it/s]"
          ]
        },
        {
          "output_type": "stream",
          "name": "stdout",
          "text": [
            "Index type in compute_indicators: <class 'pandas.core.indexes.datetimes.DatetimeIndex'>\n",
            "Index type in compute_indicators: <class 'pandas.core.indexes.datetimes.DatetimeIndex'>\n"
          ]
        },
        {
          "output_type": "stream",
          "name": "stderr",
          "text": [
            "\rCollecting Signals:  97%|█████████▋| 459/471 [01:24<00:02,  4.96it/s]"
          ]
        },
        {
          "output_type": "stream",
          "name": "stdout",
          "text": [
            "Index type in compute_indicators: <class 'pandas.core.indexes.datetimes.DatetimeIndex'>\n"
          ]
        },
        {
          "output_type": "stream",
          "name": "stderr",
          "text": [
            "\rCollecting Signals:  98%|█████████▊| 460/471 [01:24<00:02,  4.58it/s]"
          ]
        },
        {
          "output_type": "stream",
          "name": "stdout",
          "text": [
            "Index type in compute_indicators: <class 'pandas.core.indexes.datetimes.DatetimeIndex'>\n"
          ]
        },
        {
          "output_type": "stream",
          "name": "stderr",
          "text": [
            "\rCollecting Signals:  98%|█████████▊| 461/471 [01:25<00:02,  4.36it/s]"
          ]
        },
        {
          "output_type": "stream",
          "name": "stdout",
          "text": [
            "Index type in compute_indicators: <class 'pandas.core.indexes.datetimes.DatetimeIndex'>\n"
          ]
        },
        {
          "output_type": "stream",
          "name": "stderr",
          "text": [
            "\rCollecting Signals:  98%|█████████▊| 462/471 [01:25<00:02,  4.02it/s]"
          ]
        },
        {
          "output_type": "stream",
          "name": "stdout",
          "text": [
            "Index type in compute_indicators: <class 'pandas.core.indexes.datetimes.DatetimeIndex'>\n"
          ]
        },
        {
          "output_type": "stream",
          "name": "stderr",
          "text": [
            "\rCollecting Signals:  98%|█████████▊| 463/471 [01:25<00:02,  3.90it/s]"
          ]
        },
        {
          "output_type": "stream",
          "name": "stdout",
          "text": [
            "Index type in compute_indicators: <class 'pandas.core.indexes.datetimes.DatetimeIndex'>\n"
          ]
        },
        {
          "output_type": "stream",
          "name": "stderr",
          "text": [
            "\rCollecting Signals:  99%|█████████▊| 464/471 [01:25<00:01,  3.93it/s]"
          ]
        },
        {
          "output_type": "stream",
          "name": "stdout",
          "text": [
            "Index type in compute_indicators: <class 'pandas.core.indexes.datetimes.DatetimeIndex'>\n"
          ]
        },
        {
          "output_type": "stream",
          "name": "stderr",
          "text": [
            "\rCollecting Signals:  99%|█████████▊| 465/471 [01:26<00:01,  3.85it/s]"
          ]
        },
        {
          "output_type": "stream",
          "name": "stdout",
          "text": [
            "Index type in compute_indicators: <class 'pandas.core.indexes.datetimes.DatetimeIndex'>\n"
          ]
        },
        {
          "output_type": "stream",
          "name": "stderr",
          "text": [
            "\rCollecting Signals:  99%|█████████▉| 466/471 [01:26<00:01,  3.68it/s]"
          ]
        },
        {
          "output_type": "stream",
          "name": "stdout",
          "text": [
            "Index type in compute_indicators: <class 'pandas.core.indexes.datetimes.DatetimeIndex'>\n"
          ]
        },
        {
          "output_type": "stream",
          "name": "stderr",
          "text": [
            "\rCollecting Signals:  99%|█████████▉| 467/471 [01:26<00:01,  3.63it/s]"
          ]
        },
        {
          "output_type": "stream",
          "name": "stdout",
          "text": [
            "Index type in compute_indicators: <class 'pandas.core.indexes.datetimes.DatetimeIndex'>\n"
          ]
        },
        {
          "output_type": "stream",
          "name": "stderr",
          "text": [
            "\rCollecting Signals:  99%|█████████▉| 468/471 [01:27<00:00,  3.53it/s]"
          ]
        },
        {
          "output_type": "stream",
          "name": "stdout",
          "text": [
            "Index type in compute_indicators: <class 'pandas.core.indexes.datetimes.DatetimeIndex'>\n"
          ]
        },
        {
          "output_type": "stream",
          "name": "stderr",
          "text": [
            "\rCollecting Signals: 100%|█████████▉| 469/471 [01:27<00:00,  3.45it/s]"
          ]
        },
        {
          "output_type": "stream",
          "name": "stdout",
          "text": [
            "Index type in compute_indicators: <class 'pandas.core.indexes.datetimes.DatetimeIndex'>\n"
          ]
        },
        {
          "output_type": "stream",
          "name": "stderr",
          "text": [
            "Collecting Signals: 100%|██████████| 471/471 [01:27<00:00,  5.36it/s]\n"
          ]
        },
        {
          "output_type": "stream",
          "name": "stdout",
          "text": [
            "Index type in compute_indicators: <class 'pandas.core.indexes.datetimes.DatetimeIndex'>\n"
          ]
        },
        {
          "output_type": "display_data",
          "data": {
            "text/plain": [
              "             symbol entry_date   entry_price  exit_date    exit_price  \\\n",
              "0        3MINDIA.NS 2022-06-21  19987.400391 2022-10-27  22610.300781   \n",
              "1        3MINDIA.NS 2023-07-26  27955.750000 2023-10-23  29390.050781   \n",
              "2        3MINDIA.NS 2025-05-06  29640.000000 2025-06-18  29175.000000   \n",
              "3     AARTIDRUGS.NS 2022-07-27    419.299988 2022-11-23    452.500000   \n",
              "4     AARTIDRUGS.NS 2023-06-21    458.049988 2023-09-26    548.400024   \n",
              "...             ...        ...           ...        ...           ...   \n",
              "1149   ZYDUSWELL.NS 2023-09-08    320.459991 2023-10-16    312.230011   \n",
              "1150   ZYDUSWELL.NS 2024-01-11    328.619995 2024-02-13    313.929993   \n",
              "1151   ZYDUSWELL.NS 2024-06-03    344.910004 2024-09-17    433.989990   \n",
              "1152   ZYDUSWELL.NS 2024-12-13    402.390015 2025-01-09    390.410004   \n",
              "1153   ZYDUSWELL.NS 2025-06-17    389.619995 2025-08-07    386.339996   \n",
              "\n",
              "         reason entry_type         atr  entry_adx   entry_dma50  \\\n",
              "0            SL      20dma  690.916497  26.899117  19697.283789   \n",
              "1            SL      20dma  752.326712  25.402900  26761.157930   \n",
              "2     DMA_CROSS      20dma  582.702595  28.898850  28346.774063   \n",
              "3            SL      20dma   11.200931  27.617727    416.759000   \n",
              "4            SL      20dma   20.317369  37.373740    446.598000   \n",
              "...         ...        ...         ...        ...           ...   \n",
              "1149  DMA_CROSS      20dma    5.845193  36.271789    305.220001   \n",
              "1150         SL      20dma    7.509693  31.598665    316.114799   \n",
              "1151         SL      20dma   12.644496  37.924001    327.302401   \n",
              "1152  DMA_CROSS      20dma   10.866398  26.896038    391.046600   \n",
              "1153         SL      20dma   13.108855  35.329149    366.780600   \n",
              "\n",
              "      risk_percentage  \n",
              "0            6.837375  \n",
              "1            8.059326  \n",
              "2            8.511199  \n",
              "3            5.461441  \n",
              "4            7.440495  \n",
              "...               ...  \n",
              "1149         8.542129  \n",
              "1150         6.962748  \n",
              "1151         9.526784  \n",
              "1152         7.530013  \n",
              "1153         9.856884  \n",
              "\n",
              "[1154 rows x 11 columns]"
            ],
            "text/html": [
              "\n",
              "  <div id=\"df-6a650606-bc10-46ee-baf4-b97368a72668\" class=\"colab-df-container\">\n",
              "    <div>\n",
              "<style scoped>\n",
              "    .dataframe tbody tr th:only-of-type {\n",
              "        vertical-align: middle;\n",
              "    }\n",
              "\n",
              "    .dataframe tbody tr th {\n",
              "        vertical-align: top;\n",
              "    }\n",
              "\n",
              "    .dataframe thead th {\n",
              "        text-align: right;\n",
              "    }\n",
              "</style>\n",
              "<table border=\"1\" class=\"dataframe\">\n",
              "  <thead>\n",
              "    <tr style=\"text-align: right;\">\n",
              "      <th></th>\n",
              "      <th>symbol</th>\n",
              "      <th>entry_date</th>\n",
              "      <th>entry_price</th>\n",
              "      <th>exit_date</th>\n",
              "      <th>exit_price</th>\n",
              "      <th>reason</th>\n",
              "      <th>entry_type</th>\n",
              "      <th>atr</th>\n",
              "      <th>entry_adx</th>\n",
              "      <th>entry_dma50</th>\n",
              "      <th>risk_percentage</th>\n",
              "    </tr>\n",
              "  </thead>\n",
              "  <tbody>\n",
              "    <tr>\n",
              "      <th>0</th>\n",
              "      <td>3MINDIA.NS</td>\n",
              "      <td>2022-06-21</td>\n",
              "      <td>19987.400391</td>\n",
              "      <td>2022-10-27</td>\n",
              "      <td>22610.300781</td>\n",
              "      <td>SL</td>\n",
              "      <td>20dma</td>\n",
              "      <td>690.916497</td>\n",
              "      <td>26.899117</td>\n",
              "      <td>19697.283789</td>\n",
              "      <td>6.837375</td>\n",
              "    </tr>\n",
              "    <tr>\n",
              "      <th>1</th>\n",
              "      <td>3MINDIA.NS</td>\n",
              "      <td>2023-07-26</td>\n",
              "      <td>27955.750000</td>\n",
              "      <td>2023-10-23</td>\n",
              "      <td>29390.050781</td>\n",
              "      <td>SL</td>\n",
              "      <td>20dma</td>\n",
              "      <td>752.326712</td>\n",
              "      <td>25.402900</td>\n",
              "      <td>26761.157930</td>\n",
              "      <td>8.059326</td>\n",
              "    </tr>\n",
              "    <tr>\n",
              "      <th>2</th>\n",
              "      <td>3MINDIA.NS</td>\n",
              "      <td>2025-05-06</td>\n",
              "      <td>29640.000000</td>\n",
              "      <td>2025-06-18</td>\n",
              "      <td>29175.000000</td>\n",
              "      <td>DMA_CROSS</td>\n",
              "      <td>20dma</td>\n",
              "      <td>582.702595</td>\n",
              "      <td>28.898850</td>\n",
              "      <td>28346.774063</td>\n",
              "      <td>8.511199</td>\n",
              "    </tr>\n",
              "    <tr>\n",
              "      <th>3</th>\n",
              "      <td>AARTIDRUGS.NS</td>\n",
              "      <td>2022-07-27</td>\n",
              "      <td>419.299988</td>\n",
              "      <td>2022-11-23</td>\n",
              "      <td>452.500000</td>\n",
              "      <td>SL</td>\n",
              "      <td>20dma</td>\n",
              "      <td>11.200931</td>\n",
              "      <td>27.617727</td>\n",
              "      <td>416.759000</td>\n",
              "      <td>5.461441</td>\n",
              "    </tr>\n",
              "    <tr>\n",
              "      <th>4</th>\n",
              "      <td>AARTIDRUGS.NS</td>\n",
              "      <td>2023-06-21</td>\n",
              "      <td>458.049988</td>\n",
              "      <td>2023-09-26</td>\n",
              "      <td>548.400024</td>\n",
              "      <td>SL</td>\n",
              "      <td>20dma</td>\n",
              "      <td>20.317369</td>\n",
              "      <td>37.373740</td>\n",
              "      <td>446.598000</td>\n",
              "      <td>7.440495</td>\n",
              "    </tr>\n",
              "    <tr>\n",
              "      <th>...</th>\n",
              "      <td>...</td>\n",
              "      <td>...</td>\n",
              "      <td>...</td>\n",
              "      <td>...</td>\n",
              "      <td>...</td>\n",
              "      <td>...</td>\n",
              "      <td>...</td>\n",
              "      <td>...</td>\n",
              "      <td>...</td>\n",
              "      <td>...</td>\n",
              "      <td>...</td>\n",
              "    </tr>\n",
              "    <tr>\n",
              "      <th>1149</th>\n",
              "      <td>ZYDUSWELL.NS</td>\n",
              "      <td>2023-09-08</td>\n",
              "      <td>320.459991</td>\n",
              "      <td>2023-10-16</td>\n",
              "      <td>312.230011</td>\n",
              "      <td>DMA_CROSS</td>\n",
              "      <td>20dma</td>\n",
              "      <td>5.845193</td>\n",
              "      <td>36.271789</td>\n",
              "      <td>305.220001</td>\n",
              "      <td>8.542129</td>\n",
              "    </tr>\n",
              "    <tr>\n",
              "      <th>1150</th>\n",
              "      <td>ZYDUSWELL.NS</td>\n",
              "      <td>2024-01-11</td>\n",
              "      <td>328.619995</td>\n",
              "      <td>2024-02-13</td>\n",
              "      <td>313.929993</td>\n",
              "      <td>SL</td>\n",
              "      <td>20dma</td>\n",
              "      <td>7.509693</td>\n",
              "      <td>31.598665</td>\n",
              "      <td>316.114799</td>\n",
              "      <td>6.962748</td>\n",
              "    </tr>\n",
              "    <tr>\n",
              "      <th>1151</th>\n",
              "      <td>ZYDUSWELL.NS</td>\n",
              "      <td>2024-06-03</td>\n",
              "      <td>344.910004</td>\n",
              "      <td>2024-09-17</td>\n",
              "      <td>433.989990</td>\n",
              "      <td>SL</td>\n",
              "      <td>20dma</td>\n",
              "      <td>12.644496</td>\n",
              "      <td>37.924001</td>\n",
              "      <td>327.302401</td>\n",
              "      <td>9.526784</td>\n",
              "    </tr>\n",
              "    <tr>\n",
              "      <th>1152</th>\n",
              "      <td>ZYDUSWELL.NS</td>\n",
              "      <td>2024-12-13</td>\n",
              "      <td>402.390015</td>\n",
              "      <td>2025-01-09</td>\n",
              "      <td>390.410004</td>\n",
              "      <td>DMA_CROSS</td>\n",
              "      <td>20dma</td>\n",
              "      <td>10.866398</td>\n",
              "      <td>26.896038</td>\n",
              "      <td>391.046600</td>\n",
              "      <td>7.530013</td>\n",
              "    </tr>\n",
              "    <tr>\n",
              "      <th>1153</th>\n",
              "      <td>ZYDUSWELL.NS</td>\n",
              "      <td>2025-06-17</td>\n",
              "      <td>389.619995</td>\n",
              "      <td>2025-08-07</td>\n",
              "      <td>386.339996</td>\n",
              "      <td>SL</td>\n",
              "      <td>20dma</td>\n",
              "      <td>13.108855</td>\n",
              "      <td>35.329149</td>\n",
              "      <td>366.780600</td>\n",
              "      <td>9.856884</td>\n",
              "    </tr>\n",
              "  </tbody>\n",
              "</table>\n",
              "<p>1154 rows × 11 columns</p>\n",
              "</div>\n",
              "    <div class=\"colab-df-buttons\">\n",
              "\n",
              "  <div class=\"colab-df-container\">\n",
              "    <button class=\"colab-df-convert\" onclick=\"convertToInteractive('df-6a650606-bc10-46ee-baf4-b97368a72668')\"\n",
              "            title=\"Convert this dataframe to an interactive table.\"\n",
              "            style=\"display:none;\">\n",
              "\n",
              "  <svg xmlns=\"http://www.w3.org/2000/svg\" height=\"24px\" viewBox=\"0 -960 960 960\">\n",
              "    <path d=\"M120-120v-720h720v720H120Zm60-500h600v-160H180v160Zm220 220h160v-160H400v160Zm0 220h160v-160H400v160ZM180-400h160v-160H180v160Zm440 0h160v-160H620v160ZM180-180h160v-160H180v160Zm440 0h160v-160H620v160Z\"/>\n",
              "  </svg>\n",
              "    </button>\n",
              "\n",
              "  <style>\n",
              "    .colab-df-container {\n",
              "      display:flex;\n",
              "      gap: 12px;\n",
              "    }\n",
              "\n",
              "    .colab-df-convert {\n",
              "      background-color: #E8F0FE;\n",
              "      border: none;\n",
              "      border-radius: 50%;\n",
              "      cursor: pointer;\n",
              "      display: none;\n",
              "      fill: #1967D2;\n",
              "      height: 32px;\n",
              "      padding: 0 0 0 0;\n",
              "      width: 32px;\n",
              "    }\n",
              "\n",
              "    .colab-df-convert:hover {\n",
              "      background-color: #E2EBFA;\n",
              "      box-shadow: 0px 1px 2px rgba(60, 64, 67, 0.3), 0px 1px 3px 1px rgba(60, 64, 67, 0.15);\n",
              "      fill: #174EA6;\n",
              "    }\n",
              "\n",
              "    .colab-df-buttons div {\n",
              "      margin-bottom: 4px;\n",
              "    }\n",
              "\n",
              "    [theme=dark] .colab-df-convert {\n",
              "      background-color: #3B4455;\n",
              "      fill: #D2E3FC;\n",
              "    }\n",
              "\n",
              "    [theme=dark] .colab-df-convert:hover {\n",
              "      background-color: #434B5C;\n",
              "      box-shadow: 0px 1px 3px 1px rgba(0, 0, 0, 0.15);\n",
              "      filter: drop-shadow(0px 1px 2px rgba(0, 0, 0, 0.3));\n",
              "      fill: #FFFFFF;\n",
              "    }\n",
              "  </style>\n",
              "\n",
              "    <script>\n",
              "      const buttonEl =\n",
              "        document.querySelector('#df-6a650606-bc10-46ee-baf4-b97368a72668 button.colab-df-convert');\n",
              "      buttonEl.style.display =\n",
              "        google.colab.kernel.accessAllowed ? 'block' : 'none';\n",
              "\n",
              "      async function convertToInteractive(key) {\n",
              "        const element = document.querySelector('#df-6a650606-bc10-46ee-baf4-b97368a72668');\n",
              "        const dataTable =\n",
              "          await google.colab.kernel.invokeFunction('convertToInteractive',\n",
              "                                                    [key], {});\n",
              "        if (!dataTable) return;\n",
              "\n",
              "        const docLinkHtml = 'Like what you see? Visit the ' +\n",
              "          '<a target=\"_blank\" href=https://colab.research.google.com/notebooks/data_table.ipynb>data table notebook</a>'\n",
              "          + ' to learn more about interactive tables.';\n",
              "        element.innerHTML = '';\n",
              "        dataTable['output_type'] = 'display_data';\n",
              "        await google.colab.output.renderOutput(dataTable, element);\n",
              "        const docLink = document.createElement('div');\n",
              "        docLink.innerHTML = docLinkHtml;\n",
              "        element.appendChild(docLink);\n",
              "      }\n",
              "    </script>\n",
              "  </div>\n",
              "\n",
              "\n",
              "    <div id=\"df-a80ae73a-8e3c-410a-a738-f08669a41800\">\n",
              "      <button class=\"colab-df-quickchart\" onclick=\"quickchart('df-a80ae73a-8e3c-410a-a738-f08669a41800')\"\n",
              "                title=\"Suggest charts\"\n",
              "                style=\"display:none;\">\n",
              "\n",
              "<svg xmlns=\"http://www.w3.org/2000/svg\" height=\"24px\"viewBox=\"0 0 24 24\"\n",
              "     width=\"24px\">\n",
              "    <g>\n",
              "        <path d=\"M19 3H5c-1.1 0-2 .9-2 2v14c0 1.1.9 2 2 2h14c1.1 0 2-.9 2-2V5c0-1.1-.9-2-2-2zM9 17H7v-7h2v7zm4 0h-2V7h2v10zm4 0h-2v-4h2v4z\"/>\n",
              "    </g>\n",
              "</svg>\n",
              "      </button>\n",
              "\n",
              "<style>\n",
              "  .colab-df-quickchart {\n",
              "      --bg-color: #E8F0FE;\n",
              "      --fill-color: #1967D2;\n",
              "      --hover-bg-color: #E2EBFA;\n",
              "      --hover-fill-color: #174EA6;\n",
              "      --disabled-fill-color: #AAA;\n",
              "      --disabled-bg-color: #DDD;\n",
              "  }\n",
              "\n",
              "  [theme=dark] .colab-df-quickchart {\n",
              "      --bg-color: #3B4455;\n",
              "      --fill-color: #D2E3FC;\n",
              "      --hover-bg-color: #434B5C;\n",
              "      --hover-fill-color: #FFFFFF;\n",
              "      --disabled-bg-color: #3B4455;\n",
              "      --disabled-fill-color: #666;\n",
              "  }\n",
              "\n",
              "  .colab-df-quickchart {\n",
              "    background-color: var(--bg-color);\n",
              "    border: none;\n",
              "    border-radius: 50%;\n",
              "    cursor: pointer;\n",
              "    display: none;\n",
              "    fill: var(--fill-color);\n",
              "    height: 32px;\n",
              "    padding: 0;\n",
              "    width: 32px;\n",
              "  }\n",
              "\n",
              "  .colab-df-quickchart:hover {\n",
              "    background-color: var(--hover-bg-color);\n",
              "    box-shadow: 0 1px 2px rgba(60, 64, 67, 0.3), 0 1px 3px 1px rgba(60, 64, 67, 0.15);\n",
              "    fill: var(--button-hover-fill-color);\n",
              "  }\n",
              "\n",
              "  .colab-df-quickchart-complete:disabled,\n",
              "  .colab-df-quickchart-complete:disabled:hover {\n",
              "    background-color: var(--disabled-bg-color);\n",
              "    fill: var(--disabled-fill-color);\n",
              "    box-shadow: none;\n",
              "  }\n",
              "\n",
              "  .colab-df-spinner {\n",
              "    border: 2px solid var(--fill-color);\n",
              "    border-color: transparent;\n",
              "    border-bottom-color: var(--fill-color);\n",
              "    animation:\n",
              "      spin 1s steps(1) infinite;\n",
              "  }\n",
              "\n",
              "  @keyframes spin {\n",
              "    0% {\n",
              "      border-color: transparent;\n",
              "      border-bottom-color: var(--fill-color);\n",
              "      border-left-color: var(--fill-color);\n",
              "    }\n",
              "    20% {\n",
              "      border-color: transparent;\n",
              "      border-left-color: var(--fill-color);\n",
              "      border-top-color: var(--fill-color);\n",
              "    }\n",
              "    30% {\n",
              "      border-color: transparent;\n",
              "      border-left-color: var(--fill-color);\n",
              "      border-top-color: var(--fill-color);\n",
              "      border-right-color: var(--fill-color);\n",
              "    }\n",
              "    40% {\n",
              "      border-color: transparent;\n",
              "      border-right-color: var(--fill-color);\n",
              "      border-top-color: var(--fill-color);\n",
              "    }\n",
              "    60% {\n",
              "      border-color: transparent;\n",
              "      border-right-color: var(--fill-color);\n",
              "    }\n",
              "    80% {\n",
              "      border-color: transparent;\n",
              "      border-right-color: var(--fill-color);\n",
              "      border-bottom-color: var(--fill-color);\n",
              "    }\n",
              "    90% {\n",
              "      border-color: transparent;\n",
              "      border-bottom-color: var(--fill-color);\n",
              "    }\n",
              "  }\n",
              "</style>\n",
              "\n",
              "      <script>\n",
              "        async function quickchart(key) {\n",
              "          const quickchartButtonEl =\n",
              "            document.querySelector('#' + key + ' button');\n",
              "          quickchartButtonEl.disabled = true;  // To prevent multiple clicks.\n",
              "          quickchartButtonEl.classList.add('colab-df-spinner');\n",
              "          try {\n",
              "            const charts = await google.colab.kernel.invokeFunction(\n",
              "                'suggestCharts', [key], {});\n",
              "          } catch (error) {\n",
              "            console.error('Error during call to suggestCharts:', error);\n",
              "          }\n",
              "          quickchartButtonEl.classList.remove('colab-df-spinner');\n",
              "          quickchartButtonEl.classList.add('colab-df-quickchart-complete');\n",
              "        }\n",
              "        (() => {\n",
              "          let quickchartButtonEl =\n",
              "            document.querySelector('#df-a80ae73a-8e3c-410a-a738-f08669a41800 button');\n",
              "          quickchartButtonEl.style.display =\n",
              "            google.colab.kernel.accessAllowed ? 'block' : 'none';\n",
              "        })();\n",
              "      </script>\n",
              "    </div>\n",
              "\n",
              "  <div id=\"id_f0aa2fcf-498c-4e6c-b9a9-7f151235e52c\">\n",
              "    <style>\n",
              "      .colab-df-generate {\n",
              "        background-color: #E8F0FE;\n",
              "        border: none;\n",
              "        border-radius: 50%;\n",
              "        cursor: pointer;\n",
              "        display: none;\n",
              "        fill: #1967D2;\n",
              "        height: 32px;\n",
              "        padding: 0 0 0 0;\n",
              "        width: 32px;\n",
              "      }\n",
              "\n",
              "      .colab-df-generate:hover {\n",
              "        background-color: #E2EBFA;\n",
              "        box-shadow: 0px 1px 2px rgba(60, 64, 67, 0.3), 0px 1px 3px 1px rgba(60, 64, 67, 0.15);\n",
              "        fill: #174EA6;\n",
              "      }\n",
              "\n",
              "      [theme=dark] .colab-df-generate {\n",
              "        background-color: #3B4455;\n",
              "        fill: #D2E3FC;\n",
              "      }\n",
              "\n",
              "      [theme=dark] .colab-df-generate:hover {\n",
              "        background-color: #434B5C;\n",
              "        box-shadow: 0px 1px 3px 1px rgba(0, 0, 0, 0.15);\n",
              "        filter: drop-shadow(0px 1px 2px rgba(0, 0, 0, 0.3));\n",
              "        fill: #FFFFFF;\n",
              "      }\n",
              "    </style>\n",
              "    <button class=\"colab-df-generate\" onclick=\"generateWithVariable('all_trade_signals_df')\"\n",
              "            title=\"Generate code using this dataframe.\"\n",
              "            style=\"display:none;\">\n",
              "\n",
              "  <svg xmlns=\"http://www.w3.org/2000/svg\" height=\"24px\"viewBox=\"0 0 24 24\"\n",
              "       width=\"24px\">\n",
              "    <path d=\"M7,19H8.4L18.45,9,17,7.55,7,17.6ZM5,21V16.75L18.45,3.32a2,2,0,0,1,2.83,0l1.4,1.43a1.91,1.91,0,0,1,.58,1.4,1.91,1.91,0,0,1-.58,1.4L9.25,21ZM18.45,9,17,7.55Zm-12,3A5.31,5.31,0,0,0,4.9,8.1,5.31,5.31,0,0,0,1,6.5,5.31,5.31,0,0,0,4.9,4.9,5.31,5.31,0,0,0,6.5,1,5.31,5.31,0,0,0,8.1,4.9,5.31,5.31,0,0,0,12,6.5,5.46,5.46,0,0,0,6.5,12Z\"/>\n",
              "  </svg>\n",
              "    </button>\n",
              "    <script>\n",
              "      (() => {\n",
              "      const buttonEl =\n",
              "        document.querySelector('#id_f0aa2fcf-498c-4e6c-b9a9-7f151235e52c button.colab-df-generate');\n",
              "      buttonEl.style.display =\n",
              "        google.colab.kernel.accessAllowed ? 'block' : 'none';\n",
              "\n",
              "      buttonEl.onclick = () => {\n",
              "        google.colab.notebook.generateWithVariable('all_trade_signals_df');\n",
              "      }\n",
              "      })();\n",
              "    </script>\n",
              "  </div>\n",
              "\n",
              "    </div>\n",
              "  </div>\n"
            ],
            "application/vnd.google.colaboratory.intrinsic+json": {
              "type": "dataframe",
              "variable_name": "all_trade_signals_df",
              "summary": "{\n  \"name\": \"all_trade_signals_df\",\n  \"rows\": 1154,\n  \"fields\": [\n    {\n      \"column\": \"symbol\",\n      \"properties\": {\n        \"dtype\": \"category\",\n        \"num_unique_values\": 422,\n        \"samples\": [\n          \"GODREJCP.NS\",\n          \"SAPPHIRE.NS\",\n          \"HINDZINC.NS\"\n        ],\n        \"semantic_type\": \"\",\n        \"description\": \"\"\n      }\n    },\n    {\n      \"column\": \"entry_date\",\n      \"properties\": {\n        \"dtype\": \"date\",\n        \"min\": \"2021-12-16 00:00:00\",\n        \"max\": \"2025-10-01 00:00:00\",\n        \"num_unique_values\": 522,\n        \"samples\": [\n          \"2024-02-20 00:00:00\",\n          \"2024-10-07 00:00:00\",\n          \"2023-08-02 00:00:00\"\n        ],\n        \"semantic_type\": \"\",\n        \"description\": \"\"\n      }\n    },\n    {\n      \"column\": \"entry_price\",\n      \"properties\": {\n        \"dtype\": \"number\",\n        \"std\": 9322.58676290056,\n        \"min\": 12.100000381469728,\n        \"max\": 147805.0,\n        \"num_unique_values\": 1144,\n        \"samples\": [\n          710.2911376953125,\n          3551.14990234375,\n          1656.3499755859375\n        ],\n        \"semantic_type\": \"\",\n        \"description\": \"\"\n      }\n    },\n    {\n      \"column\": \"exit_date\",\n      \"properties\": {\n        \"dtype\": \"date\",\n        \"min\": \"2022-01-14 00:00:00\",\n        \"max\": \"2025-10-01 00:00:00\",\n        \"num_unique_values\": 418,\n        \"samples\": [\n          \"2022-02-21 00:00:00\",\n          \"2023-01-03 00:00:00\",\n          \"2022-05-12 00:00:00\"\n        ],\n        \"semantic_type\": \"\",\n        \"description\": \"\"\n      }\n    },\n    {\n      \"column\": \"exit_price\",\n      \"properties\": {\n        \"dtype\": \"number\",\n        \"std\": 9226.057888973064,\n        \"min\": 11.600000381469728,\n        \"max\": 140535.0,\n        \"num_unique_values\": 1026,\n        \"samples\": [\n          765.9500122070312,\n          506.0499877929688,\n          775.5499877929688\n        ],\n        \"semantic_type\": \"\",\n        \"description\": \"\"\n      }\n    },\n    {\n      \"column\": \"reason\",\n      \"properties\": {\n        \"dtype\": \"category\",\n        \"num_unique_values\": 3,\n        \"samples\": [\n          \"SL\",\n          \"DMA_CROSS\",\n          \"END\"\n        ],\n        \"semantic_type\": \"\",\n        \"description\": \"\"\n      }\n    },\n    {\n      \"column\": \"entry_type\",\n      \"properties\": {\n        \"dtype\": \"category\",\n        \"num_unique_values\": 2,\n        \"samples\": [\n          \"50dma\",\n          \"20dma\"\n        ],\n        \"semantic_type\": \"\",\n        \"description\": \"\"\n      }\n    },\n    {\n      \"column\": \"atr\",\n      \"properties\": {\n        \"dtype\": \"number\",\n        \"std\": 199.48760809582646,\n        \"min\": 0.28083527394542396,\n        \"max\": 3390.8165381154554,\n        \"num_unique_values\": 1033,\n        \"samples\": [\n          20.749754531871556,\n          30.530429986118587\n        ],\n        \"semantic_type\": \"\",\n        \"description\": \"\"\n      }\n    },\n    {\n      \"column\": \"entry_adx\",\n      \"properties\": {\n        \"dtype\": \"number\",\n        \"std\": 5.427991432531192,\n        \"min\": 25.00722406824557,\n        \"max\": 56.370016642770636,\n        \"num_unique_values\": 1154,\n        \"samples\": [\n          25.72640590918117,\n          26.47765132053347\n        ],\n        \"semantic_type\": \"\",\n        \"description\": \"\"\n      }\n    },\n    {\n      \"column\": \"entry_dma50\",\n      \"properties\": {\n        \"dtype\": \"number\",\n        \"std\": 8907.76827532959,\n        \"min\": 11.69899995803833,\n        \"max\": 142868.3,\n        \"num_unique_values\": 1154,\n        \"samples\": [\n          142.76200073242188,\n          490.0020007324219\n        ],\n        \"semantic_type\": \"\",\n        \"description\": \"\"\n      }\n    },\n    {\n      \"column\": \"risk_percentage\",\n      \"properties\": {\n        \"dtype\": \"number\",\n        \"std\": 1.8588341303633191,\n        \"min\": 2.1487087952530746,\n        \"max\": 9.994885020486459,\n        \"num_unique_values\": 1154,\n        \"samples\": [\n          8.069498332300808,\n          9.46846319082165\n        ],\n        \"semantic_type\": \"\",\n        \"description\": \"\"\n      }\n    }\n  ]\n}"
            }
          },
          "metadata": {}
        },
        {
          "output_type": "stream",
          "name": "stdout",
          "text": [
            "Removing duplicate trade signals...\n",
            "Original number of signals: 1154\n",
            "Number of unique signals: 1154\n"
          ]
        }
      ]
    },
    {
      "cell_type": "code",
      "metadata": {
        "colab": {
          "base_uri": "https://localhost:8080/"
        },
        "id": "f37bc3c2",
        "outputId": "8adc8a99-fa5e-4c85-8c55-fcce2ac93558"
      },
      "source": [
        "average_risk_percentage = all_trade_signals_df['risk_percentage'].mean()\n",
        "print(f\"The average risk percentage in all_trade_signals_df is: {average_risk_percentage:.2f}%\")"
      ],
      "execution_count": 28,
      "outputs": [
        {
          "output_type": "stream",
          "name": "stdout",
          "text": [
            "The average risk percentage in all_trade_signals_df is: 7.43%\n"
          ]
        }
      ]
    },
    {
      "cell_type": "code",
      "source": [
        "import math\n",
        "import pandas as pd\n",
        "import numpy as np\n",
        "import yfinance as yf\n",
        "from tqdm import tqdm\n",
        "from ta.trend import ADXIndicator\n",
        "from ta.volatility import AverageTrueRange\n",
        "import warnings\n",
        "import os\n",
        "\n",
        "warnings.filterwarnings(\"ignore\")\n",
        "\n",
        "# ---------------- CONFIG ----------------\n",
        "DATA_DIR = \"/content/stock_data\" # Directory to save downloaded data\n",
        "STARTING_CAPITAL = 25_00_000.0      # INR 25,00,000\n",
        "RISK_PCT = 0.005                    # 0.5% of CURRENT total capital per entry\n",
        "YEARS = 3\n",
        "END_DATE = pd.Timestamp.today().normalize()\n",
        "START_DATE = END_DATE - pd.DateOffset(years=YEARS)\n",
        "\n",
        "ADX_PERIOD = 14\n",
        "ATR_PERIOD = 14\n",
        "DMA_FAST = 20\n",
        "DMA_SLOW = 50\n",
        "DMA_HIT_TOL = 0.005   # touch tolerance = 0.5% of DMA\n",
        "OBV_MA_PERIOD = 20 # New: period for OBV moving average\n",
        "# Ensure enough rows for all indicator calculations\n",
        "MIN_ROWS = max(DMA_SLOW, ADX_PERIOD, OBV_MA_PERIOD) + 1 # Add 1 because rolling window includes current day\n",
        "\n",
        "OUT_TRADES_CSV = \"nifty_backtest_trades.csv\"\n",
        "OUT_SUMMARY_CSV = \"nifty_backtest_summary.csv\"\n",
        "MAX_OPEN_POSITIONS = 250 # New: Maximum number of open positions\n",
        "\n",
        "\n",
        "\n",
        "\n",
        "def simulate_trades(trade_signals, starting_capital):\n",
        "    \"\"\"\n",
        "    Simulates trades chronologically based on trade signals, managing capital\n",
        "    and open positions dynamically.\n",
        "\n",
        "    Args:\n",
        "        trade_signals: A list of dictionaries, where each dictionary represents\n",
        "                       a potential trade signal with at least 'entry_date',\n",
        "                       'exit_date', 'entry_price', 'exit_price', 'symbol',\n",
        "                       'atr', 'entry_dma50'. It should also include\n",
        "                       'estimated_risk_per_share' after the filtering in backtest_symbol.\n",
        "        starting_capital: The initial capital for the simulation.\n",
        "\n",
        "    Returns:\n",
        "        A tuple containing:\n",
        "        - executed_trades: A list of dictionaries for trades that were executed.\n",
        "        - final_capital: The capital at the end of the simulation.\n",
        "        - final_open_positions_count: The number of open positions at the end.\n",
        "        - date_wise_accounts: A list of dictionaries with date and unallocated capital.\n",
        "        - largest_loss_streak_start_date: The start date of the largest loss streak.\n",
        "        - largest_loss_streak_end_date: The end date of the largest loss streak.\n",
        "    \"\"\"\n",
        "    max_positions = 0\n",
        "    max_capital = starting_capital\n",
        "    current_capital = starting_capital\n",
        "    unallocated_capital = starting_capital\n",
        "    executed_trades = []\n",
        "    open_positions = [] # To store details of currently open trades {symbol, entry_date, entry_price, size, exit_date, exit_price, reason, entry_type}\n",
        "    open_positions_count = 0\n",
        "    date_wise_accounts = [] # New: To store date and unallocated capital\n",
        "\n",
        "\n",
        "\n",
        "    # Sort trade signals by entry date\n",
        "    trade_signals.sort(key=lambda x: x['entry_date'])\n",
        "\n",
        "    # Get all unique dates involved in trade signals\n",
        "    all_dates = sorted(list(set([t['entry_date'] for t in trade_signals] + [t['exit_date'] for t in trade_signals])))\n",
        "\n",
        "    # Iterate through dates chronologically\n",
        "    for current_date in all_dates:\n",
        "        # Process exits for the current date\n",
        "        exited_today_indices = [i for i, p in enumerate(open_positions) if p['exit_date'] == current_date]\n",
        "\n",
        "        # Process exits from latest to earliest index to avoid index issues after removal\n",
        "        for i in sorted(exited_today_indices, reverse=True):\n",
        "            exited_pos = open_positions.pop(i) # Remove the position from open_positions\n",
        "            pnl = (exited_pos['exit_price'] - exited_pos['entry_price']) * exited_pos['size']\n",
        "            current_capital += pnl\n",
        "            unallocated_capital += (exited_pos['entry_price'] * exited_pos['size']) + pnl\n",
        "            executed_trades.append({\n",
        "                'symbol': exited_pos['symbol'],\n",
        "                'entry_date': exited_pos['entry_date'],\n",
        "                'entry_price': exited_pos['entry_price'],\n",
        "                'exit_date': exited_pos['exit_date'],\n",
        "                'exit_price': exited_pos['exit_price'],\n",
        "                'size': exited_pos['size'],\n",
        "                'pnl': pnl,\n",
        "                'reason': exited_pos['reason'],\n",
        "                'entry_type': exited_pos['entry_type']\n",
        "            })\n",
        "            open_positions_count -= 1\n",
        "\n",
        "\n",
        "        max_capital = max(max_capital, unallocated_capital)\n",
        "        max_positions = max(max_positions, open_positions_count)\n",
        "        # Process entries for the current date\n",
        "        entries_today = [t for t in trade_signals if t['entry_date'] == current_date]\n",
        "\n",
        "        for entry_signal in entries_today:\n",
        "            # Check if we can open a new position and if there is enough unallocated capital\n",
        "            # Need entry price to calculate risk per share\n",
        "            entry_price = entry_signal['entry_price']\n",
        "            base_size = math.floor(0.01*max_capital/entry_price)\n",
        "            size = base_size * (average_risk_percentage / entry_signal['risk_percentage'])\n",
        "\n",
        "            # Calculate cost of the potential trade\n",
        "            trade_cost = size * entry_price\n",
        "\n",
        "\n",
        "            if unallocated_capital >= trade_cost and size > 0 and open_positions_count < MAX_OPEN_POSITIONS: # Ensure size > 0, enough capital, and max positions not reached\n",
        "                 # Deduct trade cost from unallocated capital at entry\n",
        "                unallocated_capital -= trade_cost\n",
        "                open_positions.append({\n",
        "                    'symbol': entry_signal['symbol'],\n",
        "                    'entry_date': entry_signal['entry_date'],\n",
        "                    'entry_price': entry_price,\n",
        "                    'size': size,\n",
        "                    'exit_date': entry_signal['exit_date'], # Store planned exit date/price\n",
        "                    'exit_price': entry_signal['exit_price'], # Store planned exit price (SL or END)\n",
        "                    'reason': entry_signal['reason'],\n",
        "                    'entry_type': entry_signal['entry_type']\n",
        "                })\n",
        "                open_positions_count += 1\n",
        "                # Note: Total capital is not changed at entry, only unallocated capital\n",
        "\n",
        "        # Calculate total portfolio value for the current date\n",
        "        total_portfolio_value = unallocated_capital\n",
        "        # To get the current market value of open positions, we would need the closing price\n",
        "        # for each symbol on the current_date. This function doesn't have access\n",
        "        # to the full historical dataframes. A simplified approach is to use the\n",
        "        # entry price as a proxy for the current price.\n",
        "        for pos in open_positions:\n",
        "            total_portfolio_value += pos['entry_price'] * pos['size'] # Simplified - using entry price\n",
        "\n",
        "\n",
        "        # Record total portfolio value at the end of the day\n",
        "        date_wise_accounts.append({\n",
        "            'date': current_date,\n",
        "            'total_portfolio_value': total_portfolio_value,\n",
        "            'unallocated_capital': unallocated_capital # Keep unallocated capital as well\n",
        "        })\n",
        "\n",
        "    # Handle any remaining open positions at the very end of the simulation period\n",
        "    if open_positions:\n",
        "        # Need the last closing price for symbols still open.\n",
        "        # This function doesn't have access to historical data frames directly.\n",
        "        # This is a limitation of simulating solely based on the trade signal list.\n",
        "        # For a real backtest, the last price of the data for each symbol\n",
        "        # would be needed here. As a simplification, we'll assume the exit_price\n",
        "        # in the signal (which for 'END' reason is the last price) is the closing price.\n",
        "\n",
        "        for remaining_pos in open_positions:\n",
        "             # Use the stored exit_price (which should be the last close for 'END' signals)\n",
        "            last_price = remaining_pos['exit_price'] # Simplified\n",
        "\n",
        "            pnl = (last_price - remaining_pos['entry_price']) * remaining_pos['size']\n",
        "            current_capital += pnl\n",
        "            unallocated_capital += (remaining_pos['entry_price'] * remaining_pos['size']) + pnl # Add back initial capital + PnL\n",
        "            executed_trades.append({\n",
        "                'symbol': remaining_pos['symbol'],\n",
        "                'entry_date': remaining_pos['entry_date'],\n",
        "                'entry_price': remaining_pos['entry_price'],\n",
        "                'exit_date': remaining_pos['exit_date'], # This will be the original end date\n",
        "                'exit_price': last_price,\n",
        "                'size': remaining_pos['size'],\n",
        "                'pnl': pnl,\n",
        "                'reason': remaining_pos['reason'],\n",
        "                'entry_type': remaining_pos['entry_type']\n",
        "            })\n",
        "        open_positions_count = 0 # All positions are now closed in simulation\n",
        "\n",
        "    # Check for duplicate entries in the 'executed_trades' list\n",
        "    seen = set()\n",
        "    duplicates = []\n",
        "    for trade in executed_trades:\n",
        "        # Create a tuple of the trade's key attributes to check for duplicates\n",
        "        trade_key = (trade['symbol'], trade['entry_date'], trade['entry_price'], trade['exit_date'], trade['exit_price'], trade['reason'], trade['entry_type'])\n",
        "        if trade_key in seen:\n",
        "            duplicates.append(trade)\n",
        "        else:\n",
        "            seen.add(trade_key)\n",
        "\n",
        "    if duplicates:\n",
        "        print(\"Duplicate executed trades found:\")\n",
        "        for dup in duplicates:\n",
        "            print(dup)\n",
        "\n",
        "    # Calculate largest loss streak and its dates\n",
        "    current_loss_streak = 0\n",
        "    largest_loss_streak = 0\n",
        "    current_loss_streak_start_date = None\n",
        "    largest_loss_streak_start_date = None\n",
        "    largest_loss_streak_end_date = None\n",
        "\n",
        "    # Sort executed_trades by exit date to correctly calculate streaks\n",
        "    executed_trades.sort(key=lambda x: x['exit_date'])\n",
        "\n",
        "    for trade in executed_trades:\n",
        "        if trade['pnl'] <= 0:\n",
        "            if current_loss_streak == 0: # Start of a new loss streak\n",
        "                current_loss_streak_start_date = trade['exit_date']\n",
        "            current_loss_streak += 1\n",
        "        else:\n",
        "            if current_loss_streak > largest_loss_streak:\n",
        "                largest_loss_streak = current_loss_streak\n",
        "                largest_loss_streak_start_date = current_loss_streak_start_date\n",
        "                largest_loss_streak_end_date = trade['exit_date'] # The winning trade's exit date is the end of the loss streak\n",
        "            current_loss_streak = 0\n",
        "            current_loss_streak_start_date = None\n",
        "\n",
        "    # Check if the largest loss streak is at the very end of the trades\n",
        "    if current_loss_streak > largest_loss_streak:\n",
        "        largest_loss_streak = current_loss_streak\n",
        "        largest_loss_streak_start_date = current_loss_streak_start_date\n",
        "        if executed_trades:\n",
        "            largest_loss_streak_end_date = executed_trades[-1]['exit_date']\n",
        "\n",
        "    # Ensure the last date's unallocated capital is recorded if it wasn't already by an exit\n",
        "    # This part might need adjustment depending on whether the last date in all_dates\n",
        "    # corresponds to an exit or just the end of the simulation period.\n",
        "    # Let's ensure the last date in all_dates is captured if it's not already the exit date of the last trade.\n",
        "    if all_dates:\n",
        "        last_simulation_date = all_dates[-1]\n",
        "        if not date_wise_accounts or date_wise_accounts[-1]['date'] < last_simulation_date:\n",
        "             # Calculate total portfolio value for the absolute last date\n",
        "             total_portfolio_value = unallocated_capital\n",
        "             # Need last closing prices for remaining open positions\n",
        "             # This requires loading data, which this function doesn't do directly.\n",
        "             # Using entry price as a proxy again, or ideally, loading last prices.\n",
        "             for pos in open_positions:\n",
        "                 total_portfolio_value += pos['entry_price'] * pos['size'] # Simplified\n",
        "\n",
        "             date_wise_accounts.append({\n",
        "                'date': last_simulation_date,\n",
        "                'total_portfolio_value': total_portfolio_value,\n",
        "                'unallocated_capital': unallocated_capital\n",
        "             })\n",
        "\n",
        "\n",
        "    print(\"Max positions - \", max_positions)\n",
        "    # Check if largest_loss_streak_start_date and largest_loss_streak_end_date are not None before accessing strftime\n",
        "    if largest_loss_streak_start_date is not None and largest_loss_streak_end_date is not None:\n",
        "        print(f\"Largest loss streak - {largest_loss_streak} (from {largest_loss_streak_start_date.strftime('%Y-%m-%d')} to {largest_loss_streak_end_date.strftime('%Y-%m-%d')})\")\n",
        "    else:\n",
        "        print(f\"Largest loss streak - {largest_loss_streak} (No dates available)\")\n",
        "\n",
        "    print(\"The simulate_trades function is compatible with the structure of the executed_trades DataFrame.\")\n",
        "\n",
        "    return executed_trades, current_capital, open_positions_count, date_wise_accounts"
      ],
      "metadata": {
        "id": "_xOsiEkAXksQ"
      },
      "execution_count": 29,
      "outputs": []
    },
    {
      "cell_type": "code",
      "source": [
        "executed_trades, final_capital, final_open_positions_count, date_wise_accounts = simulate_trades(unique_trade_signals, STARTING_CAPITAL)\n",
        "\n",
        "# Create DataFrame from executed trades\n",
        "trades_df = pd.DataFrame(executed_trades)\n",
        "\n",
        "# Create DataFrame for date-wise accounts\n",
        "accounts_df = pd.DataFrame(date_wise_accounts)\n",
        "# Ensure 'date' is a datetime object and set as index\n",
        "accounts_df['date'] = pd.to_datetime(accounts_df['date'])\n",
        "accounts_df = accounts_df.set_index('date').sort_index()\n",
        "\n",
        "# Calculate daily portfolio value changes (including unallocated capital)\n",
        "# This is a simplified approach, a true portfolio value would include open positions' market value.\n",
        "# For this backtest, we use unallocated capital as a proxy for strategy equity growth.\n",
        "accounts_df['daily_return'] = accounts_df['total_portfolio_value'].pct_change().fillna(0)\n",
        "\n",
        "# Calculate Sharpe Ratio (assuming risk-free rate is 0 for simplicity)\n",
        "# Annualization factor based on the number of trading days in the backtest\n",
        "trading_days = len(accounts_df)\n",
        "# Estimate years in backtest to get average trading days per year\n",
        "if not accounts_df.empty:\n",
        "    time_span_years = (accounts_df.index[-1] - accounts_df.index[0]).days / 365.25\n",
        "    annualization_factor = trading_days / time_span_years if time_span_years > 0 else 252 # Fallback to 252 if time span is zero\n",
        "else:\n",
        "    annualization_factor = 252 # Fallback to 252 if accounts_df is empty\n",
        "\n",
        "\n",
        "if not accounts_df.empty and accounts_df['daily_return'].std() != 0 and annualization_factor > 0:\n",
        "    sharpe_ratio = accounts_df['daily_return'].mean() / accounts_df['daily_return'].std() * math.sqrt(annualization_factor)\n",
        "else:\n",
        "    sharpe_ratio = 0.0\n",
        "\n",
        "\n",
        "# Calculate summary statistics from executed trades\n",
        "total_trades_overall = trades_df.shape[0] if not trades_df.empty else 0\n",
        "wins_overall = trades_df[trades_df['pnl'] > 0].shape[0] if not trades_df.empty else 0\n",
        "losses_overall = trades_df[trades_df['pnl'] <= 0].shape[0] if not trades_df.empty else 0\n",
        "winrate_overall = (wins_overall / total_trades_overall * 100) if total_trades_overall else 0.0\n",
        "total_pnl_overall = trades_df['pnl'].sum() if not trades_df.empty else 0.0\n",
        "\n",
        "\n",
        "overall_summary = {\n",
        "    'start_capital': STARTING_CAPITAL,\n",
        "    'end_capital': final_capital,\n",
        "    'total_pnl': total_pnl_overall,\n",
        "    'trades': total_trades_overall,\n",
        "    'wins': wins_overall,\n",
        "    'losses': losses_overall,\n",
        "    'winrate': winrate_overall,\n",
        "    'sharpe_ratio': sharpe_ratio # Add Sharpe Ratio to summary\n",
        "}\n",
        "summary_df = pd.DataFrame([overall_summary])\n",
        "\n",
        "\n",
        "# save outputs\n",
        "trades_df.to_csv(OUT_TRADES_CSV, index=False)\n",
        "summary_df.to_csv(OUT_SUMMARY_CSV, index=False)\n",
        "accounts_df.to_csv(\"date_wise_accounts.csv\", index=True) # Save with date index\n",
        "\n",
        "\n",
        "print(\"Backtest complete.\")\n",
        "print(\"Saved:\", OUT_TRADES_CSV, OUT_SUMMARY_CSV, \"date_wise_accounts.csv\")\n",
        "\n",
        "# show overall backtest summary\n",
        "if not summary_df.empty:\n",
        "    print(\"\\nOverall Backtest Summary:\")\n",
        "    display(summary_df)\n",
        "else:\n",
        "    print(\"No successful trades to summarize.\")"
      ],
      "metadata": {
        "colab": {
          "base_uri": "https://localhost:8080/",
          "height": 230
        },
        "id": "6Q8oZ6ffXrHY",
        "outputId": "3057a17e-858a-4a76-e895-ea5fed3167f9"
      },
      "execution_count": 30,
      "outputs": [
        {
          "output_type": "stream",
          "name": "stdout",
          "text": [
            "Max positions -  100\n",
            "Largest loss streak - 29 (from 2025-07-22 to 2025-07-28)\n",
            "The simulate_trades function is compatible with the structure of the executed_trades DataFrame.\n",
            "Backtest complete.\n",
            "Saved: nifty_backtest_trades.csv nifty_backtest_summary.csv date_wise_accounts.csv\n",
            "\n",
            "Overall Backtest Summary:\n"
          ]
        },
        {
          "output_type": "display_data",
          "data": {
            "text/plain": [
              "   start_capital   end_capital      total_pnl  trades  wins  losses  \\\n",
              "0      2500000.0  3.212421e+06  712421.372978    1048   361     687   \n",
              "\n",
              "     winrate  sharpe_ratio  \n",
              "0  34.446565      1.666126  "
            ],
            "text/html": [
              "\n",
              "  <div id=\"df-5aa98a65-9a74-4c68-9520-6fee5fb67b90\" class=\"colab-df-container\">\n",
              "    <div>\n",
              "<style scoped>\n",
              "    .dataframe tbody tr th:only-of-type {\n",
              "        vertical-align: middle;\n",
              "    }\n",
              "\n",
              "    .dataframe tbody tr th {\n",
              "        vertical-align: top;\n",
              "    }\n",
              "\n",
              "    .dataframe thead th {\n",
              "        text-align: right;\n",
              "    }\n",
              "</style>\n",
              "<table border=\"1\" class=\"dataframe\">\n",
              "  <thead>\n",
              "    <tr style=\"text-align: right;\">\n",
              "      <th></th>\n",
              "      <th>start_capital</th>\n",
              "      <th>end_capital</th>\n",
              "      <th>total_pnl</th>\n",
              "      <th>trades</th>\n",
              "      <th>wins</th>\n",
              "      <th>losses</th>\n",
              "      <th>winrate</th>\n",
              "      <th>sharpe_ratio</th>\n",
              "    </tr>\n",
              "  </thead>\n",
              "  <tbody>\n",
              "    <tr>\n",
              "      <th>0</th>\n",
              "      <td>2500000.0</td>\n",
              "      <td>3.212421e+06</td>\n",
              "      <td>712421.372978</td>\n",
              "      <td>1048</td>\n",
              "      <td>361</td>\n",
              "      <td>687</td>\n",
              "      <td>34.446565</td>\n",
              "      <td>1.666126</td>\n",
              "    </tr>\n",
              "  </tbody>\n",
              "</table>\n",
              "</div>\n",
              "    <div class=\"colab-df-buttons\">\n",
              "\n",
              "  <div class=\"colab-df-container\">\n",
              "    <button class=\"colab-df-convert\" onclick=\"convertToInteractive('df-5aa98a65-9a74-4c68-9520-6fee5fb67b90')\"\n",
              "            title=\"Convert this dataframe to an interactive table.\"\n",
              "            style=\"display:none;\">\n",
              "\n",
              "  <svg xmlns=\"http://www.w3.org/2000/svg\" height=\"24px\" viewBox=\"0 -960 960 960\">\n",
              "    <path d=\"M120-120v-720h720v720H120Zm60-500h600v-160H180v160Zm220 220h160v-160H400v160Zm0 220h160v-160H400v160ZM180-400h160v-160H180v160Zm440 0h160v-160H620v160ZM180-180h160v-160H180v160Zm440 0h160v-160H620v160Z\"/>\n",
              "  </svg>\n",
              "    </button>\n",
              "\n",
              "  <style>\n",
              "    .colab-df-container {\n",
              "      display:flex;\n",
              "      gap: 12px;\n",
              "    }\n",
              "\n",
              "    .colab-df-convert {\n",
              "      background-color: #E8F0FE;\n",
              "      border: none;\n",
              "      border-radius: 50%;\n",
              "      cursor: pointer;\n",
              "      display: none;\n",
              "      fill: #1967D2;\n",
              "      height: 32px;\n",
              "      padding: 0 0 0 0;\n",
              "      width: 32px;\n",
              "    }\n",
              "\n",
              "    .colab-df-convert:hover {\n",
              "      background-color: #E2EBFA;\n",
              "      box-shadow: 0px 1px 2px rgba(60, 64, 67, 0.3), 0px 1px 3px 1px rgba(60, 64, 67, 0.15);\n",
              "      fill: #174EA6;\n",
              "    }\n",
              "\n",
              "    .colab-df-buttons div {\n",
              "      margin-bottom: 4px;\n",
              "    }\n",
              "\n",
              "    [theme=dark] .colab-df-convert {\n",
              "      background-color: #3B4455;\n",
              "      fill: #D2E3FC;\n",
              "    }\n",
              "\n",
              "    [theme=dark] .colab-df-convert:hover {\n",
              "      background-color: #434B5C;\n",
              "      box-shadow: 0px 1px 3px 1px rgba(0, 0, 0, 0.15);\n",
              "      filter: drop-shadow(0px 1px 2px rgba(0, 0, 0, 0.3));\n",
              "      fill: #FFFFFF;\n",
              "    }\n",
              "  </style>\n",
              "\n",
              "    <script>\n",
              "      const buttonEl =\n",
              "        document.querySelector('#df-5aa98a65-9a74-4c68-9520-6fee5fb67b90 button.colab-df-convert');\n",
              "      buttonEl.style.display =\n",
              "        google.colab.kernel.accessAllowed ? 'block' : 'none';\n",
              "\n",
              "      async function convertToInteractive(key) {\n",
              "        const element = document.querySelector('#df-5aa98a65-9a74-4c68-9520-6fee5fb67b90');\n",
              "        const dataTable =\n",
              "          await google.colab.kernel.invokeFunction('convertToInteractive',\n",
              "                                                    [key], {});\n",
              "        if (!dataTable) return;\n",
              "\n",
              "        const docLinkHtml = 'Like what you see? Visit the ' +\n",
              "          '<a target=\"_blank\" href=https://colab.research.google.com/notebooks/data_table.ipynb>data table notebook</a>'\n",
              "          + ' to learn more about interactive tables.';\n",
              "        element.innerHTML = '';\n",
              "        dataTable['output_type'] = 'display_data';\n",
              "        await google.colab.output.renderOutput(dataTable, element);\n",
              "        const docLink = document.createElement('div');\n",
              "        docLink.innerHTML = docLinkHtml;\n",
              "        element.appendChild(docLink);\n",
              "      }\n",
              "    </script>\n",
              "  </div>\n",
              "\n",
              "\n",
              "  <div id=\"id_9ad4cc7f-69a1-4404-bc51-e5204941a4d9\">\n",
              "    <style>\n",
              "      .colab-df-generate {\n",
              "        background-color: #E8F0FE;\n",
              "        border: none;\n",
              "        border-radius: 50%;\n",
              "        cursor: pointer;\n",
              "        display: none;\n",
              "        fill: #1967D2;\n",
              "        height: 32px;\n",
              "        padding: 0 0 0 0;\n",
              "        width: 32px;\n",
              "      }\n",
              "\n",
              "      .colab-df-generate:hover {\n",
              "        background-color: #E2EBFA;\n",
              "        box-shadow: 0px 1px 2px rgba(60, 64, 67, 0.3), 0px 1px 3px 1px rgba(60, 64, 67, 0.15);\n",
              "        fill: #174EA6;\n",
              "      }\n",
              "\n",
              "      [theme=dark] .colab-df-generate {\n",
              "        background-color: #3B4455;\n",
              "        fill: #D2E3FC;\n",
              "      }\n",
              "\n",
              "      [theme=dark] .colab-df-generate:hover {\n",
              "        background-color: #434B5C;\n",
              "        box-shadow: 0px 1px 3px 1px rgba(0, 0, 0, 0.15);\n",
              "        filter: drop-shadow(0px 1px 2px rgba(0, 0, 0, 0.3));\n",
              "        fill: #FFFFFF;\n",
              "      }\n",
              "    </style>\n",
              "    <button class=\"colab-df-generate\" onclick=\"generateWithVariable('summary_df')\"\n",
              "            title=\"Generate code using this dataframe.\"\n",
              "            style=\"display:none;\">\n",
              "\n",
              "  <svg xmlns=\"http://www.w3.org/2000/svg\" height=\"24px\"viewBox=\"0 0 24 24\"\n",
              "       width=\"24px\">\n",
              "    <path d=\"M7,19H8.4L18.45,9,17,7.55,7,17.6ZM5,21V16.75L18.45,3.32a2,2,0,0,1,2.83,0l1.4,1.43a1.91,1.91,0,0,1,.58,1.4,1.91,1.91,0,0,1-.58,1.4L9.25,21ZM18.45,9,17,7.55Zm-12,3A5.31,5.31,0,0,0,4.9,8.1,5.31,5.31,0,0,0,1,6.5,5.31,5.31,0,0,0,4.9,4.9,5.31,5.31,0,0,0,6.5,1,5.31,5.31,0,0,0,8.1,4.9,5.31,5.31,0,0,0,12,6.5,5.46,5.46,0,0,0,6.5,12Z\"/>\n",
              "  </svg>\n",
              "    </button>\n",
              "    <script>\n",
              "      (() => {\n",
              "      const buttonEl =\n",
              "        document.querySelector('#id_9ad4cc7f-69a1-4404-bc51-e5204941a4d9 button.colab-df-generate');\n",
              "      buttonEl.style.display =\n",
              "        google.colab.kernel.accessAllowed ? 'block' : 'none';\n",
              "\n",
              "      buttonEl.onclick = () => {\n",
              "        google.colab.notebook.generateWithVariable('summary_df');\n",
              "      }\n",
              "      })();\n",
              "    </script>\n",
              "  </div>\n",
              "\n",
              "    </div>\n",
              "  </div>\n"
            ],
            "application/vnd.google.colaboratory.intrinsic+json": {
              "type": "dataframe",
              "variable_name": "summary_df",
              "summary": "{\n  \"name\": \"summary_df\",\n  \"rows\": 1,\n  \"fields\": [\n    {\n      \"column\": \"start_capital\",\n      \"properties\": {\n        \"dtype\": \"number\",\n        \"std\": null,\n        \"min\": 2500000.0,\n        \"max\": 2500000.0,\n        \"num_unique_values\": 1,\n        \"samples\": [\n          2500000.0\n        ],\n        \"semantic_type\": \"\",\n        \"description\": \"\"\n      }\n    },\n    {\n      \"column\": \"end_capital\",\n      \"properties\": {\n        \"dtype\": \"number\",\n        \"std\": null,\n        \"min\": 3212421.3729776335,\n        \"max\": 3212421.3729776335,\n        \"num_unique_values\": 1,\n        \"samples\": [\n          3212421.3729776335\n        ],\n        \"semantic_type\": \"\",\n        \"description\": \"\"\n      }\n    },\n    {\n      \"column\": \"total_pnl\",\n      \"properties\": {\n        \"dtype\": \"number\",\n        \"std\": null,\n        \"min\": 712421.3729776295,\n        \"max\": 712421.3729776295,\n        \"num_unique_values\": 1,\n        \"samples\": [\n          712421.3729776295\n        ],\n        \"semantic_type\": \"\",\n        \"description\": \"\"\n      }\n    },\n    {\n      \"column\": \"trades\",\n      \"properties\": {\n        \"dtype\": \"number\",\n        \"std\": null,\n        \"min\": 1048,\n        \"max\": 1048,\n        \"num_unique_values\": 1,\n        \"samples\": [\n          1048\n        ],\n        \"semantic_type\": \"\",\n        \"description\": \"\"\n      }\n    },\n    {\n      \"column\": \"wins\",\n      \"properties\": {\n        \"dtype\": \"number\",\n        \"std\": null,\n        \"min\": 361,\n        \"max\": 361,\n        \"num_unique_values\": 1,\n        \"samples\": [\n          361\n        ],\n        \"semantic_type\": \"\",\n        \"description\": \"\"\n      }\n    },\n    {\n      \"column\": \"losses\",\n      \"properties\": {\n        \"dtype\": \"number\",\n        \"std\": null,\n        \"min\": 687,\n        \"max\": 687,\n        \"num_unique_values\": 1,\n        \"samples\": [\n          687\n        ],\n        \"semantic_type\": \"\",\n        \"description\": \"\"\n      }\n    },\n    {\n      \"column\": \"winrate\",\n      \"properties\": {\n        \"dtype\": \"number\",\n        \"std\": null,\n        \"min\": 34.44656488549619,\n        \"max\": 34.44656488549619,\n        \"num_unique_values\": 1,\n        \"samples\": [\n          34.44656488549619\n        ],\n        \"semantic_type\": \"\",\n        \"description\": \"\"\n      }\n    },\n    {\n      \"column\": \"sharpe_ratio\",\n      \"properties\": {\n        \"dtype\": \"number\",\n        \"std\": null,\n        \"min\": 1.6661263931345442,\n        \"max\": 1.6661263931345442,\n        \"num_unique_values\": 1,\n        \"samples\": [\n          1.6661263931345442\n        ],\n        \"semantic_type\": \"\",\n        \"description\": \"\"\n      }\n    }\n  ]\n}"
            }
          },
          "metadata": {}
        }
      ]
    },
    {
      "cell_type": "code",
      "metadata": {
        "id": "3d4d2e88"
      },
      "source": [
        "def generate_ma_crossover_signals(df, dma_fast_period, dma_slow_period):\n",
        "    \"\"\"\n",
        "    Generates buy and sell signals based on MA crossover.\n",
        "\n",
        "    Args:\n",
        "        df: DataFrame with historical price data (must contain 'Close').\n",
        "        dma_fast_period: Period for the fast moving average.\n",
        "        dma_slow_period: Period for the slow moving average.\n",
        "\n",
        "    Returns:\n",
        "        A list of dictionaries, each representing a potential trade signal.\n",
        "    \"\"\"\n",
        "    df = df.copy()\n",
        "    df['dma_fast'] = df['Close'].rolling(window=dma_fast_period).mean()\n",
        "    df['dma_slow'] = df['Close'].rolling(window=dma_slow_period).mean()\n",
        "\n",
        "    signals = []\n",
        "    open_position = None # To track if there's an open long position\n",
        "\n",
        "    # Start iteration from when both MAs have valid values\n",
        "    start_idx = max(dma_fast_period, dma_slow_period)\n",
        "\n",
        "    for i in range(start_idx, len(df)):\n",
        "        current_date = df.index[i]\n",
        "        current_price = df['Close'].iloc[i]\n",
        "        current_dma_fast = df['dma_fast'].iloc[i]\n",
        "        current_dma_slow = df['dma_slow'].iloc[i]\n",
        "\n",
        "        prev_dma_fast = df['dma_fast'].iloc[i-1]\n",
        "        prev_dma_slow = df['dma_slow'].iloc[i-1]\n",
        "\n",
        "        # Ensure current and previous MA values are not NaN\n",
        "        if pd.isna(current_dma_fast) or pd.isna(current_dma_slow) or pd.isna(prev_dma_fast) or pd.isna(prev_dma_slow):\n",
        "            continue\n",
        "\n",
        "        # Buy signal: Fast MA crosses above Slow MA and no open position\n",
        "        if prev_dma_fast < prev_dma_slow and current_dma_fast >= current_dma_slow and open_position is None:\n",
        "            open_position = {\n",
        "                'entry_date': current_date,\n",
        "                'entry_price': current_price,\n",
        "                'symbol': df.attrs.get('symbol', 'UNKNOWN'), # Get symbol if available\n",
        "                'entry_type': 'ma_crossover_buy'\n",
        "            }\n",
        "\n",
        "        # Sell signal: Fast MA crosses below Slow MA and there is an open position\n",
        "        elif prev_dma_fast > prev_dma_slow and current_dma_fast <= current_dma_slow and open_position is not None:\n",
        "            signals.append({\n",
        "                'symbol': open_position['symbol'],\n",
        "                'entry_date': open_position['entry_date'],\n",
        "                'entry_price': open_position['entry_price'],\n",
        "                'exit_date': current_date,\n",
        "                'exit_price': current_price,\n",
        "                'reason': 'MA_CROSSOVER',\n",
        "                'entry_type': open_position['entry_type']\n",
        "            })\n",
        "            open_position = None # Close the position\n",
        "\n",
        "    # If there is an open position at the end, close it at the last price\n",
        "    if open_position is not None:\n",
        "        signals.append({\n",
        "            'symbol': open_position['symbol'],\n",
        "            'entry_date': open_position['entry_date'],\n",
        "            'entry_price': open_position['entry_price'],\n",
        "            'exit_date': df.index[-1],\n",
        "            'exit_price': df['Close'].iloc[-1],\n",
        "            'reason': 'END_SIMULATION',\n",
        "            'entry_type': open_position['entry_type']\n",
        "        })\n",
        "\n",
        "    return signals"
      ],
      "execution_count": 32,
      "outputs": []
    },
    {
      "cell_type": "code",
      "metadata": {
        "colab": {
          "base_uri": "https://localhost:8080/",
          "height": 652
        },
        "id": "006781fd",
        "outputId": "1bd07b3f-3997-455a-8837-e770cdc821fc"
      },
      "source": [
        "control_trade_signals = []\n",
        "\n",
        "print(\"Collecting control trade signals using saved data...\")\n",
        "for sym in tqdm(downloaded_symbols_list, desc=\"Collecting Control Signals\"):\n",
        "    df = load_price_data(sym)\n",
        "    if df is None or df.shape[0] < MIN_ROWS:\n",
        "        # print(f\"Skipping {sym} due to insufficient data after loading.\") # Already printed during download\n",
        "        continue\n",
        "\n",
        "    try:\n",
        "        df.attrs['symbol'] = sym # Ensure symbol attribute is set for the function\n",
        "        # Call generate_ma_crossover_signals to get potential trade signals for the control group\n",
        "        ma_crossover_signals = generate_ma_crossover_signals(df, DMA_FAST, DMA_SLOW)\n",
        "\n",
        "        # Append signals from this symbol\n",
        "        for t in ma_crossover_signals:\n",
        "            control_trade_signals.append(t)\n",
        "\n",
        "    except Exception as e:\n",
        "        print(f\"An unexpected error occurred for symbol {sym} during control signal generation: {e}\")\n",
        "        continue\n",
        "\n",
        "control_trade_signals_df = pd.DataFrame(control_trade_signals)\n",
        "\n",
        "# Display the DataFrame\n",
        "display(control_trade_signals_df)"
      ],
      "execution_count": 33,
      "outputs": [
        {
          "output_type": "stream",
          "name": "stdout",
          "text": [
            "Collecting control trade signals using saved data...\n"
          ]
        },
        {
          "output_type": "stream",
          "name": "stderr",
          "text": [
            "Collecting Control Signals: 100%|██████████| 471/471 [00:25<00:00, 18.48it/s]\n"
          ]
        },
        {
          "output_type": "display_data",
          "data": {
            "text/plain": [
              "            symbol entry_date   entry_price  exit_date    exit_price  \\\n",
              "0       3MINDIA.NS 2022-01-25  24995.349609 2022-01-31  24989.900391   \n",
              "1       3MINDIA.NS 2022-04-28  20016.949219 2022-05-10  18106.349609   \n",
              "2       3MINDIA.NS 2022-06-17  19644.699219 2022-11-04  22871.949219   \n",
              "3       3MINDIA.NS 2023-02-08  23117.800781 2023-04-19  22777.449219   \n",
              "4       3MINDIA.NS 2023-04-26  22425.699219 2023-10-25  29307.099609   \n",
              "...            ...        ...           ...        ...           ...   \n",
              "4832  ZYDUSWELL.NS 2023-12-13    306.089996 2024-02-13    313.929993   \n",
              "4833  ZYDUSWELL.NS 2024-04-24    330.299988 2024-09-17    433.989990   \n",
              "4834  ZYDUSWELL.NS 2024-12-02    411.309998 2025-01-09    390.410004   \n",
              "4835  ZYDUSWELL.NS 2025-04-16    353.079987 2025-08-20    398.399994   \n",
              "4836  ZYDUSWELL.NS 2025-09-04    484.760010 2025-10-01    459.850006   \n",
              "\n",
              "              reason        entry_type  \n",
              "0       MA_CROSSOVER  ma_crossover_buy  \n",
              "1       MA_CROSSOVER  ma_crossover_buy  \n",
              "2       MA_CROSSOVER  ma_crossover_buy  \n",
              "3       MA_CROSSOVER  ma_crossover_buy  \n",
              "4       MA_CROSSOVER  ma_crossover_buy  \n",
              "...              ...               ...  \n",
              "4832    MA_CROSSOVER  ma_crossover_buy  \n",
              "4833    MA_CROSSOVER  ma_crossover_buy  \n",
              "4834    MA_CROSSOVER  ma_crossover_buy  \n",
              "4835    MA_CROSSOVER  ma_crossover_buy  \n",
              "4836  END_SIMULATION  ma_crossover_buy  \n",
              "\n",
              "[4837 rows x 7 columns]"
            ],
            "text/html": [
              "\n",
              "  <div id=\"df-312725fb-93fb-4198-b5ca-c51023d4a919\" class=\"colab-df-container\">\n",
              "    <div>\n",
              "<style scoped>\n",
              "    .dataframe tbody tr th:only-of-type {\n",
              "        vertical-align: middle;\n",
              "    }\n",
              "\n",
              "    .dataframe tbody tr th {\n",
              "        vertical-align: top;\n",
              "    }\n",
              "\n",
              "    .dataframe thead th {\n",
              "        text-align: right;\n",
              "    }\n",
              "</style>\n",
              "<table border=\"1\" class=\"dataframe\">\n",
              "  <thead>\n",
              "    <tr style=\"text-align: right;\">\n",
              "      <th></th>\n",
              "      <th>symbol</th>\n",
              "      <th>entry_date</th>\n",
              "      <th>entry_price</th>\n",
              "      <th>exit_date</th>\n",
              "      <th>exit_price</th>\n",
              "      <th>reason</th>\n",
              "      <th>entry_type</th>\n",
              "    </tr>\n",
              "  </thead>\n",
              "  <tbody>\n",
              "    <tr>\n",
              "      <th>0</th>\n",
              "      <td>3MINDIA.NS</td>\n",
              "      <td>2022-01-25</td>\n",
              "      <td>24995.349609</td>\n",
              "      <td>2022-01-31</td>\n",
              "      <td>24989.900391</td>\n",
              "      <td>MA_CROSSOVER</td>\n",
              "      <td>ma_crossover_buy</td>\n",
              "    </tr>\n",
              "    <tr>\n",
              "      <th>1</th>\n",
              "      <td>3MINDIA.NS</td>\n",
              "      <td>2022-04-28</td>\n",
              "      <td>20016.949219</td>\n",
              "      <td>2022-05-10</td>\n",
              "      <td>18106.349609</td>\n",
              "      <td>MA_CROSSOVER</td>\n",
              "      <td>ma_crossover_buy</td>\n",
              "    </tr>\n",
              "    <tr>\n",
              "      <th>2</th>\n",
              "      <td>3MINDIA.NS</td>\n",
              "      <td>2022-06-17</td>\n",
              "      <td>19644.699219</td>\n",
              "      <td>2022-11-04</td>\n",
              "      <td>22871.949219</td>\n",
              "      <td>MA_CROSSOVER</td>\n",
              "      <td>ma_crossover_buy</td>\n",
              "    </tr>\n",
              "    <tr>\n",
              "      <th>3</th>\n",
              "      <td>3MINDIA.NS</td>\n",
              "      <td>2023-02-08</td>\n",
              "      <td>23117.800781</td>\n",
              "      <td>2023-04-19</td>\n",
              "      <td>22777.449219</td>\n",
              "      <td>MA_CROSSOVER</td>\n",
              "      <td>ma_crossover_buy</td>\n",
              "    </tr>\n",
              "    <tr>\n",
              "      <th>4</th>\n",
              "      <td>3MINDIA.NS</td>\n",
              "      <td>2023-04-26</td>\n",
              "      <td>22425.699219</td>\n",
              "      <td>2023-10-25</td>\n",
              "      <td>29307.099609</td>\n",
              "      <td>MA_CROSSOVER</td>\n",
              "      <td>ma_crossover_buy</td>\n",
              "    </tr>\n",
              "    <tr>\n",
              "      <th>...</th>\n",
              "      <td>...</td>\n",
              "      <td>...</td>\n",
              "      <td>...</td>\n",
              "      <td>...</td>\n",
              "      <td>...</td>\n",
              "      <td>...</td>\n",
              "      <td>...</td>\n",
              "    </tr>\n",
              "    <tr>\n",
              "      <th>4832</th>\n",
              "      <td>ZYDUSWELL.NS</td>\n",
              "      <td>2023-12-13</td>\n",
              "      <td>306.089996</td>\n",
              "      <td>2024-02-13</td>\n",
              "      <td>313.929993</td>\n",
              "      <td>MA_CROSSOVER</td>\n",
              "      <td>ma_crossover_buy</td>\n",
              "    </tr>\n",
              "    <tr>\n",
              "      <th>4833</th>\n",
              "      <td>ZYDUSWELL.NS</td>\n",
              "      <td>2024-04-24</td>\n",
              "      <td>330.299988</td>\n",
              "      <td>2024-09-17</td>\n",
              "      <td>433.989990</td>\n",
              "      <td>MA_CROSSOVER</td>\n",
              "      <td>ma_crossover_buy</td>\n",
              "    </tr>\n",
              "    <tr>\n",
              "      <th>4834</th>\n",
              "      <td>ZYDUSWELL.NS</td>\n",
              "      <td>2024-12-02</td>\n",
              "      <td>411.309998</td>\n",
              "      <td>2025-01-09</td>\n",
              "      <td>390.410004</td>\n",
              "      <td>MA_CROSSOVER</td>\n",
              "      <td>ma_crossover_buy</td>\n",
              "    </tr>\n",
              "    <tr>\n",
              "      <th>4835</th>\n",
              "      <td>ZYDUSWELL.NS</td>\n",
              "      <td>2025-04-16</td>\n",
              "      <td>353.079987</td>\n",
              "      <td>2025-08-20</td>\n",
              "      <td>398.399994</td>\n",
              "      <td>MA_CROSSOVER</td>\n",
              "      <td>ma_crossover_buy</td>\n",
              "    </tr>\n",
              "    <tr>\n",
              "      <th>4836</th>\n",
              "      <td>ZYDUSWELL.NS</td>\n",
              "      <td>2025-09-04</td>\n",
              "      <td>484.760010</td>\n",
              "      <td>2025-10-01</td>\n",
              "      <td>459.850006</td>\n",
              "      <td>END_SIMULATION</td>\n",
              "      <td>ma_crossover_buy</td>\n",
              "    </tr>\n",
              "  </tbody>\n",
              "</table>\n",
              "<p>4837 rows × 7 columns</p>\n",
              "</div>\n",
              "    <div class=\"colab-df-buttons\">\n",
              "\n",
              "  <div class=\"colab-df-container\">\n",
              "    <button class=\"colab-df-convert\" onclick=\"convertToInteractive('df-312725fb-93fb-4198-b5ca-c51023d4a919')\"\n",
              "            title=\"Convert this dataframe to an interactive table.\"\n",
              "            style=\"display:none;\">\n",
              "\n",
              "  <svg xmlns=\"http://www.w3.org/2000/svg\" height=\"24px\" viewBox=\"0 -960 960 960\">\n",
              "    <path d=\"M120-120v-720h720v720H120Zm60-500h600v-160H180v160Zm220 220h160v-160H400v160Zm0 220h160v-160H400v160ZM180-400h160v-160H180v160Zm440 0h160v-160H620v160ZM180-180h160v-160H180v160Zm440 0h160v-160H620v160Z\"/>\n",
              "  </svg>\n",
              "    </button>\n",
              "\n",
              "  <style>\n",
              "    .colab-df-container {\n",
              "      display:flex;\n",
              "      gap: 12px;\n",
              "    }\n",
              "\n",
              "    .colab-df-convert {\n",
              "      background-color: #E8F0FE;\n",
              "      border: none;\n",
              "      border-radius: 50%;\n",
              "      cursor: pointer;\n",
              "      display: none;\n",
              "      fill: #1967D2;\n",
              "      height: 32px;\n",
              "      padding: 0 0 0 0;\n",
              "      width: 32px;\n",
              "    }\n",
              "\n",
              "    .colab-df-convert:hover {\n",
              "      background-color: #E2EBFA;\n",
              "      box-shadow: 0px 1px 2px rgba(60, 64, 67, 0.3), 0px 1px 3px 1px rgba(60, 64, 67, 0.15);\n",
              "      fill: #174EA6;\n",
              "    }\n",
              "\n",
              "    .colab-df-buttons div {\n",
              "      margin-bottom: 4px;\n",
              "    }\n",
              "\n",
              "    [theme=dark] .colab-df-convert {\n",
              "      background-color: #3B4455;\n",
              "      fill: #D2E3FC;\n",
              "    }\n",
              "\n",
              "    [theme=dark] .colab-df-convert:hover {\n",
              "      background-color: #434B5C;\n",
              "      box-shadow: 0px 1px 3px 1px rgba(0, 0, 0, 0.15);\n",
              "      filter: drop-shadow(0px 1px 2px rgba(0, 0, 0, 0.3));\n",
              "      fill: #FFFFFF;\n",
              "    }\n",
              "  </style>\n",
              "\n",
              "    <script>\n",
              "      const buttonEl =\n",
              "        document.querySelector('#df-312725fb-93fb-4198-b5ca-c51023d4a919 button.colab-df-convert');\n",
              "      buttonEl.style.display =\n",
              "        google.colab.kernel.accessAllowed ? 'block' : 'none';\n",
              "\n",
              "      async function convertToInteractive(key) {\n",
              "        const element = document.querySelector('#df-312725fb-93fb-4198-b5ca-c51023d4a919');\n",
              "        const dataTable =\n",
              "          await google.colab.kernel.invokeFunction('convertToInteractive',\n",
              "                                                    [key], {});\n",
              "        if (!dataTable) return;\n",
              "\n",
              "        const docLinkHtml = 'Like what you see? Visit the ' +\n",
              "          '<a target=\"_blank\" href=https://colab.research.google.com/notebooks/data_table.ipynb>data table notebook</a>'\n",
              "          + ' to learn more about interactive tables.';\n",
              "        element.innerHTML = '';\n",
              "        dataTable['output_type'] = 'display_data';\n",
              "        await google.colab.output.renderOutput(dataTable, element);\n",
              "        const docLink = document.createElement('div');\n",
              "        docLink.innerHTML = docLinkHtml;\n",
              "        element.appendChild(docLink);\n",
              "      }\n",
              "    </script>\n",
              "  </div>\n",
              "\n",
              "\n",
              "    <div id=\"df-88aa69f0-90c1-4cc8-9cbd-2e7ca01b6646\">\n",
              "      <button class=\"colab-df-quickchart\" onclick=\"quickchart('df-88aa69f0-90c1-4cc8-9cbd-2e7ca01b6646')\"\n",
              "                title=\"Suggest charts\"\n",
              "                style=\"display:none;\">\n",
              "\n",
              "<svg xmlns=\"http://www.w3.org/2000/svg\" height=\"24px\"viewBox=\"0 0 24 24\"\n",
              "     width=\"24px\">\n",
              "    <g>\n",
              "        <path d=\"M19 3H5c-1.1 0-2 .9-2 2v14c0 1.1.9 2 2 2h14c1.1 0 2-.9 2-2V5c0-1.1-.9-2-2-2zM9 17H7v-7h2v7zm4 0h-2V7h2v10zm4 0h-2v-4h2v4z\"/>\n",
              "    </g>\n",
              "</svg>\n",
              "      </button>\n",
              "\n",
              "<style>\n",
              "  .colab-df-quickchart {\n",
              "      --bg-color: #E8F0FE;\n",
              "      --fill-color: #1967D2;\n",
              "      --hover-bg-color: #E2EBFA;\n",
              "      --hover-fill-color: #174EA6;\n",
              "      --disabled-fill-color: #AAA;\n",
              "      --disabled-bg-color: #DDD;\n",
              "  }\n",
              "\n",
              "  [theme=dark] .colab-df-quickchart {\n",
              "      --bg-color: #3B4455;\n",
              "      --fill-color: #D2E3FC;\n",
              "      --hover-bg-color: #434B5C;\n",
              "      --hover-fill-color: #FFFFFF;\n",
              "      --disabled-bg-color: #3B4455;\n",
              "      --disabled-fill-color: #666;\n",
              "  }\n",
              "\n",
              "  .colab-df-quickchart {\n",
              "    background-color: var(--bg-color);\n",
              "    border: none;\n",
              "    border-radius: 50%;\n",
              "    cursor: pointer;\n",
              "    display: none;\n",
              "    fill: var(--fill-color);\n",
              "    height: 32px;\n",
              "    padding: 0;\n",
              "    width: 32px;\n",
              "  }\n",
              "\n",
              "  .colab-df-quickchart:hover {\n",
              "    background-color: var(--hover-bg-color);\n",
              "    box-shadow: 0 1px 2px rgba(60, 64, 67, 0.3), 0 1px 3px 1px rgba(60, 64, 67, 0.15);\n",
              "    fill: var(--button-hover-fill-color);\n",
              "  }\n",
              "\n",
              "  .colab-df-quickchart-complete:disabled,\n",
              "  .colab-df-quickchart-complete:disabled:hover {\n",
              "    background-color: var(--disabled-bg-color);\n",
              "    fill: var(--disabled-fill-color);\n",
              "    box-shadow: none;\n",
              "  }\n",
              "\n",
              "  .colab-df-spinner {\n",
              "    border: 2px solid var(--fill-color);\n",
              "    border-color: transparent;\n",
              "    border-bottom-color: var(--fill-color);\n",
              "    animation:\n",
              "      spin 1s steps(1) infinite;\n",
              "  }\n",
              "\n",
              "  @keyframes spin {\n",
              "    0% {\n",
              "      border-color: transparent;\n",
              "      border-bottom-color: var(--fill-color);\n",
              "      border-left-color: var(--fill-color);\n",
              "    }\n",
              "    20% {\n",
              "      border-color: transparent;\n",
              "      border-left-color: var(--fill-color);\n",
              "      border-top-color: var(--fill-color);\n",
              "    }\n",
              "    30% {\n",
              "      border-color: transparent;\n",
              "      border-left-color: var(--fill-color);\n",
              "      border-top-color: var(--fill-color);\n",
              "      border-right-color: var(--fill-color);\n",
              "    }\n",
              "    40% {\n",
              "      border-color: transparent;\n",
              "      border-right-color: var(--fill-color);\n",
              "      border-top-color: var(--fill-color);\n",
              "    }\n",
              "    60% {\n",
              "      border-color: transparent;\n",
              "      border-right-color: var(--fill-color);\n",
              "    }\n",
              "    80% {\n",
              "      border-color: transparent;\n",
              "      border-right-color: var(--fill-color);\n",
              "      border-bottom-color: var(--fill-color);\n",
              "    }\n",
              "    90% {\n",
              "      border-color: transparent;\n",
              "      border-bottom-color: var(--fill-color);\n",
              "    }\n",
              "  }\n",
              "</style>\n",
              "\n",
              "      <script>\n",
              "        async function quickchart(key) {\n",
              "          const quickchartButtonEl =\n",
              "            document.querySelector('#' + key + ' button');\n",
              "          quickchartButtonEl.disabled = true;  // To prevent multiple clicks.\n",
              "          quickchartButtonEl.classList.add('colab-df-spinner');\n",
              "          try {\n",
              "            const charts = await google.colab.kernel.invokeFunction(\n",
              "                'suggestCharts', [key], {});\n",
              "          } catch (error) {\n",
              "            console.error('Error during call to suggestCharts:', error);\n",
              "          }\n",
              "          quickchartButtonEl.classList.remove('colab-df-spinner');\n",
              "          quickchartButtonEl.classList.add('colab-df-quickchart-complete');\n",
              "        }\n",
              "        (() => {\n",
              "          let quickchartButtonEl =\n",
              "            document.querySelector('#df-88aa69f0-90c1-4cc8-9cbd-2e7ca01b6646 button');\n",
              "          quickchartButtonEl.style.display =\n",
              "            google.colab.kernel.accessAllowed ? 'block' : 'none';\n",
              "        })();\n",
              "      </script>\n",
              "    </div>\n",
              "\n",
              "  <div id=\"id_191d6938-72ef-411c-b755-5d9e8a1dbc36\">\n",
              "    <style>\n",
              "      .colab-df-generate {\n",
              "        background-color: #E8F0FE;\n",
              "        border: none;\n",
              "        border-radius: 50%;\n",
              "        cursor: pointer;\n",
              "        display: none;\n",
              "        fill: #1967D2;\n",
              "        height: 32px;\n",
              "        padding: 0 0 0 0;\n",
              "        width: 32px;\n",
              "      }\n",
              "\n",
              "      .colab-df-generate:hover {\n",
              "        background-color: #E2EBFA;\n",
              "        box-shadow: 0px 1px 2px rgba(60, 64, 67, 0.3), 0px 1px 3px 1px rgba(60, 64, 67, 0.15);\n",
              "        fill: #174EA6;\n",
              "      }\n",
              "\n",
              "      [theme=dark] .colab-df-generate {\n",
              "        background-color: #3B4455;\n",
              "        fill: #D2E3FC;\n",
              "      }\n",
              "\n",
              "      [theme=dark] .colab-df-generate:hover {\n",
              "        background-color: #434B5C;\n",
              "        box-shadow: 0px 1px 3px 1px rgba(0, 0, 0, 0.15);\n",
              "        filter: drop-shadow(0px 1px 2px rgba(0, 0, 0, 0.3));\n",
              "        fill: #FFFFFF;\n",
              "      }\n",
              "    </style>\n",
              "    <button class=\"colab-df-generate\" onclick=\"generateWithVariable('control_trade_signals_df')\"\n",
              "            title=\"Generate code using this dataframe.\"\n",
              "            style=\"display:none;\">\n",
              "\n",
              "  <svg xmlns=\"http://www.w3.org/2000/svg\" height=\"24px\"viewBox=\"0 0 24 24\"\n",
              "       width=\"24px\">\n",
              "    <path d=\"M7,19H8.4L18.45,9,17,7.55,7,17.6ZM5,21V16.75L18.45,3.32a2,2,0,0,1,2.83,0l1.4,1.43a1.91,1.91,0,0,1,.58,1.4,1.91,1.91,0,0,1-.58,1.4L9.25,21ZM18.45,9,17,7.55Zm-12,3A5.31,5.31,0,0,0,4.9,8.1,5.31,5.31,0,0,0,1,6.5,5.31,5.31,0,0,0,4.9,4.9,5.31,5.31,0,0,0,6.5,1,5.31,5.31,0,0,0,8.1,4.9,5.31,5.31,0,0,0,12,6.5,5.46,5.46,0,0,0,6.5,12Z\"/>\n",
              "  </svg>\n",
              "    </button>\n",
              "    <script>\n",
              "      (() => {\n",
              "      const buttonEl =\n",
              "        document.querySelector('#id_191d6938-72ef-411c-b755-5d9e8a1dbc36 button.colab-df-generate');\n",
              "      buttonEl.style.display =\n",
              "        google.colab.kernel.accessAllowed ? 'block' : 'none';\n",
              "\n",
              "      buttonEl.onclick = () => {\n",
              "        google.colab.notebook.generateWithVariable('control_trade_signals_df');\n",
              "      }\n",
              "      })();\n",
              "    </script>\n",
              "  </div>\n",
              "\n",
              "    </div>\n",
              "  </div>\n"
            ],
            "application/vnd.google.colaboratory.intrinsic+json": {
              "type": "dataframe",
              "variable_name": "control_trade_signals_df",
              "summary": "{\n  \"name\": \"control_trade_signals_df\",\n  \"rows\": 4837,\n  \"fields\": [\n    {\n      \"column\": \"symbol\",\n      \"properties\": {\n        \"dtype\": \"category\",\n        \"num_unique_values\": 471,\n        \"samples\": [\n          \"BBTC.NS\",\n          \"BSOFT.NS\",\n          \"ASTRAL.NS\"\n        ],\n        \"semantic_type\": \"\",\n        \"description\": \"\"\n      }\n    },\n    {\n      \"column\": \"entry_date\",\n      \"properties\": {\n        \"dtype\": \"date\",\n        \"min\": \"2021-12-17 00:00:00\",\n        \"max\": \"2025-10-01 00:00:00\",\n        \"num_unique_values\": 840,\n        \"samples\": [\n          \"2023-08-11 00:00:00\",\n          \"2023-08-09 00:00:00\",\n          \"2024-09-30 00:00:00\"\n        ],\n        \"semantic_type\": \"\",\n        \"description\": \"\"\n      }\n    },\n    {\n      \"column\": \"entry_price\",\n      \"properties\": {\n        \"dtype\": \"number\",\n        \"std\": 6525.943592709569,\n        \"min\": 6.75,\n        \"max\": 147400.0,\n        \"num_unique_values\": 4618,\n        \"samples\": [\n          228.6999969482422,\n          1448.800048828125,\n          373.1000061035156\n        ],\n        \"semantic_type\": \"\",\n        \"description\": \"\"\n      }\n    },\n    {\n      \"column\": \"exit_date\",\n      \"properties\": {\n        \"dtype\": \"date\",\n        \"min\": \"2021-12-30 00:00:00\",\n        \"max\": \"2025-10-01 00:00:00\",\n        \"num_unique_values\": 833,\n        \"samples\": [\n          \"2025-06-27 00:00:00\",\n          \"2024-04-19 00:00:00\",\n          \"2023-03-27 00:00:00\"\n        ],\n        \"semantic_type\": \"\",\n        \"description\": \"\"\n      }\n    },\n    {\n      \"column\": \"exit_price\",\n      \"properties\": {\n        \"dtype\": \"number\",\n        \"std\": 6759.509692950963,\n        \"min\": 6.360000133514404,\n        \"max\": 148740.0,\n        \"num_unique_values\": 4645,\n        \"samples\": [\n          3750.0,\n          20.549999237060547,\n          12201.5\n        ],\n        \"semantic_type\": \"\",\n        \"description\": \"\"\n      }\n    },\n    {\n      \"column\": \"reason\",\n      \"properties\": {\n        \"dtype\": \"category\",\n        \"num_unique_values\": 2,\n        \"samples\": [\n          \"END_SIMULATION\",\n          \"MA_CROSSOVER\"\n        ],\n        \"semantic_type\": \"\",\n        \"description\": \"\"\n      }\n    },\n    {\n      \"column\": \"entry_type\",\n      \"properties\": {\n        \"dtype\": \"category\",\n        \"num_unique_values\": 1,\n        \"samples\": [\n          \"ma_crossover_buy\"\n        ],\n        \"semantic_type\": \"\",\n        \"description\": \"\"\n      }\n    }\n  ]\n}"
            }
          },
          "metadata": {}
        }
      ]
    },
    {
      "cell_type": "code",
      "metadata": {
        "colab": {
          "base_uri": "https://localhost:8080/"
        },
        "id": "3puIE4L4rJoM",
        "outputId": "13c4ad1c-6e94-4d9a-d684-a2e03e819ab8"
      },
      "source": [
        "# Re-define the simulate_trades function to handle signals without 'risk_percentage'\n",
        "\n",
        "def simulate_trades(trade_signals, starting_capital):\n",
        "    \"\"\"\n",
        "    Simulates trades chronologically based on trade signals, managing capital\n",
        "    and open positions dynamically. Adjusted to handle control signals without risk_percentage.\n",
        "\n",
        "    Args:\n",
        "        trade_signals: A list of dictionaries, where each dictionary represents\n",
        "                       a potential trade signal.\n",
        "        starting_capital: The initial capital for the simulation.\n",
        "\n",
        "    Returns:\n",
        "        A tuple containing:\n",
        "        - executed_trades: A list of dictionaries for trades that were executed.\n",
        "        - final_capital: The capital at the end of the simulation.\n",
        "        - final_open_positions_count: The number of open positions at the end.\n",
        "        - date_wise_accounts: A list of dictionaries with date and unallocated capital.\n",
        "        - largest_loss_streak_start_date: The start date of the largest loss streak.\n",
        "        - largest_loss_streak_end_date: The end date of the largest loss streak.\n",
        "    \"\"\"\n",
        "    max_positions = 0\n",
        "    max_capital = starting_capital\n",
        "    current_capital = starting_capital\n",
        "    unallocated_capital = starting_capital\n",
        "    executed_trades = []\n",
        "    open_positions = [] # To store details of currently open trades {symbol, entry_date, entry_price, size, exit_date, exit_price, reason, entry_type}\n",
        "    open_positions_count = 0\n",
        "    date_wise_accounts = [] # New: To store date and unallocated capital\n",
        "\n",
        "    # Sort trade signals by entry date\n",
        "    trade_signals.sort(key=lambda x: x['entry_date'])\n",
        "\n",
        "    # Get all unique dates involved in trade signals\n",
        "    all_dates = sorted(list(set([t['entry_date'] for t in trade_signals] + [t['exit_date'] for t in trade_signals])))\n",
        "\n",
        "    # Iterate through dates chronologically\n",
        "    for current_date in all_dates:\n",
        "        # Process exits for the current date\n",
        "        exited_today_indices = [i for i, p in enumerate(open_positions) if p['exit_date'] == current_date]\n",
        "\n",
        "        # Process exits from latest to earliest index to avoid index issues after removal\n",
        "        for i in sorted(exited_today_indices, reverse=True):\n",
        "            exited_pos = open_positions.pop(i) # Remove the position from open_positions\n",
        "            pnl = (exited_pos['exit_price'] - exited_pos['entry_price']) * exited_pos['size']\n",
        "            current_capital += pnl\n",
        "            unallocated_capital += (exited_pos['entry_price'] * exited_pos['size']) + pnl\n",
        "            executed_trades.append({\n",
        "                'symbol': exited_pos['symbol'],\n",
        "                'entry_date': exited_pos['entry_date'],\n",
        "                'entry_price': exited_pos['entry_price'],\n",
        "                'exit_date': exited_pos['exit_date'],\n",
        "                'exit_price': exited_pos['exit_price'],\n",
        "                'size': exited_pos['size'],\n",
        "                'pnl': pnl,\n",
        "                'reason': exited_pos['reason'],\n",
        "                'entry_type': exited_pos['entry_type']\n",
        "            })\n",
        "            open_positions_count -= 1\n",
        "\n",
        "\n",
        "        max_capital = max(max_capital, unallocated_capital)\n",
        "        max_positions = max(max_positions, open_positions_count)\n",
        "        # Process entries for the current date\n",
        "        entries_today = [t for t in trade_signals if t['entry_date'] == current_date]\n",
        "\n",
        "        for entry_signal in entries_today:\n",
        "            # Check if we can open a new position and if there is enough unallocated capital\n",
        "            entry_price = entry_signal['entry_price']\n",
        "\n",
        "            # Determine size based on entry type and risk logic\n",
        "            if 'risk_percentage' in entry_signal:\n",
        "                # Use calculated risk percentage for the main strategy\n",
        "                base_size = math.floor(RISK_PCT * current_capital / entry_price) # Use RISK_PCT of CURRENT capital\n",
        "                # Avoid division by zero if risk_percentage is 0 or very small\n",
        "                if entry_signal.get('risk_percentage', 0) > 0:\n",
        "                     # Scale size by the ratio of average risk percentage to the trade's risk percentage\n",
        "                     # This part needs careful thought - should the control group use the same scaling logic?\n",
        "                     # For a fair comparison, let's make the control group position sizing simpler -\n",
        "                     # use a fixed percentage of the total capital per trade for the control group.\n",
        "                     # Let's use RISK_PCT * current_capital for size calculation for ALL entries for simplicity\n",
        "                     size = math.floor(RISK_PCT * current_capital / entry_price)\n",
        "                else:\n",
        "                    # Fallback to a simple size calculation if risk_percentage is problematic\n",
        "                     size = math.floor(RISK_PCT * current_capital / entry_price)\n",
        "            else:\n",
        "                # For control group signals (without risk_percentage), use a fixed percentage of capital\n",
        "                size = math.floor(RISK_PCT * current_capital / entry_price)\n",
        "\n",
        "\n",
        "            # Calculate cost of the potential trade\n",
        "            trade_cost = size * entry_price\n",
        "\n",
        "\n",
        "            if unallocated_capital >= trade_cost and size > 0 and open_positions_count < MAX_OPEN_POSITIONS: # Ensure size > 0, enough capital, and max positions not reached\n",
        "                 # Deduct trade cost from unallocated capital at entry\n",
        "                unallocated_capital -= trade_cost\n",
        "                open_positions.append({\n",
        "                    'symbol': entry_signal['symbol'],\n",
        "                    'entry_date': entry_signal['entry_date'],\n",
        "                    'entry_price': entry_price,\n",
        "                    'size': size,\n",
        "                    'exit_date': entry_signal['exit_date'], # Store planned exit date/price\n",
        "                    'exit_price': entry_signal['exit_price'], # Store planned exit price (SL or END)\n",
        "                    'reason': entry_signal['reason'],\n",
        "                    'entry_type': entry_signal['entry_type']\n",
        "                })\n",
        "                open_positions_count += 1\n",
        "                # Note: Total capital is not changed at entry, only unallocated capital\n",
        "\n",
        "        # Calculate total portfolio value for the current date\n",
        "        total_portfolio_value = unallocated_capital\n",
        "        # To get the current market value of open positions, we would need the closing price\n",
        "        # for each symbol on the current_date. This function doesn't have access\n",
        "        # to the full historical dataframes. A simplified approach is to use the\n",
        "        # entry price as a proxy for the current price.\n",
        "        for pos in open_positions:\n",
        "            total_portfolio_value += pos['entry_price'] * pos['size'] # Simplified\n",
        "\n",
        "\n",
        "        # Record total portfolio value at the end of the day\n",
        "        date_wise_accounts.append({\n",
        "            'date': current_date,\n",
        "            'total_portfolio_value': total_portfolio_value,\n",
        "            'unallocated_capital': unallocated_capital # Keep unallocated capital as well\n",
        "        })\n",
        "\n",
        "    # Handle any remaining open positions at the very end of the simulation period\n",
        "    if open_positions:\n",
        "        # Need the last closing price for symbols still open.\n",
        "        # This function doesn't have access to historical data frames directly.\n",
        "        # This is a limitation of simulating solely based on the trade signal list.\n",
        "        # For a real backtest, the last price of the data for each symbol\n",
        "        # would be needed here. As a simplification, we'll assume the exit_price\n",
        "        # in the signal (which for 'END' reason is the last price) is the closing price.\n",
        "\n",
        "        for remaining_pos in open_positions:\n",
        "             # Use the stored exit_price (which should be the last close for 'END' signals)\n",
        "            last_price = remaining_pos['exit_price'] # Simplified\n",
        "\n",
        "            pnl = (last_price - remaining_pos['entry_price']) * remaining_pos['size']\n",
        "            current_capital += pnl\n",
        "            unallocated_capital += (remaining_pos['entry_price'] * remaining_pos['size']) + pnl # Add back initial capital + PnL\n",
        "            executed_trades.append({\n",
        "                'symbol': remaining_pos['symbol'],\n",
        "                'entry_date': remaining_pos['entry_date'],\n",
        "                'entry_price': remaining_pos['entry_price'],\n",
        "                'exit_date': remaining_pos['exit_date'], # This will be the original end date\n",
        "                'exit_price': last_price,\n",
        "                'size': remaining_pos['size'],\n",
        "                'pnl': pnl,\n",
        "                'reason': remaining_pos['reason'],\n",
        "                'entry_type': remaining_pos['entry_type']\n",
        "            })\n",
        "        open_positions_count = 0 # All positions are now closed in simulation\n",
        "\n",
        "    # Check for duplicate entries in the 'executed_trades' list\n",
        "    seen = set()\n",
        "    duplicates = []\n",
        "    for trade in executed_trades:\n",
        "        # Create a tuple of the trade's key attributes to check for duplicates\n",
        "        trade_key = (trade['symbol'], trade['entry_date'], trade['entry_price'], trade['exit_date'], trade['exit_price'], trade['reason'], trade['entry_type'])\n",
        "        if trade_key in seen:\n",
        "            duplicates.append(trade)\n",
        "        else:\n",
        "            seen.add(trade_key)\n",
        "\n",
        "    if duplicates:\n",
        "        print(\"Duplicate executed trades found:\")\n",
        "        for dup in duplicates:\n",
        "            print(dup)\n",
        "\n",
        "    # Calculate largest loss streak and its dates\n",
        "    current_loss_streak = 0\n",
        "    largest_loss_streak = 0\n",
        "    current_loss_streak_start_date = None\n",
        "    largest_loss_streak_start_date = None\n",
        "    largest_loss_streak_end_date = None\n",
        "\n",
        "    # Sort executed_trades by exit date to correctly calculate streaks\n",
        "    executed_trades.sort(key=lambda x: x['exit_date'])\n",
        "\n",
        "    for trade in executed_trades:\n",
        "        if trade['pnl'] <= 0:\n",
        "            if current_loss_streak == 0: # Start of a new loss streak\n",
        "                current_loss_streak_start_date = trade['exit_date']\n",
        "            current_loss_streak += 1\n",
        "        else:\n",
        "            if current_loss_streak > largest_loss_streak:\n",
        "                largest_loss_streak = current_loss_streak\n",
        "                largest_loss_streak_start_date = current_loss_streak_start_date\n",
        "                largest_loss_streak_end_date = trade['exit_date'] # The winning trade's exit date is the end of the loss streak\n",
        "            current_loss_streak = 0\n",
        "            current_loss_streak_start_date = None\n",
        "\n",
        "    # Check if the largest loss streak is at the very end of the trades\n",
        "    if current_loss_streak > largest_loss_streak:\n",
        "        largest_loss_streak = current_loss_streak\n",
        "        largest_loss_streak_start_date = current_loss_streak_start_date\n",
        "        if executed_trades:\n",
        "            largest_loss_streak_end_date = executed_trades[-1]['exit_date']\n",
        "\n",
        "    # Ensure the last date's unallocated capital is recorded if it wasn't already by an exit\n",
        "    # This part might need adjustment depending on whether the last date in all_dates\n",
        "    # corresponds to an exit or just the end of the simulation period.\n",
        "    # Let's ensure the last date in all_dates is captured if it's not already the exit date of the last trade.\n",
        "    if all_dates:\n",
        "        last_simulation_date = all_dates[-1]\n",
        "        if not date_wise_accounts or date_wise_accounts[-1]['date'] < last_simulation_date:\n",
        "             # Calculate total portfolio value for the absolute last date\n",
        "             total_portfolio_value = unallocated_capital\n",
        "             # Need last closing prices for remaining open positions\n",
        "             # This requires loading data, which this function doesn't do directly.\n",
        "             # Using entry price as a proxy again, or ideally, loading last prices.\n",
        "             for pos in open_positions:\n",
        "                 total_portfolio_value += pos['entry_price'] * pos['size'] # Simplified\n",
        "\n",
        "             date_wise_accounts.append({\n",
        "                'date': last_simulation_date,\n",
        "                'total_portfolio_value': total_portfolio_value,\n",
        "                'unallocated_capital': unallocated_capital\n",
        "             })\n",
        "\n",
        "\n",
        "    print(\"Max positions - \", max_positions)\n",
        "    # Check if largest_loss_streak_start_date and largest_loss_streak_end_date are not None before accessing strftime\n",
        "    if largest_loss_streak_start_date is not None and largest_loss_streak_end_date is not None:\n",
        "        print(f\"Largest loss streak - {largest_loss_streak} (from {largest_loss_streak_start_date.strftime('%Y-%m-%d')} to {largest_loss_streak_end_date.strftime('%Y-%m-%d')})\")\n",
        "    else:\n",
        "        print(f\"Largest loss streak - {largest_loss_streak} (No dates available)\")\n",
        "\n",
        "    print(\"The simulate_trades function is compatible with the structure of the executed_trades DataFrame.\")\n",
        "\n",
        "    return executed_trades, current_capital, open_positions_count, date_wise_accounts\n",
        "\n",
        "# Now, rerun the simulation for the control group\n",
        "executed_control_trades, final_control_capital, final_control_open_positions_count, control_date_wise_accounts = simulate_trades(control_trade_signals, STARTING_CAPITAL)\n",
        "\n",
        "# Create DataFrame from executed control trades\n",
        "control_trades_df = pd.DataFrame(executed_control_trades)\n",
        "\n",
        "# Create DataFrame for date-wise accounts for the control group\n",
        "control_accounts_df = pd.DataFrame(control_date_wise_accounts)\n",
        "# Ensure 'date' is a datetime object and set as index\n",
        "control_accounts_df['date'] = pd.to_datetime(control_accounts_df['date'])\n",
        "control_accounts_df = control_accounts_df.set_index('date').sort_index()\n",
        "\n",
        "print(\"Control group simulation complete.\")"
      ],
      "execution_count": 35,
      "outputs": [
        {
          "output_type": "stream",
          "name": "stdout",
          "text": [
            "Max positions -  222\n",
            "Largest loss streak - 63 (from 2022-02-10 to 2022-02-17)\n",
            "The simulate_trades function is compatible with the structure of the executed_trades DataFrame.\n",
            "Control group simulation complete.\n"
          ]
        }
      ]
    },
    {
      "cell_type": "code",
      "metadata": {
        "colab": {
          "base_uri": "https://localhost:8080/",
          "height": 209
        },
        "id": "fa65ba91",
        "outputId": "ded3322a-9b75-4db2-d188-f734638219a6"
      },
      "source": [
        "# 1. Calculate Sharpe Ratio for the control group\n",
        "# Calculate daily portfolio value changes for the control group\n",
        "control_accounts_df['daily_return'] = control_accounts_df['total_portfolio_value'].pct_change().fillna(0)\n",
        "\n",
        "# Use the same annualization factor calculated for the treatment group\n",
        "# Ensure control_accounts_df is not empty before calculating time span\n",
        "if not control_accounts_df.empty:\n",
        "    control_time_span_years = (control_accounts_df.index[-1] - control_accounts_df.index[0]).days / 365.25\n",
        "    control_annualization_factor = len(control_accounts_df) / control_time_span_years if control_time_span_years > 0 else 252\n",
        "else:\n",
        "    control_annualization_factor = 252 # Fallback if control_accounts_df is empty\n",
        "\n",
        "\n",
        "if not control_accounts_df.empty and control_accounts_df['daily_return'].std() != 0 and control_annualization_factor > 0:\n",
        "    control_sharpe_ratio = control_accounts_df['daily_return'].mean() / control_accounts_df['daily_return'].std() * math.sqrt(control_annualization_factor)\n",
        "else:\n",
        "    control_sharpe_ratio = 0.0\n",
        "\n",
        "# 2. Calculate win rate for the control group\n",
        "total_control_trades = control_trades_df.shape[0] if not control_trades_df.empty else 0\n",
        "control_wins = control_trades_df[control_trades_df['pnl'] > 0].shape[0] if not control_trades_df.empty else 0\n",
        "control_losses = control_trades_df[control_trades_df['pnl'] <= 0].shape[0] if not control_trades_df.empty else 0\n",
        "control_winrate = (control_wins / total_control_trades * 100) if total_control_trades else 0.0\n",
        "\n",
        "# 3. Calculate total PnL for the control group\n",
        "total_control_pnl = control_trades_df['pnl'].sum() if not control_trades_df.empty else 0.0\n",
        "\n",
        "# 4. Calculate maximum drawdown for both groups\n",
        "\n",
        "def calculate_max_drawdown(account_values):\n",
        "    \"\"\"Calculates the maximum drawdown of a time series of account values.\"\"\"\n",
        "    if account_values.empty:\n",
        "        return 0.0\n",
        "    peak = account_values.iloc[0]\n",
        "    max_drawdown = 0.0\n",
        "    for value in account_values:\n",
        "        if value > peak:\n",
        "            peak = value\n",
        "        drawdown = (peak - value) / peak if peak != 0 else 0.0\n",
        "        max_drawdown = max(max_drawdown, drawdown)\n",
        "    return max_drawdown\n",
        "\n",
        "treatment_max_drawdown = calculate_max_drawdown(accounts_df['total_portfolio_value'])\n",
        "control_max_drawdown = calculate_max_drawdown(control_accounts_df['total_portfolio_value'])\n",
        "\n",
        "\n",
        "# 5. Create a dictionary or DataFrame to store and display the calculated performance metrics\n",
        "performance_metrics = {\n",
        "    'Metric': ['Total PnL', 'Win Rate (%)', 'Sharpe Ratio', 'Maximum Drawdown (%)'],\n",
        "    'Treatment Group': [total_pnl_overall, winrate_overall, sharpe_ratio, treatment_max_drawdown * 100],\n",
        "    'Control Group': [total_control_pnl, control_winrate, control_sharpe_ratio, control_max_drawdown * 100]\n",
        "}\n",
        "\n",
        "performance_df = pd.DataFrame(performance_metrics)\n",
        "\n",
        "# 6. Print or display the comparison of the performance metrics\n",
        "print(\"\\n--- Performance Metrics Comparison ---\")\n",
        "display(performance_df)"
      ],
      "execution_count": 36,
      "outputs": [
        {
          "output_type": "stream",
          "name": "stdout",
          "text": [
            "\n",
            "--- Performance Metrics Comparison ---\n"
          ]
        },
        {
          "output_type": "display_data",
          "data": {
            "text/plain": [
              "                 Metric  Treatment Group  Control Group\n",
              "0             Total PnL    712421.372978   1.437349e+06\n",
              "1          Win Rate (%)        34.446565   3.955774e+01\n",
              "2          Sharpe Ratio         1.666126   2.768326e+00\n",
              "3  Maximum Drawdown (%)         4.714566   1.670327e+01"
            ],
            "text/html": [
              "\n",
              "  <div id=\"df-18f46bc6-16f2-4a26-b124-976bacb9c013\" class=\"colab-df-container\">\n",
              "    <div>\n",
              "<style scoped>\n",
              "    .dataframe tbody tr th:only-of-type {\n",
              "        vertical-align: middle;\n",
              "    }\n",
              "\n",
              "    .dataframe tbody tr th {\n",
              "        vertical-align: top;\n",
              "    }\n",
              "\n",
              "    .dataframe thead th {\n",
              "        text-align: right;\n",
              "    }\n",
              "</style>\n",
              "<table border=\"1\" class=\"dataframe\">\n",
              "  <thead>\n",
              "    <tr style=\"text-align: right;\">\n",
              "      <th></th>\n",
              "      <th>Metric</th>\n",
              "      <th>Treatment Group</th>\n",
              "      <th>Control Group</th>\n",
              "    </tr>\n",
              "  </thead>\n",
              "  <tbody>\n",
              "    <tr>\n",
              "      <th>0</th>\n",
              "      <td>Total PnL</td>\n",
              "      <td>712421.372978</td>\n",
              "      <td>1.437349e+06</td>\n",
              "    </tr>\n",
              "    <tr>\n",
              "      <th>1</th>\n",
              "      <td>Win Rate (%)</td>\n",
              "      <td>34.446565</td>\n",
              "      <td>3.955774e+01</td>\n",
              "    </tr>\n",
              "    <tr>\n",
              "      <th>2</th>\n",
              "      <td>Sharpe Ratio</td>\n",
              "      <td>1.666126</td>\n",
              "      <td>2.768326e+00</td>\n",
              "    </tr>\n",
              "    <tr>\n",
              "      <th>3</th>\n",
              "      <td>Maximum Drawdown (%)</td>\n",
              "      <td>4.714566</td>\n",
              "      <td>1.670327e+01</td>\n",
              "    </tr>\n",
              "  </tbody>\n",
              "</table>\n",
              "</div>\n",
              "    <div class=\"colab-df-buttons\">\n",
              "\n",
              "  <div class=\"colab-df-container\">\n",
              "    <button class=\"colab-df-convert\" onclick=\"convertToInteractive('df-18f46bc6-16f2-4a26-b124-976bacb9c013')\"\n",
              "            title=\"Convert this dataframe to an interactive table.\"\n",
              "            style=\"display:none;\">\n",
              "\n",
              "  <svg xmlns=\"http://www.w3.org/2000/svg\" height=\"24px\" viewBox=\"0 -960 960 960\">\n",
              "    <path d=\"M120-120v-720h720v720H120Zm60-500h600v-160H180v160Zm220 220h160v-160H400v160Zm0 220h160v-160H400v160ZM180-400h160v-160H180v160Zm440 0h160v-160H620v160ZM180-180h160v-160H180v160Zm440 0h160v-160H620v160Z\"/>\n",
              "  </svg>\n",
              "    </button>\n",
              "\n",
              "  <style>\n",
              "    .colab-df-container {\n",
              "      display:flex;\n",
              "      gap: 12px;\n",
              "    }\n",
              "\n",
              "    .colab-df-convert {\n",
              "      background-color: #E8F0FE;\n",
              "      border: none;\n",
              "      border-radius: 50%;\n",
              "      cursor: pointer;\n",
              "      display: none;\n",
              "      fill: #1967D2;\n",
              "      height: 32px;\n",
              "      padding: 0 0 0 0;\n",
              "      width: 32px;\n",
              "    }\n",
              "\n",
              "    .colab-df-convert:hover {\n",
              "      background-color: #E2EBFA;\n",
              "      box-shadow: 0px 1px 2px rgba(60, 64, 67, 0.3), 0px 1px 3px 1px rgba(60, 64, 67, 0.15);\n",
              "      fill: #174EA6;\n",
              "    }\n",
              "\n",
              "    .colab-df-buttons div {\n",
              "      margin-bottom: 4px;\n",
              "    }\n",
              "\n",
              "    [theme=dark] .colab-df-convert {\n",
              "      background-color: #3B4455;\n",
              "      fill: #D2E3FC;\n",
              "    }\n",
              "\n",
              "    [theme=dark] .colab-df-convert:hover {\n",
              "      background-color: #434B5C;\n",
              "      box-shadow: 0px 1px 3px 1px rgba(0, 0, 0, 0.15);\n",
              "      filter: drop-shadow(0px 1px 2px rgba(0, 0, 0, 0.3));\n",
              "      fill: #FFFFFF;\n",
              "    }\n",
              "  </style>\n",
              "\n",
              "    <script>\n",
              "      const buttonEl =\n",
              "        document.querySelector('#df-18f46bc6-16f2-4a26-b124-976bacb9c013 button.colab-df-convert');\n",
              "      buttonEl.style.display =\n",
              "        google.colab.kernel.accessAllowed ? 'block' : 'none';\n",
              "\n",
              "      async function convertToInteractive(key) {\n",
              "        const element = document.querySelector('#df-18f46bc6-16f2-4a26-b124-976bacb9c013');\n",
              "        const dataTable =\n",
              "          await google.colab.kernel.invokeFunction('convertToInteractive',\n",
              "                                                    [key], {});\n",
              "        if (!dataTable) return;\n",
              "\n",
              "        const docLinkHtml = 'Like what you see? Visit the ' +\n",
              "          '<a target=\"_blank\" href=https://colab.research.google.com/notebooks/data_table.ipynb>data table notebook</a>'\n",
              "          + ' to learn more about interactive tables.';\n",
              "        element.innerHTML = '';\n",
              "        dataTable['output_type'] = 'display_data';\n",
              "        await google.colab.output.renderOutput(dataTable, element);\n",
              "        const docLink = document.createElement('div');\n",
              "        docLink.innerHTML = docLinkHtml;\n",
              "        element.appendChild(docLink);\n",
              "      }\n",
              "    </script>\n",
              "  </div>\n",
              "\n",
              "\n",
              "    <div id=\"df-53106be3-111a-4f00-91f2-4bf6e5dbd25f\">\n",
              "      <button class=\"colab-df-quickchart\" onclick=\"quickchart('df-53106be3-111a-4f00-91f2-4bf6e5dbd25f')\"\n",
              "                title=\"Suggest charts\"\n",
              "                style=\"display:none;\">\n",
              "\n",
              "<svg xmlns=\"http://www.w3.org/2000/svg\" height=\"24px\"viewBox=\"0 0 24 24\"\n",
              "     width=\"24px\">\n",
              "    <g>\n",
              "        <path d=\"M19 3H5c-1.1 0-2 .9-2 2v14c0 1.1.9 2 2 2h14c1.1 0 2-.9 2-2V5c0-1.1-.9-2-2-2zM9 17H7v-7h2v7zm4 0h-2V7h2v10zm4 0h-2v-4h2v4z\"/>\n",
              "    </g>\n",
              "</svg>\n",
              "      </button>\n",
              "\n",
              "<style>\n",
              "  .colab-df-quickchart {\n",
              "      --bg-color: #E8F0FE;\n",
              "      --fill-color: #1967D2;\n",
              "      --hover-bg-color: #E2EBFA;\n",
              "      --hover-fill-color: #174EA6;\n",
              "      --disabled-fill-color: #AAA;\n",
              "      --disabled-bg-color: #DDD;\n",
              "  }\n",
              "\n",
              "  [theme=dark] .colab-df-quickchart {\n",
              "      --bg-color: #3B4455;\n",
              "      --fill-color: #D2E3FC;\n",
              "      --hover-bg-color: #434B5C;\n",
              "      --hover-fill-color: #FFFFFF;\n",
              "      --disabled-bg-color: #3B4455;\n",
              "      --disabled-fill-color: #666;\n",
              "  }\n",
              "\n",
              "  .colab-df-quickchart {\n",
              "    background-color: var(--bg-color);\n",
              "    border: none;\n",
              "    border-radius: 50%;\n",
              "    cursor: pointer;\n",
              "    display: none;\n",
              "    fill: var(--fill-color);\n",
              "    height: 32px;\n",
              "    padding: 0;\n",
              "    width: 32px;\n",
              "  }\n",
              "\n",
              "  .colab-df-quickchart:hover {\n",
              "    background-color: var(--hover-bg-color);\n",
              "    box-shadow: 0 1px 2px rgba(60, 64, 67, 0.3), 0 1px 3px 1px rgba(60, 64, 67, 0.15);\n",
              "    fill: var(--button-hover-fill-color);\n",
              "  }\n",
              "\n",
              "  .colab-df-quickchart-complete:disabled,\n",
              "  .colab-df-quickchart-complete:disabled:hover {\n",
              "    background-color: var(--disabled-bg-color);\n",
              "    fill: var(--disabled-fill-color);\n",
              "    box-shadow: none;\n",
              "  }\n",
              "\n",
              "  .colab-df-spinner {\n",
              "    border: 2px solid var(--fill-color);\n",
              "    border-color: transparent;\n",
              "    border-bottom-color: var(--fill-color);\n",
              "    animation:\n",
              "      spin 1s steps(1) infinite;\n",
              "  }\n",
              "\n",
              "  @keyframes spin {\n",
              "    0% {\n",
              "      border-color: transparent;\n",
              "      border-bottom-color: var(--fill-color);\n",
              "      border-left-color: var(--fill-color);\n",
              "    }\n",
              "    20% {\n",
              "      border-color: transparent;\n",
              "      border-left-color: var(--fill-color);\n",
              "      border-top-color: var(--fill-color);\n",
              "    }\n",
              "    30% {\n",
              "      border-color: transparent;\n",
              "      border-left-color: var(--fill-color);\n",
              "      border-top-color: var(--fill-color);\n",
              "      border-right-color: var(--fill-color);\n",
              "    }\n",
              "    40% {\n",
              "      border-color: transparent;\n",
              "      border-right-color: var(--fill-color);\n",
              "      border-top-color: var(--fill-color);\n",
              "    }\n",
              "    60% {\n",
              "      border-color: transparent;\n",
              "      border-right-color: var(--fill-color);\n",
              "    }\n",
              "    80% {\n",
              "      border-color: transparent;\n",
              "      border-right-color: var(--fill-color);\n",
              "      border-bottom-color: var(--fill-color);\n",
              "    }\n",
              "    90% {\n",
              "      border-color: transparent;\n",
              "      border-bottom-color: var(--fill-color);\n",
              "    }\n",
              "  }\n",
              "</style>\n",
              "\n",
              "      <script>\n",
              "        async function quickchart(key) {\n",
              "          const quickchartButtonEl =\n",
              "            document.querySelector('#' + key + ' button');\n",
              "          quickchartButtonEl.disabled = true;  // To prevent multiple clicks.\n",
              "          quickchartButtonEl.classList.add('colab-df-spinner');\n",
              "          try {\n",
              "            const charts = await google.colab.kernel.invokeFunction(\n",
              "                'suggestCharts', [key], {});\n",
              "          } catch (error) {\n",
              "            console.error('Error during call to suggestCharts:', error);\n",
              "          }\n",
              "          quickchartButtonEl.classList.remove('colab-df-spinner');\n",
              "          quickchartButtonEl.classList.add('colab-df-quickchart-complete');\n",
              "        }\n",
              "        (() => {\n",
              "          let quickchartButtonEl =\n",
              "            document.querySelector('#df-53106be3-111a-4f00-91f2-4bf6e5dbd25f button');\n",
              "          quickchartButtonEl.style.display =\n",
              "            google.colab.kernel.accessAllowed ? 'block' : 'none';\n",
              "        })();\n",
              "      </script>\n",
              "    </div>\n",
              "\n",
              "  <div id=\"id_e1f1de6a-8275-4e22-b9cb-9362ad109f2d\">\n",
              "    <style>\n",
              "      .colab-df-generate {\n",
              "        background-color: #E8F0FE;\n",
              "        border: none;\n",
              "        border-radius: 50%;\n",
              "        cursor: pointer;\n",
              "        display: none;\n",
              "        fill: #1967D2;\n",
              "        height: 32px;\n",
              "        padding: 0 0 0 0;\n",
              "        width: 32px;\n",
              "      }\n",
              "\n",
              "      .colab-df-generate:hover {\n",
              "        background-color: #E2EBFA;\n",
              "        box-shadow: 0px 1px 2px rgba(60, 64, 67, 0.3), 0px 1px 3px 1px rgba(60, 64, 67, 0.15);\n",
              "        fill: #174EA6;\n",
              "      }\n",
              "\n",
              "      [theme=dark] .colab-df-generate {\n",
              "        background-color: #3B4455;\n",
              "        fill: #D2E3FC;\n",
              "      }\n",
              "\n",
              "      [theme=dark] .colab-df-generate:hover {\n",
              "        background-color: #434B5C;\n",
              "        box-shadow: 0px 1px 3px 1px rgba(0, 0, 0, 0.15);\n",
              "        filter: drop-shadow(0px 1px 2px rgba(0, 0, 0, 0.3));\n",
              "        fill: #FFFFFF;\n",
              "      }\n",
              "    </style>\n",
              "    <button class=\"colab-df-generate\" onclick=\"generateWithVariable('performance_df')\"\n",
              "            title=\"Generate code using this dataframe.\"\n",
              "            style=\"display:none;\">\n",
              "\n",
              "  <svg xmlns=\"http://www.w3.org/2000/svg\" height=\"24px\"viewBox=\"0 0 24 24\"\n",
              "       width=\"24px\">\n",
              "    <path d=\"M7,19H8.4L18.45,9,17,7.55,7,17.6ZM5,21V16.75L18.45,3.32a2,2,0,0,1,2.83,0l1.4,1.43a1.91,1.91,0,0,1,.58,1.4,1.91,1.91,0,0,1-.58,1.4L9.25,21ZM18.45,9,17,7.55Zm-12,3A5.31,5.31,0,0,0,4.9,8.1,5.31,5.31,0,0,0,1,6.5,5.31,5.31,0,0,0,4.9,4.9,5.31,5.31,0,0,0,6.5,1,5.31,5.31,0,0,0,8.1,4.9,5.31,5.31,0,0,0,12,6.5,5.46,5.46,0,0,0,6.5,12Z\"/>\n",
              "  </svg>\n",
              "    </button>\n",
              "    <script>\n",
              "      (() => {\n",
              "      const buttonEl =\n",
              "        document.querySelector('#id_e1f1de6a-8275-4e22-b9cb-9362ad109f2d button.colab-df-generate');\n",
              "      buttonEl.style.display =\n",
              "        google.colab.kernel.accessAllowed ? 'block' : 'none';\n",
              "\n",
              "      buttonEl.onclick = () => {\n",
              "        google.colab.notebook.generateWithVariable('performance_df');\n",
              "      }\n",
              "      })();\n",
              "    </script>\n",
              "  </div>\n",
              "\n",
              "    </div>\n",
              "  </div>\n"
            ],
            "application/vnd.google.colaboratory.intrinsic+json": {
              "type": "dataframe",
              "variable_name": "performance_df",
              "summary": "{\n  \"name\": \"performance_df\",\n  \"rows\": 4,\n  \"fields\": [\n    {\n      \"column\": \"Metric\",\n      \"properties\": {\n        \"dtype\": \"string\",\n        \"num_unique_values\": 4,\n        \"samples\": [\n          \"Win Rate (%)\",\n          \"Maximum Drawdown (%)\",\n          \"Total PnL\"\n        ],\n        \"semantic_type\": \"\",\n        \"description\": \"\"\n      }\n    },\n    {\n      \"column\": \"Treatment Group\",\n      \"properties\": {\n        \"dtype\": \"number\",\n        \"std\": 356203.8822528252,\n        \"min\": 1.6661263931345442,\n        \"max\": 712421.3729776295,\n        \"num_unique_values\": 4,\n        \"samples\": [\n          34.44656488549619,\n          4.714566152854338,\n          712421.3729776295\n        ],\n        \"semantic_type\": \"\",\n        \"description\": \"\"\n      }\n    },\n    {\n      \"column\": \"Control Group\",\n      \"properties\": {\n        \"dtype\": \"number\",\n        \"std\": 718664.4773137909,\n        \"min\": 2.7683257184019103,\n        \"max\": 1437348.6307530403,\n        \"num_unique_values\": 4,\n        \"samples\": [\n          39.55773955773956,\n          16.703271199722288,\n          1437348.6307530403\n        ],\n        \"semantic_type\": \"\",\n        \"description\": \"\"\n      }\n    }\n  ]\n}"
            }
          },
          "metadata": {}
        }
      ]
    },
    {
      "cell_type": "code",
      "metadata": {
        "colab": {
          "base_uri": "https://localhost:8080/"
        },
        "id": "9dcaa1e3",
        "outputId": "f51d34e2-e08d-4eb9-b486-b8bca317c48c"
      },
      "source": [
        "from scipy import stats\n",
        "\n",
        "# Ensure trades_df and control_trades_df are available and have 'pnl' columns\n",
        "if 'trades_df' in locals() and not trades_df.empty and 'control_trades_df' in locals() and not control_trades_df.empty:\n",
        "\n",
        "    # Perform independent samples t-test on PnL\n",
        "    # Assumes normal distribution and equal variances (can be checked with Levene's test)\n",
        "    # For simplicity, we proceed with the t-test directly.\n",
        "    t_stat, p_value_ttest = stats.ttest_ind(trades_df['pnl'], control_trades_df['pnl'])\n",
        "    print(\"\\n--- Statistical Tests on PnL ---\")\n",
        "    print(\"Independent Samples T-test:\")\n",
        "    print(f\"  Test Statistic (t): {t_stat:.4f}\")\n",
        "    print(f\"  P-value: {p_value_ttest:.4f}\")\n",
        "\n",
        "    # Perform Mann-Whitney U test on PnL\n",
        "    # Non-parametric test, does not assume normal distribution\n",
        "    u_stat, p_value_mannwhitney = stats.mannwhitneyu(trades_df['pnl'], control_trades_df['pnl'])\n",
        "    print(\"\\nMann-Whitney U Test:\")\n",
        "    print(f\"  Test Statistic (U): {u_stat:.4f}\")\n",
        "    print(f\"  P-value: {p_value_mannwhitney:.4f}\")\n",
        "\n",
        "    # Interpret the p-values\n",
        "    alpha = 0.05\n",
        "    print(\"\\nInterpretation:\")\n",
        "    if p_value_ttest < alpha:\n",
        "        print(f\"  T-test: With a p-value ({p_value_ttest:.4f}) less than alpha ({alpha}), we reject the null hypothesis.\")\n",
        "        print(\"  This suggests a statistically significant difference in the mean PnL between the two strategies.\")\n",
        "    else:\n",
        "        print(f\"  T-test: With a p-value ({p_value_ttest:.4f}) greater than or equal to alpha ({alpha}), we fail to reject the null hypothesis.\")\n",
        "        print(\"  This suggests no statistically significant difference in the mean PnL between the two strategies (at the {alpha} level).\")\n",
        "\n",
        "    if p_value_mannwhitney < alpha:\n",
        "        print(f\"  Mann-Whitney U Test: With a p-value ({p_value_mannwhitney:.4f}) less than alpha ({alpha}), we reject the null hypothesis.\")\n",
        "        print(\"  This suggests a statistically significant difference in the distribution of PnL between the two strategies.\")\n",
        "    else:\n",
        "        print(f\"  Mann-Whitney U Test: With a p-value ({p_value_mannwhitney:.4f}) greater than or equal to alpha ({alpha}), we fail to reject the null hypothesis.\")\n",
        "        print(\"  This suggests no statistically significant difference in the distribution of PnL between the two strategies (at the {alpha} level).\")\n",
        "\n",
        "    # Summarize findings\n",
        "    print(\"\\nSummary of Findings:\")\n",
        "    print(\"Based on the statistical tests:\")\n",
        "    if p_value_ttest < alpha or p_value_mannwhitney < alpha:\n",
        "        print(\"  There is a statistically significant difference in the trading performance (PnL) between the main strategy (treatment) and the simple moving average crossover strategy (control).\")\n",
        "        if p_value_ttest < alpha and p_value_mannwhitney < alpha:\n",
        "             print(\"  Both the T-test (mean difference) and Mann-Whitney U test (distribution difference) indicate significance.\")\n",
        "        elif p_value_ttest < alpha:\n",
        "             print(\"  The T-test indicates a significant difference in means.\")\n",
        "        else:\n",
        "             print(\"  The Mann-Whitney U test indicates a significant difference in distribution.\")\n",
        "    else:\n",
        "        print(\"  There is no statistically significant difference in the trading performance (PnL) between the main strategy (treatment) and the simple moving average crossover strategy (control) at the {alpha} significance level.\")\n",
        "\n",
        "\n",
        "else:\n",
        "    print(\"trades_df or control_trades_df is not available or empty. Cannot perform statistical tests.\")"
      ],
      "execution_count": 37,
      "outputs": [
        {
          "output_type": "stream",
          "name": "stdout",
          "text": [
            "\n",
            "--- Statistical Tests on PnL ---\n",
            "Independent Samples T-test:\n",
            "  Test Statistic (t): 1.8917\n",
            "  P-value: 0.0586\n",
            "\n",
            "Mann-Whitney U Test:\n",
            "  Test Statistic (U): 1497255.0000\n",
            "  P-value: 0.0000\n",
            "\n",
            "Interpretation:\n",
            "  T-test: With a p-value (0.0586) greater than or equal to alpha (0.05), we fail to reject the null hypothesis.\n",
            "  This suggests no statistically significant difference in the mean PnL between the two strategies (at the {alpha} level).\n",
            "  Mann-Whitney U Test: With a p-value (0.0000) less than alpha (0.05), we reject the null hypothesis.\n",
            "  This suggests a statistically significant difference in the distribution of PnL between the two strategies.\n",
            "\n",
            "Summary of Findings:\n",
            "Based on the statistical tests:\n",
            "  There is a statistically significant difference in the trading performance (PnL) between the main strategy (treatment) and the simple moving average crossover strategy (control).\n",
            "  The Mann-Whitney U test indicates a significant difference in distribution.\n"
          ]
        }
      ]
    },
    {
      "cell_type": "code",
      "metadata": {
        "colab": {
          "base_uri": "https://localhost:8080/",
          "height": 1000
        },
        "id": "333cba3e",
        "outputId": "692d4896-a6ba-4828-af51-b4f909af8098"
      },
      "source": [
        "import matplotlib.pyplot as plt\n",
        "import seaborn as sns\n",
        "\n",
        "# 1. Plot the equity curves\n",
        "plt.figure(figsize=(12, 7))\n",
        "plt.plot(accounts_df.index, accounts_df['total_portfolio_value'], label='Treatment Group (Main Strategy)', color='blue')\n",
        "plt.plot(control_accounts_df.index, control_accounts_df['total_portfolio_value'], label='Control Group (MA Crossover)', color='orange')\n",
        "plt.title('Equity Curve Comparison: Treatment vs. Control')\n",
        "plt.xlabel('Date')\n",
        "plt.ylabel('Portfolio Value (INR)')\n",
        "plt.legend()\n",
        "plt.grid(True)\n",
        "plt.show()\n",
        "\n",
        "# 2. Create histograms of PnL distribution\n",
        "plt.figure(figsize=(10, 6))\n",
        "sns.histplot(trades_df['pnl'], kde=True, color='skyblue', label='Treatment Group')\n",
        "sns.histplot(control_trades_df['pnl'], kde=True, color='lightcoral', label='Control Group')\n",
        "plt.title('Distribution of Trade PnL: Treatment vs. Control')\n",
        "plt.xlabel('Profit/Loss (PnL)')\n",
        "plt.ylabel('Frequency')\n",
        "plt.legend()\n",
        "plt.show()\n",
        "\n",
        "# 3. Create box plots of PnL distribution\n",
        "plt.figure(figsize=(8, 6))\n",
        "sns.boxplot(data=[trades_df['pnl'], control_trades_df['pnl']], showmeans=True)\n",
        "plt.xticks([0, 1], ['Treatment Group', 'Control Group'])\n",
        "plt.title('Trade PnL Distribution: Treatment vs. Control')\n",
        "plt.ylabel('Profit/Loss (PnL)')\n",
        "plt.show()"
      ],
      "execution_count": 38,
      "outputs": [
        {
          "output_type": "display_data",
          "data": {
            "text/plain": [
              "<Figure size 1200x700 with 1 Axes>"
            ],
            "image/png": "[encoded data removed]"
          },
          "metadata": {}
        },
        {
          "output_type": "display_data",
          "data": {
            "text/plain": [
              "<Figure size 1000x600 with 1 Axes>"
            ],
            "image/png": "[encoded data removed]"
          },
          "metadata": {}
        },
        {
          "output_type": "display_data",
          "data": {
            "text/plain": [
              "<Figure size 800x600 with 1 Axes>"
            ],
            "image/png": "[encoded data removed]"
          },
          "metadata": {}
        }
      ]
    },
    {
      "cell_type": "code",
      "metadata": {
        "colab": {
          "base_uri": "https://localhost:8080/",
          "height": 767
        },
        "id": "9640fa5f",
        "outputId": "ca9ead19-7f3d-4ded-db5b-01f3e0c449bf"
      },
      "source": [
        "# Review the performance_df DataFrame\n",
        "print(\"\\n--- Performance Metrics Comparison ---\")\n",
        "display(performance_df)\n",
        "\n",
        "# Recall the statistical test results\n",
        "print(\"\\n--- Statistical Test Results on PnL ---\")\n",
        "print(f\"Independent Samples T-test P-value: {p_value_ttest:.4f}\")\n",
        "print(f\"Mann-Whitney U Test P-value: {p_value_mannwhitney:.4f}\")\n",
        "alpha = 0.05\n",
        "print(f\"Significance level (alpha): {alpha}\")\n",
        "\n",
        "\n",
        "# Synthesize findings\n",
        "print(\"\\n--- A/B Test Conclusion ---\")\n",
        "\n",
        "print(\"Based on the backtest simulation and analysis:\")\n",
        "\n",
        "# 1. Performance Metrics Summary\n",
        "print(\"\\nPerformance Metrics Summary:\")\n",
        "print(f\"- Treatment Group (Main Strategy) Total PnL: {total_pnl_overall:,.2f} INR\")\n",
        "print(f\"- Control Group (MA Crossover) Total PnL: {total_control_pnl:,.2f} INR\")\n",
        "print(f\"- Treatment Group Win Rate: {winrate_overall:.2f}%\")\n",
        "print(f\"- Control Group Win Rate: {control_winrate:.2f}%\")\n",
        "print(f\"- Treatment Group Sharpe Ratio: {sharpe_ratio:.4f}\")\n",
        "print(f\"- Control Group Sharpe Ratio: {control_sharpe_ratio:.4f}\")\n",
        "print(f\"- Treatment Group Maximum Drawdown: {treatment_max_drawdown*100:.2f}%\")\n",
        "print(f\"- Control Group Maximum Drawdown: {control_max_drawdown*100:.2f}%\")\n",
        "\n",
        "# 2. Statistical Test Interpretation\n",
        "print(\"\\nStatistical Significance:\")\n",
        "if p_value_ttest < alpha and p_value_mannwhitney < alpha:\n",
        "    print(f\"Both the T-test (p={p_value_ttest:.4f}) and Mann-Whitney U test (p={p_value_mannwhitney:.4f}) results are below the {alpha} significance level.\")\n",
        "    print(\"This indicates a statistically significant difference in the mean PnL and the distribution of PnL between the two strategies.\")\n",
        "elif p_value_ttest < alpha:\n",
        "    print(f\"The T-test result (p={p_value_ttest:.4f}) is below the {alpha} significance level, suggesting a statistically significant difference in the mean PnL.\")\n",
        "    print(f\"The Mann-Whitney U test (p={p_value_mannwhitney:.4f}) is not statistically significant.\")\n",
        "elif p_value_mannwhitney < alpha:\n",
        "    print(f\"The Mann-Whitney U test result (p={p_value_mannwhitney:.4f}) is below the {alpha} significance level, suggesting a statistically significant difference in the distribution of PnL.\")\n",
        "    print(f\"The T-test (p={p_value_ttest:.4f}) is not statistically significant.\")\n",
        "else:\n",
        "    print(f\"Neither the T-test (p={p_value_ttest:.4f}) nor the Mann-Whitney U test (p={p_value_mannwhitney:.4f}) results are below the {alpha} significance level.\")\n",
        "    print(\"This suggests no statistically significant difference in the mean PnL or the distribution of PnL between the two strategies at the {alpha} level.\")\n",
        "\n",
        "\n",
        "# 3. Visual Evidence (referencing previous plots)\n",
        "print(\"\\nVisual Analysis:\")\n",
        "print(\"- The equity curves provide a visual representation of portfolio growth over time.\")\n",
        "print(\"- The PnL histograms and box plots illustrate the spread and central tendency of individual trade outcomes for each strategy.\")\n",
        "\n",
        "\n",
        "# 4. Overall Conclusion\n",
        "print(\"\\nOverall Conclusion:\")\n",
        "# Based on the numerical metrics and statistical tests:\n",
        "# Control group (MA Crossover) achieved higher Total PnL and Sharpe Ratio,\n",
        "# and a slightly higher Win Rate, with a significantly higher Max Drawdown.\n",
        "# The T-test indicated no significant difference in *mean* PnL, but the Mann-Whitney U test indicated a significant difference in the *distribution* of PnL.\n",
        "\n",
        "# Formulate the conclusion based on the specific results observed:\n",
        "if total_control_pnl > total_pnl_overall and control_sharpe_ratio > sharpe_ratio:\n",
        "     print(\"The Control Group (Simple MA Crossover) outperformed the Treatment Group (Main Strategy) in terms of Total PnL and Sharpe Ratio during this backtest period.\")\n",
        "elif total_pnl_overall > total_control_pnl and sharpe_ratio > control_sharpe_ratio:\n",
        "     print(\"The Treatment Group (Main Strategy) outperformed the Control Group (Simple MA Crossover) in terms of Total PnL and Sharpe Ratio during this backtest period.\")\n",
        "else:\n",
        "    print(\"The performance comparison between the Treatment and Control groups shows mixed results across different metrics.\")\n",
        "\n",
        "\n",
        "if p_value_ttest < alpha or p_value_mannwhitney < alpha:\n",
        "     print(\"The statistical tests indicate a statistically significant difference in the trading performance (specifically, the distribution of PnL based on the Mann-Whitney U test) between the two strategies.\")\n",
        "else:\n",
        "     print(\"The statistical tests do not indicate a statistically significant difference in the trading performance between the two strategies at the {alpha} significance level.\")\n",
        "\n",
        "print(\"Further analysis and optimization of both strategies may be beneficial.\")"
      ],
      "execution_count": 39,
      "outputs": [
        {
          "output_type": "stream",
          "name": "stdout",
          "text": [
            "\n",
            "--- Performance Metrics Comparison ---\n"
          ]
        },
        {
          "output_type": "display_data",
          "data": {
            "text/plain": [
              "                 Metric  Treatment Group  Control Group\n",
              "0             Total PnL    712421.372978   1.437349e+06\n",
              "1          Win Rate (%)        34.446565   3.955774e+01\n",
              "2          Sharpe Ratio         1.666126   2.768326e+00\n",
              "3  Maximum Drawdown (%)         4.714566   1.670327e+01"
            ],
            "text/html": [
              "\n",
              "  <div id=\"df-3328f6c5-8cf9-4669-9ed3-5f55f34b15f3\" class=\"colab-df-container\">\n",
              "    <div>\n",
              "<style scoped>\n",
              "    .dataframe tbody tr th:only-of-type {\n",
              "        vertical-align: middle;\n",
              "    }\n",
              "\n",
              "    .dataframe tbody tr th {\n",
              "        vertical-align: top;\n",
              "    }\n",
              "\n",
              "    .dataframe thead th {\n",
              "        text-align: right;\n",
              "    }\n",
              "</style>\n",
              "<table border=\"1\" class=\"dataframe\">\n",
              "  <thead>\n",
              "    <tr style=\"text-align: right;\">\n",
              "      <th></th>\n",
              "      <th>Metric</th>\n",
              "      <th>Treatment Group</th>\n",
              "      <th>Control Group</th>\n",
              "    </tr>\n",
              "  </thead>\n",
              "  <tbody>\n",
              "    <tr>\n",
              "      <th>0</th>\n",
              "      <td>Total PnL</td>\n",
              "      <td>712421.372978</td>\n",
              "      <td>1.437349e+06</td>\n",
              "    </tr>\n",
              "    <tr>\n",
              "      <th>1</th>\n",
              "      <td>Win Rate (%)</td>\n",
              "      <td>34.446565</td>\n",
              "      <td>3.955774e+01</td>\n",
              "    </tr>\n",
              "    <tr>\n",
              "      <th>2</th>\n",
              "      <td>Sharpe Ratio</td>\n",
              "      <td>1.666126</td>\n",
              "      <td>2.768326e+00</td>\n",
              "    </tr>\n",
              "    <tr>\n",
              "      <th>3</th>\n",
              "      <td>Maximum Drawdown (%)</td>\n",
              "      <td>4.714566</td>\n",
              "      <td>1.670327e+01</td>\n",
              "    </tr>\n",
              "  </tbody>\n",
              "</table>\n",
              "</div>\n",
              "    <div class=\"colab-df-buttons\">\n",
              "\n",
              "  <div class=\"colab-df-container\">\n",
              "    <button class=\"colab-df-convert\" onclick=\"convertToInteractive('df-3328f6c5-8cf9-4669-9ed3-5f55f34b15f3')\"\n",
              "            title=\"Convert this dataframe to an interactive table.\"\n",
              "            style=\"display:none;\">\n",
              "\n",
              "  <svg xmlns=\"http://www.w3.org/2000/svg\" height=\"24px\" viewBox=\"0 -960 960 960\">\n",
              "    <path d=\"M120-120v-720h720v720H120Zm60-500h600v-160H180v160Zm220 220h160v-160H400v160Zm0 220h160v-160H400v160ZM180-400h160v-160H180v160Zm440 0h160v-160H620v160ZM180-180h160v-160H180v160Zm440 0h160v-160H620v160Z\"/>\n",
              "  </svg>\n",
              "    </button>\n",
              "\n",
              "  <style>\n",
              "    .colab-df-container {\n",
              "      display:flex;\n",
              "      gap: 12px;\n",
              "    }\n",
              "\n",
              "    .colab-df-convert {\n",
              "      background-color: #E8F0FE;\n",
              "      border: none;\n",
              "      border-radius: 50%;\n",
              "      cursor: pointer;\n",
              "      display: none;\n",
              "      fill: #1967D2;\n",
              "      height: 32px;\n",
              "      padding: 0 0 0 0;\n",
              "      width: 32px;\n",
              "    }\n",
              "\n",
              "    .colab-df-convert:hover {\n",
              "      background-color: #E2EBFA;\n",
              "      box-shadow: 0px 1px 2px rgba(60, 64, 67, 0.3), 0px 1px 3px 1px rgba(60, 64, 67, 0.15);\n",
              "      fill: #174EA6;\n",
              "    }\n",
              "\n",
              "    .colab-df-buttons div {\n",
              "      margin-bottom: 4px;\n",
              "    }\n",
              "\n",
              "    [theme=dark] .colab-df-convert {\n",
              "      background-color: #3B4455;\n",
              "      fill: #D2E3FC;\n",
              "    }\n",
              "\n",
              "    [theme=dark] .colab-df-convert:hover {\n",
              "      background-color: #434B5C;\n",
              "      box-shadow: 0px 1px 3px 1px rgba(0, 0, 0, 0.15);\n",
              "      filter: drop-shadow(0px 1px 2px rgba(0, 0, 0, 0.3));\n",
              "      fill: #FFFFFF;\n",
              "    }\n",
              "  </style>\n",
              "\n",
              "    <script>\n",
              "      const buttonEl =\n",
              "        document.querySelector('#df-3328f6c5-8cf9-4669-9ed3-5f55f34b15f3 button.colab-df-convert');\n",
              "      buttonEl.style.display =\n",
              "        google.colab.kernel.accessAllowed ? 'block' : 'none';\n",
              "\n",
              "      async function convertToInteractive(key) {\n",
              "        const element = document.querySelector('#df-3328f6c5-8cf9-4669-9ed3-5f55f34b15f3');\n",
              "        const dataTable =\n",
              "          await google.colab.kernel.invokeFunction('convertToInteractive',\n",
              "                                                    [key], {});\n",
              "        if (!dataTable) return;\n",
              "\n",
              "        const docLinkHtml = 'Like what you see? Visit the ' +\n",
              "          '<a target=\"_blank\" href=https://colab.research.google.com/notebooks/data_table.ipynb>data table notebook</a>'\n",
              "          + ' to learn more about interactive tables.';\n",
              "        element.innerHTML = '';\n",
              "        dataTable['output_type'] = 'display_data';\n",
              "        await google.colab.output.renderOutput(dataTable, element);\n",
              "        const docLink = document.createElement('div');\n",
              "        docLink.innerHTML = docLinkHtml;\n",
              "        element.appendChild(docLink);\n",
              "      }\n",
              "    </script>\n",
              "  </div>\n",
              "\n",
              "\n",
              "    <div id=\"df-0606840a-701d-4b15-8a32-157d85754109\">\n",
              "      <button class=\"colab-df-quickchart\" onclick=\"quickchart('df-0606840a-701d-4b15-8a32-157d85754109')\"\n",
              "                title=\"Suggest charts\"\n",
              "                style=\"display:none;\">\n",
              "\n",
              "<svg xmlns=\"http://www.w3.org/2000/svg\" height=\"24px\"viewBox=\"0 0 24 24\"\n",
              "     width=\"24px\">\n",
              "    <g>\n",
              "        <path d=\"M19 3H5c-1.1 0-2 .9-2 2v14c0 1.1.9 2 2 2h14c1.1 0 2-.9 2-2V5c0-1.1-.9-2-2-2zM9 17H7v-7h2v7zm4 0h-2V7h2v10zm4 0h-2v-4h2v4z\"/>\n",
              "    </g>\n",
              "</svg>\n",
              "      </button>\n",
              "\n",
              "<style>\n",
              "  .colab-df-quickchart {\n",
              "      --bg-color: #E8F0FE;\n",
              "      --fill-color: #1967D2;\n",
              "      --hover-bg-color: #E2EBFA;\n",
              "      --hover-fill-color: #174EA6;\n",
              "      --disabled-fill-color: #AAA;\n",
              "      --disabled-bg-color: #DDD;\n",
              "  }\n",
              "\n",
              "  [theme=dark] .colab-df-quickchart {\n",
              "      --bg-color: #3B4455;\n",
              "      --fill-color: #D2E3FC;\n",
              "      --hover-bg-color: #434B5C;\n",
              "      --hover-fill-color: #FFFFFF;\n",
              "      --disabled-bg-color: #3B4455;\n",
              "      --disabled-fill-color: #666;\n",
              "  }\n",
              "\n",
              "  .colab-df-quickchart {\n",
              "    background-color: var(--bg-color);\n",
              "    border: none;\n",
              "    border-radius: 50%;\n",
              "    cursor: pointer;\n",
              "    display: none;\n",
              "    fill: var(--fill-color);\n",
              "    height: 32px;\n",
              "    padding: 0;\n",
              "    width: 32px;\n",
              "  }\n",
              "\n",
              "  .colab-df-quickchart:hover {\n",
              "    background-color: var(--hover-bg-color);\n",
              "    box-shadow: 0 1px 2px rgba(60, 64, 67, 0.3), 0 1px 3px 1px rgba(60, 64, 67, 0.15);\n",
              "    fill: var(--button-hover-fill-color);\n",
              "  }\n",
              "\n",
              "  .colab-df-quickchart-complete:disabled,\n",
              "  .colab-df-quickchart-complete:disabled:hover {\n",
              "    background-color: var(--disabled-bg-color);\n",
              "    fill: var(--disabled-fill-color);\n",
              "    box-shadow: none;\n",
              "  }\n",
              "\n",
              "  .colab-df-spinner {\n",
              "    border: 2px solid var(--fill-color);\n",
              "    border-color: transparent;\n",
              "    border-bottom-color: var(--fill-color);\n",
              "    animation:\n",
              "      spin 1s steps(1) infinite;\n",
              "  }\n",
              "\n",
              "  @keyframes spin {\n",
              "    0% {\n",
              "      border-color: transparent;\n",
              "      border-bottom-color: var(--fill-color);\n",
              "      border-left-color: var(--fill-color);\n",
              "    }\n",
              "    20% {\n",
              "      border-color: transparent;\n",
              "      border-left-color: var(--fill-color);\n",
              "      border-top-color: var(--fill-color);\n",
              "    }\n",
              "    30% {\n",
              "      border-color: transparent;\n",
              "      border-left-color: var(--fill-color);\n",
              "      border-top-color: var(--fill-color);\n",
              "      border-right-color: var(--fill-color);\n",
              "    }\n",
              "    40% {\n",
              "      border-color: transparent;\n",
              "      border-right-color: var(--fill-color);\n",
              "      border-top-color: var(--fill-color);\n",
              "    }\n",
              "    60% {\n",
              "      border-color: transparent;\n",
              "      border-right-color: var(--fill-color);\n",
              "    }\n",
              "    80% {\n",
              "      border-color: transparent;\n",
              "      border-right-color: var(--fill-color);\n",
              "      border-bottom-color: var(--fill-color);\n",
              "    }\n",
              "    90% {\n",
              "      border-color: transparent;\n",
              "      border-bottom-color: var(--fill-color);\n",
              "    }\n",
              "  }\n",
              "</style>\n",
              "\n",
              "      <script>\n",
              "        async function quickchart(key) {\n",
              "          const quickchartButtonEl =\n",
              "            document.querySelector('#' + key + ' button');\n",
              "          quickchartButtonEl.disabled = true;  // To prevent multiple clicks.\n",
              "          quickchartButtonEl.classList.add('colab-df-spinner');\n",
              "          try {\n",
              "            const charts = await google.colab.kernel.invokeFunction(\n",
              "                'suggestCharts', [key], {});\n",
              "          } catch (error) {\n",
              "            console.error('Error during call to suggestCharts:', error);\n",
              "          }\n",
              "          quickchartButtonEl.classList.remove('colab-df-spinner');\n",
              "          quickchartButtonEl.classList.add('colab-df-quickchart-complete');\n",
              "        }\n",
              "        (() => {\n",
              "          let quickchartButtonEl =\n",
              "            document.querySelector('#df-0606840a-701d-4b15-8a32-157d85754109 button');\n",
              "          quickchartButtonEl.style.display =\n",
              "            google.colab.kernel.accessAllowed ? 'block' : 'none';\n",
              "        })();\n",
              "      </script>\n",
              "    </div>\n",
              "\n",
              "  <div id=\"id_f6ac179a-f0fc-49ed-bcbf-88f3dc301142\">\n",
              "    <style>\n",
              "      .colab-df-generate {\n",
              "        background-color: #E8F0FE;\n",
              "        border: none;\n",
              "        border-radius: 50%;\n",
              "        cursor: pointer;\n",
              "        display: none;\n",
              "        fill: #1967D2;\n",
              "        height: 32px;\n",
              "        padding: 0 0 0 0;\n",
              "        width: 32px;\n",
              "      }\n",
              "\n",
              "      .colab-df-generate:hover {\n",
              "        background-color: #E2EBFA;\n",
              "        box-shadow: 0px 1px 2px rgba(60, 64, 67, 0.3), 0px 1px 3px 1px rgba(60, 64, 67, 0.15);\n",
              "        fill: #174EA6;\n",
              "      }\n",
              "\n",
              "      [theme=dark] .colab-df-generate {\n",
              "        background-color: #3B4455;\n",
              "        fill: #D2E3FC;\n",
              "      }\n",
              "\n",
              "      [theme=dark] .colab-df-generate:hover {\n",
              "        background-color: #434B5C;\n",
              "        box-shadow: 0px 1px 3px 1px rgba(0, 0, 0, 0.15);\n",
              "        filter: drop-shadow(0px 1px 2px rgba(0, 0, 0, 0.3));\n",
              "        fill: #FFFFFF;\n",
              "      }\n",
              "    </style>\n",
              "    <button class=\"colab-df-generate\" onclick=\"generateWithVariable('performance_df')\"\n",
              "            title=\"Generate code using this dataframe.\"\n",
              "            style=\"display:none;\">\n",
              "\n",
              "  <svg xmlns=\"http://www.w3.org/2000/svg\" height=\"24px\"viewBox=\"0 0 24 24\"\n",
              "       width=\"24px\">\n",
              "    <path d=\"M7,19H8.4L18.45,9,17,7.55,7,17.6ZM5,21V16.75L18.45,3.32a2,2,0,0,1,2.83,0l1.4,1.43a1.91,1.91,0,0,1,.58,1.4,1.91,1.91,0,0,1-.58,1.4L9.25,21ZM18.45,9,17,7.55Zm-12,3A5.31,5.31,0,0,0,4.9,8.1,5.31,5.31,0,0,0,1,6.5,5.31,5.31,0,0,0,4.9,4.9,5.31,5.31,0,0,0,6.5,1,5.31,5.31,0,0,0,8.1,4.9,5.31,5.31,0,0,0,12,6.5,5.46,5.46,0,0,0,6.5,12Z\"/>\n",
              "  </svg>\n",
              "    </button>\n",
              "    <script>\n",
              "      (() => {\n",
              "      const buttonEl =\n",
              "        document.querySelector('#id_f6ac179a-f0fc-49ed-bcbf-88f3dc301142 button.colab-df-generate');\n",
              "      buttonEl.style.display =\n",
              "        google.colab.kernel.accessAllowed ? 'block' : 'none';\n",
              "\n",
              "      buttonEl.onclick = () => {\n",
              "        google.colab.notebook.generateWithVariable('performance_df');\n",
              "      }\n",
              "      })();\n",
              "    </script>\n",
              "  </div>\n",
              "\n",
              "    </div>\n",
              "  </div>\n"
            ],
            "application/vnd.google.colaboratory.intrinsic+json": {
              "type": "dataframe",
              "variable_name": "performance_df",
              "summary": "{\n  \"name\": \"performance_df\",\n  \"rows\": 4,\n  \"fields\": [\n    {\n      \"column\": \"Metric\",\n      \"properties\": {\n        \"dtype\": \"string\",\n        \"num_unique_values\": 4,\n        \"samples\": [\n          \"Win Rate (%)\",\n          \"Maximum Drawdown (%)\",\n          \"Total PnL\"\n        ],\n        \"semantic_type\": \"\",\n        \"description\": \"\"\n      }\n    },\n    {\n      \"column\": \"Treatment Group\",\n      \"properties\": {\n        \"dtype\": \"number\",\n        \"std\": 356203.8822528252,\n        \"min\": 1.6661263931345442,\n        \"max\": 712421.3729776295,\n        \"num_unique_values\": 4,\n        \"samples\": [\n          34.44656488549619,\n          4.714566152854338,\n          712421.3729776295\n        ],\n        \"semantic_type\": \"\",\n        \"description\": \"\"\n      }\n    },\n    {\n      \"column\": \"Control Group\",\n      \"properties\": {\n        \"dtype\": \"number\",\n        \"std\": 718664.4773137909,\n        \"min\": 2.7683257184019103,\n        \"max\": 1437348.6307530403,\n        \"num_unique_values\": 4,\n        \"samples\": [\n          39.55773955773956,\n          16.703271199722288,\n          1437348.6307530403\n        ],\n        \"semantic_type\": \"\",\n        \"description\": \"\"\n      }\n    }\n  ]\n}"
            }
          },
          "metadata": {}
        },
        {
          "output_type": "stream",
          "name": "stdout",
          "text": [
            "\n",
            "--- Statistical Test Results on PnL ---\n",
            "Independent Samples T-test P-value: 0.0586\n",
            "Mann-Whitney U Test P-value: 0.0000\n",
            "Significance level (alpha): 0.05\n",
            "\n",
            "--- A/B Test Conclusion ---\n",
            "Based on the backtest simulation and analysis:\n",
            "\n",
            "Performance Metrics Summary:\n",
            "- Treatment Group (Main Strategy) Total PnL: 712,421.37 INR\n",
            "- Control Group (MA Crossover) Total PnL: 1,437,348.63 INR\n",
            "- Treatment Group Win Rate: 34.45%\n",
            "- Control Group Win Rate: 39.56%\n",
            "- Treatment Group Sharpe Ratio: 1.6661\n",
            "- Control Group Sharpe Ratio: 2.7683\n",
            "- Treatment Group Maximum Drawdown: 4.71%\n",
            "- Control Group Maximum Drawdown: 16.70%\n",
            "\n",
            "Statistical Significance:\n",
            "The Mann-Whitney U test result (p=0.0000) is below the 0.05 significance level, suggesting a statistically significant difference in the distribution of PnL.\n",
            "The T-test (p=0.0586) is not statistically significant.\n",
            "\n",
            "Visual Analysis:\n",
            "- The equity curves provide a visual representation of portfolio growth over time.\n",
            "- The PnL histograms and box plots illustrate the spread and central tendency of individual trade outcomes for each strategy.\n",
            "\n",
            "Overall Conclusion:\n",
            "The Control Group (Simple MA Crossover) outperformed the Treatment Group (Main Strategy) in terms of Total PnL and Sharpe Ratio during this backtest period.\n",
            "The statistical tests indicate a statistically significant difference in the trading performance (specifically, the distribution of PnL based on the Mann-Whitney U test) between the two strategies.\n",
            "Further analysis and optimization of both strategies may be beneficial.\n"
          ]
        }
      ]
    }
  ]
}