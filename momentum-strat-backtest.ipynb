{
  "nbformat": 4,
  "nbformat_minor": 0,
  "metadata": {
    "colab": {
      "provenance": []
    },
    "kernelspec": {
      "name": "python3",
      "display_name": "Python 3"
    },
    "language_info": {
      "name": "python"
    }
  },
  "cells": [
    {
      "cell_type": "code",
      "source": [
        "!pip install ta --upgrade"
      ],
      "metadata": {
        "colab": {
          "base_uri": "https://localhost:8080/"
        },
        "id": "xlCnMCrE89XQ",
        "outputId": "2360f907-57dc-40af-ceb0-ddc9dcd5c603"
      },
      "execution_count": 1,
      "outputs": [
        {
          "output_type": "stream",
          "name": "stdout",
          "text": [
            "Collecting ta\n",
            "  Downloading ta-0.11.0.tar.gz (25 kB)\n",
            "  Preparing metadata (setup.py) ... \u001b[?25l\u001b[?25hdone\n",
            "Requirement already satisfied: numpy in /usr/local/lib/python3.12/dist-packages (from ta) (2.0.2)\n",
            "Requirement already satisfied: pandas in /usr/local/lib/python3.12/dist-packages (from ta) (2.2.2)\n",
            "Requirement already satisfied: python-dateutil>=2.8.2 in /usr/local/lib/python3.12/dist-packages (from pandas->ta) (2.9.0.post0)\n",
            "Requirement already satisfied: pytz>=2020.1 in /usr/local/lib/python3.12/dist-packages (from pandas->ta) (2025.2)\n",
            "Requirement already satisfied: tzdata>=2022.7 in /usr/local/lib/python3.12/dist-packages (from pandas->ta) (2025.2)\n",
            "Requirement already satisfied: six>=1.5 in /usr/local/lib/python3.12/dist-packages (from python-dateutil>=2.8.2->pandas->ta) (1.17.0)\n",
            "Building wheels for collected packages: ta\n",
            "  Building wheel for ta (setup.py) ... \u001b[?25l\u001b[?25hdone\n",
            "  Created wheel for ta: filename=ta-0.11.0-py3-none-any.whl size=29412 sha256=66fa24c1e065f815ebf79411662ac6bd78dc5004354cd84c2ed82c609a877cef\n",
            "  Stored in directory: /root/.cache/pip/wheels/5c/a1/5f/c6b85a7d9452057be4ce68a8e45d77ba34234a6d46581777c6\n",
            "Successfully built ta\n",
            "Installing collected packages: ta\n",
            "Successfully installed ta-0.11.0\n"
          ]
        }
      ]
    },
    {
      "cell_type": "code",
      "source": [
        "import pandas as pd\n",
        "csv_path = \"/content/nifty_500.csv\"\n",
        "df = pd.read_csv(csv_path)\n",
        "# print(df) # Keep for debugging if needed\n",
        "\n",
        "# Extract symbols from the 'Symbol' column\n",
        "# Handle potential missing values and remove leading/trailing whitespace\n",
        "symbols_list = df['Symbol'].dropna().astype(str).str.strip().tolist()\n",
        "\n",
        "# Add \".NS\" to each symbol for compatibility with yfinance\n",
        "symbols_list = [symbol + \".NS\" for symbol in symbols_list]\n",
        "\n",
        "\n",
        "# Optional: Print the list of symbols to verify\n",
        "print(\"List of symbols extracted:\")\n",
        "print(symbols_list[:10]) # Print first 10 symbols as a sample\n",
        "print(f\"Total number of symbols: {len(symbols_list)}\")"
      ],
      "metadata": {
        "colab": {
          "base_uri": "https://localhost:8080/"
        },
        "id": "eSeIuK5NWRgJ",
        "outputId": "c48e9fbf-505f-4407-f3c7-105893b03587"
      },
      "execution_count": 3,
      "outputs": [
        {
          "output_type": "stream",
          "name": "stdout",
          "text": [
            "List of symbols extracted:\n",
            "['3MINDIA.NS', 'AARTIDRUGS.NS', 'AAVAS.NS', 'ABB.NS', 'ABBOTINDIA.NS', 'ABCAPITAL.NS', 'ABFRL.NS', 'ABSLAMC.NS', 'ACC.NS', 'ADANIENT.NS']\n",
            "Total number of symbols: 501\n"
          ]
        }
      ]
    },
    {
      "cell_type": "code",
      "source": [
        "import math\n",
        "import pandas as pd\n",
        "import numpy as np\n",
        "import yfinance as yf\n",
        "from tqdm import tqdm\n",
        "from ta.trend import ADXIndicator\n",
        "from ta.volatility import AverageTrueRange\n",
        "# from ta.volume import OnBalanceVolume # Removed problematic import\n",
        "import warnings\n",
        "import os\n",
        "\n",
        "warnings.filterwarnings(\"ignore\")\n",
        "\n",
        "# ---------------- CONFIG ----------------\n",
        "DATA_DIR = \"/content/stock_data\" # Directory to save downloaded data\n",
        "STARTING_CAPITAL = 25_00_000.0      # INR 25,00,000\n",
        "RISK_PCT = 0.004                    # 0.4% of CURRENT total capital per entry\n",
        "YEARS = 3\n",
        "END_DATE = pd.Timestamp.today().normalize()\n",
        "START_DATE = END_DATE - pd.DateOffset(years=YEARS)\n",
        "\n",
        "ADX_PERIOD = 14\n",
        "ATR_PERIOD = 14\n",
        "DMA_FAST = 20\n",
        "DMA_SLOW = 50\n",
        "DMA_HIT_TOL = 0.005   # touch tolerance = 0.5% of DMA\n",
        "OBV_MA_PERIOD = 20 # New: period for OBV moving average\n",
        "# Ensure enough rows for all indicator calculations\n",
        "MIN_ROWS = max(DMA_SLOW, ADX_PERIOD, OBV_MA_PERIOD) + 1 # Add 1 because rolling window includes current day\n",
        "\n",
        "OUT_TRADES_CSV = \"nifty_backtest_trades.csv\"\n",
        "OUT_SUMMARY_CSV = \"nifty_backtest_summary.csv\"\n",
        "MAX_OPEN_POSITIONS = 250 # New: Maximum number of open positions\n",
        "\n",
        "# ---------------- utilities ----------------\n",
        "# def load_symbols_list_from_csv(csv_path):\n",
        "#     df = pd.read_csv(csv_path)\n",
        "#     # symbol column appears to be 'Unnamed: 3' based on your sample\n",
        "#     if 'Unnamed: 3' not in df.columns:\n",
        "#         raise ValueError(\"Expected column 'Unnamed: 3' not found in CSV.\")\n",
        "#     symbols_list = df['Unnamed: 3'].dropna().astype(str).str.strip().tolist()\n",
        "#     # remove any stray header text \"Symbol\"\n",
        "#     symbols_list = [s for s in symbols_list if s.upper() != \"SYMBOL\"]\n",
        "#     # append .NS for Yahoo NSE tickers\n",
        "#     yahoo = [s + \".NS\" for s in symbols_list]\n",
        "#     return yahoo\n",
        "\n",
        "def fetch_and_save_price_data(ticker, start=START_DATE, end=END_DATE, data_dir=DATA_DIR):\n",
        "    filepath = os.path.join(data_dir, f\"{ticker}.csv\")\n",
        "    if os.path.exists(filepath):\n",
        "        # Load existing data if available\n",
        "        try:\n",
        "            df = pd.read_csv(filepath, parse_dates=['Date'])\n",
        "            if not df.empty and 'Date' in df.columns:\n",
        "                 # Check if data is up to date\n",
        "                if pd.to_datetime(df['Date'].iloc[-1]).date() >= end.date():\n",
        "                    df['Date'] = pd.to_datetime(df['Date'])\n",
        "                    df = df.set_index('Date')\n",
        "                    return df\n",
        "        except Exception as e:\n",
        "            print(f\"Error loading data for {ticker} from {filepath}: {e}\")\n",
        "            pass # redownload if loading fails\n",
        "\n",
        "    try:\n",
        "        df = yf.download(ticker, start=start.strftime(\"%Y-%m-%d\"), end=(end + pd.Timedelta(days=1)).strftime(\"%Y-%m-%d\"), progress=False, auto_adjust=False)\n",
        "        if df.empty:\n",
        "            print(f\"No data downloaded for {ticker}\")\n",
        "            return None\n",
        "        # ensure required columns and reset index to ensure a DatetimeIndex\n",
        "        df = df[['Open','High','Low','Close','Volume']].dropna()\n",
        "        if not isinstance(df.index, pd.DatetimeIndex):\n",
        "            df.index = pd.to_datetime(df.index)\n",
        "\n",
        "        # Save to CSV with Date as a column\n",
        "        os.makedirs(data_dir, exist_ok=True)\n",
        "        df.reset_index(inplace=True)\n",
        "        df.to_csv(filepath, index=False)\n",
        "        df = df.set_index('Date')\n",
        "        return df\n",
        "    except Exception as e:\n",
        "        print(\"Download error\", ticker, e)\n",
        "        return None\n",
        "\n",
        "def load_price_data(ticker, data_dir=DATA_DIR):\n",
        "    filepath = os.path.join(data_dir, f\"{ticker}.csv\")\n",
        "    if not os.path.exists(filepath):\n",
        "        return None\n",
        "    try:\n",
        "        # Skip the first row which contains the extra header\n",
        "        df = pd.read_csv(filepath, parse_dates=['Date'], skiprows=[1])\n",
        "        if not df.empty and 'Date' in df.columns:\n",
        "            df = df.set_index('Date')\n",
        "            # Rename columns to remove 'Ticker' level if it exists\n",
        "            if isinstance(df.columns, pd.MultiIndex):\n",
        "                df.columns = df.columns.droplevel(level=1)\n",
        "            return df\n",
        "        else:\n",
        "            return None\n",
        "    except Exception as e:\n",
        "        print(f\"Error loading data for {ticker} from {filepath}: {e}\")\n",
        "        return None\n",
        "\n",
        "# Manual OBV Calculation\n",
        "def calculate_obv(df):\n",
        "    obv = [0] * len(df)\n",
        "    for i in range(1, len(df)):\n",
        "        if df['Close'].iloc[i] > df['Close'].iloc[i-1]:\n",
        "            obv[i] = obv[i-1] + df['Volume'].iloc[i]\n",
        "        elif df['Close'].iloc[i] < df['Close'].iloc[i-1]:\n",
        "            obv[i] = obv[i-1] - df['Volume'].iloc[i]\n",
        "        else:\n",
        "            obv[i] = obv[i-1]\n",
        "    return pd.Series(obv, index=df.index)\n",
        "\n",
        "def compute_indicators(df):\n",
        "    df = df.copy()\n",
        "    # Debugging: Print index type\n",
        "    print(f\"Index type in compute_indicators: {type(df.index)}\")\n",
        "    # Ensure DataFrame has a valid index before computing indicators\n",
        "    if not isinstance(df.index, pd.DatetimeIndex):\n",
        "        raise ValueError(\"Input DataFrame to compute_indicators must have a DatetimeIndex\")\n",
        "\n",
        "    try:\n",
        "        df['dma20'] = df['Close'].rolling(window=DMA_FAST).mean()\n",
        "        df['dma50'] = df['Close'].rolling(window=DMA_SLOW).mean()\n",
        "        atr = AverageTrueRange(high=df['High'], low=df['Low'], close=df['Close'], window=ATR_PERIOD)\n",
        "        df['atr'] = atr.average_true_range()\n",
        "        adx_indicator = ADXIndicator(high=df['High'], low=df['Low'], close=df['Close'], window=ADX_PERIOD)\n",
        "        df['adx'] = adx_indicator.adx()\n",
        "        df['+di'] = adx_indicator.adx_pos()  # Calculate +DI\n",
        "        df['-di'] = adx_indicator.adx_neg()  # Calculate -DI\n",
        "\n",
        "        # New: Compute On-Balance Volume manually and its moving average\n",
        "        df['obv'] = calculate_obv(df) # Uncommented OBV calculation\n",
        "        df['obv_ma20'] = df['obv'].rolling(window=OBV_MA_PERIOD).mean() # Uncommented OBV MA calculation\n",
        "    except Exception as e:\n",
        "        print(f\"Error computing indicators: {e}\")\n",
        "        raise e # Re-raise the exception after printing\n",
        "\n",
        "    return df\n",
        "\n",
        "def touch_dma(close, dma):\n",
        "    if pd.isna(dma) or pd.isna(close):\n",
        "        return False\n",
        "    return abs(close - dma) <= (DMA_HIT_TOL * dma)"
      ],
      "metadata": {
        "id": "chDewtKFWSHV"
      },
      "execution_count": 4,
      "outputs": []
    },
    {
      "cell_type": "code",
      "source": [
        "# backtest_symbol function modified to only generate trade signals\n",
        "def backtest_symbol(df, symbol):\n",
        "    trades = []   # record per-exit trade logs\n",
        "    entries = []  # open entries: list of dicts {entry_price, entry_date, entry_type}\n",
        "    # We allow up to 2 entries per symbol per life-cycle (20dma entry + possible 50dma add)\n",
        "    for idx in range(len(df)):\n",
        "        date = df.index[idx]\n",
        "        row = df.iloc[idx]\n",
        "        # skip until enough data for all indicators\n",
        "        if idx < MIN_ROWS:\n",
        "            continue\n",
        "        price = row['Close']\n",
        "        adx = row['adx']\n",
        "        plus_di = row['+di']  # Get +DI\n",
        "        minus_di = row['-di'] # Get -DI\n",
        "        dma20 = row['dma20']\n",
        "        dma50 = row['dma50']\n",
        "        atr = row['atr']\n",
        "        obv = row['obv'] # Get OBV\n",
        "        obv_ma20 = row['obv_ma20'] # Get OBV MA20\n",
        "\n",
        "\n",
        "        if any(pd.isna(x) for x in [price, adx, plus_di, minus_di, dma20, dma50, atr, obv, obv_ma20]): # Add +DI, -DI, OBV and OBV MA to check\n",
        "            continue\n",
        "\n",
        "        # compute the SL level for the current day (50dma - ATR)\n",
        "        sl_level = dma50 - atr\n",
        "\n",
        "        # ---------- check stop loss first ----------\n",
        "        if entries:\n",
        "            # If today's close breaches SL -> exit all entries at today's close\n",
        "            if price <= sl_level:\n",
        "                # Record each entry's exit\n",
        "                for e in entries:\n",
        "                    trades.append({\n",
        "                        'symbol': symbol,\n",
        "                        'entry_date': e['entry_date'],\n",
        "                        'entry_price': e['entry_price'],\n",
        "                        'exit_date': date,\n",
        "                        'exit_price': price,\n",
        "                        'reason': 'SL',\n",
        "                        'entry_type': e['entry_type'],\n",
        "                        'atr': atr, # Include ATR in trade signal\n",
        "                        'entry_adx': e['entry_adx'] # Include ADX at entry\n",
        "                    })\n",
        "                entries = []\n",
        "                # continue to next day\n",
        "                continue\n",
        "\n",
        "            # check DMA cross: if previously dma20 > dma50 and now dma20 < dma50 => trend flipped => exit\n",
        "            if idx >= 1:\n",
        "                prev = df.iloc[idx-1]\n",
        "                prev_dma20 = prev['dma20']; prev_dma50 = prev['dma50']\n",
        "                if prev_dma20 > prev_dma50 and dma20 < dma50:\n",
        "                    # exit all at today's close\n",
        "                    for e in entries:\n",
        "                        trades.append({\n",
        "                            'symbol': symbol,\n",
        "                            'entry_date': e['entry_date'],\n",
        "                            'entry_price': e['entry_price'],\n",
        "                            'exit_date': date,\n",
        "                            'exit_price': price,\n",
        "                            'reason': 'DMA_CROSS',\n",
        "                            'entry_type': e['entry_type'],\n",
        "                            'atr': atr, # Include ATR in trade signal\n",
        "                            'entry_adx': e['entry_adx'] # Include ADX at entry\n",
        "                        })\n",
        "                    entries = []\n",
        "                    continue\n",
        "\n",
        "\n",
        "        # ---------- no open entries: consider entry at 20DMA ----------\n",
        "        if not entries:\n",
        "            # require ADX > 25 and upward trend (dma20 > dma50) AND price touches 20dma AND OBV > OBV_MA20 AND +DI > -DI\n",
        "            if adx > 25 and dma20 > dma50 and touch_dma(price, dma20) and obv > obv_ma20 and plus_di > minus_di:\n",
        "                # open first entry\n",
        "                entries.append({\n",
        "                    'entry_price': price,\n",
        "                    'entry_date': date,\n",
        "                    'entry_type': '20dma',\n",
        "                    'entry_adx': adx # Record ADX at entry\n",
        "                })\n",
        "                continue\n",
        "\n",
        "        # ---------- if have one entry already, allow pyramid at 50DMA ----------\n",
        "        if entries and len(entries) == 1:\n",
        "            # require ADX > 25 and same upward trend AND price touches 50dma AND OBV > OBV_MA20 AND +DI > -DI\n",
        "            if adx > 25 and dma20 > dma50 and touch_dma(price, dma50) and obv > obv_ma20 and plus_di > minus_di:\n",
        "                entries.append({\n",
        "                    'entry_price': price,\n",
        "                    'entry_date': date,\n",
        "                    'entry_type': '50dma',\n",
        "                    'entry_adx': adx # Record ADX at entry\n",
        "                })\n",
        "                continue\n",
        "\n",
        "    # ------------- end loop days: if any entries remain, close at last close -------------\n",
        "    if entries:\n",
        "        last_price = df.iloc[-1]['Close']\n",
        "        last_adx = df.iloc[-1]['adx'] # Get last ADX\n",
        "        for e in entries:\n",
        "            trades.append({\n",
        "                'symbol': symbol,\n",
        "                'entry_date': e['entry_date'],\n",
        "                'entry_price': e['entry_price'],\n",
        "                'exit_date': df.index[-1],\n",
        "                'exit_price': last_price,\n",
        "                'reason': 'END',\n",
        "                'entry_type': e['entry_type'],\n",
        "                'atr': atr, # Include ATR in trade signal\n",
        "                'entry_adx': e['entry_adx'] # Include ADX at entry\n",
        "            })\n",
        "        entries = []\n",
        "\n",
        "    # Check for duplicate entries in the 'trades' list\n",
        "    seen = set()\n",
        "    duplicates = []\n",
        "    for trade in trades:\n",
        "        # Create a tuple of the trade's key attributes to check for duplicates\n",
        "        trade_key = (trade['symbol'], trade['entry_date'], trade['entry_price'], trade['exit_date'], trade['exit_price'], trade['reason'], trade['entry_type'])\n",
        "        if trade_key in seen:\n",
        "            duplicates.append(trade)\n",
        "        else:\n",
        "            seen.add(trade_key)\n",
        "\n",
        "    if duplicates:\n",
        "        print(f\"Duplicate trade entries found for {symbol}:\")\n",
        "        for dup in duplicates:\n",
        "            print(dup)\n",
        "\n",
        "    # Return the list of trade signals\n",
        "    return trades"
      ],
      "metadata": {
        "id": "gAxopVR8WdS_"
      },
      "execution_count": 5,
      "outputs": []
    },
    {
      "cell_type": "code",
      "source": [
        "# Load symbols_list from CSV\n",
        "import pandas as pd\n",
        "csv_path = \"/content/nifty_500.csv\"\n",
        "df = pd.read_csv(csv_path)\n",
        "# print(df) # Keep for debugging if needed\n",
        "\n",
        "# Extract symbols from the 'Symbol' column\n",
        "# Handle potential missing values and remove leading/trailing whitespace\n",
        "symbols_list = df['Symbol'].dropna().astype(str).str.strip().tolist()\n",
        "\n",
        "# Add \".NS\" to each symbol for compatibility with yfinance\n",
        "symbols_list = [symbol + \".NS\" for symbol in symbols_list]\n",
        "\n",
        "print(\"Tickers loaded:\", len(symbols_list))\n",
        "\n",
        "# First, download and save all data\n",
        "print(\"Downloading and saving price data...\")\n",
        "downloaded_symbols_list = []\n",
        "for sym in tqdm(symbols_list, desc=\"Downloading\"):\n",
        "    df = fetch_and_save_price_data(sym)\n",
        "    if df is not None and df.shape[0] >= MIN_ROWS:\n",
        "        downloaded_symbols_list.append(sym)\n",
        "\n",
        "print(f\"Successfully downloaded data for {len(downloaded_symbols_list)} symbols_list.\")\n",
        "\n",
        "# Collect all potential trade signals from backtest_symbol\n",
        "all_trade_signals = []\n",
        "\n",
        "print(\"Collecting trade signals using saved data...\")\n",
        "for sym in tqdm(downloaded_symbols_list, desc=\"Collecting Signals\"):\n",
        "    df = load_price_data(sym)\n",
        "    if df is None or df.shape[0] < MIN_ROWS:\n",
        "        print(f\"Skipping {sym} due to insufficient data after loading.\")\n",
        "        continue\n",
        "\n",
        "    try:\n",
        "        df = compute_indicators(df)\n",
        "        df.attrs['symbol'] = sym\n",
        "        # Call backtest_symbol to get potential trade signals\n",
        "        trade_signals = backtest_symbol(df, sym)\n",
        "\n",
        "        # Append signals from this symbol\n",
        "        for t in trade_signals:\n",
        "            all_trade_signals.append(t)\n",
        "\n",
        "    except ValueError as e:\n",
        "        print(f\"Skipping symbol {sym} due to error during indicator computation: {e}\")\n",
        "        continue\n",
        "    except Exception as e:\n",
        "        print(f\"An unexpected error occurred for symbol {sym}: {e}\")\n",
        "        continue\n",
        "\n",
        "all_trade_signals_df = pd.DataFrame(all_trade_signals)\n",
        "\n",
        "# Display the DataFrame\n",
        "display(all_trade_signals_df)\n",
        "\n",
        "# Remove duplicate trade signals before simulating\n",
        "print(\"Removing duplicate trade signals...\")\n",
        "seen_signals = set()\n",
        "unique_trade_signals = []\n",
        "for signal in all_trade_signals:\n",
        "    # Create a unique key for each signal based on relevant attributes\n",
        "    signal_key = (signal['symbol'], signal['entry_date'], signal['entry_price'], signal['exit_date'], signal['exit_price'], signal['reason'], signal['entry_type'])\n",
        "    if signal_key not in seen_signals:\n",
        "        unique_trade_signals.append(signal)\n",
        "        seen_signals.add(signal_key)\n",
        "    # Optional: Print detected duplicates\n",
        "    # else:\n",
        "    #     print(f\"Detected duplicate signal: {signal}\")\n",
        "\n",
        "print(f\"Original number of signals: {len(all_trade_signals)}\")\n",
        "print(f\"Number of unique signals: {len(unique_trade_signals)}\")"
      ],
      "metadata": {
        "colab": {
          "base_uri": "https://localhost:8080/",
          "height": 1000
        },
        "id": "F4VFrTX8WvPX",
        "outputId": "d9208b67-0977-4b69-9f66-56cac7ba9d34"
      },
      "execution_count": 6,
      "outputs": [
        {
          "output_type": "stream",
          "name": "stdout",
          "text": [
            "Tickers loaded: 501\n",
            "Downloading and saving price data...\n"
          ]
        },
        {
          "output_type": "stream",
          "name": "stderr",
          "text": [
            "Downloading:   2%|▏         | 12/501 [00:03<02:25,  3.37it/s]ERROR:yfinance:\n",
            "1 Failed download:\n",
            "ERROR:yfinance:['ADANITRANS.NS']: YFTzMissingError('possibly delisted; no timezone found')\n",
            "Downloading:   3%|▎         | 13/501 [00:04<02:45,  2.96it/s]"
          ]
        },
        {
          "output_type": "stream",
          "name": "stdout",
          "text": [
            "No data downloaded for ADANITRANS.NS\n"
          ]
        },
        {
          "output_type": "stream",
          "name": "stderr",
          "text": [
            "\rDownloading:   3%|▎         | 14/501 [00:04<02:26,  3.33it/s]ERROR:yfinance:\n",
            "1 Failed download:\n",
            "ERROR:yfinance:['AEGISCHEM.NS']: YFTzMissingError('possibly delisted; no timezone found')\n",
            "Downloading:   3%|▎         | 16/501 [00:04<02:19,  3.47it/s]"
          ]
        },
        {
          "output_type": "stream",
          "name": "stdout",
          "text": [
            "No data downloaded for AEGISCHEM.NS\n"
          ]
        },
        {
          "output_type": "stream",
          "name": "stderr",
          "text": [
            "Downloading:   4%|▍         | 22/501 [00:06<02:00,  3.98it/s]ERROR:yfinance:\n",
            "1 Failed download:\n",
            "ERROR:yfinance:['AMARAJABAT.NS']: YFTzMissingError('possibly delisted; no timezone found')\n",
            "Downloading:   5%|▍         | 24/501 [00:06<01:44,  4.55it/s]"
          ]
        },
        {
          "output_type": "stream",
          "name": "stdout",
          "text": [
            "No data downloaded for AMARAJABAT.NS\n"
          ]
        },
        {
          "output_type": "stream",
          "name": "stderr",
          "text": [
            "Downloading:  18%|█▊        | 88/501 [00:23<01:41,  4.06it/s]ERROR:yfinance:\n",
            "1 Failed download:\n",
            "ERROR:yfinance:['CENTURYTEX.NS']: YFTzMissingError('possibly delisted; no timezone found')\n",
            "Downloading:  18%|█▊        | 89/501 [00:23<01:40,  4.08it/s]"
          ]
        },
        {
          "output_type": "stream",
          "name": "stdout",
          "text": [
            "No data downloaded for CENTURYTEX.NS\n"
          ]
        },
        {
          "output_type": "stream",
          "name": "stderr",
          "text": [
            "Downloading:  32%|███▏      | 160/501 [00:42<01:32,  3.67it/s]ERROR:yfinance:\n",
            "1 Failed download:\n",
            "ERROR:yfinance:['GLS.NS']: YFTzMissingError('possibly delisted; no timezone found')\n",
            "Downloading:  32%|███▏      | 161/501 [00:42<01:24,  4.02it/s]"
          ]
        },
        {
          "output_type": "stream",
          "name": "stdout",
          "text": [
            "No data downloaded for GLS.NS\n"
          ]
        },
        {
          "output_type": "stream",
          "name": "stderr",
          "text": [
            "\rDownloading:  32%|███▏      | 162/501 [00:42<01:22,  4.10it/s]ERROR:yfinance:\n",
            "1 Failed download:\n",
            "ERROR:yfinance:['GMRINFRA.NS']: YFTzMissingError('possibly delisted; no timezone found')\n",
            "Downloading:  33%|███▎      | 163/501 [00:42<01:24,  4.01it/s]"
          ]
        },
        {
          "output_type": "stream",
          "name": "stdout",
          "text": [
            "No data downloaded for GMRINFRA.NS\n"
          ]
        },
        {
          "output_type": "stream",
          "name": "stderr",
          "text": [
            "Downloading:  37%|███▋      | 186/501 [00:48<01:19,  3.98it/s]ERROR:yfinance:\n",
            "1 Failed download:\n",
            "ERROR:yfinance:['HDFC.NS']: YFTzMissingError('possibly delisted; no timezone found')\n",
            "Downloading:  38%|███▊      | 188/501 [00:48<01:09,  4.47it/s]"
          ]
        },
        {
          "output_type": "stream",
          "name": "stdout",
          "text": [
            "No data downloaded for HDFC.NS\n"
          ]
        },
        {
          "output_type": "stream",
          "name": "stderr",
          "text": [
            "Downloading:  41%|████      | 206/501 [00:53<01:09,  4.27it/s]ERROR:yfinance:\n",
            "1 Failed download:\n",
            "ERROR:yfinance:['IBULHSGFIN.NS']: YFTzMissingError('possibly delisted; no timezone found')\n",
            "Downloading:  41%|████▏     | 207/501 [00:53<01:10,  4.17it/s]"
          ]
        },
        {
          "output_type": "stream",
          "name": "stdout",
          "text": [
            "No data downloaded for IBULHSGFIN.NS\n"
          ]
        },
        {
          "output_type": "stream",
          "name": "stderr",
          "text": [
            "Downloading:  43%|████▎     | 213/501 [00:54<01:04,  4.43it/s]ERROR:yfinance:\n",
            "1 Failed download:\n",
            "ERROR:yfinance:['IDFC.NS']: YFTzMissingError('possibly delisted; no timezone found')\n",
            "Downloading:  43%|████▎     | 214/501 [00:55<01:05,  4.40it/s]"
          ]
        },
        {
          "output_type": "stream",
          "name": "stdout",
          "text": [
            "No data downloaded for IDFC.NS\n"
          ]
        },
        {
          "output_type": "stream",
          "name": "stderr",
          "text": [
            "Downloading:  44%|████▎     | 219/501 [00:56<01:05,  4.33it/s]ERROR:yfinance:\n",
            "1 Failed download:\n",
            "ERROR:yfinance:['IIFLWAM.NS']: YFTzMissingError('possibly delisted; no timezone found')\n",
            "Downloading:  44%|████▍     | 220/501 [00:56<01:04,  4.33it/s]"
          ]
        },
        {
          "output_type": "stream",
          "name": "stdout",
          "text": [
            "No data downloaded for IIFLWAM.NS\n"
          ]
        },
        {
          "output_type": "stream",
          "name": "stderr",
          "text": [
            "Downloading:  52%|█████▏    | 259/501 [01:05<00:57,  4.19it/s]ERROR:yfinance:\n",
            "1 Failed download:\n",
            "ERROR:yfinance:['KALPATPOWR.NS']: YFTzMissingError('possibly delisted; no timezone found')\n",
            "Downloading:  52%|█████▏    | 261/501 [01:06<00:51,  4.66it/s]"
          ]
        },
        {
          "output_type": "stream",
          "name": "stdout",
          "text": [
            "No data downloaded for KALPATPOWR.NS\n"
          ]
        },
        {
          "output_type": "stream",
          "name": "stderr",
          "text": [
            "Downloading:  54%|█████▍    | 271/501 [01:08<00:57,  3.98it/s]ERROR:yfinance:\n",
            "1 Failed download:\n",
            "ERROR:yfinance:['L&TFH.NS']: YFTzMissingError('possibly delisted; no timezone found')\n",
            "Downloading:  54%|█████▍    | 272/501 [01:09<01:00,  3.80it/s]"
          ]
        },
        {
          "output_type": "stream",
          "name": "stdout",
          "text": [
            "No data downloaded for L&TFH.NS\n"
          ]
        },
        {
          "output_type": "stream",
          "name": "stderr",
          "text": [
            "Downloading:  55%|█████▍    | 275/501 [01:09<00:53,  4.23it/s]ERROR:yfinance:\n",
            "1 Failed download:\n",
            "ERROR:yfinance:['LAXMIMACH.NS']: YFTzMissingError('possibly delisted; no timezone found')\n",
            "Downloading:  55%|█████▌    | 276/501 [01:09<00:50,  4.44it/s]"
          ]
        },
        {
          "output_type": "stream",
          "name": "stdout",
          "text": [
            "No data downloaded for LAXMIMACH.NS\n"
          ]
        },
        {
          "output_type": "stream",
          "name": "stderr",
          "text": [
            "Downloading:  56%|█████▌    | 280/501 [01:10<00:54,  4.05it/s]ERROR:yfinance:\n",
            "1 Failed download:\n",
            "ERROR:yfinance:['LTI.NS']: YFTzMissingError('possibly delisted; no timezone found')\n",
            "Downloading:  56%|█████▌    | 281/501 [01:11<00:53,  4.13it/s]"
          ]
        },
        {
          "output_type": "stream",
          "name": "stdout",
          "text": [
            "No data downloaded for LTI.NS\n"
          ]
        },
        {
          "output_type": "stream",
          "name": "stderr",
          "text": [
            "Downloading:  57%|█████▋    | 288/501 [01:12<00:55,  3.84it/s]ERROR:yfinance:\n",
            "1 Failed download:\n",
            "ERROR:yfinance:['MAHINDCIE.NS']: YFTzMissingError('possibly delisted; no timezone found')\n",
            "Downloading:  58%|█████▊    | 290/501 [01:13<00:49,  4.23it/s]"
          ]
        },
        {
          "output_type": "stream",
          "name": "stdout",
          "text": [
            "No data downloaded for MAHINDCIE.NS\n"
          ]
        },
        {
          "output_type": "stream",
          "name": "stderr",
          "text": [
            "Downloading:  59%|█████▉    | 297/501 [01:15<00:47,  4.28it/s]ERROR:yfinance:\n",
            "1 Failed download:\n",
            "ERROR:yfinance:['MCDOWELL-N.NS']: YFTzMissingError('possibly delisted; no timezone found')\n",
            "Downloading:  59%|█████▉    | 298/501 [01:15<00:47,  4.27it/s]"
          ]
        },
        {
          "output_type": "stream",
          "name": "stdout",
          "text": [
            "No data downloaded for MCDOWELL-N.NS\n"
          ]
        },
        {
          "output_type": "stream",
          "name": "stderr",
          "text": [
            "Downloading:  61%|██████    | 305/501 [01:16<00:43,  4.46it/s]ERROR:yfinance:\n",
            "1 Failed download:\n",
            "ERROR:yfinance:['MINDAIND.NS']: YFTzMissingError('possibly delisted; no timezone found')\n",
            "Downloading:  61%|██████    | 306/501 [01:17<00:41,  4.66it/s]"
          ]
        },
        {
          "output_type": "stream",
          "name": "stdout",
          "text": [
            "No data downloaded for MINDAIND.NS\n"
          ]
        },
        {
          "output_type": "stream",
          "name": "stderr",
          "text": [
            "ERROR:yfinance:\n",
            "1 Failed download:\n",
            "ERROR:yfinance:['MINDTREE.NS']: YFTzMissingError('possibly delisted; no timezone found')\n",
            "Downloading:  61%|██████▏   | 307/501 [01:17<00:42,  4.55it/s]"
          ]
        },
        {
          "output_type": "stream",
          "name": "stdout",
          "text": [
            "No data downloaded for MINDTREE.NS\n"
          ]
        },
        {
          "output_type": "stream",
          "name": "stderr",
          "text": [
            "Downloading:  73%|███████▎  | 368/501 [01:43<00:30,  4.31it/s]ERROR:yfinance:\n",
            "1 Failed download:\n",
            "ERROR:yfinance:['PVR.NS']: YFTzMissingError('possibly delisted; no timezone found')\n",
            "Downloading:  74%|███████▍  | 370/501 [01:43<00:28,  4.64it/s]"
          ]
        },
        {
          "output_type": "stream",
          "name": "stdout",
          "text": [
            "No data downloaded for PVR.NS\n"
          ]
        },
        {
          "output_type": "stream",
          "name": "stderr",
          "text": [
            "Downloading:  81%|████████  | 404/501 [01:52<00:23,  4.06it/s]ERROR:yfinance:\n",
            "1 Failed download:\n",
            "ERROR:yfinance:['SHRIRAMCIT.NS']: YFTzMissingError('possibly delisted; no timezone found')\n",
            "Downloading:  81%|████████  | 406/501 [01:52<00:21,  4.35it/s]"
          ]
        },
        {
          "output_type": "stream",
          "name": "stdout",
          "text": [
            "No data downloaded for SHRIRAMCIT.NS\n"
          ]
        },
        {
          "output_type": "stream",
          "name": "stderr",
          "text": [
            "Downloading:  83%|████████▎ | 418/501 [01:55<00:18,  4.42it/s]ERROR:yfinance:\n",
            "1 Failed download:\n",
            "ERROR:yfinance:['SRTRANSFIN.NS']: YFTzMissingError('possibly delisted; no timezone found')\n",
            "Downloading:  84%|████████▎ | 419/501 [01:55<00:17,  4.65it/s]"
          ]
        },
        {
          "output_type": "stream",
          "name": "stdout",
          "text": [
            "No data downloaded for SRTRANSFIN.NS\n"
          ]
        },
        {
          "output_type": "stream",
          "name": "stderr",
          "text": [
            "Downloading:  86%|████████▌ | 431/501 [01:58<00:19,  3.60it/s]ERROR:yfinance:\n",
            "1 Failed download:\n",
            "ERROR:yfinance:['SUVENPHAR.NS']: YFTzMissingError('possibly delisted; no timezone found')\n",
            "Downloading:  86%|████████▌ | 432/501 [01:58<00:18,  3.71it/s]"
          ]
        },
        {
          "output_type": "stream",
          "name": "stdout",
          "text": [
            "No data downloaded for SUVENPHAR.NS\n"
          ]
        },
        {
          "output_type": "stream",
          "name": "stderr",
          "text": [
            "Downloading:  89%|████████▊ | 444/501 [02:01<00:14,  3.81it/s]ERROR:yfinance:\n",
            "1 Failed download:\n",
            "ERROR:yfinance:['TATAMTRDVR.NS']: YFTzMissingError('possibly delisted; no timezone found')\n",
            "Downloading:  89%|████████▉ | 445/501 [02:02<00:13,  4.09it/s]"
          ]
        },
        {
          "output_type": "stream",
          "name": "stdout",
          "text": [
            "No data downloaded for TATAMTRDVR.NS\n"
          ]
        },
        {
          "output_type": "stream",
          "name": "stderr",
          "text": [
            "Downloading:  89%|████████▉ | 447/501 [02:02<00:14,  3.76it/s]ERROR:yfinance:\n",
            "1 Failed download:\n",
            "ERROR:yfinance:['TATASTLLP.NS']: YFTzMissingError('possibly delisted; no timezone found')\n",
            "Downloading:  89%|████████▉ | 448/501 [02:03<00:17,  3.04it/s]"
          ]
        },
        {
          "output_type": "stream",
          "name": "stdout",
          "text": [
            "No data downloaded for TATASTLLP.NS\n"
          ]
        },
        {
          "output_type": "stream",
          "name": "stderr",
          "text": [
            "\rDownloading:  90%|████████▉ | 449/501 [02:03<00:15,  3.33it/s]ERROR:yfinance:\n",
            "1 Failed download:\n",
            "ERROR:yfinance:['TCNSBRANDS.NS']: YFTzMissingError('possibly delisted; no timezone found')\n",
            "Downloading:  90%|████████▉ | 450/501 [02:03<00:13,  3.66it/s]"
          ]
        },
        {
          "output_type": "stream",
          "name": "stdout",
          "text": [
            "No data downloaded for TCNSBRANDS.NS\n"
          ]
        },
        {
          "output_type": "stream",
          "name": "stderr",
          "text": [
            "Downloading:  93%|█████████▎| 466/501 [02:07<00:08,  4.05it/s]ERROR:yfinance:\n",
            "1 Failed download:\n",
            "ERROR:yfinance:['TV18BRDCST.NS']: YFTzMissingError('possibly delisted; no timezone found')\n",
            "Downloading:  93%|█████████▎| 467/501 [02:07<00:08,  3.92it/s]"
          ]
        },
        {
          "output_type": "stream",
          "name": "stdout",
          "text": [
            "No data downloaded for TV18BRDCST.NS\n"
          ]
        },
        {
          "output_type": "stream",
          "name": "stderr",
          "text": [
            "Downloading:  98%|█████████▊| 489/501 [02:13<00:02,  4.21it/s]ERROR:yfinance:\n",
            "1 Failed download:\n",
            "ERROR:yfinance:['WELSPUNIND.NS']: YFTzMissingError('possibly delisted; no timezone found')\n",
            "Downloading:  98%|█████████▊| 490/501 [02:13<00:02,  4.46it/s]"
          ]
        },
        {
          "output_type": "stream",
          "name": "stdout",
          "text": [
            "No data downloaded for WELSPUNIND.NS\n"
          ]
        },
        {
          "output_type": "stream",
          "name": "stderr",
          "text": [
            "Downloading:  99%|█████████▉| 498/501 [02:15<00:00,  4.08it/s]ERROR:yfinance:\n",
            "1 Failed download:\n",
            "ERROR:yfinance:['ZOMATO.NS']: YFTzMissingError('possibly delisted; no timezone found')\n",
            "Downloading: 100%|█████████▉| 499/501 [02:15<00:00,  4.10it/s]"
          ]
        },
        {
          "output_type": "stream",
          "name": "stdout",
          "text": [
            "No data downloaded for ZOMATO.NS\n"
          ]
        },
        {
          "output_type": "stream",
          "name": "stderr",
          "text": [
            "Downloading: 100%|██████████| 501/501 [02:16<00:00,  3.68it/s]\n"
          ]
        },
        {
          "output_type": "stream",
          "name": "stdout",
          "text": [
            "Successfully downloaded data for 471 symbols_list.\n",
            "Collecting trade signals using saved data...\n"
          ]
        },
        {
          "output_type": "stream",
          "name": "stderr",
          "text": [
            "Collecting Signals:   0%|          | 1/471 [00:00<01:12,  6.52it/s]"
          ]
        },
        {
          "output_type": "stream",
          "name": "stdout",
          "text": [
            "Index type in compute_indicators: <class 'pandas.core.indexes.datetimes.DatetimeIndex'>\n",
            "Index type in compute_indicators: <class 'pandas.core.indexes.datetimes.DatetimeIndex'>\n"
          ]
        },
        {
          "output_type": "stream",
          "name": "stderr",
          "text": [
            "Collecting Signals:   1%|          | 3/471 [00:00<01:02,  7.45it/s]"
          ]
        },
        {
          "output_type": "stream",
          "name": "stdout",
          "text": [
            "Index type in compute_indicators: <class 'pandas.core.indexes.datetimes.DatetimeIndex'>\n",
            "Index type in compute_indicators: <class 'pandas.core.indexes.datetimes.DatetimeIndex'>\n"
          ]
        },
        {
          "output_type": "stream",
          "name": "stderr",
          "text": [
            "Collecting Signals:   1%|          | 5/471 [00:00<00:57,  8.06it/s]"
          ]
        },
        {
          "output_type": "stream",
          "name": "stdout",
          "text": [
            "Index type in compute_indicators: <class 'pandas.core.indexes.datetimes.DatetimeIndex'>\n",
            "Index type in compute_indicators: <class 'pandas.core.indexes.datetimes.DatetimeIndex'>\n"
          ]
        },
        {
          "output_type": "stream",
          "name": "stderr",
          "text": [
            "Collecting Signals:   1%|▏         | 7/471 [00:00<00:56,  8.22it/s]"
          ]
        },
        {
          "output_type": "stream",
          "name": "stdout",
          "text": [
            "Index type in compute_indicators: <class 'pandas.core.indexes.datetimes.DatetimeIndex'>\n",
            "Index type in compute_indicators: <class 'pandas.core.indexes.datetimes.DatetimeIndex'>\n"
          ]
        },
        {
          "output_type": "stream",
          "name": "stderr",
          "text": [
            "Collecting Signals:   2%|▏         | 9/471 [00:01<01:01,  7.57it/s]"
          ]
        },
        {
          "output_type": "stream",
          "name": "stdout",
          "text": [
            "Index type in compute_indicators: <class 'pandas.core.indexes.datetimes.DatetimeIndex'>\n",
            "Index type in compute_indicators: <class 'pandas.core.indexes.datetimes.DatetimeIndex'>\n"
          ]
        },
        {
          "output_type": "stream",
          "name": "stderr",
          "text": [
            "Collecting Signals:   2%|▏         | 11/471 [00:01<00:58,  7.88it/s]"
          ]
        },
        {
          "output_type": "stream",
          "name": "stdout",
          "text": [
            "Index type in compute_indicators: <class 'pandas.core.indexes.datetimes.DatetimeIndex'>\n",
            "Index type in compute_indicators: <class 'pandas.core.indexes.datetimes.DatetimeIndex'>\n"
          ]
        },
        {
          "output_type": "stream",
          "name": "stderr",
          "text": [
            "Collecting Signals:   3%|▎         | 13/471 [00:01<00:58,  7.77it/s]"
          ]
        },
        {
          "output_type": "stream",
          "name": "stdout",
          "text": [
            "Index type in compute_indicators: <class 'pandas.core.indexes.datetimes.DatetimeIndex'>\n",
            "Index type in compute_indicators: <class 'pandas.core.indexes.datetimes.DatetimeIndex'>\n"
          ]
        },
        {
          "output_type": "stream",
          "name": "stderr",
          "text": [
            "Collecting Signals:   3%|▎         | 15/471 [00:01<00:59,  7.71it/s]"
          ]
        },
        {
          "output_type": "stream",
          "name": "stdout",
          "text": [
            "Index type in compute_indicators: <class 'pandas.core.indexes.datetimes.DatetimeIndex'>\n",
            "Index type in compute_indicators: <class 'pandas.core.indexes.datetimes.DatetimeIndex'>\n"
          ]
        },
        {
          "output_type": "stream",
          "name": "stderr",
          "text": [
            "Collecting Signals:   4%|▎         | 17/471 [00:02<01:02,  7.22it/s]"
          ]
        },
        {
          "output_type": "stream",
          "name": "stdout",
          "text": [
            "Index type in compute_indicators: <class 'pandas.core.indexes.datetimes.DatetimeIndex'>\n",
            "Index type in compute_indicators: <class 'pandas.core.indexes.datetimes.DatetimeIndex'>\n"
          ]
        },
        {
          "output_type": "stream",
          "name": "stderr",
          "text": [
            "Collecting Signals:   4%|▍         | 19/471 [00:02<00:59,  7.65it/s]"
          ]
        },
        {
          "output_type": "stream",
          "name": "stdout",
          "text": [
            "Index type in compute_indicators: <class 'pandas.core.indexes.datetimes.DatetimeIndex'>\n",
            "Index type in compute_indicators: <class 'pandas.core.indexes.datetimes.DatetimeIndex'>\n"
          ]
        },
        {
          "output_type": "stream",
          "name": "stderr",
          "text": [
            "Collecting Signals:   4%|▍         | 21/471 [00:02<00:58,  7.63it/s]"
          ]
        },
        {
          "output_type": "stream",
          "name": "stdout",
          "text": [
            "Index type in compute_indicators: <class 'pandas.core.indexes.datetimes.DatetimeIndex'>\n",
            "Index type in compute_indicators: <class 'pandas.core.indexes.datetimes.DatetimeIndex'>\n"
          ]
        },
        {
          "output_type": "stream",
          "name": "stderr",
          "text": [
            "Collecting Signals:   5%|▍         | 23/471 [00:02<00:56,  7.98it/s]"
          ]
        },
        {
          "output_type": "stream",
          "name": "stdout",
          "text": [
            "Index type in compute_indicators: <class 'pandas.core.indexes.datetimes.DatetimeIndex'>\n",
            "Index type in compute_indicators: <class 'pandas.core.indexes.datetimes.DatetimeIndex'>\n"
          ]
        },
        {
          "output_type": "stream",
          "name": "stderr",
          "text": [
            "Collecting Signals:   5%|▌         | 25/471 [00:03<00:58,  7.60it/s]"
          ]
        },
        {
          "output_type": "stream",
          "name": "stdout",
          "text": [
            "Index type in compute_indicators: <class 'pandas.core.indexes.datetimes.DatetimeIndex'>\n",
            "Index type in compute_indicators: <class 'pandas.core.indexes.datetimes.DatetimeIndex'>\n"
          ]
        },
        {
          "output_type": "stream",
          "name": "stderr",
          "text": [
            "Collecting Signals:   6%|▌         | 27/471 [00:03<00:57,  7.74it/s]"
          ]
        },
        {
          "output_type": "stream",
          "name": "stdout",
          "text": [
            "Index type in compute_indicators: <class 'pandas.core.indexes.datetimes.DatetimeIndex'>\n",
            "Index type in compute_indicators: <class 'pandas.core.indexes.datetimes.DatetimeIndex'>\n"
          ]
        },
        {
          "output_type": "stream",
          "name": "stderr",
          "text": [
            "Collecting Signals:   6%|▌         | 29/471 [00:03<00:56,  7.79it/s]"
          ]
        },
        {
          "output_type": "stream",
          "name": "stdout",
          "text": [
            "Index type in compute_indicators: <class 'pandas.core.indexes.datetimes.DatetimeIndex'>\n",
            "Index type in compute_indicators: <class 'pandas.core.indexes.datetimes.DatetimeIndex'>\n"
          ]
        },
        {
          "output_type": "stream",
          "name": "stderr",
          "text": [
            "Collecting Signals:   7%|▋         | 31/471 [00:04<00:55,  7.93it/s]"
          ]
        },
        {
          "output_type": "stream",
          "name": "stdout",
          "text": [
            "Index type in compute_indicators: <class 'pandas.core.indexes.datetimes.DatetimeIndex'>\n",
            "Index type in compute_indicators: <class 'pandas.core.indexes.datetimes.DatetimeIndex'>\n"
          ]
        },
        {
          "output_type": "stream",
          "name": "stderr",
          "text": [
            "Collecting Signals:   7%|▋         | 33/471 [00:04<00:59,  7.34it/s]"
          ]
        },
        {
          "output_type": "stream",
          "name": "stdout",
          "text": [
            "Index type in compute_indicators: <class 'pandas.core.indexes.datetimes.DatetimeIndex'>\n",
            "Index type in compute_indicators: <class 'pandas.core.indexes.datetimes.DatetimeIndex'>\n"
          ]
        },
        {
          "output_type": "stream",
          "name": "stderr",
          "text": [
            "Collecting Signals:   7%|▋         | 35/471 [00:04<00:57,  7.55it/s]"
          ]
        },
        {
          "output_type": "stream",
          "name": "stdout",
          "text": [
            "Index type in compute_indicators: <class 'pandas.core.indexes.datetimes.DatetimeIndex'>\n",
            "Index type in compute_indicators: <class 'pandas.core.indexes.datetimes.DatetimeIndex'>\n"
          ]
        },
        {
          "output_type": "stream",
          "name": "stderr",
          "text": [
            "Collecting Signals:   8%|▊         | 37/471 [00:04<01:09,  6.24it/s]"
          ]
        },
        {
          "output_type": "stream",
          "name": "stdout",
          "text": [
            "Index type in compute_indicators: <class 'pandas.core.indexes.datetimes.DatetimeIndex'>\n",
            "Index type in compute_indicators: <class 'pandas.core.indexes.datetimes.DatetimeIndex'>\n"
          ]
        },
        {
          "output_type": "stream",
          "name": "stderr",
          "text": [
            "\rCollecting Signals:   8%|▊         | 38/471 [00:05<01:15,  5.77it/s]"
          ]
        },
        {
          "output_type": "stream",
          "name": "stdout",
          "text": [
            "Index type in compute_indicators: <class 'pandas.core.indexes.datetimes.DatetimeIndex'>\n"
          ]
        },
        {
          "output_type": "stream",
          "name": "stderr",
          "text": [
            "\rCollecting Signals:   8%|▊         | 39/471 [00:05<01:20,  5.33it/s]"
          ]
        },
        {
          "output_type": "stream",
          "name": "stdout",
          "text": [
            "Index type in compute_indicators: <class 'pandas.core.indexes.datetimes.DatetimeIndex'>\n"
          ]
        },
        {
          "output_type": "stream",
          "name": "stderr",
          "text": [
            "Collecting Signals:   9%|▊         | 41/471 [00:05<01:25,  5.06it/s]"
          ]
        },
        {
          "output_type": "stream",
          "name": "stdout",
          "text": [
            "Index type in compute_indicators: <class 'pandas.core.indexes.datetimes.DatetimeIndex'>\n",
            "Index type in compute_indicators: <class 'pandas.core.indexes.datetimes.DatetimeIndex'>\n"
          ]
        },
        {
          "output_type": "stream",
          "name": "stderr",
          "text": [
            "Collecting Signals:   9%|▉         | 43/471 [00:06<01:23,  5.13it/s]"
          ]
        },
        {
          "output_type": "stream",
          "name": "stdout",
          "text": [
            "Index type in compute_indicators: <class 'pandas.core.indexes.datetimes.DatetimeIndex'>\n",
            "Index type in compute_indicators: <class 'pandas.core.indexes.datetimes.DatetimeIndex'>\n"
          ]
        },
        {
          "output_type": "stream",
          "name": "stderr",
          "text": [
            "\rCollecting Signals:   9%|▉         | 44/471 [00:06<01:22,  5.15it/s]"
          ]
        },
        {
          "output_type": "stream",
          "name": "stdout",
          "text": [
            "Index type in compute_indicators: <class 'pandas.core.indexes.datetimes.DatetimeIndex'>\n"
          ]
        },
        {
          "output_type": "stream",
          "name": "stderr",
          "text": [
            "\rCollecting Signals:  10%|▉         | 45/471 [00:06<01:30,  4.69it/s]"
          ]
        },
        {
          "output_type": "stream",
          "name": "stdout",
          "text": [
            "Index type in compute_indicators: <class 'pandas.core.indexes.datetimes.DatetimeIndex'>\n"
          ]
        },
        {
          "output_type": "stream",
          "name": "stderr",
          "text": [
            "Collecting Signals:  10%|▉         | 47/471 [00:07<01:29,  4.74it/s]"
          ]
        },
        {
          "output_type": "stream",
          "name": "stdout",
          "text": [
            "Index type in compute_indicators: <class 'pandas.core.indexes.datetimes.DatetimeIndex'>\n",
            "Index type in compute_indicators: <class 'pandas.core.indexes.datetimes.DatetimeIndex'>\n"
          ]
        },
        {
          "output_type": "stream",
          "name": "stderr",
          "text": [
            "\rCollecting Signals:  10%|█         | 48/471 [00:07<01:31,  4.64it/s]"
          ]
        },
        {
          "output_type": "stream",
          "name": "stdout",
          "text": [
            "Index type in compute_indicators: <class 'pandas.core.indexes.datetimes.DatetimeIndex'>\n"
          ]
        },
        {
          "output_type": "stream",
          "name": "stderr",
          "text": [
            "Collecting Signals:  11%|█         | 50/471 [00:07<01:23,  5.07it/s]"
          ]
        },
        {
          "output_type": "stream",
          "name": "stdout",
          "text": [
            "Index type in compute_indicators: <class 'pandas.core.indexes.datetimes.DatetimeIndex'>\n",
            "Index type in compute_indicators: <class 'pandas.core.indexes.datetimes.DatetimeIndex'>\n"
          ]
        },
        {
          "output_type": "stream",
          "name": "stderr",
          "text": [
            "Collecting Signals:  11%|█         | 52/471 [00:07<01:06,  6.34it/s]"
          ]
        },
        {
          "output_type": "stream",
          "name": "stdout",
          "text": [
            "Index type in compute_indicators: <class 'pandas.core.indexes.datetimes.DatetimeIndex'>\n",
            "Index type in compute_indicators: <class 'pandas.core.indexes.datetimes.DatetimeIndex'>\n"
          ]
        },
        {
          "output_type": "stream",
          "name": "stderr",
          "text": [
            "Collecting Signals:  11%|█▏        | 54/471 [00:08<00:58,  7.13it/s]"
          ]
        },
        {
          "output_type": "stream",
          "name": "stdout",
          "text": [
            "Index type in compute_indicators: <class 'pandas.core.indexes.datetimes.DatetimeIndex'>\n",
            "Index type in compute_indicators: <class 'pandas.core.indexes.datetimes.DatetimeIndex'>\n"
          ]
        },
        {
          "output_type": "stream",
          "name": "stderr",
          "text": [
            "Collecting Signals:  12%|█▏        | 56/471 [00:08<00:56,  7.38it/s]"
          ]
        },
        {
          "output_type": "stream",
          "name": "stdout",
          "text": [
            "Index type in compute_indicators: <class 'pandas.core.indexes.datetimes.DatetimeIndex'>\n",
            "Index type in compute_indicators: <class 'pandas.core.indexes.datetimes.DatetimeIndex'>\n"
          ]
        },
        {
          "output_type": "stream",
          "name": "stderr",
          "text": [
            "Collecting Signals:  12%|█▏        | 58/471 [00:08<00:56,  7.32it/s]"
          ]
        },
        {
          "output_type": "stream",
          "name": "stdout",
          "text": [
            "Index type in compute_indicators: <class 'pandas.core.indexes.datetimes.DatetimeIndex'>\n",
            "Index type in compute_indicators: <class 'pandas.core.indexes.datetimes.DatetimeIndex'>\n"
          ]
        },
        {
          "output_type": "stream",
          "name": "stderr",
          "text": [
            "Collecting Signals:  13%|█▎        | 60/471 [00:08<00:53,  7.71it/s]"
          ]
        },
        {
          "output_type": "stream",
          "name": "stdout",
          "text": [
            "Index type in compute_indicators: <class 'pandas.core.indexes.datetimes.DatetimeIndex'>\n",
            "Index type in compute_indicators: <class 'pandas.core.indexes.datetimes.DatetimeIndex'>\n"
          ]
        },
        {
          "output_type": "stream",
          "name": "stderr",
          "text": [
            "Collecting Signals:  13%|█▎        | 62/471 [00:09<00:53,  7.71it/s]"
          ]
        },
        {
          "output_type": "stream",
          "name": "stdout",
          "text": [
            "Index type in compute_indicators: <class 'pandas.core.indexes.datetimes.DatetimeIndex'>\n",
            "Index type in compute_indicators: <class 'pandas.core.indexes.datetimes.DatetimeIndex'>\n"
          ]
        },
        {
          "output_type": "stream",
          "name": "stderr",
          "text": [
            "Collecting Signals:  14%|█▎        | 64/471 [00:09<00:52,  7.72it/s]"
          ]
        },
        {
          "output_type": "stream",
          "name": "stdout",
          "text": [
            "Index type in compute_indicators: <class 'pandas.core.indexes.datetimes.DatetimeIndex'>\n",
            "Index type in compute_indicators: <class 'pandas.core.indexes.datetimes.DatetimeIndex'>\n"
          ]
        },
        {
          "output_type": "stream",
          "name": "stderr",
          "text": [
            "Collecting Signals:  14%|█▍        | 66/471 [00:09<00:53,  7.50it/s]"
          ]
        },
        {
          "output_type": "stream",
          "name": "stdout",
          "text": [
            "Index type in compute_indicators: <class 'pandas.core.indexes.datetimes.DatetimeIndex'>\n",
            "Index type in compute_indicators: <class 'pandas.core.indexes.datetimes.DatetimeIndex'>\n"
          ]
        },
        {
          "output_type": "stream",
          "name": "stderr",
          "text": [
            "Collecting Signals:  14%|█▍        | 68/471 [00:09<00:52,  7.71it/s]"
          ]
        },
        {
          "output_type": "stream",
          "name": "stdout",
          "text": [
            "Index type in compute_indicators: <class 'pandas.core.indexes.datetimes.DatetimeIndex'>\n",
            "Index type in compute_indicators: <class 'pandas.core.indexes.datetimes.DatetimeIndex'>\n"
          ]
        },
        {
          "output_type": "stream",
          "name": "stderr",
          "text": [
            "Collecting Signals:  15%|█▍        | 70/471 [00:10<00:52,  7.68it/s]"
          ]
        },
        {
          "output_type": "stream",
          "name": "stdout",
          "text": [
            "Index type in compute_indicators: <class 'pandas.core.indexes.datetimes.DatetimeIndex'>\n",
            "Index type in compute_indicators: <class 'pandas.core.indexes.datetimes.DatetimeIndex'>\n"
          ]
        },
        {
          "output_type": "stream",
          "name": "stderr",
          "text": [
            "Collecting Signals:  15%|█▌        | 72/471 [00:10<00:52,  7.54it/s]"
          ]
        },
        {
          "output_type": "stream",
          "name": "stdout",
          "text": [
            "Index type in compute_indicators: <class 'pandas.core.indexes.datetimes.DatetimeIndex'>\n",
            "Index type in compute_indicators: <class 'pandas.core.indexes.datetimes.DatetimeIndex'>\n"
          ]
        },
        {
          "output_type": "stream",
          "name": "stderr",
          "text": [
            "Collecting Signals:  16%|█▌        | 74/471 [00:10<00:54,  7.30it/s]"
          ]
        },
        {
          "output_type": "stream",
          "name": "stdout",
          "text": [
            "Index type in compute_indicators: <class 'pandas.core.indexes.datetimes.DatetimeIndex'>\n",
            "Index type in compute_indicators: <class 'pandas.core.indexes.datetimes.DatetimeIndex'>\n"
          ]
        },
        {
          "output_type": "stream",
          "name": "stderr",
          "text": [
            "Collecting Signals:  16%|█▌        | 76/471 [00:11<00:52,  7.50it/s]"
          ]
        },
        {
          "output_type": "stream",
          "name": "stdout",
          "text": [
            "Index type in compute_indicators: <class 'pandas.core.indexes.datetimes.DatetimeIndex'>\n",
            "Index type in compute_indicators: <class 'pandas.core.indexes.datetimes.DatetimeIndex'>\n"
          ]
        },
        {
          "output_type": "stream",
          "name": "stderr",
          "text": [
            "Collecting Signals:  17%|█▋        | 78/471 [00:11<00:50,  7.71it/s]"
          ]
        },
        {
          "output_type": "stream",
          "name": "stdout",
          "text": [
            "Index type in compute_indicators: <class 'pandas.core.indexes.datetimes.DatetimeIndex'>\n",
            "Index type in compute_indicators: <class 'pandas.core.indexes.datetimes.DatetimeIndex'>\n"
          ]
        },
        {
          "output_type": "stream",
          "name": "stderr",
          "text": [
            "Collecting Signals:  17%|█▋        | 80/471 [00:11<00:49,  7.86it/s]"
          ]
        },
        {
          "output_type": "stream",
          "name": "stdout",
          "text": [
            "Index type in compute_indicators: <class 'pandas.core.indexes.datetimes.DatetimeIndex'>\n",
            "Index type in compute_indicators: <class 'pandas.core.indexes.datetimes.DatetimeIndex'>\n"
          ]
        },
        {
          "output_type": "stream",
          "name": "stderr",
          "text": [
            "Collecting Signals:  17%|█▋        | 82/471 [00:11<00:52,  7.44it/s]"
          ]
        },
        {
          "output_type": "stream",
          "name": "stdout",
          "text": [
            "Index type in compute_indicators: <class 'pandas.core.indexes.datetimes.DatetimeIndex'>\n",
            "Index type in compute_indicators: <class 'pandas.core.indexes.datetimes.DatetimeIndex'>\n"
          ]
        },
        {
          "output_type": "stream",
          "name": "stderr",
          "text": [
            "Collecting Signals:  18%|█▊        | 84/471 [00:12<00:50,  7.60it/s]"
          ]
        },
        {
          "output_type": "stream",
          "name": "stdout",
          "text": [
            "Index type in compute_indicators: <class 'pandas.core.indexes.datetimes.DatetimeIndex'>\n",
            "Index type in compute_indicators: <class 'pandas.core.indexes.datetimes.DatetimeIndex'>\n"
          ]
        },
        {
          "output_type": "stream",
          "name": "stderr",
          "text": [
            "Collecting Signals:  18%|█▊        | 86/471 [00:12<00:50,  7.69it/s]"
          ]
        },
        {
          "output_type": "stream",
          "name": "stdout",
          "text": [
            "Index type in compute_indicators: <class 'pandas.core.indexes.datetimes.DatetimeIndex'>\n",
            "Index type in compute_indicators: <class 'pandas.core.indexes.datetimes.DatetimeIndex'>\n"
          ]
        },
        {
          "output_type": "stream",
          "name": "stderr",
          "text": [
            "Collecting Signals:  19%|█▊        | 88/471 [00:12<00:49,  7.71it/s]"
          ]
        },
        {
          "output_type": "stream",
          "name": "stdout",
          "text": [
            "Index type in compute_indicators: <class 'pandas.core.indexes.datetimes.DatetimeIndex'>\n",
            "Index type in compute_indicators: <class 'pandas.core.indexes.datetimes.DatetimeIndex'>\n"
          ]
        },
        {
          "output_type": "stream",
          "name": "stderr",
          "text": [
            "Collecting Signals:  19%|█▉        | 90/471 [00:12<00:52,  7.28it/s]"
          ]
        },
        {
          "output_type": "stream",
          "name": "stdout",
          "text": [
            "Index type in compute_indicators: <class 'pandas.core.indexes.datetimes.DatetimeIndex'>\n",
            "Index type in compute_indicators: <class 'pandas.core.indexes.datetimes.DatetimeIndex'>\n"
          ]
        },
        {
          "output_type": "stream",
          "name": "stderr",
          "text": [
            "Collecting Signals:  20%|█▉        | 92/471 [00:13<00:49,  7.59it/s]"
          ]
        },
        {
          "output_type": "stream",
          "name": "stdout",
          "text": [
            "Index type in compute_indicators: <class 'pandas.core.indexes.datetimes.DatetimeIndex'>\n",
            "Index type in compute_indicators: <class 'pandas.core.indexes.datetimes.DatetimeIndex'>\n"
          ]
        },
        {
          "output_type": "stream",
          "name": "stderr",
          "text": [
            "Collecting Signals:  20%|█▉        | 94/471 [00:13<00:48,  7.79it/s]"
          ]
        },
        {
          "output_type": "stream",
          "name": "stdout",
          "text": [
            "Index type in compute_indicators: <class 'pandas.core.indexes.datetimes.DatetimeIndex'>\n",
            "Index type in compute_indicators: <class 'pandas.core.indexes.datetimes.DatetimeIndex'>\n"
          ]
        },
        {
          "output_type": "stream",
          "name": "stderr",
          "text": [
            "Collecting Signals:  20%|██        | 96/471 [00:13<00:47,  7.92it/s]"
          ]
        },
        {
          "output_type": "stream",
          "name": "stdout",
          "text": [
            "Index type in compute_indicators: <class 'pandas.core.indexes.datetimes.DatetimeIndex'>\n",
            "Index type in compute_indicators: <class 'pandas.core.indexes.datetimes.DatetimeIndex'>\n"
          ]
        },
        {
          "output_type": "stream",
          "name": "stderr",
          "text": [
            "Collecting Signals:  21%|██        | 98/471 [00:13<00:48,  7.77it/s]"
          ]
        },
        {
          "output_type": "stream",
          "name": "stdout",
          "text": [
            "Index type in compute_indicators: <class 'pandas.core.indexes.datetimes.DatetimeIndex'>\n",
            "Index type in compute_indicators: <class 'pandas.core.indexes.datetimes.DatetimeIndex'>\n"
          ]
        },
        {
          "output_type": "stream",
          "name": "stderr",
          "text": [
            "Collecting Signals:  21%|██        | 100/471 [00:14<00:49,  7.53it/s]"
          ]
        },
        {
          "output_type": "stream",
          "name": "stdout",
          "text": [
            "Index type in compute_indicators: <class 'pandas.core.indexes.datetimes.DatetimeIndex'>\n",
            "Index type in compute_indicators: <class 'pandas.core.indexes.datetimes.DatetimeIndex'>\n"
          ]
        },
        {
          "output_type": "stream",
          "name": "stderr",
          "text": [
            "Collecting Signals:  22%|██▏       | 102/471 [00:14<00:47,  7.75it/s]"
          ]
        },
        {
          "output_type": "stream",
          "name": "stdout",
          "text": [
            "Index type in compute_indicators: <class 'pandas.core.indexes.datetimes.DatetimeIndex'>\n",
            "Index type in compute_indicators: <class 'pandas.core.indexes.datetimes.DatetimeIndex'>\n"
          ]
        },
        {
          "output_type": "stream",
          "name": "stderr",
          "text": [
            "Collecting Signals:  22%|██▏       | 104/471 [00:14<00:46,  7.83it/s]"
          ]
        },
        {
          "output_type": "stream",
          "name": "stdout",
          "text": [
            "Index type in compute_indicators: <class 'pandas.core.indexes.datetimes.DatetimeIndex'>\n",
            "Index type in compute_indicators: <class 'pandas.core.indexes.datetimes.DatetimeIndex'>\n"
          ]
        },
        {
          "output_type": "stream",
          "name": "stderr",
          "text": [
            "Collecting Signals:  23%|██▎       | 106/471 [00:14<00:47,  7.73it/s]"
          ]
        },
        {
          "output_type": "stream",
          "name": "stdout",
          "text": [
            "Index type in compute_indicators: <class 'pandas.core.indexes.datetimes.DatetimeIndex'>\n",
            "Index type in compute_indicators: <class 'pandas.core.indexes.datetimes.DatetimeIndex'>\n"
          ]
        },
        {
          "output_type": "stream",
          "name": "stderr",
          "text": [
            "Collecting Signals:  23%|██▎       | 108/471 [00:15<00:46,  7.84it/s]"
          ]
        },
        {
          "output_type": "stream",
          "name": "stdout",
          "text": [
            "Index type in compute_indicators: <class 'pandas.core.indexes.datetimes.DatetimeIndex'>\n",
            "Index type in compute_indicators: <class 'pandas.core.indexes.datetimes.DatetimeIndex'>\n"
          ]
        },
        {
          "output_type": "stream",
          "name": "stderr",
          "text": [
            "Collecting Signals:  23%|██▎       | 110/471 [00:15<00:46,  7.84it/s]"
          ]
        },
        {
          "output_type": "stream",
          "name": "stdout",
          "text": [
            "Index type in compute_indicators: <class 'pandas.core.indexes.datetimes.DatetimeIndex'>\n",
            "Index type in compute_indicators: <class 'pandas.core.indexes.datetimes.DatetimeIndex'>\n"
          ]
        },
        {
          "output_type": "stream",
          "name": "stderr",
          "text": [
            "Collecting Signals:  24%|██▍       | 112/471 [00:15<00:45,  7.86it/s]"
          ]
        },
        {
          "output_type": "stream",
          "name": "stdout",
          "text": [
            "Index type in compute_indicators: <class 'pandas.core.indexes.datetimes.DatetimeIndex'>\n",
            "Index type in compute_indicators: <class 'pandas.core.indexes.datetimes.DatetimeIndex'>\n"
          ]
        },
        {
          "output_type": "stream",
          "name": "stderr",
          "text": [
            "Collecting Signals:  24%|██▍       | 114/471 [00:15<00:46,  7.73it/s]"
          ]
        },
        {
          "output_type": "stream",
          "name": "stdout",
          "text": [
            "Index type in compute_indicators: <class 'pandas.core.indexes.datetimes.DatetimeIndex'>\n",
            "Index type in compute_indicators: <class 'pandas.core.indexes.datetimes.DatetimeIndex'>\n"
          ]
        },
        {
          "output_type": "stream",
          "name": "stderr",
          "text": [
            "Collecting Signals:  25%|██▍       | 116/471 [00:16<00:44,  8.02it/s]"
          ]
        },
        {
          "output_type": "stream",
          "name": "stdout",
          "text": [
            "Index type in compute_indicators: <class 'pandas.core.indexes.datetimes.DatetimeIndex'>\n",
            "Index type in compute_indicators: <class 'pandas.core.indexes.datetimes.DatetimeIndex'>\n"
          ]
        },
        {
          "output_type": "stream",
          "name": "stderr",
          "text": [
            "Collecting Signals:  25%|██▌       | 118/471 [00:16<00:44,  7.98it/s]"
          ]
        },
        {
          "output_type": "stream",
          "name": "stdout",
          "text": [
            "Index type in compute_indicators: <class 'pandas.core.indexes.datetimes.DatetimeIndex'>\n",
            "Index type in compute_indicators: <class 'pandas.core.indexes.datetimes.DatetimeIndex'>\n"
          ]
        },
        {
          "output_type": "stream",
          "name": "stderr",
          "text": [
            "Collecting Signals:  25%|██▌       | 120/471 [00:16<00:44,  7.86it/s]"
          ]
        },
        {
          "output_type": "stream",
          "name": "stdout",
          "text": [
            "Index type in compute_indicators: <class 'pandas.core.indexes.datetimes.DatetimeIndex'>\n",
            "Index type in compute_indicators: <class 'pandas.core.indexes.datetimes.DatetimeIndex'>\n"
          ]
        },
        {
          "output_type": "stream",
          "name": "stderr",
          "text": [
            "Collecting Signals:  26%|██▌       | 122/471 [00:16<00:45,  7.71it/s]"
          ]
        },
        {
          "output_type": "stream",
          "name": "stdout",
          "text": [
            "Index type in compute_indicators: <class 'pandas.core.indexes.datetimes.DatetimeIndex'>\n",
            "Index type in compute_indicators: <class 'pandas.core.indexes.datetimes.DatetimeIndex'>\n"
          ]
        },
        {
          "output_type": "stream",
          "name": "stderr",
          "text": [
            "Collecting Signals:  26%|██▋       | 124/471 [00:17<00:43,  7.93it/s]"
          ]
        },
        {
          "output_type": "stream",
          "name": "stdout",
          "text": [
            "Index type in compute_indicators: <class 'pandas.core.indexes.datetimes.DatetimeIndex'>\n",
            "Index type in compute_indicators: <class 'pandas.core.indexes.datetimes.DatetimeIndex'>\n"
          ]
        },
        {
          "output_type": "stream",
          "name": "stderr",
          "text": [
            "Collecting Signals:  27%|██▋       | 126/471 [00:17<00:43,  7.98it/s]"
          ]
        },
        {
          "output_type": "stream",
          "name": "stdout",
          "text": [
            "Index type in compute_indicators: <class 'pandas.core.indexes.datetimes.DatetimeIndex'>\n",
            "Index type in compute_indicators: <class 'pandas.core.indexes.datetimes.DatetimeIndex'>\n"
          ]
        },
        {
          "output_type": "stream",
          "name": "stderr",
          "text": [
            "Collecting Signals:  27%|██▋       | 128/471 [00:17<00:53,  6.36it/s]"
          ]
        },
        {
          "output_type": "stream",
          "name": "stdout",
          "text": [
            "Index type in compute_indicators: <class 'pandas.core.indexes.datetimes.DatetimeIndex'>\n",
            "Index type in compute_indicators: <class 'pandas.core.indexes.datetimes.DatetimeIndex'>\n"
          ]
        },
        {
          "output_type": "stream",
          "name": "stderr",
          "text": [
            "Collecting Signals:  28%|██▊       | 130/471 [00:18<01:01,  5.51it/s]"
          ]
        },
        {
          "output_type": "stream",
          "name": "stdout",
          "text": [
            "Index type in compute_indicators: <class 'pandas.core.indexes.datetimes.DatetimeIndex'>\n",
            "Index type in compute_indicators: <class 'pandas.core.indexes.datetimes.DatetimeIndex'>\n"
          ]
        },
        {
          "output_type": "stream",
          "name": "stderr",
          "text": [
            "Collecting Signals:  28%|██▊       | 132/471 [00:18<01:05,  5.15it/s]"
          ]
        },
        {
          "output_type": "stream",
          "name": "stdout",
          "text": [
            "Index type in compute_indicators: <class 'pandas.core.indexes.datetimes.DatetimeIndex'>\n"
          ]
        },
        {
          "output_type": "stream",
          "name": "stderr",
          "text": [
            "\rCollecting Signals:  28%|██▊       | 133/471 [00:18<01:06,  5.11it/s]"
          ]
        },
        {
          "output_type": "stream",
          "name": "stdout",
          "text": [
            "Index type in compute_indicators: <class 'pandas.core.indexes.datetimes.DatetimeIndex'>\n",
            "Index type in compute_indicators: <class 'pandas.core.indexes.datetimes.DatetimeIndex'>\n",
            "Index type in compute_indicators: <class 'pandas.core.indexes.datetimes.DatetimeIndex'>\n"
          ]
        },
        {
          "output_type": "stream",
          "name": "stderr",
          "text": [
            "Collecting Signals:  29%|██▉       | 136/471 [00:19<00:57,  5.80it/s]"
          ]
        },
        {
          "output_type": "stream",
          "name": "stdout",
          "text": [
            "Index type in compute_indicators: <class 'pandas.core.indexes.datetimes.DatetimeIndex'>\n",
            "Index type in compute_indicators: <class 'pandas.core.indexes.datetimes.DatetimeIndex'>\n"
          ]
        },
        {
          "output_type": "stream",
          "name": "stderr",
          "text": [
            "Collecting Signals:  29%|██▉       | 138/471 [00:19<01:03,  5.26it/s]"
          ]
        },
        {
          "output_type": "stream",
          "name": "stdout",
          "text": [
            "Index type in compute_indicators: <class 'pandas.core.indexes.datetimes.DatetimeIndex'>\n",
            "Index type in compute_indicators: <class 'pandas.core.indexes.datetimes.DatetimeIndex'>\n"
          ]
        },
        {
          "output_type": "stream",
          "name": "stderr",
          "text": [
            "\rCollecting Signals:  30%|██▉       | 139/471 [00:19<01:05,  5.06it/s]"
          ]
        },
        {
          "output_type": "stream",
          "name": "stdout",
          "text": [
            "Index type in compute_indicators: <class 'pandas.core.indexes.datetimes.DatetimeIndex'>\n"
          ]
        },
        {
          "output_type": "stream",
          "name": "stderr",
          "text": [
            "\rCollecting Signals:  30%|██▉       | 140/471 [00:20<01:09,  4.77it/s]"
          ]
        },
        {
          "output_type": "stream",
          "name": "stdout",
          "text": [
            "Index type in compute_indicators: <class 'pandas.core.indexes.datetimes.DatetimeIndex'>\n"
          ]
        },
        {
          "output_type": "stream",
          "name": "stderr",
          "text": [
            "Collecting Signals:  30%|███       | 142/471 [00:20<01:05,  4.99it/s]"
          ]
        },
        {
          "output_type": "stream",
          "name": "stdout",
          "text": [
            "Index type in compute_indicators: <class 'pandas.core.indexes.datetimes.DatetimeIndex'>\n",
            "Index type in compute_indicators: <class 'pandas.core.indexes.datetimes.DatetimeIndex'>\n"
          ]
        },
        {
          "output_type": "stream",
          "name": "stderr",
          "text": [
            "Collecting Signals:  31%|███       | 144/471 [00:20<00:54,  6.03it/s]"
          ]
        },
        {
          "output_type": "stream",
          "name": "stdout",
          "text": [
            "Index type in compute_indicators: <class 'pandas.core.indexes.datetimes.DatetimeIndex'>\n",
            "Index type in compute_indicators: <class 'pandas.core.indexes.datetimes.DatetimeIndex'>\n"
          ]
        },
        {
          "output_type": "stream",
          "name": "stderr",
          "text": [
            "Collecting Signals:  31%|███       | 146/471 [00:21<00:48,  6.75it/s]"
          ]
        },
        {
          "output_type": "stream",
          "name": "stdout",
          "text": [
            "Index type in compute_indicators: <class 'pandas.core.indexes.datetimes.DatetimeIndex'>\n",
            "Index type in compute_indicators: <class 'pandas.core.indexes.datetimes.DatetimeIndex'>\n"
          ]
        },
        {
          "output_type": "stream",
          "name": "stderr",
          "text": [
            "Collecting Signals:  31%|███▏      | 148/471 [00:21<00:45,  7.09it/s]"
          ]
        },
        {
          "output_type": "stream",
          "name": "stdout",
          "text": [
            "Index type in compute_indicators: <class 'pandas.core.indexes.datetimes.DatetimeIndex'>\n",
            "Index type in compute_indicators: <class 'pandas.core.indexes.datetimes.DatetimeIndex'>\n"
          ]
        },
        {
          "output_type": "stream",
          "name": "stderr",
          "text": [
            "Collecting Signals:  32%|███▏      | 150/471 [00:21<00:43,  7.42it/s]"
          ]
        },
        {
          "output_type": "stream",
          "name": "stdout",
          "text": [
            "Index type in compute_indicators: <class 'pandas.core.indexes.datetimes.DatetimeIndex'>\n",
            "Index type in compute_indicators: <class 'pandas.core.indexes.datetimes.DatetimeIndex'>\n"
          ]
        },
        {
          "output_type": "stream",
          "name": "stderr",
          "text": [
            "Collecting Signals:  32%|███▏      | 152/471 [00:21<00:41,  7.76it/s]"
          ]
        },
        {
          "output_type": "stream",
          "name": "stdout",
          "text": [
            "Index type in compute_indicators: <class 'pandas.core.indexes.datetimes.DatetimeIndex'>\n",
            "Index type in compute_indicators: <class 'pandas.core.indexes.datetimes.DatetimeIndex'>\n"
          ]
        },
        {
          "output_type": "stream",
          "name": "stderr",
          "text": [
            "Collecting Signals:  33%|███▎      | 154/471 [00:22<00:40,  7.82it/s]"
          ]
        },
        {
          "output_type": "stream",
          "name": "stdout",
          "text": [
            "Index type in compute_indicators: <class 'pandas.core.indexes.datetimes.DatetimeIndex'>\n",
            "Index type in compute_indicators: <class 'pandas.core.indexes.datetimes.DatetimeIndex'>\n"
          ]
        },
        {
          "output_type": "stream",
          "name": "stderr",
          "text": [
            "Collecting Signals:  33%|███▎      | 156/471 [00:22<00:42,  7.47it/s]"
          ]
        },
        {
          "output_type": "stream",
          "name": "stdout",
          "text": [
            "Index type in compute_indicators: <class 'pandas.core.indexes.datetimes.DatetimeIndex'>\n",
            "Index type in compute_indicators: <class 'pandas.core.indexes.datetimes.DatetimeIndex'>\n"
          ]
        },
        {
          "output_type": "stream",
          "name": "stderr",
          "text": [
            "Collecting Signals:  34%|███▎      | 158/471 [00:22<00:40,  7.65it/s]"
          ]
        },
        {
          "output_type": "stream",
          "name": "stdout",
          "text": [
            "Index type in compute_indicators: <class 'pandas.core.indexes.datetimes.DatetimeIndex'>\n",
            "Index type in compute_indicators: <class 'pandas.core.indexes.datetimes.DatetimeIndex'>\n"
          ]
        },
        {
          "output_type": "stream",
          "name": "stderr",
          "text": [
            "Collecting Signals:  34%|███▍      | 160/471 [00:22<00:40,  7.66it/s]"
          ]
        },
        {
          "output_type": "stream",
          "name": "stdout",
          "text": [
            "Index type in compute_indicators: <class 'pandas.core.indexes.datetimes.DatetimeIndex'>\n",
            "Index type in compute_indicators: <class 'pandas.core.indexes.datetimes.DatetimeIndex'>\n"
          ]
        },
        {
          "output_type": "stream",
          "name": "stderr",
          "text": [
            "Collecting Signals:  34%|███▍      | 162/471 [00:23<00:40,  7.63it/s]"
          ]
        },
        {
          "output_type": "stream",
          "name": "stdout",
          "text": [
            "Index type in compute_indicators: <class 'pandas.core.indexes.datetimes.DatetimeIndex'>\n",
            "Index type in compute_indicators: <class 'pandas.core.indexes.datetimes.DatetimeIndex'>\n"
          ]
        },
        {
          "output_type": "stream",
          "name": "stderr",
          "text": [
            "Collecting Signals:  35%|███▍      | 164/471 [00:23<00:41,  7.47it/s]"
          ]
        },
        {
          "output_type": "stream",
          "name": "stdout",
          "text": [
            "Index type in compute_indicators: <class 'pandas.core.indexes.datetimes.DatetimeIndex'>\n",
            "Index type in compute_indicators: <class 'pandas.core.indexes.datetimes.DatetimeIndex'>\n"
          ]
        },
        {
          "output_type": "stream",
          "name": "stderr",
          "text": [
            "Collecting Signals:  35%|███▌      | 166/471 [00:23<00:39,  7.81it/s]"
          ]
        },
        {
          "output_type": "stream",
          "name": "stdout",
          "text": [
            "Index type in compute_indicators: <class 'pandas.core.indexes.datetimes.DatetimeIndex'>\n",
            "Index type in compute_indicators: <class 'pandas.core.indexes.datetimes.DatetimeIndex'>\n"
          ]
        },
        {
          "output_type": "stream",
          "name": "stderr",
          "text": [
            "Collecting Signals:  36%|███▌      | 168/471 [00:23<00:39,  7.67it/s]"
          ]
        },
        {
          "output_type": "stream",
          "name": "stdout",
          "text": [
            "Index type in compute_indicators: <class 'pandas.core.indexes.datetimes.DatetimeIndex'>\n",
            "Index type in compute_indicators: <class 'pandas.core.indexes.datetimes.DatetimeIndex'>\n"
          ]
        },
        {
          "output_type": "stream",
          "name": "stderr",
          "text": [
            "Collecting Signals:  36%|███▌      | 170/471 [00:24<00:37,  7.93it/s]"
          ]
        },
        {
          "output_type": "stream",
          "name": "stdout",
          "text": [
            "Index type in compute_indicators: <class 'pandas.core.indexes.datetimes.DatetimeIndex'>\n",
            "Index type in compute_indicators: <class 'pandas.core.indexes.datetimes.DatetimeIndex'>\n"
          ]
        },
        {
          "output_type": "stream",
          "name": "stderr",
          "text": [
            "Collecting Signals:  37%|███▋      | 172/471 [00:24<00:38,  7.70it/s]"
          ]
        },
        {
          "output_type": "stream",
          "name": "stdout",
          "text": [
            "Index type in compute_indicators: <class 'pandas.core.indexes.datetimes.DatetimeIndex'>\n",
            "Index type in compute_indicators: <class 'pandas.core.indexes.datetimes.DatetimeIndex'>\n"
          ]
        },
        {
          "output_type": "stream",
          "name": "stderr",
          "text": [
            "Collecting Signals:  37%|███▋      | 174/471 [00:24<00:37,  7.90it/s]"
          ]
        },
        {
          "output_type": "stream",
          "name": "stdout",
          "text": [
            "Index type in compute_indicators: <class 'pandas.core.indexes.datetimes.DatetimeIndex'>\n",
            "Index type in compute_indicators: <class 'pandas.core.indexes.datetimes.DatetimeIndex'>\n"
          ]
        },
        {
          "output_type": "stream",
          "name": "stderr",
          "text": [
            "Collecting Signals:  37%|███▋      | 176/471 [00:25<00:36,  8.05it/s]"
          ]
        },
        {
          "output_type": "stream",
          "name": "stdout",
          "text": [
            "Index type in compute_indicators: <class 'pandas.core.indexes.datetimes.DatetimeIndex'>\n",
            "Index type in compute_indicators: <class 'pandas.core.indexes.datetimes.DatetimeIndex'>\n"
          ]
        },
        {
          "output_type": "stream",
          "name": "stderr",
          "text": [
            "Collecting Signals:  38%|███▊      | 178/471 [00:25<00:36,  7.92it/s]"
          ]
        },
        {
          "output_type": "stream",
          "name": "stdout",
          "text": [
            "Index type in compute_indicators: <class 'pandas.core.indexes.datetimes.DatetimeIndex'>\n",
            "Index type in compute_indicators: <class 'pandas.core.indexes.datetimes.DatetimeIndex'>\n"
          ]
        },
        {
          "output_type": "stream",
          "name": "stderr",
          "text": [
            "Collecting Signals:  38%|███▊      | 180/471 [00:25<00:39,  7.45it/s]"
          ]
        },
        {
          "output_type": "stream",
          "name": "stdout",
          "text": [
            "Index type in compute_indicators: <class 'pandas.core.indexes.datetimes.DatetimeIndex'>\n",
            "Index type in compute_indicators: <class 'pandas.core.indexes.datetimes.DatetimeIndex'>\n"
          ]
        },
        {
          "output_type": "stream",
          "name": "stderr",
          "text": [
            "Collecting Signals:  39%|███▊      | 182/471 [00:25<00:38,  7.57it/s]"
          ]
        },
        {
          "output_type": "stream",
          "name": "stdout",
          "text": [
            "Index type in compute_indicators: <class 'pandas.core.indexes.datetimes.DatetimeIndex'>\n",
            "Index type in compute_indicators: <class 'pandas.core.indexes.datetimes.DatetimeIndex'>\n"
          ]
        },
        {
          "output_type": "stream",
          "name": "stderr",
          "text": [
            "Collecting Signals:  39%|███▉      | 184/471 [00:26<00:37,  7.57it/s]"
          ]
        },
        {
          "output_type": "stream",
          "name": "stdout",
          "text": [
            "Index type in compute_indicators: <class 'pandas.core.indexes.datetimes.DatetimeIndex'>\n",
            "Index type in compute_indicators: <class 'pandas.core.indexes.datetimes.DatetimeIndex'>\n"
          ]
        },
        {
          "output_type": "stream",
          "name": "stderr",
          "text": [
            "Collecting Signals:  39%|███▉      | 186/471 [00:26<00:36,  7.71it/s]"
          ]
        },
        {
          "output_type": "stream",
          "name": "stdout",
          "text": [
            "Index type in compute_indicators: <class 'pandas.core.indexes.datetimes.DatetimeIndex'>\n",
            "Index type in compute_indicators: <class 'pandas.core.indexes.datetimes.DatetimeIndex'>\n"
          ]
        },
        {
          "output_type": "stream",
          "name": "stderr",
          "text": [
            "Collecting Signals:  40%|███▉      | 188/471 [00:26<00:36,  7.67it/s]"
          ]
        },
        {
          "output_type": "stream",
          "name": "stdout",
          "text": [
            "Index type in compute_indicators: <class 'pandas.core.indexes.datetimes.DatetimeIndex'>\n",
            "Index type in compute_indicators: <class 'pandas.core.indexes.datetimes.DatetimeIndex'>\n"
          ]
        },
        {
          "output_type": "stream",
          "name": "stderr",
          "text": [
            "Collecting Signals:  40%|████      | 190/471 [00:26<00:35,  7.93it/s]"
          ]
        },
        {
          "output_type": "stream",
          "name": "stdout",
          "text": [
            "Index type in compute_indicators: <class 'pandas.core.indexes.datetimes.DatetimeIndex'>\n",
            "Index type in compute_indicators: <class 'pandas.core.indexes.datetimes.DatetimeIndex'>\n"
          ]
        },
        {
          "output_type": "stream",
          "name": "stderr",
          "text": [
            "Collecting Signals:  41%|████      | 192/471 [00:27<00:35,  7.97it/s]"
          ]
        },
        {
          "output_type": "stream",
          "name": "stdout",
          "text": [
            "Index type in compute_indicators: <class 'pandas.core.indexes.datetimes.DatetimeIndex'>\n",
            "Index type in compute_indicators: <class 'pandas.core.indexes.datetimes.DatetimeIndex'>\n"
          ]
        },
        {
          "output_type": "stream",
          "name": "stderr",
          "text": [
            "Collecting Signals:  41%|████      | 194/471 [00:27<00:34,  8.03it/s]"
          ]
        },
        {
          "output_type": "stream",
          "name": "stdout",
          "text": [
            "Index type in compute_indicators: <class 'pandas.core.indexes.datetimes.DatetimeIndex'>\n",
            "Index type in compute_indicators: <class 'pandas.core.indexes.datetimes.DatetimeIndex'>\n"
          ]
        },
        {
          "output_type": "stream",
          "name": "stderr",
          "text": [
            "Collecting Signals:  42%|████▏     | 196/471 [00:27<00:36,  7.57it/s]"
          ]
        },
        {
          "output_type": "stream",
          "name": "stdout",
          "text": [
            "Index type in compute_indicators: <class 'pandas.core.indexes.datetimes.DatetimeIndex'>\n",
            "Index type in compute_indicators: <class 'pandas.core.indexes.datetimes.DatetimeIndex'>\n"
          ]
        },
        {
          "output_type": "stream",
          "name": "stderr",
          "text": [
            "Collecting Signals:  42%|████▏     | 198/471 [00:27<00:35,  7.68it/s]"
          ]
        },
        {
          "output_type": "stream",
          "name": "stdout",
          "text": [
            "Index type in compute_indicators: <class 'pandas.core.indexes.datetimes.DatetimeIndex'>\n",
            "Index type in compute_indicators: <class 'pandas.core.indexes.datetimes.DatetimeIndex'>\n"
          ]
        },
        {
          "output_type": "stream",
          "name": "stderr",
          "text": [
            "Collecting Signals:  42%|████▏     | 200/471 [00:28<00:35,  7.63it/s]"
          ]
        },
        {
          "output_type": "stream",
          "name": "stdout",
          "text": [
            "Index type in compute_indicators: <class 'pandas.core.indexes.datetimes.DatetimeIndex'>\n",
            "Index type in compute_indicators: <class 'pandas.core.indexes.datetimes.DatetimeIndex'>\n"
          ]
        },
        {
          "output_type": "stream",
          "name": "stderr",
          "text": [
            "Collecting Signals:  43%|████▎     | 202/471 [00:28<00:34,  7.77it/s]"
          ]
        },
        {
          "output_type": "stream",
          "name": "stdout",
          "text": [
            "Index type in compute_indicators: <class 'pandas.core.indexes.datetimes.DatetimeIndex'>\n",
            "Index type in compute_indicators: <class 'pandas.core.indexes.datetimes.DatetimeIndex'>\n"
          ]
        },
        {
          "output_type": "stream",
          "name": "stderr",
          "text": [
            "Collecting Signals:  43%|████▎     | 204/471 [00:28<00:35,  7.44it/s]"
          ]
        },
        {
          "output_type": "stream",
          "name": "stdout",
          "text": [
            "Index type in compute_indicators: <class 'pandas.core.indexes.datetimes.DatetimeIndex'>\n",
            "Index type in compute_indicators: <class 'pandas.core.indexes.datetimes.DatetimeIndex'>\n"
          ]
        },
        {
          "output_type": "stream",
          "name": "stderr",
          "text": [
            "Collecting Signals:  44%|████▎     | 206/471 [00:28<00:34,  7.67it/s]"
          ]
        },
        {
          "output_type": "stream",
          "name": "stdout",
          "text": [
            "Index type in compute_indicators: <class 'pandas.core.indexes.datetimes.DatetimeIndex'>\n",
            "Index type in compute_indicators: <class 'pandas.core.indexes.datetimes.DatetimeIndex'>\n"
          ]
        },
        {
          "output_type": "stream",
          "name": "stderr",
          "text": [
            "Collecting Signals:  44%|████▍     | 208/471 [00:29<00:33,  7.78it/s]"
          ]
        },
        {
          "output_type": "stream",
          "name": "stdout",
          "text": [
            "Index type in compute_indicators: <class 'pandas.core.indexes.datetimes.DatetimeIndex'>\n",
            "Index type in compute_indicators: <class 'pandas.core.indexes.datetimes.DatetimeIndex'>\n"
          ]
        },
        {
          "output_type": "stream",
          "name": "stderr",
          "text": [
            "Collecting Signals:  45%|████▍     | 210/471 [00:29<00:32,  7.93it/s]"
          ]
        },
        {
          "output_type": "stream",
          "name": "stdout",
          "text": [
            "Index type in compute_indicators: <class 'pandas.core.indexes.datetimes.DatetimeIndex'>\n",
            "Index type in compute_indicators: <class 'pandas.core.indexes.datetimes.DatetimeIndex'>\n"
          ]
        },
        {
          "output_type": "stream",
          "name": "stderr",
          "text": [
            "Collecting Signals:  45%|████▌     | 212/471 [00:29<00:34,  7.50it/s]"
          ]
        },
        {
          "output_type": "stream",
          "name": "stdout",
          "text": [
            "Index type in compute_indicators: <class 'pandas.core.indexes.datetimes.DatetimeIndex'>\n",
            "Index type in compute_indicators: <class 'pandas.core.indexes.datetimes.DatetimeIndex'>\n"
          ]
        },
        {
          "output_type": "stream",
          "name": "stderr",
          "text": [
            "Collecting Signals:  45%|████▌     | 214/471 [00:29<00:33,  7.76it/s]"
          ]
        },
        {
          "output_type": "stream",
          "name": "stdout",
          "text": [
            "Index type in compute_indicators: <class 'pandas.core.indexes.datetimes.DatetimeIndex'>\n",
            "Index type in compute_indicators: <class 'pandas.core.indexes.datetimes.DatetimeIndex'>\n"
          ]
        },
        {
          "output_type": "stream",
          "name": "stderr",
          "text": [
            "Collecting Signals:  46%|████▌     | 216/471 [00:30<00:33,  7.69it/s]"
          ]
        },
        {
          "output_type": "stream",
          "name": "stdout",
          "text": [
            "Index type in compute_indicators: <class 'pandas.core.indexes.datetimes.DatetimeIndex'>\n",
            "Index type in compute_indicators: <class 'pandas.core.indexes.datetimes.DatetimeIndex'>\n"
          ]
        },
        {
          "output_type": "stream",
          "name": "stderr",
          "text": [
            "Collecting Signals:  46%|████▋     | 218/471 [00:30<00:32,  7.76it/s]"
          ]
        },
        {
          "output_type": "stream",
          "name": "stdout",
          "text": [
            "Index type in compute_indicators: <class 'pandas.core.indexes.datetimes.DatetimeIndex'>\n",
            "Index type in compute_indicators: <class 'pandas.core.indexes.datetimes.DatetimeIndex'>\n"
          ]
        },
        {
          "output_type": "stream",
          "name": "stderr",
          "text": [
            "\rCollecting Signals:  46%|████▋     | 219/471 [00:30<00:36,  6.82it/s]"
          ]
        },
        {
          "output_type": "stream",
          "name": "stdout",
          "text": [
            "Index type in compute_indicators: <class 'pandas.core.indexes.datetimes.DatetimeIndex'>\n"
          ]
        },
        {
          "output_type": "stream",
          "name": "stderr",
          "text": [
            "Collecting Signals:  47%|████▋     | 221/471 [00:31<00:43,  5.72it/s]"
          ]
        },
        {
          "output_type": "stream",
          "name": "stdout",
          "text": [
            "Index type in compute_indicators: <class 'pandas.core.indexes.datetimes.DatetimeIndex'>\n",
            "Index type in compute_indicators: <class 'pandas.core.indexes.datetimes.DatetimeIndex'>\n"
          ]
        },
        {
          "output_type": "stream",
          "name": "stderr",
          "text": [
            "\rCollecting Signals:  47%|████▋     | 223/471 [00:31<00:37,  6.54it/s]"
          ]
        },
        {
          "output_type": "stream",
          "name": "stdout",
          "text": [
            "Index type in compute_indicators: <class 'pandas.core.indexes.datetimes.DatetimeIndex'>\n"
          ]
        },
        {
          "output_type": "stream",
          "name": "stderr",
          "text": [
            "\rCollecting Signals:  48%|████▊     | 224/471 [00:31<00:41,  6.00it/s]"
          ]
        },
        {
          "output_type": "stream",
          "name": "stdout",
          "text": [
            "Index type in compute_indicators: <class 'pandas.core.indexes.datetimes.DatetimeIndex'>\n",
            "Index type in compute_indicators: <class 'pandas.core.indexes.datetimes.DatetimeIndex'>\n"
          ]
        },
        {
          "output_type": "stream",
          "name": "stderr",
          "text": [
            "Collecting Signals:  48%|████▊     | 226/471 [00:31<00:45,  5.35it/s]"
          ]
        },
        {
          "output_type": "stream",
          "name": "stdout",
          "text": [
            "Index type in compute_indicators: <class 'pandas.core.indexes.datetimes.DatetimeIndex'>\n"
          ]
        },
        {
          "output_type": "stream",
          "name": "stderr",
          "text": [
            "\rCollecting Signals:  48%|████▊     | 227/471 [00:32<00:47,  5.17it/s]"
          ]
        },
        {
          "output_type": "stream",
          "name": "stdout",
          "text": [
            "Index type in compute_indicators: <class 'pandas.core.indexes.datetimes.DatetimeIndex'>\n"
          ]
        },
        {
          "output_type": "stream",
          "name": "stderr",
          "text": [
            "\rCollecting Signals:  48%|████▊     | 228/471 [00:32<00:47,  5.13it/s]"
          ]
        },
        {
          "output_type": "stream",
          "name": "stdout",
          "text": [
            "Index type in compute_indicators: <class 'pandas.core.indexes.datetimes.DatetimeIndex'>\n",
            "Index type in compute_indicators: <class 'pandas.core.indexes.datetimes.DatetimeIndex'>\n"
          ]
        },
        {
          "output_type": "stream",
          "name": "stderr",
          "text": [
            "Collecting Signals:  49%|████▉     | 230/471 [00:32<00:48,  4.98it/s]"
          ]
        },
        {
          "output_type": "stream",
          "name": "stdout",
          "text": [
            "Index type in compute_indicators: <class 'pandas.core.indexes.datetimes.DatetimeIndex'>\n",
            "Index type in compute_indicators: <class 'pandas.core.indexes.datetimes.DatetimeIndex'>\n"
          ]
        },
        {
          "output_type": "stream",
          "name": "stderr",
          "text": [
            "\rCollecting Signals:  49%|████▉     | 231/471 [00:33<00:51,  4.68it/s]"
          ]
        },
        {
          "output_type": "stream",
          "name": "stdout",
          "text": [
            "Index type in compute_indicators: <class 'pandas.core.indexes.datetimes.DatetimeIndex'>\n"
          ]
        },
        {
          "output_type": "stream",
          "name": "stderr",
          "text": [
            "\rCollecting Signals:  49%|████▉     | 232/471 [00:33<00:53,  4.44it/s]"
          ]
        },
        {
          "output_type": "stream",
          "name": "stdout",
          "text": [
            "Index type in compute_indicators: <class 'pandas.core.indexes.datetimes.DatetimeIndex'>\n"
          ]
        },
        {
          "output_type": "stream",
          "name": "stderr",
          "text": [
            "Collecting Signals:  50%|████▉     | 234/471 [00:33<00:50,  4.66it/s]"
          ]
        },
        {
          "output_type": "stream",
          "name": "stdout",
          "text": [
            "Index type in compute_indicators: <class 'pandas.core.indexes.datetimes.DatetimeIndex'>\n",
            "Index type in compute_indicators: <class 'pandas.core.indexes.datetimes.DatetimeIndex'>\n"
          ]
        },
        {
          "output_type": "stream",
          "name": "stderr",
          "text": [
            "Collecting Signals:  50%|█████     | 236/471 [00:33<00:41,  5.65it/s]"
          ]
        },
        {
          "output_type": "stream",
          "name": "stdout",
          "text": [
            "Index type in compute_indicators: <class 'pandas.core.indexes.datetimes.DatetimeIndex'>\n",
            "Index type in compute_indicators: <class 'pandas.core.indexes.datetimes.DatetimeIndex'>\n"
          ]
        },
        {
          "output_type": "stream",
          "name": "stderr",
          "text": [
            "Collecting Signals:  51%|█████     | 238/471 [00:34<00:35,  6.60it/s]"
          ]
        },
        {
          "output_type": "stream",
          "name": "stdout",
          "text": [
            "Index type in compute_indicators: <class 'pandas.core.indexes.datetimes.DatetimeIndex'>\n",
            "Index type in compute_indicators: <class 'pandas.core.indexes.datetimes.DatetimeIndex'>\n"
          ]
        },
        {
          "output_type": "stream",
          "name": "stderr",
          "text": [
            "Collecting Signals:  51%|█████     | 240/471 [00:34<00:32,  7.16it/s]"
          ]
        },
        {
          "output_type": "stream",
          "name": "stdout",
          "text": [
            "Index type in compute_indicators: <class 'pandas.core.indexes.datetimes.DatetimeIndex'>\n",
            "Index type in compute_indicators: <class 'pandas.core.indexes.datetimes.DatetimeIndex'>\n"
          ]
        },
        {
          "output_type": "stream",
          "name": "stderr",
          "text": [
            "Collecting Signals:  51%|█████▏    | 242/471 [00:34<00:30,  7.60it/s]"
          ]
        },
        {
          "output_type": "stream",
          "name": "stdout",
          "text": [
            "Index type in compute_indicators: <class 'pandas.core.indexes.datetimes.DatetimeIndex'>\n",
            "Index type in compute_indicators: <class 'pandas.core.indexes.datetimes.DatetimeIndex'>\n"
          ]
        },
        {
          "output_type": "stream",
          "name": "stderr",
          "text": [
            "Collecting Signals:  52%|█████▏    | 244/471 [00:34<00:30,  7.50it/s]"
          ]
        },
        {
          "output_type": "stream",
          "name": "stdout",
          "text": [
            "Index type in compute_indicators: <class 'pandas.core.indexes.datetimes.DatetimeIndex'>\n",
            "Index type in compute_indicators: <class 'pandas.core.indexes.datetimes.DatetimeIndex'>\n"
          ]
        },
        {
          "output_type": "stream",
          "name": "stderr",
          "text": [
            "Collecting Signals:  52%|█████▏    | 246/471 [00:35<00:29,  7.60it/s]"
          ]
        },
        {
          "output_type": "stream",
          "name": "stdout",
          "text": [
            "Index type in compute_indicators: <class 'pandas.core.indexes.datetimes.DatetimeIndex'>\n",
            "Index type in compute_indicators: <class 'pandas.core.indexes.datetimes.DatetimeIndex'>\n"
          ]
        },
        {
          "output_type": "stream",
          "name": "stderr",
          "text": [
            "Collecting Signals:  53%|█████▎    | 248/471 [00:35<00:29,  7.59it/s]"
          ]
        },
        {
          "output_type": "stream",
          "name": "stdout",
          "text": [
            "Index type in compute_indicators: <class 'pandas.core.indexes.datetimes.DatetimeIndex'>\n",
            "Index type in compute_indicators: <class 'pandas.core.indexes.datetimes.DatetimeIndex'>\n"
          ]
        },
        {
          "output_type": "stream",
          "name": "stderr",
          "text": [
            "Collecting Signals:  53%|█████▎    | 250/471 [00:35<00:28,  7.86it/s]"
          ]
        },
        {
          "output_type": "stream",
          "name": "stdout",
          "text": [
            "Index type in compute_indicators: <class 'pandas.core.indexes.datetimes.DatetimeIndex'>\n",
            "Index type in compute_indicators: <class 'pandas.core.indexes.datetimes.DatetimeIndex'>\n"
          ]
        },
        {
          "output_type": "stream",
          "name": "stderr",
          "text": [
            "Collecting Signals:  54%|█████▎    | 252/471 [00:36<00:29,  7.51it/s]"
          ]
        },
        {
          "output_type": "stream",
          "name": "stdout",
          "text": [
            "Index type in compute_indicators: <class 'pandas.core.indexes.datetimes.DatetimeIndex'>\n",
            "Index type in compute_indicators: <class 'pandas.core.indexes.datetimes.DatetimeIndex'>\n"
          ]
        },
        {
          "output_type": "stream",
          "name": "stderr",
          "text": [
            "Collecting Signals:  54%|█████▍    | 254/471 [00:36<00:28,  7.53it/s]"
          ]
        },
        {
          "output_type": "stream",
          "name": "stdout",
          "text": [
            "Index type in compute_indicators: <class 'pandas.core.indexes.datetimes.DatetimeIndex'>\n",
            "Index type in compute_indicators: <class 'pandas.core.indexes.datetimes.DatetimeIndex'>\n"
          ]
        },
        {
          "output_type": "stream",
          "name": "stderr",
          "text": [
            "Collecting Signals:  54%|█████▍    | 256/471 [00:36<00:27,  7.80it/s]"
          ]
        },
        {
          "output_type": "stream",
          "name": "stdout",
          "text": [
            "Index type in compute_indicators: <class 'pandas.core.indexes.datetimes.DatetimeIndex'>\n",
            "Index type in compute_indicators: <class 'pandas.core.indexes.datetimes.DatetimeIndex'>\n"
          ]
        },
        {
          "output_type": "stream",
          "name": "stderr",
          "text": [
            "Collecting Signals:  55%|█████▍    | 258/471 [00:36<00:27,  7.75it/s]"
          ]
        },
        {
          "output_type": "stream",
          "name": "stdout",
          "text": [
            "Index type in compute_indicators: <class 'pandas.core.indexes.datetimes.DatetimeIndex'>\n",
            "Index type in compute_indicators: <class 'pandas.core.indexes.datetimes.DatetimeIndex'>\n"
          ]
        },
        {
          "output_type": "stream",
          "name": "stderr",
          "text": [
            "Collecting Signals:  55%|█████▌    | 260/471 [00:37<00:27,  7.56it/s]"
          ]
        },
        {
          "output_type": "stream",
          "name": "stdout",
          "text": [
            "Index type in compute_indicators: <class 'pandas.core.indexes.datetimes.DatetimeIndex'>\n",
            "Index type in compute_indicators: <class 'pandas.core.indexes.datetimes.DatetimeIndex'>\n"
          ]
        },
        {
          "output_type": "stream",
          "name": "stderr",
          "text": [
            "Collecting Signals:  56%|█████▌    | 262/471 [00:37<00:26,  7.95it/s]"
          ]
        },
        {
          "output_type": "stream",
          "name": "stdout",
          "text": [
            "Index type in compute_indicators: <class 'pandas.core.indexes.datetimes.DatetimeIndex'>\n",
            "Index type in compute_indicators: <class 'pandas.core.indexes.datetimes.DatetimeIndex'>\n"
          ]
        },
        {
          "output_type": "stream",
          "name": "stderr",
          "text": [
            "Collecting Signals:  56%|█████▌    | 264/471 [00:37<00:26,  7.84it/s]"
          ]
        },
        {
          "output_type": "stream",
          "name": "stdout",
          "text": [
            "Index type in compute_indicators: <class 'pandas.core.indexes.datetimes.DatetimeIndex'>\n",
            "Index type in compute_indicators: <class 'pandas.core.indexes.datetimes.DatetimeIndex'>\n"
          ]
        },
        {
          "output_type": "stream",
          "name": "stderr",
          "text": [
            "Collecting Signals:  56%|█████▋    | 266/471 [00:37<00:25,  8.00it/s]"
          ]
        },
        {
          "output_type": "stream",
          "name": "stdout",
          "text": [
            "Index type in compute_indicators: <class 'pandas.core.indexes.datetimes.DatetimeIndex'>\n",
            "Index type in compute_indicators: <class 'pandas.core.indexes.datetimes.DatetimeIndex'>\n"
          ]
        },
        {
          "output_type": "stream",
          "name": "stderr",
          "text": [
            "Collecting Signals:  57%|█████▋    | 268/471 [00:38<00:27,  7.48it/s]"
          ]
        },
        {
          "output_type": "stream",
          "name": "stdout",
          "text": [
            "Index type in compute_indicators: <class 'pandas.core.indexes.datetimes.DatetimeIndex'>\n",
            "Index type in compute_indicators: <class 'pandas.core.indexes.datetimes.DatetimeIndex'>\n"
          ]
        },
        {
          "output_type": "stream",
          "name": "stderr",
          "text": [
            "Collecting Signals:  57%|█████▋    | 270/471 [00:38<00:25,  7.85it/s]"
          ]
        },
        {
          "output_type": "stream",
          "name": "stdout",
          "text": [
            "Index type in compute_indicators: <class 'pandas.core.indexes.datetimes.DatetimeIndex'>\n",
            "Index type in compute_indicators: <class 'pandas.core.indexes.datetimes.DatetimeIndex'>\n"
          ]
        },
        {
          "output_type": "stream",
          "name": "stderr",
          "text": [
            "Collecting Signals:  58%|█████▊    | 272/471 [00:38<00:24,  8.15it/s]"
          ]
        },
        {
          "output_type": "stream",
          "name": "stdout",
          "text": [
            "Index type in compute_indicators: <class 'pandas.core.indexes.datetimes.DatetimeIndex'>\n",
            "Index type in compute_indicators: <class 'pandas.core.indexes.datetimes.DatetimeIndex'>\n"
          ]
        },
        {
          "output_type": "stream",
          "name": "stderr",
          "text": [
            "Collecting Signals:  58%|█████▊    | 274/471 [00:38<00:24,  8.12it/s]"
          ]
        },
        {
          "output_type": "stream",
          "name": "stdout",
          "text": [
            "Index type in compute_indicators: <class 'pandas.core.indexes.datetimes.DatetimeIndex'>\n",
            "Index type in compute_indicators: <class 'pandas.core.indexes.datetimes.DatetimeIndex'>\n"
          ]
        },
        {
          "output_type": "stream",
          "name": "stderr",
          "text": [
            "Collecting Signals:  59%|█████▊    | 276/471 [00:39<00:25,  7.80it/s]"
          ]
        },
        {
          "output_type": "stream",
          "name": "stdout",
          "text": [
            "Index type in compute_indicators: <class 'pandas.core.indexes.datetimes.DatetimeIndex'>\n",
            "Index type in compute_indicators: <class 'pandas.core.indexes.datetimes.DatetimeIndex'>\n"
          ]
        },
        {
          "output_type": "stream",
          "name": "stderr",
          "text": [
            "Collecting Signals:  59%|█████▉    | 278/471 [00:39<00:24,  7.86it/s]"
          ]
        },
        {
          "output_type": "stream",
          "name": "stdout",
          "text": [
            "Index type in compute_indicators: <class 'pandas.core.indexes.datetimes.DatetimeIndex'>\n",
            "Index type in compute_indicators: <class 'pandas.core.indexes.datetimes.DatetimeIndex'>\n"
          ]
        },
        {
          "output_type": "stream",
          "name": "stderr",
          "text": [
            "Collecting Signals:  59%|█████▉    | 280/471 [00:39<00:24,  7.82it/s]"
          ]
        },
        {
          "output_type": "stream",
          "name": "stdout",
          "text": [
            "Index type in compute_indicators: <class 'pandas.core.indexes.datetimes.DatetimeIndex'>\n",
            "Index type in compute_indicators: <class 'pandas.core.indexes.datetimes.DatetimeIndex'>\n"
          ]
        },
        {
          "output_type": "stream",
          "name": "stderr",
          "text": [
            "Collecting Signals:  60%|█████▉    | 282/471 [00:39<00:23,  7.90it/s]"
          ]
        },
        {
          "output_type": "stream",
          "name": "stdout",
          "text": [
            "Index type in compute_indicators: <class 'pandas.core.indexes.datetimes.DatetimeIndex'>\n",
            "Index type in compute_indicators: <class 'pandas.core.indexes.datetimes.DatetimeIndex'>\n"
          ]
        },
        {
          "output_type": "stream",
          "name": "stderr",
          "text": [
            "Collecting Signals:  60%|██████    | 284/471 [00:40<00:23,  8.03it/s]"
          ]
        },
        {
          "output_type": "stream",
          "name": "stdout",
          "text": [
            "Index type in compute_indicators: <class 'pandas.core.indexes.datetimes.DatetimeIndex'>\n",
            "Index type in compute_indicators: <class 'pandas.core.indexes.datetimes.DatetimeIndex'>\n"
          ]
        },
        {
          "output_type": "stream",
          "name": "stderr",
          "text": [
            "Collecting Signals:  61%|██████    | 286/471 [00:40<00:23,  7.73it/s]"
          ]
        },
        {
          "output_type": "stream",
          "name": "stdout",
          "text": [
            "Index type in compute_indicators: <class 'pandas.core.indexes.datetimes.DatetimeIndex'>\n",
            "Index type in compute_indicators: <class 'pandas.core.indexes.datetimes.DatetimeIndex'>\n"
          ]
        },
        {
          "output_type": "stream",
          "name": "stderr",
          "text": [
            "Collecting Signals:  61%|██████    | 288/471 [00:40<00:24,  7.61it/s]"
          ]
        },
        {
          "output_type": "stream",
          "name": "stdout",
          "text": [
            "Index type in compute_indicators: <class 'pandas.core.indexes.datetimes.DatetimeIndex'>\n",
            "Index type in compute_indicators: <class 'pandas.core.indexes.datetimes.DatetimeIndex'>\n"
          ]
        },
        {
          "output_type": "stream",
          "name": "stderr",
          "text": [
            "Collecting Signals:  62%|██████▏   | 290/471 [00:40<00:23,  7.55it/s]"
          ]
        },
        {
          "output_type": "stream",
          "name": "stdout",
          "text": [
            "Index type in compute_indicators: <class 'pandas.core.indexes.datetimes.DatetimeIndex'>\n",
            "Index type in compute_indicators: <class 'pandas.core.indexes.datetimes.DatetimeIndex'>\n"
          ]
        },
        {
          "output_type": "stream",
          "name": "stderr",
          "text": [
            "Collecting Signals:  62%|██████▏   | 292/471 [00:41<00:23,  7.68it/s]"
          ]
        },
        {
          "output_type": "stream",
          "name": "stdout",
          "text": [
            "Index type in compute_indicators: <class 'pandas.core.indexes.datetimes.DatetimeIndex'>\n",
            "Index type in compute_indicators: <class 'pandas.core.indexes.datetimes.DatetimeIndex'>\n"
          ]
        },
        {
          "output_type": "stream",
          "name": "stderr",
          "text": [
            "Collecting Signals:  62%|██████▏   | 294/471 [00:41<00:23,  7.46it/s]"
          ]
        },
        {
          "output_type": "stream",
          "name": "stdout",
          "text": [
            "Index type in compute_indicators: <class 'pandas.core.indexes.datetimes.DatetimeIndex'>\n",
            "Index type in compute_indicators: <class 'pandas.core.indexes.datetimes.DatetimeIndex'>\n"
          ]
        },
        {
          "output_type": "stream",
          "name": "stderr",
          "text": [
            "Collecting Signals:  63%|██████▎   | 296/471 [00:41<00:23,  7.35it/s]"
          ]
        },
        {
          "output_type": "stream",
          "name": "stdout",
          "text": [
            "Index type in compute_indicators: <class 'pandas.core.indexes.datetimes.DatetimeIndex'>\n",
            "Index type in compute_indicators: <class 'pandas.core.indexes.datetimes.DatetimeIndex'>\n"
          ]
        },
        {
          "output_type": "stream",
          "name": "stderr",
          "text": [
            "Collecting Signals:  63%|██████▎   | 298/471 [00:42<00:23,  7.49it/s]"
          ]
        },
        {
          "output_type": "stream",
          "name": "stdout",
          "text": [
            "Index type in compute_indicators: <class 'pandas.core.indexes.datetimes.DatetimeIndex'>\n",
            "Index type in compute_indicators: <class 'pandas.core.indexes.datetimes.DatetimeIndex'>\n"
          ]
        },
        {
          "output_type": "stream",
          "name": "stderr",
          "text": [
            "Collecting Signals:  64%|██████▎   | 300/471 [00:42<00:23,  7.33it/s]"
          ]
        },
        {
          "output_type": "stream",
          "name": "stdout",
          "text": [
            "Index type in compute_indicators: <class 'pandas.core.indexes.datetimes.DatetimeIndex'>\n",
            "Index type in compute_indicators: <class 'pandas.core.indexes.datetimes.DatetimeIndex'>\n"
          ]
        },
        {
          "output_type": "stream",
          "name": "stderr",
          "text": [
            "Collecting Signals:  64%|██████▍   | 302/471 [00:42<00:22,  7.48it/s]"
          ]
        },
        {
          "output_type": "stream",
          "name": "stdout",
          "text": [
            "Index type in compute_indicators: <class 'pandas.core.indexes.datetimes.DatetimeIndex'>\n",
            "Index type in compute_indicators: <class 'pandas.core.indexes.datetimes.DatetimeIndex'>\n"
          ]
        },
        {
          "output_type": "stream",
          "name": "stderr",
          "text": [
            "Collecting Signals:  65%|██████▍   | 304/471 [00:42<00:21,  7.61it/s]"
          ]
        },
        {
          "output_type": "stream",
          "name": "stdout",
          "text": [
            "Index type in compute_indicators: <class 'pandas.core.indexes.datetimes.DatetimeIndex'>\n",
            "Index type in compute_indicators: <class 'pandas.core.indexes.datetimes.DatetimeIndex'>\n"
          ]
        },
        {
          "output_type": "stream",
          "name": "stderr",
          "text": [
            "Collecting Signals:  65%|██████▍   | 306/471 [00:43<00:21,  7.68it/s]"
          ]
        },
        {
          "output_type": "stream",
          "name": "stdout",
          "text": [
            "Index type in compute_indicators: <class 'pandas.core.indexes.datetimes.DatetimeIndex'>\n",
            "Index type in compute_indicators: <class 'pandas.core.indexes.datetimes.DatetimeIndex'>\n"
          ]
        },
        {
          "output_type": "stream",
          "name": "stderr",
          "text": [
            "Collecting Signals:  65%|██████▌   | 308/471 [00:43<00:22,  7.36it/s]"
          ]
        },
        {
          "output_type": "stream",
          "name": "stdout",
          "text": [
            "Index type in compute_indicators: <class 'pandas.core.indexes.datetimes.DatetimeIndex'>\n",
            "Index type in compute_indicators: <class 'pandas.core.indexes.datetimes.DatetimeIndex'>\n"
          ]
        },
        {
          "output_type": "stream",
          "name": "stderr",
          "text": [
            "Collecting Signals:  66%|██████▌   | 310/471 [00:43<00:21,  7.43it/s]"
          ]
        },
        {
          "output_type": "stream",
          "name": "stdout",
          "text": [
            "Index type in compute_indicators: <class 'pandas.core.indexes.datetimes.DatetimeIndex'>\n",
            "Index type in compute_indicators: <class 'pandas.core.indexes.datetimes.DatetimeIndex'>\n"
          ]
        },
        {
          "output_type": "stream",
          "name": "stderr",
          "text": [
            "Collecting Signals:  66%|██████▌   | 312/471 [00:44<00:26,  5.92it/s]"
          ]
        },
        {
          "output_type": "stream",
          "name": "stdout",
          "text": [
            "Index type in compute_indicators: <class 'pandas.core.indexes.datetimes.DatetimeIndex'>\n"
          ]
        },
        {
          "output_type": "stream",
          "name": "stderr",
          "text": [
            "\rCollecting Signals:  66%|██████▋   | 313/471 [00:44<00:28,  5.64it/s]"
          ]
        },
        {
          "output_type": "stream",
          "name": "stdout",
          "text": [
            "Index type in compute_indicators: <class 'pandas.core.indexes.datetimes.DatetimeIndex'>\n",
            "Index type in compute_indicators: <class 'pandas.core.indexes.datetimes.DatetimeIndex'>\n"
          ]
        },
        {
          "output_type": "stream",
          "name": "stderr",
          "text": [
            "Collecting Signals:  67%|██████▋   | 315/471 [00:44<00:30,  5.20it/s]"
          ]
        },
        {
          "output_type": "stream",
          "name": "stdout",
          "text": [
            "Index type in compute_indicators: <class 'pandas.core.indexes.datetimes.DatetimeIndex'>\n",
            "Index type in compute_indicators: <class 'pandas.core.indexes.datetimes.DatetimeIndex'>\n"
          ]
        },
        {
          "output_type": "stream",
          "name": "stderr",
          "text": [
            "Collecting Signals:  67%|██████▋   | 317/471 [00:45<00:29,  5.16it/s]"
          ]
        },
        {
          "output_type": "stream",
          "name": "stdout",
          "text": [
            "Index type in compute_indicators: <class 'pandas.core.indexes.datetimes.DatetimeIndex'>\n",
            "Index type in compute_indicators: <class 'pandas.core.indexes.datetimes.DatetimeIndex'>\n"
          ]
        },
        {
          "output_type": "stream",
          "name": "stderr",
          "text": [
            "\rCollecting Signals:  68%|██████▊   | 318/471 [00:45<00:30,  5.10it/s]"
          ]
        },
        {
          "output_type": "stream",
          "name": "stdout",
          "text": [
            "Index type in compute_indicators: <class 'pandas.core.indexes.datetimes.DatetimeIndex'>\n"
          ]
        },
        {
          "output_type": "stream",
          "name": "stderr",
          "text": [
            "\rCollecting Signals:  68%|██████▊   | 319/471 [00:45<00:31,  4.89it/s]"
          ]
        },
        {
          "output_type": "stream",
          "name": "stdout",
          "text": [
            "Index type in compute_indicators: <class 'pandas.core.indexes.datetimes.DatetimeIndex'>\n"
          ]
        },
        {
          "output_type": "stream",
          "name": "stderr",
          "text": [
            "Collecting Signals:  68%|██████▊   | 321/471 [00:45<00:31,  4.74it/s]"
          ]
        },
        {
          "output_type": "stream",
          "name": "stdout",
          "text": [
            "Index type in compute_indicators: <class 'pandas.core.indexes.datetimes.DatetimeIndex'>\n",
            "Index type in compute_indicators: <class 'pandas.core.indexes.datetimes.DatetimeIndex'>\n"
          ]
        },
        {
          "output_type": "stream",
          "name": "stderr",
          "text": [
            "\rCollecting Signals:  68%|██████▊   | 322/471 [00:46<00:32,  4.65it/s]"
          ]
        },
        {
          "output_type": "stream",
          "name": "stdout",
          "text": [
            "Index type in compute_indicators: <class 'pandas.core.indexes.datetimes.DatetimeIndex'>\n"
          ]
        },
        {
          "output_type": "stream",
          "name": "stderr",
          "text": [
            "\rCollecting Signals:  69%|██████▊   | 323/471 [00:46<00:32,  4.60it/s]"
          ]
        },
        {
          "output_type": "stream",
          "name": "stdout",
          "text": [
            "Index type in compute_indicators: <class 'pandas.core.indexes.datetimes.DatetimeIndex'>\n"
          ]
        },
        {
          "output_type": "stream",
          "name": "stderr",
          "text": [
            "Collecting Signals:  69%|██████▉   | 325/471 [00:46<00:30,  4.84it/s]"
          ]
        },
        {
          "output_type": "stream",
          "name": "stdout",
          "text": [
            "Index type in compute_indicators: <class 'pandas.core.indexes.datetimes.DatetimeIndex'>\n",
            "Index type in compute_indicators: <class 'pandas.core.indexes.datetimes.DatetimeIndex'>\n"
          ]
        },
        {
          "output_type": "stream",
          "name": "stderr",
          "text": [
            "Collecting Signals:  69%|██████▉   | 327/471 [00:46<00:23,  6.14it/s]"
          ]
        },
        {
          "output_type": "stream",
          "name": "stdout",
          "text": [
            "Index type in compute_indicators: <class 'pandas.core.indexes.datetimes.DatetimeIndex'>\n",
            "Index type in compute_indicators: <class 'pandas.core.indexes.datetimes.DatetimeIndex'>\n"
          ]
        },
        {
          "output_type": "stream",
          "name": "stderr",
          "text": [
            "Collecting Signals:  70%|██████▉   | 329/471 [00:47<00:19,  7.11it/s]"
          ]
        },
        {
          "output_type": "stream",
          "name": "stdout",
          "text": [
            "Index type in compute_indicators: <class 'pandas.core.indexes.datetimes.DatetimeIndex'>\n",
            "Index type in compute_indicators: <class 'pandas.core.indexes.datetimes.DatetimeIndex'>\n"
          ]
        },
        {
          "output_type": "stream",
          "name": "stderr",
          "text": [
            "Collecting Signals:  70%|███████   | 331/471 [00:47<00:18,  7.48it/s]"
          ]
        },
        {
          "output_type": "stream",
          "name": "stdout",
          "text": [
            "Index type in compute_indicators: <class 'pandas.core.indexes.datetimes.DatetimeIndex'>\n",
            "Index type in compute_indicators: <class 'pandas.core.indexes.datetimes.DatetimeIndex'>\n"
          ]
        },
        {
          "output_type": "stream",
          "name": "stderr",
          "text": [
            "Collecting Signals:  71%|███████   | 333/471 [00:47<00:18,  7.33it/s]"
          ]
        },
        {
          "output_type": "stream",
          "name": "stdout",
          "text": [
            "Index type in compute_indicators: <class 'pandas.core.indexes.datetimes.DatetimeIndex'>\n",
            "Index type in compute_indicators: <class 'pandas.core.indexes.datetimes.DatetimeIndex'>\n"
          ]
        },
        {
          "output_type": "stream",
          "name": "stderr",
          "text": [
            "Collecting Signals:  71%|███████   | 335/471 [00:48<00:17,  7.68it/s]"
          ]
        },
        {
          "output_type": "stream",
          "name": "stdout",
          "text": [
            "Index type in compute_indicators: <class 'pandas.core.indexes.datetimes.DatetimeIndex'>\n",
            "Index type in compute_indicators: <class 'pandas.core.indexes.datetimes.DatetimeIndex'>\n"
          ]
        },
        {
          "output_type": "stream",
          "name": "stderr",
          "text": [
            "Collecting Signals:  72%|███████▏  | 337/471 [00:48<00:17,  7.73it/s]"
          ]
        },
        {
          "output_type": "stream",
          "name": "stdout",
          "text": [
            "Index type in compute_indicators: <class 'pandas.core.indexes.datetimes.DatetimeIndex'>\n",
            "Index type in compute_indicators: <class 'pandas.core.indexes.datetimes.DatetimeIndex'>\n"
          ]
        },
        {
          "output_type": "stream",
          "name": "stderr",
          "text": [
            "Collecting Signals:  72%|███████▏  | 339/471 [00:48<00:17,  7.56it/s]"
          ]
        },
        {
          "output_type": "stream",
          "name": "stdout",
          "text": [
            "Index type in compute_indicators: <class 'pandas.core.indexes.datetimes.DatetimeIndex'>\n",
            "Index type in compute_indicators: <class 'pandas.core.indexes.datetimes.DatetimeIndex'>\n"
          ]
        },
        {
          "output_type": "stream",
          "name": "stderr",
          "text": [
            "Collecting Signals:  72%|███████▏  | 341/471 [00:48<00:17,  7.59it/s]"
          ]
        },
        {
          "output_type": "stream",
          "name": "stdout",
          "text": [
            "Index type in compute_indicators: <class 'pandas.core.indexes.datetimes.DatetimeIndex'>\n",
            "Index type in compute_indicators: <class 'pandas.core.indexes.datetimes.DatetimeIndex'>\n"
          ]
        },
        {
          "output_type": "stream",
          "name": "stderr",
          "text": [
            "Collecting Signals:  73%|███████▎  | 343/471 [00:49<00:16,  7.67it/s]"
          ]
        },
        {
          "output_type": "stream",
          "name": "stdout",
          "text": [
            "Index type in compute_indicators: <class 'pandas.core.indexes.datetimes.DatetimeIndex'>\n",
            "Index type in compute_indicators: <class 'pandas.core.indexes.datetimes.DatetimeIndex'>\n"
          ]
        },
        {
          "output_type": "stream",
          "name": "stderr",
          "text": [
            "Collecting Signals:  73%|███████▎  | 345/471 [00:49<00:16,  7.73it/s]"
          ]
        },
        {
          "output_type": "stream",
          "name": "stdout",
          "text": [
            "Index type in compute_indicators: <class 'pandas.core.indexes.datetimes.DatetimeIndex'>\n",
            "Index type in compute_indicators: <class 'pandas.core.indexes.datetimes.DatetimeIndex'>\n"
          ]
        },
        {
          "output_type": "stream",
          "name": "stderr",
          "text": [
            "Collecting Signals:  74%|███████▎  | 347/471 [00:49<00:15,  7.82it/s]"
          ]
        },
        {
          "output_type": "stream",
          "name": "stdout",
          "text": [
            "Index type in compute_indicators: <class 'pandas.core.indexes.datetimes.DatetimeIndex'>\n",
            "Index type in compute_indicators: <class 'pandas.core.indexes.datetimes.DatetimeIndex'>\n"
          ]
        },
        {
          "output_type": "stream",
          "name": "stderr",
          "text": [
            "Collecting Signals:  74%|███████▍  | 349/471 [00:49<00:16,  7.52it/s]"
          ]
        },
        {
          "output_type": "stream",
          "name": "stdout",
          "text": [
            "Index type in compute_indicators: <class 'pandas.core.indexes.datetimes.DatetimeIndex'>\n",
            "Index type in compute_indicators: <class 'pandas.core.indexes.datetimes.DatetimeIndex'>\n"
          ]
        },
        {
          "output_type": "stream",
          "name": "stderr",
          "text": [
            "Collecting Signals:  75%|███████▍  | 351/471 [00:50<00:15,  7.59it/s]"
          ]
        },
        {
          "output_type": "stream",
          "name": "stdout",
          "text": [
            "Index type in compute_indicators: <class 'pandas.core.indexes.datetimes.DatetimeIndex'>\n",
            "Index type in compute_indicators: <class 'pandas.core.indexes.datetimes.DatetimeIndex'>\n"
          ]
        },
        {
          "output_type": "stream",
          "name": "stderr",
          "text": [
            "Collecting Signals:  75%|███████▍  | 353/471 [00:50<00:15,  7.72it/s]"
          ]
        },
        {
          "output_type": "stream",
          "name": "stdout",
          "text": [
            "Index type in compute_indicators: <class 'pandas.core.indexes.datetimes.DatetimeIndex'>\n",
            "Index type in compute_indicators: <class 'pandas.core.indexes.datetimes.DatetimeIndex'>\n"
          ]
        },
        {
          "output_type": "stream",
          "name": "stderr",
          "text": [
            "Collecting Signals:  75%|███████▌  | 355/471 [00:50<00:14,  7.82it/s]"
          ]
        },
        {
          "output_type": "stream",
          "name": "stdout",
          "text": [
            "Index type in compute_indicators: <class 'pandas.core.indexes.datetimes.DatetimeIndex'>\n",
            "Index type in compute_indicators: <class 'pandas.core.indexes.datetimes.DatetimeIndex'>\n"
          ]
        },
        {
          "output_type": "stream",
          "name": "stderr",
          "text": [
            "Collecting Signals:  76%|███████▌  | 357/471 [00:50<00:14,  7.62it/s]"
          ]
        },
        {
          "output_type": "stream",
          "name": "stdout",
          "text": [
            "Index type in compute_indicators: <class 'pandas.core.indexes.datetimes.DatetimeIndex'>\n",
            "Index type in compute_indicators: <class 'pandas.core.indexes.datetimes.DatetimeIndex'>\n"
          ]
        },
        {
          "output_type": "stream",
          "name": "stderr",
          "text": [
            "Collecting Signals:  76%|███████▌  | 359/471 [00:51<00:14,  7.69it/s]"
          ]
        },
        {
          "output_type": "stream",
          "name": "stdout",
          "text": [
            "Index type in compute_indicators: <class 'pandas.core.indexes.datetimes.DatetimeIndex'>\n",
            "Index type in compute_indicators: <class 'pandas.core.indexes.datetimes.DatetimeIndex'>\n"
          ]
        },
        {
          "output_type": "stream",
          "name": "stderr",
          "text": [
            "Collecting Signals:  77%|███████▋  | 361/471 [00:51<00:14,  7.76it/s]"
          ]
        },
        {
          "output_type": "stream",
          "name": "stdout",
          "text": [
            "Index type in compute_indicators: <class 'pandas.core.indexes.datetimes.DatetimeIndex'>\n",
            "Index type in compute_indicators: <class 'pandas.core.indexes.datetimes.DatetimeIndex'>\n"
          ]
        },
        {
          "output_type": "stream",
          "name": "stderr",
          "text": [
            "Collecting Signals:  77%|███████▋  | 363/471 [00:51<00:13,  7.73it/s]"
          ]
        },
        {
          "output_type": "stream",
          "name": "stdout",
          "text": [
            "Index type in compute_indicators: <class 'pandas.core.indexes.datetimes.DatetimeIndex'>\n",
            "Index type in compute_indicators: <class 'pandas.core.indexes.datetimes.DatetimeIndex'>\n"
          ]
        },
        {
          "output_type": "stream",
          "name": "stderr",
          "text": [
            "Collecting Signals:  77%|███████▋  | 365/471 [00:51<00:14,  7.52it/s]"
          ]
        },
        {
          "output_type": "stream",
          "name": "stdout",
          "text": [
            "Index type in compute_indicators: <class 'pandas.core.indexes.datetimes.DatetimeIndex'>\n",
            "Index type in compute_indicators: <class 'pandas.core.indexes.datetimes.DatetimeIndex'>\n"
          ]
        },
        {
          "output_type": "stream",
          "name": "stderr",
          "text": [
            "Collecting Signals:  78%|███████▊  | 367/471 [00:52<00:13,  7.75it/s]"
          ]
        },
        {
          "output_type": "stream",
          "name": "stdout",
          "text": [
            "Index type in compute_indicators: <class 'pandas.core.indexes.datetimes.DatetimeIndex'>\n",
            "Index type in compute_indicators: <class 'pandas.core.indexes.datetimes.DatetimeIndex'>\n"
          ]
        },
        {
          "output_type": "stream",
          "name": "stderr",
          "text": [
            "Collecting Signals:  78%|███████▊  | 369/471 [00:52<00:13,  7.74it/s]"
          ]
        },
        {
          "output_type": "stream",
          "name": "stdout",
          "text": [
            "Index type in compute_indicators: <class 'pandas.core.indexes.datetimes.DatetimeIndex'>\n",
            "Index type in compute_indicators: <class 'pandas.core.indexes.datetimes.DatetimeIndex'>\n"
          ]
        },
        {
          "output_type": "stream",
          "name": "stderr",
          "text": [
            "Collecting Signals:  79%|███████▉  | 371/471 [00:52<00:12,  7.74it/s]"
          ]
        },
        {
          "output_type": "stream",
          "name": "stdout",
          "text": [
            "Index type in compute_indicators: <class 'pandas.core.indexes.datetimes.DatetimeIndex'>\n",
            "Index type in compute_indicators: <class 'pandas.core.indexes.datetimes.DatetimeIndex'>\n"
          ]
        },
        {
          "output_type": "stream",
          "name": "stderr",
          "text": [
            "Collecting Signals:  79%|███████▉  | 373/471 [00:53<00:13,  7.50it/s]"
          ]
        },
        {
          "output_type": "stream",
          "name": "stdout",
          "text": [
            "Index type in compute_indicators: <class 'pandas.core.indexes.datetimes.DatetimeIndex'>\n",
            "Index type in compute_indicators: <class 'pandas.core.indexes.datetimes.DatetimeIndex'>\n"
          ]
        },
        {
          "output_type": "stream",
          "name": "stderr",
          "text": [
            "Collecting Signals:  80%|███████▉  | 375/471 [00:53<00:12,  7.71it/s]"
          ]
        },
        {
          "output_type": "stream",
          "name": "stdout",
          "text": [
            "Index type in compute_indicators: <class 'pandas.core.indexes.datetimes.DatetimeIndex'>\n",
            "Index type in compute_indicators: <class 'pandas.core.indexes.datetimes.DatetimeIndex'>\n"
          ]
        },
        {
          "output_type": "stream",
          "name": "stderr",
          "text": [
            "Collecting Signals:  80%|████████  | 377/471 [00:53<00:12,  7.71it/s]"
          ]
        },
        {
          "output_type": "stream",
          "name": "stdout",
          "text": [
            "Index type in compute_indicators: <class 'pandas.core.indexes.datetimes.DatetimeIndex'>\n",
            "Index type in compute_indicators: <class 'pandas.core.indexes.datetimes.DatetimeIndex'>\n"
          ]
        },
        {
          "output_type": "stream",
          "name": "stderr",
          "text": [
            "Collecting Signals:  80%|████████  | 379/471 [00:53<00:11,  7.86it/s]"
          ]
        },
        {
          "output_type": "stream",
          "name": "stdout",
          "text": [
            "Index type in compute_indicators: <class 'pandas.core.indexes.datetimes.DatetimeIndex'>\n",
            "Index type in compute_indicators: <class 'pandas.core.indexes.datetimes.DatetimeIndex'>\n"
          ]
        },
        {
          "output_type": "stream",
          "name": "stderr",
          "text": [
            "Collecting Signals:  81%|████████  | 381/471 [00:54<00:11,  7.54it/s]"
          ]
        },
        {
          "output_type": "stream",
          "name": "stdout",
          "text": [
            "Index type in compute_indicators: <class 'pandas.core.indexes.datetimes.DatetimeIndex'>\n",
            "Index type in compute_indicators: <class 'pandas.core.indexes.datetimes.DatetimeIndex'>\n"
          ]
        },
        {
          "output_type": "stream",
          "name": "stderr",
          "text": [
            "Collecting Signals:  81%|████████▏ | 383/471 [00:54<00:11,  7.52it/s]"
          ]
        },
        {
          "output_type": "stream",
          "name": "stdout",
          "text": [
            "Index type in compute_indicators: <class 'pandas.core.indexes.datetimes.DatetimeIndex'>\n",
            "Index type in compute_indicators: <class 'pandas.core.indexes.datetimes.DatetimeIndex'>\n"
          ]
        },
        {
          "output_type": "stream",
          "name": "stderr",
          "text": [
            "Collecting Signals:  82%|████████▏ | 385/471 [00:54<00:11,  7.59it/s]"
          ]
        },
        {
          "output_type": "stream",
          "name": "stdout",
          "text": [
            "Index type in compute_indicators: <class 'pandas.core.indexes.datetimes.DatetimeIndex'>\n",
            "Index type in compute_indicators: <class 'pandas.core.indexes.datetimes.DatetimeIndex'>\n"
          ]
        },
        {
          "output_type": "stream",
          "name": "stderr",
          "text": [
            "Collecting Signals:  82%|████████▏ | 387/471 [00:54<00:10,  7.70it/s]"
          ]
        },
        {
          "output_type": "stream",
          "name": "stdout",
          "text": [
            "Index type in compute_indicators: <class 'pandas.core.indexes.datetimes.DatetimeIndex'>\n",
            "Index type in compute_indicators: <class 'pandas.core.indexes.datetimes.DatetimeIndex'>\n"
          ]
        },
        {
          "output_type": "stream",
          "name": "stderr",
          "text": [
            "Collecting Signals:  83%|████████▎ | 389/471 [00:55<00:10,  7.55it/s]"
          ]
        },
        {
          "output_type": "stream",
          "name": "stdout",
          "text": [
            "Index type in compute_indicators: <class 'pandas.core.indexes.datetimes.DatetimeIndex'>\n",
            "Index type in compute_indicators: <class 'pandas.core.indexes.datetimes.DatetimeIndex'>\n"
          ]
        },
        {
          "output_type": "stream",
          "name": "stderr",
          "text": [
            "Collecting Signals:  83%|████████▎ | 391/471 [00:55<00:10,  7.62it/s]"
          ]
        },
        {
          "output_type": "stream",
          "name": "stdout",
          "text": [
            "Index type in compute_indicators: <class 'pandas.core.indexes.datetimes.DatetimeIndex'>\n",
            "Index type in compute_indicators: <class 'pandas.core.indexes.datetimes.DatetimeIndex'>\n"
          ]
        },
        {
          "output_type": "stream",
          "name": "stderr",
          "text": [
            "Collecting Signals:  83%|████████▎ | 393/471 [00:55<00:09,  7.83it/s]"
          ]
        },
        {
          "output_type": "stream",
          "name": "stdout",
          "text": [
            "Index type in compute_indicators: <class 'pandas.core.indexes.datetimes.DatetimeIndex'>\n",
            "Index type in compute_indicators: <class 'pandas.core.indexes.datetimes.DatetimeIndex'>\n"
          ]
        },
        {
          "output_type": "stream",
          "name": "stderr",
          "text": [
            "Collecting Signals:  84%|████████▍ | 395/471 [00:55<00:09,  7.73it/s]"
          ]
        },
        {
          "output_type": "stream",
          "name": "stdout",
          "text": [
            "Index type in compute_indicators: <class 'pandas.core.indexes.datetimes.DatetimeIndex'>\n",
            "Index type in compute_indicators: <class 'pandas.core.indexes.datetimes.DatetimeIndex'>\n",
            "Index type in compute_indicators: <class 'pandas.core.indexes.datetimes.DatetimeIndex'>\n"
          ]
        },
        {
          "output_type": "stream",
          "name": "stderr",
          "text": [
            "Collecting Signals:  85%|████████▍ | 398/471 [00:56<00:08,  8.71it/s]"
          ]
        },
        {
          "output_type": "stream",
          "name": "stdout",
          "text": [
            "Index type in compute_indicators: <class 'pandas.core.indexes.datetimes.DatetimeIndex'>\n",
            "Index type in compute_indicators: <class 'pandas.core.indexes.datetimes.DatetimeIndex'>\n"
          ]
        },
        {
          "output_type": "stream",
          "name": "stderr",
          "text": [
            "Collecting Signals:  85%|████████▍ | 400/471 [00:56<00:08,  8.36it/s]"
          ]
        },
        {
          "output_type": "stream",
          "name": "stdout",
          "text": [
            "Index type in compute_indicators: <class 'pandas.core.indexes.datetimes.DatetimeIndex'>\n",
            "Index type in compute_indicators: <class 'pandas.core.indexes.datetimes.DatetimeIndex'>\n"
          ]
        },
        {
          "output_type": "stream",
          "name": "stderr",
          "text": [
            "Collecting Signals:  85%|████████▌ | 402/471 [00:56<00:09,  7.04it/s]"
          ]
        },
        {
          "output_type": "stream",
          "name": "stdout",
          "text": [
            "Index type in compute_indicators: <class 'pandas.core.indexes.datetimes.DatetimeIndex'>\n",
            "Index type in compute_indicators: <class 'pandas.core.indexes.datetimes.DatetimeIndex'>\n"
          ]
        },
        {
          "output_type": "stream",
          "name": "stderr",
          "text": [
            "\rCollecting Signals:  86%|████████▌ | 403/471 [00:56<00:11,  6.13it/s]"
          ]
        },
        {
          "output_type": "stream",
          "name": "stdout",
          "text": [
            "Index type in compute_indicators: <class 'pandas.core.indexes.datetimes.DatetimeIndex'>\n"
          ]
        },
        {
          "output_type": "stream",
          "name": "stderr",
          "text": [
            "Collecting Signals:  86%|████████▌ | 405/471 [00:57<00:12,  5.26it/s]"
          ]
        },
        {
          "output_type": "stream",
          "name": "stdout",
          "text": [
            "Index type in compute_indicators: <class 'pandas.core.indexes.datetimes.DatetimeIndex'>\n"
          ]
        },
        {
          "output_type": "stream",
          "name": "stderr",
          "text": [
            "\rCollecting Signals:  86%|████████▌ | 406/471 [00:57<00:12,  5.17it/s]"
          ]
        },
        {
          "output_type": "stream",
          "name": "stdout",
          "text": [
            "Index type in compute_indicators: <class 'pandas.core.indexes.datetimes.DatetimeIndex'>\n",
            "Index type in compute_indicators: <class 'pandas.core.indexes.datetimes.DatetimeIndex'>\n"
          ]
        },
        {
          "output_type": "stream",
          "name": "stderr",
          "text": [
            "Collecting Signals:  87%|████████▋ | 408/471 [00:58<00:12,  5.07it/s]"
          ]
        },
        {
          "output_type": "stream",
          "name": "stdout",
          "text": [
            "Index type in compute_indicators: <class 'pandas.core.indexes.datetimes.DatetimeIndex'>\n",
            "Index type in compute_indicators: <class 'pandas.core.indexes.datetimes.DatetimeIndex'>\n"
          ]
        },
        {
          "output_type": "stream",
          "name": "stderr",
          "text": [
            "Collecting Signals:  87%|████████▋ | 410/471 [00:58<00:12,  4.94it/s]"
          ]
        },
        {
          "output_type": "stream",
          "name": "stdout",
          "text": [
            "Index type in compute_indicators: <class 'pandas.core.indexes.datetimes.DatetimeIndex'>\n",
            "Index type in compute_indicators: <class 'pandas.core.indexes.datetimes.DatetimeIndex'>\n"
          ]
        },
        {
          "output_type": "stream",
          "name": "stderr",
          "text": [
            "\rCollecting Signals:  87%|████████▋ | 411/471 [00:58<00:12,  4.80it/s]"
          ]
        },
        {
          "output_type": "stream",
          "name": "stdout",
          "text": [
            "Index type in compute_indicators: <class 'pandas.core.indexes.datetimes.DatetimeIndex'>\n"
          ]
        },
        {
          "output_type": "stream",
          "name": "stderr",
          "text": [
            "\rCollecting Signals:  87%|████████▋ | 412/471 [00:58<00:12,  4.70it/s]"
          ]
        },
        {
          "output_type": "stream",
          "name": "stdout",
          "text": [
            "Index type in compute_indicators: <class 'pandas.core.indexes.datetimes.DatetimeIndex'>\n"
          ]
        },
        {
          "output_type": "stream",
          "name": "stderr",
          "text": [
            "\rCollecting Signals:  88%|████████▊ | 413/471 [00:59<00:12,  4.73it/s]"
          ]
        },
        {
          "output_type": "stream",
          "name": "stdout",
          "text": [
            "Index type in compute_indicators: <class 'pandas.core.indexes.datetimes.DatetimeIndex'>\n"
          ]
        },
        {
          "output_type": "stream",
          "name": "stderr",
          "text": [
            "\rCollecting Signals:  88%|████████▊ | 414/471 [00:59<00:12,  4.56it/s]"
          ]
        },
        {
          "output_type": "stream",
          "name": "stdout",
          "text": [
            "Index type in compute_indicators: <class 'pandas.core.indexes.datetimes.DatetimeIndex'>\n"
          ]
        },
        {
          "output_type": "stream",
          "name": "stderr",
          "text": [
            "Collecting Signals:  88%|████████▊ | 416/471 [00:59<00:11,  4.86it/s]"
          ]
        },
        {
          "output_type": "stream",
          "name": "stdout",
          "text": [
            "Index type in compute_indicators: <class 'pandas.core.indexes.datetimes.DatetimeIndex'>\n",
            "Index type in compute_indicators: <class 'pandas.core.indexes.datetimes.DatetimeIndex'>\n"
          ]
        },
        {
          "output_type": "stream",
          "name": "stderr",
          "text": [
            "Collecting Signals:  89%|████████▊ | 418/471 [00:59<00:08,  6.04it/s]"
          ]
        },
        {
          "output_type": "stream",
          "name": "stdout",
          "text": [
            "Index type in compute_indicators: <class 'pandas.core.indexes.datetimes.DatetimeIndex'>\n",
            "Index type in compute_indicators: <class 'pandas.core.indexes.datetimes.DatetimeIndex'>\n"
          ]
        },
        {
          "output_type": "stream",
          "name": "stderr",
          "text": [
            "Collecting Signals:  89%|████████▉ | 420/471 [01:00<00:07,  6.71it/s]"
          ]
        },
        {
          "output_type": "stream",
          "name": "stdout",
          "text": [
            "Index type in compute_indicators: <class 'pandas.core.indexes.datetimes.DatetimeIndex'>\n",
            "Index type in compute_indicators: <class 'pandas.core.indexes.datetimes.DatetimeIndex'>\n"
          ]
        },
        {
          "output_type": "stream",
          "name": "stderr",
          "text": [
            "Collecting Signals:  90%|████████▉ | 422/471 [01:00<00:07,  6.94it/s]"
          ]
        },
        {
          "output_type": "stream",
          "name": "stdout",
          "text": [
            "Index type in compute_indicators: <class 'pandas.core.indexes.datetimes.DatetimeIndex'>\n",
            "Index type in compute_indicators: <class 'pandas.core.indexes.datetimes.DatetimeIndex'>\n"
          ]
        },
        {
          "output_type": "stream",
          "name": "stderr",
          "text": [
            "Collecting Signals:  90%|█████████ | 424/471 [01:00<00:06,  7.46it/s]"
          ]
        },
        {
          "output_type": "stream",
          "name": "stdout",
          "text": [
            "Index type in compute_indicators: <class 'pandas.core.indexes.datetimes.DatetimeIndex'>\n",
            "Index type in compute_indicators: <class 'pandas.core.indexes.datetimes.DatetimeIndex'>\n"
          ]
        },
        {
          "output_type": "stream",
          "name": "stderr",
          "text": [
            "Collecting Signals:  90%|█████████ | 426/471 [01:01<00:05,  7.70it/s]"
          ]
        },
        {
          "output_type": "stream",
          "name": "stdout",
          "text": [
            "Index type in compute_indicators: <class 'pandas.core.indexes.datetimes.DatetimeIndex'>\n",
            "Index type in compute_indicators: <class 'pandas.core.indexes.datetimes.DatetimeIndex'>\n"
          ]
        },
        {
          "output_type": "stream",
          "name": "stderr",
          "text": [
            "Collecting Signals:  91%|█████████ | 428/471 [01:01<00:05,  7.69it/s]"
          ]
        },
        {
          "output_type": "stream",
          "name": "stdout",
          "text": [
            "Index type in compute_indicators: <class 'pandas.core.indexes.datetimes.DatetimeIndex'>\n",
            "Index type in compute_indicators: <class 'pandas.core.indexes.datetimes.DatetimeIndex'>\n"
          ]
        },
        {
          "output_type": "stream",
          "name": "stderr",
          "text": [
            "Collecting Signals:  91%|█████████▏| 430/471 [01:01<00:05,  7.42it/s]"
          ]
        },
        {
          "output_type": "stream",
          "name": "stdout",
          "text": [
            "Index type in compute_indicators: <class 'pandas.core.indexes.datetimes.DatetimeIndex'>\n",
            "Index type in compute_indicators: <class 'pandas.core.indexes.datetimes.DatetimeIndex'>\n"
          ]
        },
        {
          "output_type": "stream",
          "name": "stderr",
          "text": [
            "Collecting Signals:  92%|█████████▏| 432/471 [01:01<00:05,  7.71it/s]"
          ]
        },
        {
          "output_type": "stream",
          "name": "stdout",
          "text": [
            "Index type in compute_indicators: <class 'pandas.core.indexes.datetimes.DatetimeIndex'>\n",
            "Index type in compute_indicators: <class 'pandas.core.indexes.datetimes.DatetimeIndex'>\n"
          ]
        },
        {
          "output_type": "stream",
          "name": "stderr",
          "text": [
            "Collecting Signals:  92%|█████████▏| 434/471 [01:02<00:05,  7.25it/s]"
          ]
        },
        {
          "output_type": "stream",
          "name": "stdout",
          "text": [
            "Index type in compute_indicators: <class 'pandas.core.indexes.datetimes.DatetimeIndex'>\n",
            "Index type in compute_indicators: <class 'pandas.core.indexes.datetimes.DatetimeIndex'>\n"
          ]
        },
        {
          "output_type": "stream",
          "name": "stderr",
          "text": [
            "Collecting Signals:  93%|█████████▎| 436/471 [01:02<00:05,  6.63it/s]"
          ]
        },
        {
          "output_type": "stream",
          "name": "stdout",
          "text": [
            "Index type in compute_indicators: <class 'pandas.core.indexes.datetimes.DatetimeIndex'>\n",
            "Index type in compute_indicators: <class 'pandas.core.indexes.datetimes.DatetimeIndex'>\n"
          ]
        },
        {
          "output_type": "stream",
          "name": "stderr",
          "text": [
            "Collecting Signals:  93%|█████████▎| 438/471 [01:02<00:04,  7.27it/s]"
          ]
        },
        {
          "output_type": "stream",
          "name": "stdout",
          "text": [
            "Index type in compute_indicators: <class 'pandas.core.indexes.datetimes.DatetimeIndex'>\n",
            "Index type in compute_indicators: <class 'pandas.core.indexes.datetimes.DatetimeIndex'>\n"
          ]
        },
        {
          "output_type": "stream",
          "name": "stderr",
          "text": [
            "Collecting Signals:  93%|█████████▎| 440/471 [01:02<00:04,  7.43it/s]"
          ]
        },
        {
          "output_type": "stream",
          "name": "stdout",
          "text": [
            "Index type in compute_indicators: <class 'pandas.core.indexes.datetimes.DatetimeIndex'>\n",
            "Index type in compute_indicators: <class 'pandas.core.indexes.datetimes.DatetimeIndex'>\n"
          ]
        },
        {
          "output_type": "stream",
          "name": "stderr",
          "text": [
            "Collecting Signals:  94%|█████████▍| 442/471 [01:03<00:03,  7.68it/s]"
          ]
        },
        {
          "output_type": "stream",
          "name": "stdout",
          "text": [
            "Index type in compute_indicators: <class 'pandas.core.indexes.datetimes.DatetimeIndex'>\n",
            "Index type in compute_indicators: <class 'pandas.core.indexes.datetimes.DatetimeIndex'>\n"
          ]
        },
        {
          "output_type": "stream",
          "name": "stderr",
          "text": [
            "Collecting Signals:  94%|█████████▍| 444/471 [01:03<00:03,  7.30it/s]"
          ]
        },
        {
          "output_type": "stream",
          "name": "stdout",
          "text": [
            "Index type in compute_indicators: <class 'pandas.core.indexes.datetimes.DatetimeIndex'>\n",
            "Index type in compute_indicators: <class 'pandas.core.indexes.datetimes.DatetimeIndex'>\n"
          ]
        },
        {
          "output_type": "stream",
          "name": "stderr",
          "text": [
            "Collecting Signals:  95%|█████████▍| 446/471 [01:03<00:03,  7.64it/s]"
          ]
        },
        {
          "output_type": "stream",
          "name": "stdout",
          "text": [
            "Index type in compute_indicators: <class 'pandas.core.indexes.datetimes.DatetimeIndex'>\n",
            "Index type in compute_indicators: <class 'pandas.core.indexes.datetimes.DatetimeIndex'>\n"
          ]
        },
        {
          "output_type": "stream",
          "name": "stderr",
          "text": [
            "Collecting Signals:  95%|█████████▌| 448/471 [01:04<00:02,  7.78it/s]"
          ]
        },
        {
          "output_type": "stream",
          "name": "stdout",
          "text": [
            "Index type in compute_indicators: <class 'pandas.core.indexes.datetimes.DatetimeIndex'>\n",
            "Index type in compute_indicators: <class 'pandas.core.indexes.datetimes.DatetimeIndex'>\n"
          ]
        },
        {
          "output_type": "stream",
          "name": "stderr",
          "text": [
            "Collecting Signals:  96%|█████████▌| 450/471 [01:04<00:02,  7.75it/s]"
          ]
        },
        {
          "output_type": "stream",
          "name": "stdout",
          "text": [
            "Index type in compute_indicators: <class 'pandas.core.indexes.datetimes.DatetimeIndex'>\n",
            "Index type in compute_indicators: <class 'pandas.core.indexes.datetimes.DatetimeIndex'>\n"
          ]
        },
        {
          "output_type": "stream",
          "name": "stderr",
          "text": [
            "Collecting Signals:  96%|█████████▌| 452/471 [01:04<00:02,  7.62it/s]"
          ]
        },
        {
          "output_type": "stream",
          "name": "stdout",
          "text": [
            "Index type in compute_indicators: <class 'pandas.core.indexes.datetimes.DatetimeIndex'>\n",
            "Index type in compute_indicators: <class 'pandas.core.indexes.datetimes.DatetimeIndex'>\n"
          ]
        },
        {
          "output_type": "stream",
          "name": "stderr",
          "text": [
            "Collecting Signals:  96%|█████████▋| 454/471 [01:04<00:02,  7.71it/s]"
          ]
        },
        {
          "output_type": "stream",
          "name": "stdout",
          "text": [
            "Index type in compute_indicators: <class 'pandas.core.indexes.datetimes.DatetimeIndex'>\n",
            "Index type in compute_indicators: <class 'pandas.core.indexes.datetimes.DatetimeIndex'>\n"
          ]
        },
        {
          "output_type": "stream",
          "name": "stderr",
          "text": [
            "Collecting Signals:  97%|█████████▋| 456/471 [01:05<00:01,  7.72it/s]"
          ]
        },
        {
          "output_type": "stream",
          "name": "stdout",
          "text": [
            "Index type in compute_indicators: <class 'pandas.core.indexes.datetimes.DatetimeIndex'>\n",
            "Index type in compute_indicators: <class 'pandas.core.indexes.datetimes.DatetimeIndex'>\n"
          ]
        },
        {
          "output_type": "stream",
          "name": "stderr",
          "text": [
            "Collecting Signals:  97%|█████████▋| 458/471 [01:05<00:01,  7.87it/s]"
          ]
        },
        {
          "output_type": "stream",
          "name": "stdout",
          "text": [
            "Index type in compute_indicators: <class 'pandas.core.indexes.datetimes.DatetimeIndex'>\n",
            "Index type in compute_indicators: <class 'pandas.core.indexes.datetimes.DatetimeIndex'>\n"
          ]
        },
        {
          "output_type": "stream",
          "name": "stderr",
          "text": [
            "Collecting Signals:  98%|█████████▊| 460/471 [01:05<00:01,  7.58it/s]"
          ]
        },
        {
          "output_type": "stream",
          "name": "stdout",
          "text": [
            "Index type in compute_indicators: <class 'pandas.core.indexes.datetimes.DatetimeIndex'>\n",
            "Index type in compute_indicators: <class 'pandas.core.indexes.datetimes.DatetimeIndex'>\n"
          ]
        },
        {
          "output_type": "stream",
          "name": "stderr",
          "text": [
            "Collecting Signals:  98%|█████████▊| 462/471 [01:05<00:01,  7.66it/s]"
          ]
        },
        {
          "output_type": "stream",
          "name": "stdout",
          "text": [
            "Index type in compute_indicators: <class 'pandas.core.indexes.datetimes.DatetimeIndex'>\n",
            "Index type in compute_indicators: <class 'pandas.core.indexes.datetimes.DatetimeIndex'>\n"
          ]
        },
        {
          "output_type": "stream",
          "name": "stderr",
          "text": [
            "Collecting Signals:  99%|█████████▊| 464/471 [01:06<00:00,  7.78it/s]"
          ]
        },
        {
          "output_type": "stream",
          "name": "stdout",
          "text": [
            "Index type in compute_indicators: <class 'pandas.core.indexes.datetimes.DatetimeIndex'>\n",
            "Index type in compute_indicators: <class 'pandas.core.indexes.datetimes.DatetimeIndex'>\n"
          ]
        },
        {
          "output_type": "stream",
          "name": "stderr",
          "text": [
            "Collecting Signals:  99%|█████████▉| 466/471 [01:06<00:00,  7.77it/s]"
          ]
        },
        {
          "output_type": "stream",
          "name": "stdout",
          "text": [
            "Index type in compute_indicators: <class 'pandas.core.indexes.datetimes.DatetimeIndex'>\n",
            "Index type in compute_indicators: <class 'pandas.core.indexes.datetimes.DatetimeIndex'>\n"
          ]
        },
        {
          "output_type": "stream",
          "name": "stderr",
          "text": [
            "Collecting Signals:  99%|█████████▉| 468/471 [01:06<00:00,  7.28it/s]"
          ]
        },
        {
          "output_type": "stream",
          "name": "stdout",
          "text": [
            "Index type in compute_indicators: <class 'pandas.core.indexes.datetimes.DatetimeIndex'>\n",
            "Index type in compute_indicators: <class 'pandas.core.indexes.datetimes.DatetimeIndex'>\n"
          ]
        },
        {
          "output_type": "stream",
          "name": "stderr",
          "text": [
            "Collecting Signals: 100%|█████████▉| 470/471 [01:06<00:00,  7.35it/s]"
          ]
        },
        {
          "output_type": "stream",
          "name": "stdout",
          "text": [
            "Index type in compute_indicators: <class 'pandas.core.indexes.datetimes.DatetimeIndex'>\n",
            "Index type in compute_indicators: <class 'pandas.core.indexes.datetimes.DatetimeIndex'>\n"
          ]
        },
        {
          "output_type": "stream",
          "name": "stderr",
          "text": [
            "Collecting Signals: 100%|██████████| 471/471 [01:07<00:00,  7.02it/s]\n"
          ]
        },
        {
          "output_type": "display_data",
          "data": {
            "text/plain": [
              "             symbol entry_date   entry_price  exit_date    exit_price  \\\n",
              "0        3MINDIA.NS 2023-07-06  27361.449219 2023-10-23  29390.050781   \n",
              "1        3MINDIA.NS 2024-07-23  38490.750000 2024-08-14  36019.101562   \n",
              "2        3MINDIA.NS 2025-05-06  29640.000000 2025-06-18  29175.000000   \n",
              "3     AARTIDRUGS.NS 2023-06-21    458.049988 2023-09-26    548.400024   \n",
              "4     AARTIDRUGS.NS 2023-06-26    449.899994 2023-09-26    548.400024   \n",
              "...             ...        ...           ...        ...           ...   \n",
              "1598   ZYDUSWELL.NS 2023-09-08    320.459991 2023-10-16    312.230011   \n",
              "1599   ZYDUSWELL.NS 2024-01-11    328.619995 2024-02-13    313.929993   \n",
              "1600   ZYDUSWELL.NS 2024-06-03    344.910004 2024-09-17    433.989990   \n",
              "1601   ZYDUSWELL.NS 2024-12-13    402.390015 2025-01-09    390.410004   \n",
              "1602   ZYDUSWELL.NS 2025-06-12    387.480011 2025-08-07    386.339996   \n",
              "\n",
              "         reason entry_type          atr  entry_adx  \n",
              "0            SL      20dma   752.326712  35.385327  \n",
              "1            SL      20dma  1215.446809  29.315651  \n",
              "2     DMA_CROSS      20dma   582.702595  28.898850  \n",
              "3            SL      20dma    20.317369  37.373487  \n",
              "4            SL      50dma    20.317369  30.949842  \n",
              "...         ...        ...          ...        ...  \n",
              "1598  DMA_CROSS      20dma     5.845193  36.271793  \n",
              "1599         SL      20dma     7.509693  31.598665  \n",
              "1600         SL      20dma    12.644496  37.924001  \n",
              "1601  DMA_CROSS      20dma    10.866398  26.896038  \n",
              "1602         SL      20dma    13.108855  36.651061  \n",
              "\n",
              "[1603 rows x 9 columns]"
            ],
            "text/html": [
              "\n",
              "  <div id=\"df-8af30e10-b5be-43e8-933c-d649c167c7c3\" class=\"colab-df-container\">\n",
              "    <div>\n",
              "<style scoped>\n",
              "    .dataframe tbody tr th:only-of-type {\n",
              "        vertical-align: middle;\n",
              "    }\n",
              "\n",
              "    .dataframe tbody tr th {\n",
              "        vertical-align: top;\n",
              "    }\n",
              "\n",
              "    .dataframe thead th {\n",
              "        text-align: right;\n",
              "    }\n",
              "</style>\n",
              "<table border=\"1\" class=\"dataframe\">\n",
              "  <thead>\n",
              "    <tr style=\"text-align: right;\">\n",
              "      <th></th>\n",
              "      <th>symbol</th>\n",
              "      <th>entry_date</th>\n",
              "      <th>entry_price</th>\n",
              "      <th>exit_date</th>\n",
              "      <th>exit_price</th>\n",
              "      <th>reason</th>\n",
              "      <th>entry_type</th>\n",
              "      <th>atr</th>\n",
              "      <th>entry_adx</th>\n",
              "    </tr>\n",
              "  </thead>\n",
              "  <tbody>\n",
              "    <tr>\n",
              "      <th>0</th>\n",
              "      <td>3MINDIA.NS</td>\n",
              "      <td>2023-07-06</td>\n",
              "      <td>27361.449219</td>\n",
              "      <td>2023-10-23</td>\n",
              "      <td>29390.050781</td>\n",
              "      <td>SL</td>\n",
              "      <td>20dma</td>\n",
              "      <td>752.326712</td>\n",
              "      <td>35.385327</td>\n",
              "    </tr>\n",
              "    <tr>\n",
              "      <th>1</th>\n",
              "      <td>3MINDIA.NS</td>\n",
              "      <td>2024-07-23</td>\n",
              "      <td>38490.750000</td>\n",
              "      <td>2024-08-14</td>\n",
              "      <td>36019.101562</td>\n",
              "      <td>SL</td>\n",
              "      <td>20dma</td>\n",
              "      <td>1215.446809</td>\n",
              "      <td>29.315651</td>\n",
              "    </tr>\n",
              "    <tr>\n",
              "      <th>2</th>\n",
              "      <td>3MINDIA.NS</td>\n",
              "      <td>2025-05-06</td>\n",
              "      <td>29640.000000</td>\n",
              "      <td>2025-06-18</td>\n",
              "      <td>29175.000000</td>\n",
              "      <td>DMA_CROSS</td>\n",
              "      <td>20dma</td>\n",
              "      <td>582.702595</td>\n",
              "      <td>28.898850</td>\n",
              "    </tr>\n",
              "    <tr>\n",
              "      <th>3</th>\n",
              "      <td>AARTIDRUGS.NS</td>\n",
              "      <td>2023-06-21</td>\n",
              "      <td>458.049988</td>\n",
              "      <td>2023-09-26</td>\n",
              "      <td>548.400024</td>\n",
              "      <td>SL</td>\n",
              "      <td>20dma</td>\n",
              "      <td>20.317369</td>\n",
              "      <td>37.373487</td>\n",
              "    </tr>\n",
              "    <tr>\n",
              "      <th>4</th>\n",
              "      <td>AARTIDRUGS.NS</td>\n",
              "      <td>2023-06-26</td>\n",
              "      <td>449.899994</td>\n",
              "      <td>2023-09-26</td>\n",
              "      <td>548.400024</td>\n",
              "      <td>SL</td>\n",
              "      <td>50dma</td>\n",
              "      <td>20.317369</td>\n",
              "      <td>30.949842</td>\n",
              "    </tr>\n",
              "    <tr>\n",
              "      <th>...</th>\n",
              "      <td>...</td>\n",
              "      <td>...</td>\n",
              "      <td>...</td>\n",
              "      <td>...</td>\n",
              "      <td>...</td>\n",
              "      <td>...</td>\n",
              "      <td>...</td>\n",
              "      <td>...</td>\n",
              "      <td>...</td>\n",
              "    </tr>\n",
              "    <tr>\n",
              "      <th>1598</th>\n",
              "      <td>ZYDUSWELL.NS</td>\n",
              "      <td>2023-09-08</td>\n",
              "      <td>320.459991</td>\n",
              "      <td>2023-10-16</td>\n",
              "      <td>312.230011</td>\n",
              "      <td>DMA_CROSS</td>\n",
              "      <td>20dma</td>\n",
              "      <td>5.845193</td>\n",
              "      <td>36.271793</td>\n",
              "    </tr>\n",
              "    <tr>\n",
              "      <th>1599</th>\n",
              "      <td>ZYDUSWELL.NS</td>\n",
              "      <td>2024-01-11</td>\n",
              "      <td>328.619995</td>\n",
              "      <td>2024-02-13</td>\n",
              "      <td>313.929993</td>\n",
              "      <td>SL</td>\n",
              "      <td>20dma</td>\n",
              "      <td>7.509693</td>\n",
              "      <td>31.598665</td>\n",
              "    </tr>\n",
              "    <tr>\n",
              "      <th>1600</th>\n",
              "      <td>ZYDUSWELL.NS</td>\n",
              "      <td>2024-06-03</td>\n",
              "      <td>344.910004</td>\n",
              "      <td>2024-09-17</td>\n",
              "      <td>433.989990</td>\n",
              "      <td>SL</td>\n",
              "      <td>20dma</td>\n",
              "      <td>12.644496</td>\n",
              "      <td>37.924001</td>\n",
              "    </tr>\n",
              "    <tr>\n",
              "      <th>1601</th>\n",
              "      <td>ZYDUSWELL.NS</td>\n",
              "      <td>2024-12-13</td>\n",
              "      <td>402.390015</td>\n",
              "      <td>2025-01-09</td>\n",
              "      <td>390.410004</td>\n",
              "      <td>DMA_CROSS</td>\n",
              "      <td>20dma</td>\n",
              "      <td>10.866398</td>\n",
              "      <td>26.896038</td>\n",
              "    </tr>\n",
              "    <tr>\n",
              "      <th>1602</th>\n",
              "      <td>ZYDUSWELL.NS</td>\n",
              "      <td>2025-06-12</td>\n",
              "      <td>387.480011</td>\n",
              "      <td>2025-08-07</td>\n",
              "      <td>386.339996</td>\n",
              "      <td>SL</td>\n",
              "      <td>20dma</td>\n",
              "      <td>13.108855</td>\n",
              "      <td>36.651061</td>\n",
              "    </tr>\n",
              "  </tbody>\n",
              "</table>\n",
              "<p>1603 rows × 9 columns</p>\n",
              "</div>\n",
              "    <div class=\"colab-df-buttons\">\n",
              "\n",
              "  <div class=\"colab-df-container\">\n",
              "    <button class=\"colab-df-convert\" onclick=\"convertToInteractive('df-8af30e10-b5be-43e8-933c-d649c167c7c3')\"\n",
              "            title=\"Convert this dataframe to an interactive table.\"\n",
              "            style=\"display:none;\">\n",
              "\n",
              "  <svg xmlns=\"http://www.w3.org/2000/svg\" height=\"24px\" viewBox=\"0 -960 960 960\">\n",
              "    <path d=\"M120-120v-720h720v720H120Zm60-500h600v-160H180v160Zm220 220h160v-160H400v160Zm0 220h160v-160H400v160ZM180-400h160v-160H180v160Zm440 0h160v-160H620v160ZM180-180h160v-160H180v160Zm440 0h160v-160H620v160Z\"/>\n",
              "  </svg>\n",
              "    </button>\n",
              "\n",
              "  <style>\n",
              "    .colab-df-container {\n",
              "      display:flex;\n",
              "      gap: 12px;\n",
              "    }\n",
              "\n",
              "    .colab-df-convert {\n",
              "      background-color: #E8F0FE;\n",
              "      border: none;\n",
              "      border-radius: 50%;\n",
              "      cursor: pointer;\n",
              "      display: none;\n",
              "      fill: #1967D2;\n",
              "      height: 32px;\n",
              "      padding: 0 0 0 0;\n",
              "      width: 32px;\n",
              "    }\n",
              "\n",
              "    .colab-df-convert:hover {\n",
              "      background-color: #E2EBFA;\n",
              "      box-shadow: 0px 1px 2px rgba(60, 64, 67, 0.3), 0px 1px 3px 1px rgba(60, 64, 67, 0.15);\n",
              "      fill: #174EA6;\n",
              "    }\n",
              "\n",
              "    .colab-df-buttons div {\n",
              "      margin-bottom: 4px;\n",
              "    }\n",
              "\n",
              "    [theme=dark] .colab-df-convert {\n",
              "      background-color: #3B4455;\n",
              "      fill: #D2E3FC;\n",
              "    }\n",
              "\n",
              "    [theme=dark] .colab-df-convert:hover {\n",
              "      background-color: #434B5C;\n",
              "      box-shadow: 0px 1px 3px 1px rgba(0, 0, 0, 0.15);\n",
              "      filter: drop-shadow(0px 1px 2px rgba(0, 0, 0, 0.3));\n",
              "      fill: #FFFFFF;\n",
              "    }\n",
              "  </style>\n",
              "\n",
              "    <script>\n",
              "      const buttonEl =\n",
              "        document.querySelector('#df-8af30e10-b5be-43e8-933c-d649c167c7c3 button.colab-df-convert');\n",
              "      buttonEl.style.display =\n",
              "        google.colab.kernel.accessAllowed ? 'block' : 'none';\n",
              "\n",
              "      async function convertToInteractive(key) {\n",
              "        const element = document.querySelector('#df-8af30e10-b5be-43e8-933c-d649c167c7c3');\n",
              "        const dataTable =\n",
              "          await google.colab.kernel.invokeFunction('convertToInteractive',\n",
              "                                                    [key], {});\n",
              "        if (!dataTable) return;\n",
              "\n",
              "        const docLinkHtml = 'Like what you see? Visit the ' +\n",
              "          '<a target=\"_blank\" href=https://colab.research.google.com/notebooks/data_table.ipynb>data table notebook</a>'\n",
              "          + ' to learn more about interactive tables.';\n",
              "        element.innerHTML = '';\n",
              "        dataTable['output_type'] = 'display_data';\n",
              "        await google.colab.output.renderOutput(dataTable, element);\n",
              "        const docLink = document.createElement('div');\n",
              "        docLink.innerHTML = docLinkHtml;\n",
              "        element.appendChild(docLink);\n",
              "      }\n",
              "    </script>\n",
              "  </div>\n",
              "\n",
              "\n",
              "    <div id=\"df-b24eb57b-3bc4-476a-a0f7-8bae9bd6aee8\">\n",
              "      <button class=\"colab-df-quickchart\" onclick=\"quickchart('df-b24eb57b-3bc4-476a-a0f7-8bae9bd6aee8')\"\n",
              "                title=\"Suggest charts\"\n",
              "                style=\"display:none;\">\n",
              "\n",
              "<svg xmlns=\"http://www.w3.org/2000/svg\" height=\"24px\"viewBox=\"0 0 24 24\"\n",
              "     width=\"24px\">\n",
              "    <g>\n",
              "        <path d=\"M19 3H5c-1.1 0-2 .9-2 2v14c0 1.1.9 2 2 2h14c1.1 0 2-.9 2-2V5c0-1.1-.9-2-2-2zM9 17H7v-7h2v7zm4 0h-2V7h2v10zm4 0h-2v-4h2v4z\"/>\n",
              "    </g>\n",
              "</svg>\n",
              "      </button>\n",
              "\n",
              "<style>\n",
              "  .colab-df-quickchart {\n",
              "      --bg-color: #E8F0FE;\n",
              "      --fill-color: #1967D2;\n",
              "      --hover-bg-color: #E2EBFA;\n",
              "      --hover-fill-color: #174EA6;\n",
              "      --disabled-fill-color: #AAA;\n",
              "      --disabled-bg-color: #DDD;\n",
              "  }\n",
              "\n",
              "  [theme=dark] .colab-df-quickchart {\n",
              "      --bg-color: #3B4455;\n",
              "      --fill-color: #D2E3FC;\n",
              "      --hover-bg-color: #434B5C;\n",
              "      --hover-fill-color: #FFFFFF;\n",
              "      --disabled-bg-color: #3B4455;\n",
              "      --disabled-fill-color: #666;\n",
              "  }\n",
              "\n",
              "  .colab-df-quickchart {\n",
              "    background-color: var(--bg-color);\n",
              "    border: none;\n",
              "    border-radius: 50%;\n",
              "    cursor: pointer;\n",
              "    display: none;\n",
              "    fill: var(--fill-color);\n",
              "    height: 32px;\n",
              "    padding: 0;\n",
              "    width: 32px;\n",
              "  }\n",
              "\n",
              "  .colab-df-quickchart:hover {\n",
              "    background-color: var(--hover-bg-color);\n",
              "    box-shadow: 0 1px 2px rgba(60, 64, 67, 0.3), 0 1px 3px 1px rgba(60, 64, 67, 0.15);\n",
              "    fill: var(--button-hover-fill-color);\n",
              "  }\n",
              "\n",
              "  .colab-df-quickchart-complete:disabled,\n",
              "  .colab-df-quickchart-complete:disabled:hover {\n",
              "    background-color: var(--disabled-bg-color);\n",
              "    fill: var(--disabled-fill-color);\n",
              "    box-shadow: none;\n",
              "  }\n",
              "\n",
              "  .colab-df-spinner {\n",
              "    border: 2px solid var(--fill-color);\n",
              "    border-color: transparent;\n",
              "    border-bottom-color: var(--fill-color);\n",
              "    animation:\n",
              "      spin 1s steps(1) infinite;\n",
              "  }\n",
              "\n",
              "  @keyframes spin {\n",
              "    0% {\n",
              "      border-color: transparent;\n",
              "      border-bottom-color: var(--fill-color);\n",
              "      border-left-color: var(--fill-color);\n",
              "    }\n",
              "    20% {\n",
              "      border-color: transparent;\n",
              "      border-left-color: var(--fill-color);\n",
              "      border-top-color: var(--fill-color);\n",
              "    }\n",
              "    30% {\n",
              "      border-color: transparent;\n",
              "      border-left-color: var(--fill-color);\n",
              "      border-top-color: var(--fill-color);\n",
              "      border-right-color: var(--fill-color);\n",
              "    }\n",
              "    40% {\n",
              "      border-color: transparent;\n",
              "      border-right-color: var(--fill-color);\n",
              "      border-top-color: var(--fill-color);\n",
              "    }\n",
              "    60% {\n",
              "      border-color: transparent;\n",
              "      border-right-color: var(--fill-color);\n",
              "    }\n",
              "    80% {\n",
              "      border-color: transparent;\n",
              "      border-right-color: var(--fill-color);\n",
              "      border-bottom-color: var(--fill-color);\n",
              "    }\n",
              "    90% {\n",
              "      border-color: transparent;\n",
              "      border-bottom-color: var(--fill-color);\n",
              "    }\n",
              "  }\n",
              "</style>\n",
              "\n",
              "      <script>\n",
              "        async function quickchart(key) {\n",
              "          const quickchartButtonEl =\n",
              "            document.querySelector('#' + key + ' button');\n",
              "          quickchartButtonEl.disabled = true;  // To prevent multiple clicks.\n",
              "          quickchartButtonEl.classList.add('colab-df-spinner');\n",
              "          try {\n",
              "            const charts = await google.colab.kernel.invokeFunction(\n",
              "                'suggestCharts', [key], {});\n",
              "          } catch (error) {\n",
              "            console.error('Error during call to suggestCharts:', error);\n",
              "          }\n",
              "          quickchartButtonEl.classList.remove('colab-df-spinner');\n",
              "          quickchartButtonEl.classList.add('colab-df-quickchart-complete');\n",
              "        }\n",
              "        (() => {\n",
              "          let quickchartButtonEl =\n",
              "            document.querySelector('#df-b24eb57b-3bc4-476a-a0f7-8bae9bd6aee8 button');\n",
              "          quickchartButtonEl.style.display =\n",
              "            google.colab.kernel.accessAllowed ? 'block' : 'none';\n",
              "        })();\n",
              "      </script>\n",
              "    </div>\n",
              "\n",
              "  <div id=\"id_bd59097c-f47e-4562-9cd8-d36a6c789a83\">\n",
              "    <style>\n",
              "      .colab-df-generate {\n",
              "        background-color: #E8F0FE;\n",
              "        border: none;\n",
              "        border-radius: 50%;\n",
              "        cursor: pointer;\n",
              "        display: none;\n",
              "        fill: #1967D2;\n",
              "        height: 32px;\n",
              "        padding: 0 0 0 0;\n",
              "        width: 32px;\n",
              "      }\n",
              "\n",
              "      .colab-df-generate:hover {\n",
              "        background-color: #E2EBFA;\n",
              "        box-shadow: 0px 1px 2px rgba(60, 64, 67, 0.3), 0px 1px 3px 1px rgba(60, 64, 67, 0.15);\n",
              "        fill: #174EA6;\n",
              "      }\n",
              "\n",
              "      [theme=dark] .colab-df-generate {\n",
              "        background-color: #3B4455;\n",
              "        fill: #D2E3FC;\n",
              "      }\n",
              "\n",
              "      [theme=dark] .colab-df-generate:hover {\n",
              "        background-color: #434B5C;\n",
              "        box-shadow: 0px 1px 3px 1px rgba(0, 0, 0, 0.15);\n",
              "        filter: drop-shadow(0px 1px 2px rgba(0, 0, 0, 0.3));\n",
              "        fill: #FFFFFF;\n",
              "      }\n",
              "    </style>\n",
              "    <button class=\"colab-df-generate\" onclick=\"generateWithVariable('all_trade_signals_df')\"\n",
              "            title=\"Generate code using this dataframe.\"\n",
              "            style=\"display:none;\">\n",
              "\n",
              "  <svg xmlns=\"http://www.w3.org/2000/svg\" height=\"24px\"viewBox=\"0 0 24 24\"\n",
              "       width=\"24px\">\n",
              "    <path d=\"M7,19H8.4L18.45,9,17,7.55,7,17.6ZM5,21V16.75L18.45,3.32a2,2,0,0,1,2.83,0l1.4,1.43a1.91,1.91,0,0,1,.58,1.4,1.91,1.91,0,0,1-.58,1.4L9.25,21ZM18.45,9,17,7.55Zm-12,3A5.31,5.31,0,0,0,4.9,8.1,5.31,5.31,0,0,0,1,6.5,5.31,5.31,0,0,0,4.9,4.9,5.31,5.31,0,0,0,6.5,1,5.31,5.31,0,0,0,8.1,4.9,5.31,5.31,0,0,0,12,6.5,5.46,5.46,0,0,0,6.5,12Z\"/>\n",
              "  </svg>\n",
              "    </button>\n",
              "    <script>\n",
              "      (() => {\n",
              "      const buttonEl =\n",
              "        document.querySelector('#id_bd59097c-f47e-4562-9cd8-d36a6c789a83 button.colab-df-generate');\n",
              "      buttonEl.style.display =\n",
              "        google.colab.kernel.accessAllowed ? 'block' : 'none';\n",
              "\n",
              "      buttonEl.onclick = () => {\n",
              "        google.colab.notebook.generateWithVariable('all_trade_signals_df');\n",
              "      }\n",
              "      })();\n",
              "    </script>\n",
              "  </div>\n",
              "\n",
              "    </div>\n",
              "  </div>\n"
            ],
            "application/vnd.google.colaboratory.intrinsic+json": {
              "type": "dataframe",
              "variable_name": "all_trade_signals_df",
              "summary": "{\n  \"name\": \"all_trade_signals_df\",\n  \"rows\": 1603,\n  \"fields\": [\n    {\n      \"column\": \"symbol\",\n      \"properties\": {\n        \"dtype\": \"category\",\n        \"num_unique_values\": 460,\n        \"samples\": [\n          \"EIHOTEL.NS\",\n          \"ASHOKLEY.NS\",\n          \"IDFCFIRSTB.NS\"\n        ],\n        \"semantic_type\": \"\",\n        \"description\": \"\"\n      }\n    },\n    {\n      \"column\": \"entry_date\",\n      \"properties\": {\n        \"dtype\": \"date\",\n        \"min\": \"2022-12-05 00:00:00\",\n        \"max\": \"2025-09-19 00:00:00\",\n        \"num_unique_values\": 500,\n        \"samples\": [\n          \"2024-03-19 00:00:00\",\n          \"2022-12-22 00:00:00\",\n          \"2022-12-07 00:00:00\"\n        ],\n        \"semantic_type\": \"\",\n        \"description\": \"\"\n      }\n    },\n    {\n      \"column\": \"entry_price\",\n      \"properties\": {\n        \"dtype\": \"number\",\n        \"std\": 8051.083602610202,\n        \"min\": 6.949999809265137,\n        \"max\": 147805.0,\n        \"num_unique_values\": 1579,\n        \"samples\": [\n          981.25,\n          786.4500122070312,\n          850.2000122070312\n        ],\n        \"semantic_type\": \"\",\n        \"description\": \"\"\n      }\n    },\n    {\n      \"column\": \"exit_date\",\n      \"properties\": {\n        \"dtype\": \"date\",\n        \"min\": \"2022-12-14 00:00:00\",\n        \"max\": \"2025-09-19 00:00:00\",\n        \"num_unique_values\": 440,\n        \"samples\": [\n          \"2024-08-07 00:00:00\",\n          \"2024-09-04 00:00:00\",\n          \"2023-10-17 00:00:00\"\n        ],\n        \"semantic_type\": \"\",\n        \"description\": \"\"\n      }\n    },\n    {\n      \"column\": \"exit_price\",\n      \"properties\": {\n        \"dtype\": \"number\",\n        \"std\": 7975.077539867841,\n        \"min\": 8.520000457763672,\n        \"max\": 140535.0,\n        \"num_unique_values\": 1434,\n        \"samples\": [\n          3828.300048828125,\n          1557.8499755859375,\n          3048.300048828125\n        ],\n        \"semantic_type\": \"\",\n        \"description\": \"\"\n      }\n    },\n    {\n      \"column\": \"reason\",\n      \"properties\": {\n        \"dtype\": \"category\",\n        \"num_unique_values\": 3,\n        \"samples\": [\n          \"SL\",\n          \"DMA_CROSS\",\n          \"END\"\n        ],\n        \"semantic_type\": \"\",\n        \"description\": \"\"\n      }\n    },\n    {\n      \"column\": \"entry_type\",\n      \"properties\": {\n        \"dtype\": \"category\",\n        \"num_unique_values\": 2,\n        \"samples\": [\n          \"50dma\",\n          \"20dma\"\n        ],\n        \"semantic_type\": \"\",\n        \"description\": \"\"\n      }\n    },\n    {\n      \"column\": \"atr\",\n      \"properties\": {\n        \"dtype\": \"number\",\n        \"std\": 179.58747760007597,\n        \"min\": 0.14282854747142712,\n        \"max\": 3390.81653811526,\n        \"num_unique_values\": 1450,\n        \"samples\": [\n          4.044280403788885,\n          25.01439394329989\n        ],\n        \"semantic_type\": \"\",\n        \"description\": \"\"\n      }\n    },\n    {\n      \"column\": \"entry_adx\",\n      \"properties\": {\n        \"dtype\": \"number\",\n        \"std\": 7.8244504024887735,\n        \"min\": 25.0043435883968,\n        \"max\": 73.08920212900964,\n        \"num_unique_values\": 1603,\n        \"samples\": [\n          38.59251086602869,\n          35.59310665935256\n        ],\n        \"semantic_type\": \"\",\n        \"description\": \"\"\n      }\n    }\n  ]\n}"
            }
          },
          "metadata": {}
        },
        {
          "output_type": "stream",
          "name": "stdout",
          "text": [
            "Removing duplicate trade signals...\n",
            "Original number of signals: 1603\n",
            "Number of unique signals: 1603\n"
          ]
        }
      ]
    },
    {
      "cell_type": "code",
      "source": [
        "# Analyze unique_trade_signals for risk-reward ratio compliance\n",
        "\n",
        "compliant_trades_count = 0\n",
        "non_compliant_trades_count = 0\n",
        "compliant_trades = []\n",
        "non_compliant_trades = []\n",
        "\n",
        "ATR_MULTIPLIER = 1.5\n",
        "MIN_RISK_REWARD = 1.5\n",
        "\n",
        "for signal in unique_trade_signals:\n",
        "    entry_price = signal['entry_price']\n",
        "    exit_price = signal['exit_price']\n",
        "    atr = signal.get(\"atr\", None)\n",
        "\n",
        "    if atr is None or atr == 0:\n",
        "        # print(f\"Skipping signal for {signal['symbol']} on {signal['entry_date']} due to missing or zero ATR.\")\n",
        "        non_compliant_trades_count += 1 # Consider trades with no valid ATR as non-compliant\n",
        "        non_compliant_trades.append(signal)\n",
        "        continue\n",
        "\n",
        "    risk_per_share = atr * ATR_MULTIPLIER\n",
        "    # Use abs(exit_price - entry_price) as a proxy for potential reward based on the signal's exit price\n",
        "    expected_reward_per_share = abs(exit_price - entry_price)\n",
        "    risk_reward_ratio = expected_reward_per_share / risk_per_share if risk_per_share != 0 else 0\n",
        "\n",
        "    if risk_reward_ratio >= MIN_RISK_REWARD:\n",
        "        compliant_trades_count += 1\n",
        "        compliant_trades.append(signal)\n",
        "    else:\n",
        "        non_compliant_trades_count += 1\n",
        "        non_compliant_trades.append(signal)\n",
        "\n",
        "print(f\"Total unique trade signals: {len(unique_trade_signals)}\")\n",
        "print(f\"Trades complying with Risk-Reward >= {MIN_RISK_REWARD}: {compliant_trades_count}\")\n",
        "print(f\"Trades not complying with Risk-Reward < {MIN_RISK_REWARD} (or with no valid ATR): {non_compliant_trades_count}\")\n",
        "\n",
        "# Optional: Display compliant and non-compliant trades DataFrames\n",
        "# compliant_trades_df = pd.DataFrame(compliant_trades)\n",
        "# non_compliant_trades_df = pd.DataFrame(non_compliant_trades)\n",
        "\n",
        "# print(\"\\nCompliant Trades Sample (first 5):\")\n",
        "# display(compliant_trades_df.head())\n",
        "\n",
        "# print(\"\\nNon-Compliant Trades Sample (first 5):\")\n",
        "# display(non_compliant_trades_df.head())"
      ],
      "metadata": {
        "colab": {
          "base_uri": "https://localhost:8080/"
        },
        "id": "1m3Z2HhZW5QP",
        "outputId": "e62ddbd5-8e86-41df-987b-be4ac4180c90"
      },
      "execution_count": 7,
      "outputs": [
        {
          "output_type": "stream",
          "name": "stdout",
          "text": [
            "Total unique trade signals: 1603\n",
            "Trades complying with Risk-Reward >= 1.5: 634\n",
            "Trades not complying with Risk-Reward < 1.5 (or with no valid ATR): 969\n"
          ]
        }
      ]
    },
    {
      "cell_type": "code",
      "source": [
        "import math\n",
        "import pandas as pd\n",
        "import numpy as np\n",
        "import yfinance as yf\n",
        "from tqdm import tqdm\n",
        "from ta.trend import ADXIndicator\n",
        "from ta.volatility import AverageTrueRange\n",
        "import warnings\n",
        "import os\n",
        "\n",
        "warnings.filterwarnings(\"ignore\")\n",
        "\n",
        "# ---------------- CONFIG ----------------\n",
        "DATA_DIR = \"/content/stock_data\" # Directory to save downloaded data\n",
        "STARTING_CAPITAL = 25_00_000.0      # INR 25,00,000\n",
        "RISK_PCT = 0.005                    # 0.5% of CURRENT total capital per entry\n",
        "YEARS = 3\n",
        "END_DATE = pd.Timestamp.today().normalize()\n",
        "START_DATE = END_DATE - pd.DateOffset(years=YEARS)\n",
        "\n",
        "ADX_PERIOD = 14\n",
        "ATR_PERIOD = 14\n",
        "DMA_FAST = 20\n",
        "DMA_SLOW = 50\n",
        "DMA_HIT_TOL = 0.005   # touch tolerance = 0.5% of DMA\n",
        "OBV_MA_PERIOD = 20 # New: period for OBV moving average\n",
        "# Ensure enough rows for all indicator calculations\n",
        "MIN_ROWS = max(DMA_SLOW, ADX_PERIOD, OBV_MA_PERIOD) + 1 # Add 1 because rolling window includes current day\n",
        "\n",
        "OUT_TRADES_CSV = \"nifty_backtest_trades.csv\"\n",
        "OUT_SUMMARY_CSV = \"nifty_backtest_summary.csv\"\n",
        "MAX_OPEN_POSITIONS = 250 # New: Maximum number of open positions\n",
        "\n",
        "# New: Risk-reward constants\n",
        "ATR_MULTIPLIER = 1.5\n",
        "MIN_RISK_REWARD = 1.5\n",
        "\n",
        "\n",
        "def simulate_trades(trade_signals, starting_capital):\n",
        "    \"\"\"\n",
        "    Simulates trades chronologically based on trade signals, managing capital\n",
        "    and open positions dynamically.\n",
        "\n",
        "    Args:\n",
        "        trade_signals: A list of dictionaries, where each dictionary represents\n",
        "                       a potential trade signal with at least 'entry_date',\n",
        "                       'exit_date', 'entry_price', 'exit_price', 'symbol', and 'atr'.\n",
        "        starting_capital: The initial capital for the simulation.\n",
        "\n",
        "    Returns:\n",
        "        A tuple containing:\n",
        "        - executed_trades: A list of dictionaries for trades that were executed.\n",
        "        - final_capital: The capital at the end of the simulation.\n",
        "        - final_open_positions_count: The number of open positions at the end.\n",
        "        - date_wise_accounts: A list of dictionaries with date and unallocated capital.\n",
        "        - largest_loss_streak_start_date: The start date of the largest loss streak.\n",
        "        - largest_loss_streak_end_date: The end date of the largest loss streak.\n",
        "    \"\"\"\n",
        "    max_positions = 0\n",
        "    max_capital = starting_capital\n",
        "    current_capital = starting_capital\n",
        "    unallocated_capital = starting_capital\n",
        "    executed_trades = []\n",
        "    open_positions = [] # To store details of currently open trades {symbol, entry_date, entry_price, size, exit_date, exit_price, reason, entry_type}\n",
        "    open_positions_count = 0\n",
        "    date_wise_accounts = [] # New: To store date and unallocated capital\n",
        "\n",
        "\n",
        "\n",
        "    # Sort trade signals by entry date\n",
        "    trade_signals.sort(key=lambda x: x['entry_date'])\n",
        "\n",
        "    # Get all unique dates involved in trade signals\n",
        "    all_dates = sorted(list(set([t['entry_date'] for t in trade_signals] + [t['exit_date'] for t in trade_signals])))\n",
        "\n",
        "    # Iterate through dates chronologically\n",
        "    for current_date in all_dates:\n",
        "        # Process exits for the current date\n",
        "        exited_today_indices = [i for i, p in enumerate(open_positions) if p['exit_date'] == current_date]\n",
        "\n",
        "        # Process exits from latest to earliest index to avoid index issues after removal\n",
        "        for i in sorted(exited_today_indices, reverse=True):\n",
        "            exited_pos = open_positions.pop(i) # Remove the position from open_positions\n",
        "            pnl = (exited_pos['exit_price'] - exited_pos['entry_price']) * exited_pos['size']\n",
        "            current_capital += pnl\n",
        "            unallocated_capital += (exited_pos['entry_price'] * exited_pos['size']) + pnl\n",
        "            executed_trades.append({\n",
        "                'symbol': exited_pos['symbol'],\n",
        "                'entry_date': exited_pos['entry_date'],\n",
        "                'entry_price': exited_pos['entry_price'],\n",
        "                'exit_date': exited_pos['exit_date'],\n",
        "                'exit_price': exited_pos['exit_price'],\n",
        "                'size': exited_pos['size'],\n",
        "                'pnl': pnl,\n",
        "                'reason': exited_pos['reason'],\n",
        "                'entry_type': exited_pos['entry_type']\n",
        "            })\n",
        "            open_positions_count -= 1\n",
        "\n",
        "\n",
        "        max_capital = max(max_capital, unallocated_capital)\n",
        "        max_positions = max(max_positions, open_positions_count)\n",
        "        # Process entries for the current date\n",
        "        entries_today = [t for t in trade_signals if t['entry_date'] == current_date]\n",
        "\n",
        "        for entry_signal in entries_today:\n",
        "            # Check if we can open a new position and if there is enough unallocated capital\n",
        "            # Find the corresponding data row to get price and atr for SL calculation\n",
        "            # This requires access to the original price data, which is not directly\n",
        "            # available in this function. For simulation purposes within this function,\n",
        "            # we will use the exit_price from the trade signal as the SL level\n",
        "            # if the reason is 'SL' or 'END'. This is a simplification.\n",
        "            # A more robust simulation would require passing the full price data.\n",
        "\n",
        "            # Assuming exit_price in signal is the theoretical stop or end price\n",
        "            stop_price = entry_signal['exit_price'] # Simplified SL for simulation\n",
        "\n",
        "            # Need entry price to calculate risk per share\n",
        "            entry_price = entry_signal['entry_price']\n",
        "\n",
        "            # New: Risk-reward check\n",
        "            atr = entry_signal.get(\"atr\", None)\n",
        "            if atr is None or atr == 0:\n",
        "                continue # Skip trades with missing or zero ATR\n",
        "\n",
        "            risk_per_share = atr * ATR_MULTIPLIER\n",
        "            expected_reward_per_share = abs(stop_price - entry_price) # Using stop_price as a proxy for expected exit price\n",
        "            risk_reward_ratio = expected_reward_per_share / risk_per_share if risk_per_share != 0 else 0\n",
        "\n",
        "            if risk_reward_ratio < MIN_RISK_REWARD:\n",
        "                continue # Skip trades with low risk-reward ratio\n",
        "\n",
        "\n",
        "            # # Risk per trade = 0.5% of current capital\n",
        "            risk_capital = RISK_PCT * max_capital  # Use max_capital for position sizing\n",
        "\n",
        "            # # ATR-based sizing (ATR should come from entry_signal)\n",
        "            # atr = entry_signal.get(\"atr\", None)\n",
        "            # if atr is None or atr == 0: # Handle case where ATR is 0 or None\n",
        "            #     # fallback: treat as flat size if ATR missing or zero\n",
        "            #     size = math.floor(risk_capital / entry_price) if entry_price != 0 else 0 # Handle zero entry price\n",
        "            # else:\n",
        "            #     atr_multiplier = 1.5  # can tune this\n",
        "            #     risk_per_share = atr * atr_multiplier\n",
        "            #     size = math.floor(risk_capital / risk_per_share) if risk_per_share != 0 else 0 # Handle zero risk per share\n",
        "\n",
        "            size = math.floor(0.02*max_capital/entry_price)\n",
        "            # Calculate cost of the potential trade\n",
        "            trade_cost = size * entry_price\n",
        "\n",
        "\n",
        "            if unallocated_capital >= trade_cost and size > 0: # Ensure size is greater than 0\n",
        "                 # Deduct trade cost from unallocated capital at entry\n",
        "                unallocated_capital -= trade_cost\n",
        "                open_positions.append({\n",
        "                    'symbol': entry_signal['symbol'],\n",
        "                    'entry_date': entry_signal['entry_date'],\n",
        "                    'entry_price': entry_price,\n",
        "                    'size': size,\n",
        "                    'exit_date': entry_signal['exit_date'], # Store planned exit date/price\n",
        "                    'exit_price': stop_price, # Store planned exit price (SL or END)\n",
        "                    'reason': entry_signal['reason'],\n",
        "                    'entry_type': entry_signal['entry_type']\n",
        "                })\n",
        "                open_positions_count += 1\n",
        "                # Note: Total capital is not changed at entry, only unallocated capital\n",
        "\n",
        "        # Calculate total portfolio value for the current date\n",
        "        total_portfolio_value = unallocated_capital\n",
        "        for pos in open_positions:\n",
        "            # To get the current market value of open positions, we need the closing price\n",
        "            # for each symbol on the current_date. This function doesn't have access\n",
        "            # to the full historical dataframes. A simplified approach is to use the\n",
        "            # entry price as a proxy for the current price, or if available, the\n",
        "            # exit price stored in the signal (which is the price on the exit date).\n",
        "            # A proper backtest simulation would require passing the price data\n",
        "            # and looking up the closing price for each open position on the current_date.\n",
        "            # For this modification, we'll use the entry price as a placeholder.\n",
        "            # To make it more realistic, we'd need to load the price data here.\n",
        "\n",
        "            # For demonstration purposes, let's assume we have access to the price data.\n",
        "            # In a real scenario, you would load the data here based on the symbol and current_date.\n",
        "            # Example (conceptual):\n",
        "            # current_price = get_closing_price(pos['symbol'], current_date, data_dir)\n",
        "            # if current_price is not None:\n",
        "            #     total_portfolio_value += current_price * pos['size']\n",
        "            # else:\n",
        "            #     # Fallback: use entry price if current price not available\n",
        "            #     total_portfolio_value += pos['entry_price'] * pos['size']\n",
        "\n",
        "            # Simplified approach using entry price as proxy for current price\n",
        "            total_portfolio_value += pos['entry_price'] * pos['size']\n",
        "\n",
        "\n",
        "        # Record total portfolio value at the end of the day\n",
        "        date_wise_accounts.append({\n",
        "            'date': current_date,\n",
        "            'total_portfolio_value': total_portfolio_value,\n",
        "            'unallocated_capital': unallocated_capital # Keep unallocated capital as well\n",
        "        })\n",
        "\n",
        "    # Handle any remaining open positions at the very end of the simulation period\n",
        "    if open_positions:\n",
        "        # Need the last closing price for symbols still open.\n",
        "        # This function doesn't have access to historical data frames directly.\n",
        "        # This is a limitation of simulating solely based on the trade signal list.\n",
        "        # For a real backtest, the last price of the data for each symbol\n",
        "        # would be needed here. As a simplification, we'll assume the exit_price\n",
        "        # in the signal (which for 'END' reason is the last price) is the closing price.\n",
        "\n",
        "        for remaining_pos in open_positions:\n",
        "             # Use the stored exit_price (which should be the last close for 'END' signals)\n",
        "            last_price = remaining_pos['exit_price'] # Simplified\n",
        "\n",
        "            pnl = (last_price - remaining_pos['entry_price']) * remaining_pos['size']\n",
        "            current_capital += pnl\n",
        "            unallocated_capital += (remaining_pos['entry_price'] * remaining_pos['size']) + pnl # Add back initial capital + PnL\n",
        "            executed_trades.append({\n",
        "                'symbol': remaining_pos['symbol'],\n",
        "                'entry_date': remaining_pos['entry_date'],\n",
        "                'entry_price': remaining_pos['entry_price'],\n",
        "                'exit_date': remaining_pos['exit_date'], # This will be the original end date\n",
        "                'exit_price': last_price,\n",
        "                'size': remaining_pos['size'],\n",
        "                'pnl': pnl,\n",
        "                'reason': remaining_pos['reason'],\n",
        "                'entry_type': remaining_pos['entry_type']\n",
        "            })\n",
        "        open_positions_count = 0 # All positions are now closed in simulation\n",
        "\n",
        "    # Check for duplicate entries in the 'executed_trades' list\n",
        "    seen = set()\n",
        "    duplicates = []\n",
        "    for trade in executed_trades:\n",
        "        # Create a tuple of the trade's key attributes to check for duplicates\n",
        "        trade_key = (trade['symbol'], trade['entry_date'], trade['entry_price'], trade['exit_date'], trade['exit_price'], trade['reason'], trade['entry_type'])\n",
        "        if trade_key in seen:\n",
        "            duplicates.append(trade)\n",
        "        else:\n",
        "            seen.add(trade_key)\n",
        "\n",
        "    if duplicates:\n",
        "        print(\"Duplicate executed trades found:\")\n",
        "        for dup in duplicates:\n",
        "            print(dup)\n",
        "\n",
        "    # Calculate largest loss streak and its dates\n",
        "    current_loss_streak = 0\n",
        "    largest_loss_streak = 0\n",
        "    current_loss_streak_start_date = None\n",
        "    largest_loss_streak_start_date = None\n",
        "    largest_loss_streak_end_date = None\n",
        "\n",
        "    # Sort executed_trades by exit date to correctly calculate streaks\n",
        "    executed_trades.sort(key=lambda x: x['exit_date'])\n",
        "\n",
        "    for trade in executed_trades:\n",
        "        if trade['pnl'] <= 0:\n",
        "            if current_loss_streak == 0: # Start of a new loss streak\n",
        "                current_loss_streak_start_date = trade['exit_date']\n",
        "            current_loss_streak += 1\n",
        "        else:\n",
        "            if current_loss_streak > largest_loss_streak:\n",
        "                largest_loss_streak = current_loss_streak\n",
        "                largest_loss_streak_start_date = current_loss_streak_start_date\n",
        "                largest_loss_streak_end_date = trade['exit_date'] # The winning trade's exit date is the end of the loss streak\n",
        "            current_loss_streak = 0\n",
        "            current_loss_streak_start_date = None\n",
        "\n",
        "    # Check if the largest loss streak is at the very end of the trades\n",
        "    if current_loss_streak > largest_loss_streak:\n",
        "        largest_loss_streak = current_loss_streak\n",
        "        largest_loss_streak_start_date = current_loss_streak_start_date\n",
        "        if executed_trades:\n",
        "            largest_loss_streak_end_date = executed_trades[-1]['exit_date']\n",
        "\n",
        "    # Ensure the last date's unallocated capital is recorded if it wasn't already by an exit\n",
        "    # This part might need adjustment depending on whether the last date in all_dates\n",
        "    # corresponds to an exit or just the end of the simulation period.\n",
        "    # Let's ensure the last date in all_dates is captured if it's not already the exit date of the last trade.\n",
        "    if all_dates:\n",
        "        last_simulation_date = all_dates[-1]\n",
        "        if not date_wise_accounts or date_wise_accounts[-1]['date'] < last_simulation_date:\n",
        "             # Calculate total portfolio value for the absolute last date\n",
        "             total_portfolio_value = unallocated_capital\n",
        "             # Need last closing prices for remaining open positions\n",
        "             # This requires loading data, which this function doesn't do directly.\n",
        "             # Using entry price as a proxy again, or ideally, loading last prices.\n",
        "             for pos in open_positions:\n",
        "                 total_portfolio_value += pos['entry_price'] * pos['size'] # Simplified\n",
        "\n",
        "             date_wise_accounts.append({\n",
        "                'date': last_simulation_date,\n",
        "                'total_portfolio_value': total_portfolio_value,\n",
        "                'unallocated_capital': unallocated_capital\n",
        "             })\n",
        "\n",
        "\n",
        "    print(\"Max positions - \", max_positions)\n",
        "    # Check if largest_loss_streak_start_date and largest_loss_streak_end_date are not None before accessing strftime\n",
        "    if largest_loss_streak_start_date is not None and largest_loss_streak_end_date is not None:\n",
        "        print(f\"Largest loss streak - {largest_loss_streak} (from {largest_loss_streak_start_date.strftime('%Y-%m-%d')} to {largest_loss_streak_end_date.strftime('%Y-%m-%d')})\")\n",
        "    else:\n",
        "        print(f\"Largest loss streak - {largest_loss_streak} (No dates available)\")\n",
        "\n",
        "\n",
        "    return executed_trades, current_capital, open_positions_count, date_wise_accounts"
      ],
      "metadata": {
        "id": "_xOsiEkAXksQ"
      },
      "execution_count": 10,
      "outputs": []
    },
    {
      "cell_type": "code",
      "source": [
        "executed_trades, final_capital, final_open_positions_count, date_wise_accounts = simulate_trades(unique_trade_signals, STARTING_CAPITAL)\n",
        "\n",
        "# Create DataFrame from executed trades\n",
        "trades_df = pd.DataFrame(executed_trades)\n",
        "\n",
        "# Create DataFrame for date-wise accounts\n",
        "accounts_df = pd.DataFrame(date_wise_accounts)\n",
        "# Ensure 'date' is a datetime object and set as index\n",
        "accounts_df['date'] = pd.to_datetime(accounts_df['date'])\n",
        "accounts_df = accounts_df.set_index('date').sort_index()\n",
        "\n",
        "# Calculate daily portfolio value changes (including unallocated capital)\n",
        "# This is a simplified approach, a true portfolio value would include open positions' market value.\n",
        "# For this backtest, we use unallocated capital as a proxy for strategy equity growth.\n",
        "accounts_df['daily_return'] = accounts_df['total_portfolio_value'].pct_change().fillna(0)\n",
        "\n",
        "# Calculate Sharpe Ratio (assuming risk-free rate is 0 for simplicity)\n",
        "# Annualization factor based on the number of trading days in the backtest\n",
        "trading_days = len(accounts_df)\n",
        "# Estimate years in backtest to get average trading days per year\n",
        "if not accounts_df.empty:\n",
        "    time_span_years = (accounts_df.index[-1] - accounts_df.index[0]).days / 365.25\n",
        "    annualization_factor = trading_days / time_span_years if time_span_years > 0 else 252 # Fallback to 252 if time span is zero\n",
        "else:\n",
        "    annualization_factor = 252 # Fallback to 252 if accounts_df is empty\n",
        "\n",
        "\n",
        "if not accounts_df.empty and accounts_df['daily_return'].std() != 0 and annualization_factor > 0:\n",
        "    sharpe_ratio = accounts_df['daily_return'].mean() / accounts_df['daily_return'].std() * math.sqrt(annualization_factor)\n",
        "else:\n",
        "    sharpe_ratio = 0.0\n",
        "\n",
        "\n",
        "# Calculate summary statistics from executed trades\n",
        "total_trades_overall = trades_df.shape[0] if not trades_df.empty else 0\n",
        "wins_overall = trades_df[trades_df['pnl'] > 0].shape[0] if not trades_df.empty else 0\n",
        "losses_overall = trades_df[trades_df['pnl'] <= 0].shape[0] if not trades_df.empty else 0\n",
        "winrate_overall = (wins_overall / total_trades_overall * 100) if total_trades_overall else 0.0\n",
        "total_pnl_overall = trades_df['pnl'].sum() if not trades_df.empty else 0.0\n",
        "\n",
        "\n",
        "overall_summary = {\n",
        "    'start_capital': STARTING_CAPITAL,\n",
        "    'end_capital': final_capital,\n",
        "    'total_pnl': total_pnl_overall,\n",
        "    'trades': total_trades_overall,\n",
        "    'wins': wins_overall,\n",
        "    'losses': losses_overall,\n",
        "    'winrate': winrate_overall,\n",
        "    'sharpe_ratio': sharpe_ratio # Add Sharpe Ratio to summary\n",
        "}\n",
        "summary_df = pd.DataFrame([overall_summary])\n",
        "\n",
        "\n",
        "# save outputs\n",
        "trades_df.to_csv(OUT_TRADES_CSV, index=False)\n",
        "summary_df.to_csv(OUT_SUMMARY_CSV, index=False)\n",
        "accounts_df.to_csv(\"date_wise_accounts.csv\", index=True) # Save with date index\n",
        "\n",
        "\n",
        "print(\"Backtest complete.\")\n",
        "print(\"Saved:\", OUT_TRADES_CSV, OUT_SUMMARY_CSV, \"date_wise_accounts.csv\")\n",
        "\n",
        "# show overall backtest summary\n",
        "if not summary_df.empty:\n",
        "    print(\"\\nOverall Backtest Summary:\")\n",
        "    display(summary_df)\n",
        "else:\n",
        "    print(\"No successful trades to summarize.\")"
      ],
      "metadata": {
        "colab": {
          "base_uri": "https://localhost:8080/",
          "height": 213
        },
        "id": "6Q8oZ6ffXrHY",
        "outputId": "5e22b881-6993-45db-c774-346c5d430f1d"
      },
      "execution_count": 12,
      "outputs": [
        {
          "output_type": "stream",
          "name": "stdout",
          "text": [
            "Max positions -  74\n",
            "Largest loss streak - 32 (from 2022-12-19 to 2023-03-16)\n",
            "Backtest complete.\n",
            "Saved: nifty_backtest_trades.csv nifty_backtest_summary.csv date_wise_accounts.csv\n",
            "\n",
            "Overall Backtest Summary:\n"
          ]
        },
        {
          "output_type": "display_data",
          "data": {
            "text/plain": [
              "   start_capital   end_capital     total_pnl  trades  wins  losses    winrate  \\\n",
              "0      2500000.0  4.884291e+06  2.384291e+06     469   240     229  51.172708   \n",
              "\n",
              "   sharpe_ratio  \n",
              "0      2.674953  "
            ],
            "text/html": [
              "\n",
              "  <div id=\"df-696ca143-8ce6-404d-bed8-f36a80d02b26\" class=\"colab-df-container\">\n",
              "    <div>\n",
              "<style scoped>\n",
              "    .dataframe tbody tr th:only-of-type {\n",
              "        vertical-align: middle;\n",
              "    }\n",
              "\n",
              "    .dataframe tbody tr th {\n",
              "        vertical-align: top;\n",
              "    }\n",
              "\n",
              "    .dataframe thead th {\n",
              "        text-align: right;\n",
              "    }\n",
              "</style>\n",
              "<table border=\"1\" class=\"dataframe\">\n",
              "  <thead>\n",
              "    <tr style=\"text-align: right;\">\n",
              "      <th></th>\n",
              "      <th>start_capital</th>\n",
              "      <th>end_capital</th>\n",
              "      <th>total_pnl</th>\n",
              "      <th>trades</th>\n",
              "      <th>wins</th>\n",
              "      <th>losses</th>\n",
              "      <th>winrate</th>\n",
              "      <th>sharpe_ratio</th>\n",
              "    </tr>\n",
              "  </thead>\n",
              "  <tbody>\n",
              "    <tr>\n",
              "      <th>0</th>\n",
              "      <td>2500000.0</td>\n",
              "      <td>4.884291e+06</td>\n",
              "      <td>2.384291e+06</td>\n",
              "      <td>469</td>\n",
              "      <td>240</td>\n",
              "      <td>229</td>\n",
              "      <td>51.172708</td>\n",
              "      <td>2.674953</td>\n",
              "    </tr>\n",
              "  </tbody>\n",
              "</table>\n",
              "</div>\n",
              "    <div class=\"colab-df-buttons\">\n",
              "\n",
              "  <div class=\"colab-df-container\">\n",
              "    <button class=\"colab-df-convert\" onclick=\"convertToInteractive('df-696ca143-8ce6-404d-bed8-f36a80d02b26')\"\n",
              "            title=\"Convert this dataframe to an interactive table.\"\n",
              "            style=\"display:none;\">\n",
              "\n",
              "  <svg xmlns=\"http://www.w3.org/2000/svg\" height=\"24px\" viewBox=\"0 -960 960 960\">\n",
              "    <path d=\"M120-120v-720h720v720H120Zm60-500h600v-160H180v160Zm220 220h160v-160H400v160Zm0 220h160v-160H400v160ZM180-400h160v-160H180v160Zm440 0h160v-160H620v160ZM180-180h160v-160H180v160Zm440 0h160v-160H620v160Z\"/>\n",
              "  </svg>\n",
              "    </button>\n",
              "\n",
              "  <style>\n",
              "    .colab-df-container {\n",
              "      display:flex;\n",
              "      gap: 12px;\n",
              "    }\n",
              "\n",
              "    .colab-df-convert {\n",
              "      background-color: #E8F0FE;\n",
              "      border: none;\n",
              "      border-radius: 50%;\n",
              "      cursor: pointer;\n",
              "      display: none;\n",
              "      fill: #1967D2;\n",
              "      height: 32px;\n",
              "      padding: 0 0 0 0;\n",
              "      width: 32px;\n",
              "    }\n",
              "\n",
              "    .colab-df-convert:hover {\n",
              "      background-color: #E2EBFA;\n",
              "      box-shadow: 0px 1px 2px rgba(60, 64, 67, 0.3), 0px 1px 3px 1px rgba(60, 64, 67, 0.15);\n",
              "      fill: #174EA6;\n",
              "    }\n",
              "\n",
              "    .colab-df-buttons div {\n",
              "      margin-bottom: 4px;\n",
              "    }\n",
              "\n",
              "    [theme=dark] .colab-df-convert {\n",
              "      background-color: #3B4455;\n",
              "      fill: #D2E3FC;\n",
              "    }\n",
              "\n",
              "    [theme=dark] .colab-df-convert:hover {\n",
              "      background-color: #434B5C;\n",
              "      box-shadow: 0px 1px 3px 1px rgba(0, 0, 0, 0.15);\n",
              "      filter: drop-shadow(0px 1px 2px rgba(0, 0, 0, 0.3));\n",
              "      fill: #FFFFFF;\n",
              "    }\n",
              "  </style>\n",
              "\n",
              "    <script>\n",
              "      const buttonEl =\n",
              "        document.querySelector('#df-696ca143-8ce6-404d-bed8-f36a80d02b26 button.colab-df-convert');\n",
              "      buttonEl.style.display =\n",
              "        google.colab.kernel.accessAllowed ? 'block' : 'none';\n",
              "\n",
              "      async function convertToInteractive(key) {\n",
              "        const element = document.querySelector('#df-696ca143-8ce6-404d-bed8-f36a80d02b26');\n",
              "        const dataTable =\n",
              "          await google.colab.kernel.invokeFunction('convertToInteractive',\n",
              "                                                    [key], {});\n",
              "        if (!dataTable) return;\n",
              "\n",
              "        const docLinkHtml = 'Like what you see? Visit the ' +\n",
              "          '<a target=\"_blank\" href=https://colab.research.google.com/notebooks/data_table.ipynb>data table notebook</a>'\n",
              "          + ' to learn more about interactive tables.';\n",
              "        element.innerHTML = '';\n",
              "        dataTable['output_type'] = 'display_data';\n",
              "        await google.colab.output.renderOutput(dataTable, element);\n",
              "        const docLink = document.createElement('div');\n",
              "        docLink.innerHTML = docLinkHtml;\n",
              "        element.appendChild(docLink);\n",
              "      }\n",
              "    </script>\n",
              "  </div>\n",
              "\n",
              "\n",
              "  <div id=\"id_b6657d1f-1e5e-466f-818b-99dfeb8d0c7a\">\n",
              "    <style>\n",
              "      .colab-df-generate {\n",
              "        background-color: #E8F0FE;\n",
              "        border: none;\n",
              "        border-radius: 50%;\n",
              "        cursor: pointer;\n",
              "        display: none;\n",
              "        fill: #1967D2;\n",
              "        height: 32px;\n",
              "        padding: 0 0 0 0;\n",
              "        width: 32px;\n",
              "      }\n",
              "\n",
              "      .colab-df-generate:hover {\n",
              "        background-color: #E2EBFA;\n",
              "        box-shadow: 0px 1px 2px rgba(60, 64, 67, 0.3), 0px 1px 3px 1px rgba(60, 64, 67, 0.15);\n",
              "        fill: #174EA6;\n",
              "      }\n",
              "\n",
              "      [theme=dark] .colab-df-generate {\n",
              "        background-color: #3B4455;\n",
              "        fill: #D2E3FC;\n",
              "      }\n",
              "\n",
              "      [theme=dark] .colab-df-generate:hover {\n",
              "        background-color: #434B5C;\n",
              "        box-shadow: 0px 1px 3px 1px rgba(0, 0, 0, 0.15);\n",
              "        filter: drop-shadow(0px 1px 2px rgba(0, 0, 0, 0.3));\n",
              "        fill: #FFFFFF;\n",
              "      }\n",
              "    </style>\n",
              "    <button class=\"colab-df-generate\" onclick=\"generateWithVariable('summary_df')\"\n",
              "            title=\"Generate code using this dataframe.\"\n",
              "            style=\"display:none;\">\n",
              "\n",
              "  <svg xmlns=\"http://www.w3.org/2000/svg\" height=\"24px\"viewBox=\"0 0 24 24\"\n",
              "       width=\"24px\">\n",
              "    <path d=\"M7,19H8.4L18.45,9,17,7.55,7,17.6ZM5,21V16.75L18.45,3.32a2,2,0,0,1,2.83,0l1.4,1.43a1.91,1.91,0,0,1,.58,1.4,1.91,1.91,0,0,1-.58,1.4L9.25,21ZM18.45,9,17,7.55Zm-12,3A5.31,5.31,0,0,0,4.9,8.1,5.31,5.31,0,0,0,1,6.5,5.31,5.31,0,0,0,4.9,4.9,5.31,5.31,0,0,0,6.5,1,5.31,5.31,0,0,0,8.1,4.9,5.31,5.31,0,0,0,12,6.5,5.46,5.46,0,0,0,6.5,12Z\"/>\n",
              "  </svg>\n",
              "    </button>\n",
              "    <script>\n",
              "      (() => {\n",
              "      const buttonEl =\n",
              "        document.querySelector('#id_b6657d1f-1e5e-466f-818b-99dfeb8d0c7a button.colab-df-generate');\n",
              "      buttonEl.style.display =\n",
              "        google.colab.kernel.accessAllowed ? 'block' : 'none';\n",
              "\n",
              "      buttonEl.onclick = () => {\n",
              "        google.colab.notebook.generateWithVariable('summary_df');\n",
              "      }\n",
              "      })();\n",
              "    </script>\n",
              "  </div>\n",
              "\n",
              "    </div>\n",
              "  </div>\n"
            ],
            "application/vnd.google.colaboratory.intrinsic+json": {
              "type": "dataframe",
              "variable_name": "summary_df",
              "summary": "{\n  \"name\": \"summary_df\",\n  \"rows\": 1,\n  \"fields\": [\n    {\n      \"column\": \"start_capital\",\n      \"properties\": {\n        \"dtype\": \"number\",\n        \"std\": null,\n        \"min\": 2500000.0,\n        \"max\": 2500000.0,\n        \"num_unique_values\": 1,\n        \"samples\": [\n          2500000.0\n        ],\n        \"semantic_type\": \"\",\n        \"description\": \"\"\n      }\n    },\n    {\n      \"column\": \"end_capital\",\n      \"properties\": {\n        \"dtype\": \"number\",\n        \"std\": null,\n        \"min\": 4884291.25732708,\n        \"max\": 4884291.25732708,\n        \"num_unique_values\": 1,\n        \"samples\": [\n          4884291.25732708\n        ],\n        \"semantic_type\": \"\",\n        \"description\": \"\"\n      }\n    },\n    {\n      \"column\": \"total_pnl\",\n      \"properties\": {\n        \"dtype\": \"number\",\n        \"std\": null,\n        \"min\": 2384291.25732708,\n        \"max\": 2384291.25732708,\n        \"num_unique_values\": 1,\n        \"samples\": [\n          2384291.25732708\n        ],\n        \"semantic_type\": \"\",\n        \"description\": \"\"\n      }\n    },\n    {\n      \"column\": \"trades\",\n      \"properties\": {\n        \"dtype\": \"number\",\n        \"std\": null,\n        \"min\": 469,\n        \"max\": 469,\n        \"num_unique_values\": 1,\n        \"samples\": [\n          469\n        ],\n        \"semantic_type\": \"\",\n        \"description\": \"\"\n      }\n    },\n    {\n      \"column\": \"wins\",\n      \"properties\": {\n        \"dtype\": \"number\",\n        \"std\": null,\n        \"min\": 240,\n        \"max\": 240,\n        \"num_unique_values\": 1,\n        \"samples\": [\n          240\n        ],\n        \"semantic_type\": \"\",\n        \"description\": \"\"\n      }\n    },\n    {\n      \"column\": \"losses\",\n      \"properties\": {\n        \"dtype\": \"number\",\n        \"std\": null,\n        \"min\": 229,\n        \"max\": 229,\n        \"num_unique_values\": 1,\n        \"samples\": [\n          229\n        ],\n        \"semantic_type\": \"\",\n        \"description\": \"\"\n      }\n    },\n    {\n      \"column\": \"winrate\",\n      \"properties\": {\n        \"dtype\": \"number\",\n        \"std\": null,\n        \"min\": 51.1727078891258,\n        \"max\": 51.1727078891258,\n        \"num_unique_values\": 1,\n        \"samples\": [\n          51.1727078891258\n        ],\n        \"semantic_type\": \"\",\n        \"description\": \"\"\n      }\n    },\n    {\n      \"column\": \"sharpe_ratio\",\n      \"properties\": {\n        \"dtype\": \"number\",\n        \"std\": null,\n        \"min\": 2.6749531555966706,\n        \"max\": 2.6749531555966706,\n        \"num_unique_values\": 1,\n        \"samples\": [\n          2.6749531555966706\n        ],\n        \"semantic_type\": \"\",\n        \"description\": \"\"\n      }\n    }\n  ]\n}"
            }
          },
          "metadata": {}
        }
      ]
    },
    {
      "cell_type": "markdown",
      "metadata": {
        "id": "f6bb9ab7"
      },
      "source": [
        "## Summary:\n",
        "\n",
        "### Data Analysis Key Findings\n",
        "\n",
        "*   The project implements a quantitative trading strategy using DMA 20, DMA 50, ADX, ATR, and OBV indicators on Nifty 500 stocks.\n",
        "*   The strategy includes specific entry conditions based on ADX > 25, DMA 20 > DMA 50, price touching DMA 20/50, OBV > OBV MA 20, and +DI > -DI, with separate rules for initial and pyramid entries.\n",
        "*   Exit conditions are defined by a Stop Loss (DMA 50 - ATR * 1.5), DMA 20 crossing below DMA 50, or the end of the backtest period.\n",
        "*   Risk management involves position sizing based on a percentage of maximum capital (2%), aiming for 0.5% risk per trade, applying a minimum 1.5 risk-reward ratio filter, and limiting open positions to 250.\n",
        "*   The backtest simulates trades over a 3-year period ending in 2024, starting with 2,500,000 capital.\n",
        "*   Key backtest results, including Total PnL, Winrate, Sharpe Ratio, and Largest Loss Streak, are saved to `nifty_backtest_summary.csv`. Detailed trade logs are in `nifty_backtest_trades.csv`, and daily account values in `date_wise_accounts.csv`.\n",
        "\n",
        "### Insights or Next Steps\n",
        "\n",
        "*   Analyze the `nifty_backtest_summary.csv` to evaluate the strategy's historical performance and identify areas for improvement, such as optimizing indicator parameters or refining entry/exit logic.\n",
        "*   Consider adding transaction costs and slippage to the simulation to obtain a more realistic assessment of the strategy's profitability in live trading.\n"
      ]
    }
  ]
}